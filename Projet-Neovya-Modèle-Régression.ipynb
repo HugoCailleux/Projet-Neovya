{
 "cells": [
  {
   "cell_type": "code",
   "execution_count": 7,
   "id": "190603cc",
   "metadata": {},
   "outputs": [],
   "source": [
    "# base modules\n",
    "import os\n",
    "import sys\n",
    "import copy\n",
    "import logging\n",
    "\n",
    "# custom module\n",
    "from emlyon_module.imports import *\n",
    "from emlyon_module.structured import *\n",
    "\n",
    "# for manipulating data\n",
    "from pandas_summary import DataFrameSummary\n",
    "#!pip install dill\n",
    "import dill\n",
    "\n",
    "# for Machine Learning\n",
    "from sklearn.ensemble import RandomForestRegressor, RandomForestClassifier, BaggingRegressor\n",
    "from sklearn.tree import DecisionTreeRegressor, DecisionTreeClassifier, plot_tree\n",
    "from sklearn.linear_model import LogisticRegression\n",
    "from sklearn import metrics\n",
    "from sklearn.preprocessing import LabelEncoder\n",
    "from sklearn.model_selection import cross_val_score, KFold, GridSearchCV\n",
    "from sklearn.calibration import CalibratedClassifierCV\n",
    "from sklearn.inspection import permutation_importance\n",
    "from scipy.cluster import hierarchy\n",
    "\n",
    "# for visualization\n",
    "from IPython.display import display\n",
    "from matplotlib import pyplot as plt\n",
    "# !pip install -U plotnine\n",
    "# from plotnine import ggplot, aes\n",
    "# from plotnine.stats import stat_smooth\n",
    "from pdpbox import pdp\n",
    "import folium\n",
    "# plotly\n",
    "# seaborn\n",
    "# altair\n"
   ]
  },
  {
   "cell_type": "code",
   "execution_count": 5,
   "id": "07d853c6",
   "metadata": {},
   "outputs": [
    {
     "data": {
      "text/plain": [
       "13"
      ]
     },
     "execution_count": 5,
     "metadata": {},
     "output_type": "execute_result"
    }
   ],
   "source": [
    "df_lapil42 = pd.read_csv('data/LAPIL42_final_selection.csv')"
   ]
  },
  {
   "cell_type": "code",
   "execution_count": 8,
   "id": "ffcc220f",
   "metadata": {},
   "outputs": [
    {
     "data": {
      "text/plain": [
       "speed                                        0\n",
       "hour                                         0\n",
       "TV/h                                         0\n",
       "Dayofweek                                    0\n",
       "PL/h                                         0\n",
       "Vitesse du vent moyen 10 mn                  0\n",
       "VL/h                                         0\n",
       "Variation de pression en 3 heures            0\n",
       "Etat du sol                                  0\n",
       "Température                                  0\n",
       "Température minimale du sol sur 12 heures    0\n",
       "date                                         0\n",
       "congestion+30min                             0\n",
       "dtype: int64"
      ]
     },
     "execution_count": 8,
     "metadata": {},
     "output_type": "execute_result"
    }
   ],
   "source": [
    "df_lapil42.isnull().sum()"
   ]
  },
  {
   "cell_type": "code",
   "execution_count": 10,
   "id": "bb8284e6",
   "metadata": {},
   "outputs": [
    {
     "data": {
      "text/html": [
       "<div>\n",
       "<style scoped>\n",
       "    .dataframe tbody tr th:only-of-type {\n",
       "        vertical-align: middle;\n",
       "    }\n",
       "\n",
       "    .dataframe tbody tr th {\n",
       "        vertical-align: top;\n",
       "    }\n",
       "\n",
       "    .dataframe thead th {\n",
       "        text-align: right;\n",
       "    }\n",
       "</style>\n",
       "<table border=\"1\" class=\"dataframe\">\n",
       "  <thead>\n",
       "    <tr style=\"text-align: right;\">\n",
       "      <th></th>\n",
       "      <th>speed</th>\n",
       "      <th>hour</th>\n",
       "      <th>TV/h</th>\n",
       "      <th>Dayofweek</th>\n",
       "      <th>PL/h</th>\n",
       "      <th>Vitesse du vent moyen 10 mn</th>\n",
       "      <th>VL/h</th>\n",
       "      <th>Variation de pression en 3 heures</th>\n",
       "      <th>Etat du sol</th>\n",
       "      <th>Température</th>\n",
       "      <th>Température minimale du sol sur 12 heures</th>\n",
       "      <th>date</th>\n",
       "      <th>congestion+30min</th>\n",
       "    </tr>\n",
       "    <tr>\n",
       "      <th>date</th>\n",
       "      <th></th>\n",
       "      <th></th>\n",
       "      <th></th>\n",
       "      <th></th>\n",
       "      <th></th>\n",
       "      <th></th>\n",
       "      <th></th>\n",
       "      <th></th>\n",
       "      <th></th>\n",
       "      <th></th>\n",
       "      <th></th>\n",
       "      <th></th>\n",
       "      <th></th>\n",
       "    </tr>\n",
       "  </thead>\n",
       "  <tbody>\n",
       "    <tr>\n",
       "      <th>2019-09-23 00:00:00</th>\n",
       "      <td>87.0</td>\n",
       "      <td>0</td>\n",
       "      <td>434.0</td>\n",
       "      <td>0</td>\n",
       "      <td>141.0</td>\n",
       "      <td>2.700000</td>\n",
       "      <td>293.0</td>\n",
       "      <td>80.000000</td>\n",
       "      <td>1.000000</td>\n",
       "      <td>287.950000</td>\n",
       "      <td>286.450000</td>\n",
       "      <td>2019-09-23 00:00:00</td>\n",
       "      <td>0</td>\n",
       "    </tr>\n",
       "    <tr>\n",
       "      <th>2019-09-23 00:06:00</th>\n",
       "      <td>87.0</td>\n",
       "      <td>0</td>\n",
       "      <td>434.0</td>\n",
       "      <td>0</td>\n",
       "      <td>141.0</td>\n",
       "      <td>2.672726</td>\n",
       "      <td>293.0</td>\n",
       "      <td>76.713049</td>\n",
       "      <td>0.997336</td>\n",
       "      <td>287.919104</td>\n",
       "      <td>286.424860</td>\n",
       "      <td>2019-09-23 00:06:00</td>\n",
       "      <td>1</td>\n",
       "    </tr>\n",
       "    <tr>\n",
       "      <th>2019-09-23 00:12:00</th>\n",
       "      <td>87.0</td>\n",
       "      <td>0</td>\n",
       "      <td>520.0</td>\n",
       "      <td>0</td>\n",
       "      <td>170.0</td>\n",
       "      <td>2.642294</td>\n",
       "      <td>350.0</td>\n",
       "      <td>73.491523</td>\n",
       "      <td>0.995162</td>\n",
       "      <td>287.886406</td>\n",
       "      <td>286.398089</td>\n",
       "      <td>2019-09-23 00:12:00</td>\n",
       "      <td>0</td>\n",
       "    </tr>\n",
       "    <tr>\n",
       "      <th>2019-09-23 00:18:00</th>\n",
       "      <td>87.0</td>\n",
       "      <td>0</td>\n",
       "      <td>520.0</td>\n",
       "      <td>0</td>\n",
       "      <td>170.0</td>\n",
       "      <td>2.608704</td>\n",
       "      <td>350.0</td>\n",
       "      <td>70.335422</td>\n",
       "      <td>0.993478</td>\n",
       "      <td>287.851905</td>\n",
       "      <td>286.369686</td>\n",
       "      <td>2019-09-23 00:18:00</td>\n",
       "      <td>0</td>\n",
       "    </tr>\n",
       "    <tr>\n",
       "      <th>2019-09-23 00:24:00</th>\n",
       "      <td>86.0</td>\n",
       "      <td>0</td>\n",
       "      <td>390.0</td>\n",
       "      <td>0</td>\n",
       "      <td>120.0</td>\n",
       "      <td>2.571957</td>\n",
       "      <td>270.0</td>\n",
       "      <td>67.244747</td>\n",
       "      <td>0.992285</td>\n",
       "      <td>287.815602</td>\n",
       "      <td>286.339653</td>\n",
       "      <td>2019-09-23 00:24:00</td>\n",
       "      <td>0</td>\n",
       "    </tr>\n",
       "    <tr>\n",
       "      <th>...</th>\n",
       "      <td>...</td>\n",
       "      <td>...</td>\n",
       "      <td>...</td>\n",
       "      <td>...</td>\n",
       "      <td>...</td>\n",
       "      <td>...</td>\n",
       "      <td>...</td>\n",
       "      <td>...</td>\n",
       "      <td>...</td>\n",
       "      <td>...</td>\n",
       "      <td>...</td>\n",
       "      <td>...</td>\n",
       "      <td>...</td>\n",
       "    </tr>\n",
       "    <tr>\n",
       "      <th>2019-10-20 23:30:00</th>\n",
       "      <td>88.0</td>\n",
       "      <td>23</td>\n",
       "      <td>520.0</td>\n",
       "      <td>6</td>\n",
       "      <td>110.0</td>\n",
       "      <td>2.652161</td>\n",
       "      <td>410.0</td>\n",
       "      <td>201.973674</td>\n",
       "      <td>1.001384</td>\n",
       "      <td>283.560409</td>\n",
       "      <td>282.890517</td>\n",
       "      <td>2019-10-20 23:30:00</td>\n",
       "      <td>1</td>\n",
       "    </tr>\n",
       "    <tr>\n",
       "      <th>2019-10-20 23:36:00</th>\n",
       "      <td>85.0</td>\n",
       "      <td>23</td>\n",
       "      <td>690.0</td>\n",
       "      <td>6</td>\n",
       "      <td>140.0</td>\n",
       "      <td>2.650523</td>\n",
       "      <td>550.0</td>\n",
       "      <td>197.604785</td>\n",
       "      <td>1.001217</td>\n",
       "      <td>283.553549</td>\n",
       "      <td>282.858177</td>\n",
       "      <td>2019-10-20 23:36:00</td>\n",
       "      <td>1</td>\n",
       "    </tr>\n",
       "    <tr>\n",
       "      <th>2019-10-20 23:42:00</th>\n",
       "      <td>90.0</td>\n",
       "      <td>23</td>\n",
       "      <td>590.0</td>\n",
       "      <td>6</td>\n",
       "      <td>120.0</td>\n",
       "      <td>2.644488</td>\n",
       "      <td>470.0</td>\n",
       "      <td>193.222973</td>\n",
       "      <td>1.000995</td>\n",
       "      <td>283.549078</td>\n",
       "      <td>282.827955</td>\n",
       "      <td>2019-10-20 23:42:00</td>\n",
       "      <td>1</td>\n",
       "    </tr>\n",
       "    <tr>\n",
       "      <th>2019-10-20 23:48:00</th>\n",
       "      <td>86.0</td>\n",
       "      <td>23</td>\n",
       "      <td>510.0</td>\n",
       "      <td>6</td>\n",
       "      <td>100.0</td>\n",
       "      <td>2.634056</td>\n",
       "      <td>410.0</td>\n",
       "      <td>188.828238</td>\n",
       "      <td>1.000718</td>\n",
       "      <td>283.546996</td>\n",
       "      <td>282.799852</td>\n",
       "      <td>2019-10-20 23:48:00</td>\n",
       "      <td>1</td>\n",
       "    </tr>\n",
       "    <tr>\n",
       "      <th>2019-10-20 23:54:00</th>\n",
       "      <td>87.0</td>\n",
       "      <td>23</td>\n",
       "      <td>650.0</td>\n",
       "      <td>6</td>\n",
       "      <td>130.0</td>\n",
       "      <td>2.619226</td>\n",
       "      <td>520.0</td>\n",
       "      <td>184.420580</td>\n",
       "      <td>1.000386</td>\n",
       "      <td>283.547303</td>\n",
       "      <td>282.773867</td>\n",
       "      <td>2019-10-20 23:54:00</td>\n",
       "      <td>1</td>\n",
       "    </tr>\n",
       "  </tbody>\n",
       "</table>\n",
       "<p>6720 rows × 13 columns</p>\n",
       "</div>"
      ],
      "text/plain": [
       "                     speed  hour   TV/h  Dayofweek   PL/h  \\\n",
       "date                                                        \n",
       "2019-09-23 00:00:00   87.0     0  434.0          0  141.0   \n",
       "2019-09-23 00:06:00   87.0     0  434.0          0  141.0   \n",
       "2019-09-23 00:12:00   87.0     0  520.0          0  170.0   \n",
       "2019-09-23 00:18:00   87.0     0  520.0          0  170.0   \n",
       "2019-09-23 00:24:00   86.0     0  390.0          0  120.0   \n",
       "...                    ...   ...    ...        ...    ...   \n",
       "2019-10-20 23:30:00   88.0    23  520.0          6  110.0   \n",
       "2019-10-20 23:36:00   85.0    23  690.0          6  140.0   \n",
       "2019-10-20 23:42:00   90.0    23  590.0          6  120.0   \n",
       "2019-10-20 23:48:00   86.0    23  510.0          6  100.0   \n",
       "2019-10-20 23:54:00   87.0    23  650.0          6  130.0   \n",
       "\n",
       "                     Vitesse du vent moyen 10 mn   VL/h  \\\n",
       "date                                                      \n",
       "2019-09-23 00:00:00                     2.700000  293.0   \n",
       "2019-09-23 00:06:00                     2.672726  293.0   \n",
       "2019-09-23 00:12:00                     2.642294  350.0   \n",
       "2019-09-23 00:18:00                     2.608704  350.0   \n",
       "2019-09-23 00:24:00                     2.571957  270.0   \n",
       "...                                          ...    ...   \n",
       "2019-10-20 23:30:00                     2.652161  410.0   \n",
       "2019-10-20 23:36:00                     2.650523  550.0   \n",
       "2019-10-20 23:42:00                     2.644488  470.0   \n",
       "2019-10-20 23:48:00                     2.634056  410.0   \n",
       "2019-10-20 23:54:00                     2.619226  520.0   \n",
       "\n",
       "                     Variation de pression en 3 heures  Etat du sol  \\\n",
       "date                                                                  \n",
       "2019-09-23 00:00:00                          80.000000     1.000000   \n",
       "2019-09-23 00:06:00                          76.713049     0.997336   \n",
       "2019-09-23 00:12:00                          73.491523     0.995162   \n",
       "2019-09-23 00:18:00                          70.335422     0.993478   \n",
       "2019-09-23 00:24:00                          67.244747     0.992285   \n",
       "...                                                ...          ...   \n",
       "2019-10-20 23:30:00                         201.973674     1.001384   \n",
       "2019-10-20 23:36:00                         197.604785     1.001217   \n",
       "2019-10-20 23:42:00                         193.222973     1.000995   \n",
       "2019-10-20 23:48:00                         188.828238     1.000718   \n",
       "2019-10-20 23:54:00                         184.420580     1.000386   \n",
       "\n",
       "                     Température  Température minimale du sol sur 12 heures  \\\n",
       "date                                                                          \n",
       "2019-09-23 00:00:00   287.950000                                 286.450000   \n",
       "2019-09-23 00:06:00   287.919104                                 286.424860   \n",
       "2019-09-23 00:12:00   287.886406                                 286.398089   \n",
       "2019-09-23 00:18:00   287.851905                                 286.369686   \n",
       "2019-09-23 00:24:00   287.815602                                 286.339653   \n",
       "...                          ...                                        ...   \n",
       "2019-10-20 23:30:00   283.560409                                 282.890517   \n",
       "2019-10-20 23:36:00   283.553549                                 282.858177   \n",
       "2019-10-20 23:42:00   283.549078                                 282.827955   \n",
       "2019-10-20 23:48:00   283.546996                                 282.799852   \n",
       "2019-10-20 23:54:00   283.547303                                 282.773867   \n",
       "\n",
       "                                    date  congestion+30min  \n",
       "date                                                        \n",
       "2019-09-23 00:00:00  2019-09-23 00:00:00                 0  \n",
       "2019-09-23 00:06:00  2019-09-23 00:06:00                 1  \n",
       "2019-09-23 00:12:00  2019-09-23 00:12:00                 0  \n",
       "2019-09-23 00:18:00  2019-09-23 00:18:00                 0  \n",
       "2019-09-23 00:24:00  2019-09-23 00:24:00                 0  \n",
       "...                                  ...               ...  \n",
       "2019-10-20 23:30:00  2019-10-20 23:30:00                 1  \n",
       "2019-10-20 23:36:00  2019-10-20 23:36:00                 1  \n",
       "2019-10-20 23:42:00  2019-10-20 23:42:00                 1  \n",
       "2019-10-20 23:48:00  2019-10-20 23:48:00                 1  \n",
       "2019-10-20 23:54:00  2019-10-20 23:54:00                 1  \n",
       "\n",
       "[6720 rows x 13 columns]"
      ]
     },
     "execution_count": 10,
     "metadata": {},
     "output_type": "execute_result"
    }
   ],
   "source": [
    "df_lapil42 = df_lapil42.set_index(df_lapil42['date'])\n",
    "df_lapil42"
   ]
  },
  {
   "cell_type": "code",
   "execution_count": 16,
   "id": "a29423e5",
   "metadata": {},
   "outputs": [],
   "source": [
    "df, y, nas = proc_df(df_lapil42, 'congestion+30min')"
   ]
  },
  {
   "cell_type": "code",
   "execution_count": 17,
   "id": "76943528",
   "metadata": {},
   "outputs": [],
   "source": [
    "def split_vals(df, n): \n",
    "\n",
    "    return df[:n].copy(), df[n:].copy()"
   ]
  },
  {
   "cell_type": "code",
   "execution_count": 18,
   "id": "b2026bb6",
   "metadata": {},
   "outputs": [
    {
     "name": "stdout",
     "output_type": "stream",
     "text": [
      "Number of full training data points: X = (4503, 12), y = (4503,)\n",
      "Number of validation data points: X = (2217, 12), y = (2217,)\n"
     ]
    }
   ],
   "source": [
    "n_total = len(df)\n",
    "n_valid = int(0.33 * n_total)\n",
    "n_train = n_total - n_valid\n",
    "#n_small = 20000\n",
    "\n",
    "\n",
    "X_train, X_valid = split_vals(df, n_train)\n",
    "y_train, y_valid = split_vals(y, n_train)\n",
    "\n",
    "# X_small, _ = split_vals(df, n_small)\n",
    "# y_small, _ = split_vals(y, n_small)\n",
    "\n",
    "#print('Number of small training data points: X = {}, y = {}'.format(X_small.shape, y_small.shape))\n",
    "print('Number of full training data points: X = {}, y = {}'.format(X_train.shape, y_train.shape))\n",
    "print('Number of validation data points: X = {}, y = {}'.format(X_valid.shape, y_valid.shape))"
   ]
  },
  {
   "cell_type": "code",
   "execution_count": 65,
   "id": "22718b2a",
   "metadata": {},
   "outputs": [],
   "source": [
    "model = LogisticRegression(penalty='l1', class_weight= 'balanced', solver= 'liblinear', random_state=42)"
   ]
  },
  {
   "cell_type": "code",
   "execution_count": 66,
   "id": "8b88bbc3",
   "metadata": {},
   "outputs": [
    {
     "data": {
      "text/plain": [
       "LogisticRegression(class_weight='balanced', penalty='l1', random_state=42,\n",
       "                   solver='liblinear')"
      ]
     },
     "execution_count": 66,
     "metadata": {},
     "output_type": "execute_result"
    }
   ],
   "source": [
    "model.fit(X_train,y_train)"
   ]
  },
  {
   "cell_type": "code",
   "execution_count": 67,
   "id": "eea3436a",
   "metadata": {},
   "outputs": [],
   "source": [
    "def specificity_score(y_true, y_predict):\n",
    "    '''\n",
    "    Computes the proba that a label is 0 knowing that the prediction is 0\n",
    "    '''\n",
    "    y_predict_0  = [(pred, true) for pred, true in zip(y_predict, y_true) if true == 0]\n",
    "    y_predict_00 = [(pred, true) for pred, true in y_predict_0 if pred == 0]\n",
    "    specificity  = (0 if len(y_predict_0) == 0 else len(y_predict_00)/len(y_predict_0))\n",
    "    return specificity"
   ]
  },
  {
   "cell_type": "code",
   "execution_count": 68,
   "id": "1215a264",
   "metadata": {},
   "outputs": [
    {
     "name": "stdout",
     "output_type": "stream",
     "text": [
      "Accuracy : 92.42%\n",
      "Recall : 82.29%\n",
      "Precision : 74.57%\n",
      "Specificity : 94.43%\n",
      "F1-score : 78.24%\n"
     ]
    }
   ],
   "source": [
    "y_predict_valid = model.predict(X_valid)\n",
    "\n",
    "acc = metrics.accuracy_score(y_valid, y_predict_valid)\n",
    "rec = metrics.recall_score(y_valid, y_predict_valid)\n",
    "prc = metrics.precision_score(y_valid, y_predict_valid)\n",
    "spe = specificity_score(y_valid, y_predict_valid)\n",
    "f1  = metrics.f1_score(y_valid, y_predict_valid)\n",
    "\n",
    "print('Accuracy : {:.2f}%'.format(acc*100))\n",
    "print('Recall : {:.2f}%'.format(rec*100))\n",
    "print('Precision : {:.2f}%'.format(prc*100))\n",
    "print('Specificity : {:.2f}%'.format(spe*100))\n",
    "print('F1-score : {:.2f}%'.format(f1*100))"
   ]
  },
  {
   "cell_type": "code",
   "execution_count": 69,
   "id": "edd02cc8",
   "metadata": {},
   "outputs": [],
   "source": [
    "def precision_recall_curve_with_threshold(targets, probas, threshold = 0.5):\n",
    "    \n",
    "    def sort_pair(X, Y):\n",
    "        rangee = [(x, y) for x, y in sorted(zip(X, Y), key = lambda pair: pair[0])]\n",
    "        return [pair[0] for pair in rangee], [pair[1] for pair in rangee]\n",
    "    \n",
    "    # --- main\n",
    "    targets, probas = sort_pair(targets, probas)\n",
    "    precision, recall, thresholds = metrics.precision_recall_curve(targets, probas)\n",
    "    \n",
    "    # calculate precision-recall AUC\n",
    "    auc_val = metrics.auc(recall, precision)\n",
    "    print('Area Under Curve (AUC) : {:.3f}'.format(auc_val))\n",
    "    # plot no skill\n",
    "    if threshold is not None : \n",
    "        index = len([y for y in thresholds if y <= threshold]) # thresholds are sorted\n",
    "\n",
    "        print('Recall with threshold = {}: {:.2f}%'.format(threshold, recall[index]*100))\n",
    "        print('Precision with threshold = {} : {:.2f}%'.format(threshold, precision[index]*100))\n",
    "\n",
    "        plt.plot([0, 1], [precision[index], precision[index]], linestyle='--', color = 'grey')\n",
    "        plt.plot([recall[index], recall[index]], [0, 1], linestyle='--', color = 'grey')\n",
    "        \n",
    "        # plot the precision-recall curve for the model\n",
    "        plt.plot(recall[:index], precision[:index], color = 'navy', marker='.')\n",
    "        plt.plot(recall[index:], precision[index:], color = 'orange', marker='.')\n",
    "        \n",
    "        # show the plot\n",
    "        plt.title('Precision-Recall curve with threshold = {}'.format(threshold))\n",
    "        plt.xlabel('Recall $P(\\, \\widehat{1}\\, | 1)$')\n",
    "        plt.ylabel('Precision $P(\\, 1\\, | \\widehat{1})$                                ', rotation = 'horizontal')\n",
    "    else :\n",
    "        # plot the precision-recall curve for the model\n",
    "        plt.plot(recall, precision, color = 'orange', marker='.')\n",
    "        \n",
    "        # show the plot\n",
    "        plt.title('Precision-Recall curve')\n",
    "        plt.xlabel('Recall $P(\\, \\widehat{1}\\, | 1)$')\n",
    "        plt.ylabel('Precision $P(\\, 1\\, | \\widehat{1})$                                ', rotation = 'horizontal')\n",
    "\n",
    "    plt.show()\n",
    "    return"
   ]
  },
  {
   "cell_type": "code",
   "execution_count": 70,
   "id": "ffe32025",
   "metadata": {},
   "outputs": [
    {
     "data": {
      "text/plain": [
       "1.0"
      ]
     },
     "execution_count": 70,
     "metadata": {},
     "output_type": "execute_result"
    }
   ],
   "source": [
    "# Le label prédit est 1 (Congestion) précisement quand sa probabilité estimée est >= 0.5\n",
    "threshold = 0.5\n",
    "\n",
    "probas_1 = model.predict_proba(X_valid)[:, 1]\n",
    "prob_labels = [int(p > threshold) for p in probas_1]\n",
    "\n",
    "pred_labels = model.predict(X_valid)\n",
    "\n",
    "sum(prob_labels == pred_labels)/len(pred_labels)"
   ]
  },
  {
   "cell_type": "code",
   "execution_count": 71,
   "id": "4fe1aea9",
   "metadata": {},
   "outputs": [
    {
     "data": {
      "text/plain": [
       "<sklearn.metrics._plot.precision_recall_curve.PrecisionRecallDisplay at 0x232d8499eb8>"
      ]
     },
     "execution_count": 71,
     "metadata": {},
     "output_type": "execute_result"
    },
    {
     "data": {
      "image/png": "[encoded data removed]",
      "text/plain": [
       "<Figure size 432x288 with 1 Axes>"
      ]
     },
     "metadata": {
      "needs_background": "light"
     },
     "output_type": "display_data"
    }
   ],
   "source": [
    "# beware that y axis is along [0.5, 1]\n",
    "rec_prc_curve = metrics.plot_precision_recall_curve(model, X_valid, y_valid)\n",
    "rec_prc_curve"
   ]
  },
  {
   "cell_type": "code",
   "execution_count": 72,
   "id": "8f12ee1b",
   "metadata": {},
   "outputs": [
    {
     "name": "stdout",
     "output_type": "stream",
     "text": [
      "Accuracy : 92.42%\n",
      "Recall : 82.29%\n",
      "Precision : 74.57%\n",
      "Specificity : 94.43%\n",
      "F1-score : 78.24%\n"
     ]
    }
   ],
   "source": [
    "y_predict_valid = model.predict(X_valid)\n",
    "\n",
    "acc = metrics.accuracy_score(y_valid, y_predict_valid)\n",
    "rec = metrics.recall_score(y_valid, y_predict_valid)\n",
    "prc = metrics.precision_score(y_valid, y_predict_valid)\n",
    "spe = specificity_score(y_valid, y_predict_valid)\n",
    "f1  = metrics.f1_score(y_valid, y_predict_valid)\n",
    "\n",
    "print('Accuracy : {:.2f}%'.format(acc*100))\n",
    "print('Recall : {:.2f}%'.format(rec*100))\n",
    "print('Precision : {:.2f}%'.format(prc*100))\n",
    "print('Specificity : {:.2f}%'.format(spe*100))\n",
    "print('F1-score : {:.2f}%'.format(f1*100))"
   ]
  },
  {
   "cell_type": "code",
   "execution_count": 78,
   "id": "f90d6412",
   "metadata": {},
   "outputs": [
    {
     "name": "stdout",
     "output_type": "stream",
     "text": [
      "Accuracy : 93.50%\n",
      "Recall : 80.93%\n",
      "Precision : 80.05%\n",
      "Specificity : 96.00%\n",
      "F1-score : 80.49%\n"
     ]
    }
   ],
   "source": [
    "probs = model.predict_proba(X_valid)[:, 1] \n",
    "preds = [int(prob > 0.55) for prob in probs]\n",
    "y_predict_valid = preds\n",
    "\n",
    "acc = metrics.accuracy_score(y_valid, y_predict_valid)\n",
    "rec = metrics.recall_score(y_valid, y_predict_valid)\n",
    "prc = metrics.precision_score(y_valid, y_predict_valid)\n",
    "spe = specificity_score(y_valid, y_predict_valid)\n",
    "f1  = metrics.f1_score(y_valid, y_predict_valid)\n",
    "\n",
    "print('Accuracy : {:.2f}%'.format(acc*100))\n",
    "print('Recall : {:.2f}%'.format(rec*100))\n",
    "print('Precision : {:.2f}%'.format(prc*100))\n",
    "print('Specificity : {:.2f}%'.format(spe*100))\n",
    "print('F1-score : {:.2f}%'.format(f1*100))"
   ]
  },
  {
   "cell_type": "code",
   "execution_count": null,
   "id": "bb1c0a29",
   "metadata": {},
   "outputs": [],
   "source": [
    "probas = model.predict_proba(X_valid)[:, 1]\n",
    "\n",
    "precision_recall_curve_with_threshold(y_valid, probas, threshold = 0.35)"
   ]
  },
  {
   "cell_type": "code",
   "execution_count": null,
   "id": "d3fe9b2f",
   "metadata": {},
   "outputs": [],
   "source": [
    "probas = model.predict_proba(X_valid)[:, 1]\n",
    "\n",
    "precision_recall_curve_with_threshold(y_valid, probas, threshold = 0.3)"
   ]
  },
  {
   "cell_type": "code",
   "execution_count": null,
   "id": "49d23b39",
   "metadata": {},
   "outputs": [],
   "source": [
    "y_predict_valid = model.predict(X_valid)\n",
    "\n",
    "report = metrics.classification_report(\n",
    "    y_valid, \n",
    "    y_predict_valid, \n",
    ")\n",
    "print(report)"
   ]
  },
  {
   "cell_type": "code",
   "execution_count": 37,
   "id": "587efe04",
   "metadata": {},
   "outputs": [
    {
     "data": {
      "text/plain": [
       "array([[1800,   50],\n",
       "       [  89,  278]], dtype=int64)"
      ]
     },
     "execution_count": 37,
     "metadata": {},
     "output_type": "execute_result"
    }
   ],
   "source": [
    "from sklearn.metrics import confusion_matrix\n",
    "cm = confusion_matrix(y_valid, y_predict_valid)\n",
    "cm"
   ]
  },
  {
   "cell_type": "code",
   "execution_count": 38,
   "id": "e40ab251",
   "metadata": {},
   "outputs": [
    {
     "data": {
      "text/plain": [
       "<sklearn.metrics._plot.confusion_matrix.ConfusionMatrixDisplay at 0x232d821fd68>"
      ]
     },
     "execution_count": 38,
     "metadata": {},
     "output_type": "execute_result"
    },
    {
     "data": {
      "image/png": "[encoded data removed]",
      "text/plain": [
       "<Figure size 720x720 with 2 Axes>"
      ]
     },
     "metadata": {
      "needs_background": "light"
     },
     "output_type": "display_data"
    }
   ],
   "source": [
    "fig, ax = plt.subplots(figsize=(10, 10))\n",
    "\n",
    "metrics.plot_confusion_matrix(\n",
    "    model, \n",
    "    X_valid, \n",
    "    y_valid, \n",
    "    #display_labels = [str(interval) for interval in label_encoder.classes_.tolist()],\n",
    "    include_values = True, \n",
    "    xticks_rotation = 45, \n",
    "    values_format = None, \n",
    "    cmap = 'viridis', \n",
    "    ax = ax,\n",
    "    colorbar = True,\n",
    ")"
   ]
  },
  {
   "cell_type": "code",
   "execution_count": null,
   "id": "dc67f46c",
   "metadata": {},
   "outputs": [],
   "source": []
  }
 ],
 "metadata": {
  "kernelspec": {
   "display_name": "Python 3",
   "language": "python",
   "name": "python3"
  },
  "language_info": {
   "codemirror_mode": {
    "name": "ipython",
    "version": 3
   },
   "file_extension": ".py",
   "mimetype": "text/x-python",
   "name": "python",
   "nbconvert_exporter": "python",
   "pygments_lexer": "ipython3",
   "version": "3.7.10"
  }
 },
 "nbformat": 4,
 "nbformat_minor": 5
}
