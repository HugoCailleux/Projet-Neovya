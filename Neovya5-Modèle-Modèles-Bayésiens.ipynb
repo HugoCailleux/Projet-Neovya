{
 "cells": [
  {
   "cell_type": "markdown",
   "id": "835ecd83",
   "metadata": {},
   "source": [
    "## Imports"
   ]
  },
  {
   "cell_type": "code",
   "execution_count": 9,
   "id": "98b01a09",
   "metadata": {},
   "outputs": [],
   "source": [
    "import pandas as pd\n",
    "import numpy as np\n",
    "from matplotlib import pyplot as plt\n",
    "import math\n",
    "from sklearn import metrics"
   ]
  },
  {
   "cell_type": "code",
   "execution_count": 49,
   "id": "038d9524",
   "metadata": {},
   "outputs": [],
   "source": [
    "from sklearn.naive_bayes import GaussianNB\n",
    "from sklearn.naive_bayes import BernoulliNB\n",
    "from sklearn.model_selection import cross_val_score"
   ]
  },
  {
   "cell_type": "code",
   "execution_count": 11,
   "id": "7e421c9c",
   "metadata": {},
   "outputs": [],
   "source": [
    "df_lapil42 = pd.read_csv('data/LAPIL42_final_selection.csv')"
   ]
  },
  {
   "cell_type": "markdown",
   "id": "40e30853",
   "metadata": {},
   "source": [
    "## Tri des variables\n",
    "\n",
    "Pour être efficace un modèle bayésien ne doit reposer sur des variables explicatives indépendantes. Vérifions cette hypothèse, et supprimons les variables qui ne le sont pas."
   ]
  },
  {
   "cell_type": "code",
   "execution_count": 24,
   "id": "dabc0e82",
   "metadata": {},
   "outputs": [
    {
     "data": {
      "text/html": [
       "<div>\n",
       "<style scoped>\n",
       "    .dataframe tbody tr th:only-of-type {\n",
       "        vertical-align: middle;\n",
       "    }\n",
       "\n",
       "    .dataframe tbody tr th {\n",
       "        vertical-align: top;\n",
       "    }\n",
       "\n",
       "    .dataframe thead th {\n",
       "        text-align: right;\n",
       "    }\n",
       "</style>\n",
       "<table border=\"1\" class=\"dataframe\">\n",
       "  <thead>\n",
       "    <tr style=\"text-align: right;\">\n",
       "      <th></th>\n",
       "      <th>speed</th>\n",
       "      <th>hour</th>\n",
       "      <th>TV/h</th>\n",
       "      <th>Dayofweek</th>\n",
       "      <th>PL/h</th>\n",
       "      <th>Vitesse du vent moyen 10 mn</th>\n",
       "      <th>VL/h</th>\n",
       "      <th>Variation de pression en 3 heures</th>\n",
       "      <th>Etat du sol</th>\n",
       "      <th>Température</th>\n",
       "      <th>Température minimale du sol sur 12 heures</th>\n",
       "    </tr>\n",
       "  </thead>\n",
       "  <tbody>\n",
       "    <tr>\n",
       "      <th>speed</th>\n",
       "      <td>1.000000</td>\n",
       "      <td>0.064036</td>\n",
       "      <td>-0.364981</td>\n",
       "      <td>0.403820</td>\n",
       "      <td>-0.578953</td>\n",
       "      <td>-0.089506</td>\n",
       "      <td>-0.299871</td>\n",
       "      <td>-0.146394</td>\n",
       "      <td>-0.023157</td>\n",
       "      <td>-0.173294</td>\n",
       "      <td>0.046123</td>\n",
       "    </tr>\n",
       "    <tr>\n",
       "      <th>hour</th>\n",
       "      <td>0.064036</td>\n",
       "      <td>1.000000</td>\n",
       "      <td>0.439234</td>\n",
       "      <td>0.000000</td>\n",
       "      <td>0.102023</td>\n",
       "      <td>0.065962</td>\n",
       "      <td>0.485779</td>\n",
       "      <td>0.200906</td>\n",
       "      <td>-0.316235</td>\n",
       "      <td>0.229533</td>\n",
       "      <td>0.155208</td>\n",
       "    </tr>\n",
       "    <tr>\n",
       "      <th>TV/h</th>\n",
       "      <td>-0.364981</td>\n",
       "      <td>0.439234</td>\n",
       "      <td>1.000000</td>\n",
       "      <td>-0.038127</td>\n",
       "      <td>0.730651</td>\n",
       "      <td>0.309847</td>\n",
       "      <td>0.986358</td>\n",
       "      <td>0.187637</td>\n",
       "      <td>-0.312847</td>\n",
       "      <td>0.540111</td>\n",
       "      <td>0.005789</td>\n",
       "    </tr>\n",
       "    <tr>\n",
       "      <th>Dayofweek</th>\n",
       "      <td>0.403820</td>\n",
       "      <td>0.000000</td>\n",
       "      <td>-0.038127</td>\n",
       "      <td>1.000000</td>\n",
       "      <td>-0.386415</td>\n",
       "      <td>0.125439</td>\n",
       "      <td>0.032691</td>\n",
       "      <td>-0.017733</td>\n",
       "      <td>-0.033602</td>\n",
       "      <td>-0.002380</td>\n",
       "      <td>-0.115330</td>\n",
       "    </tr>\n",
       "    <tr>\n",
       "      <th>PL/h</th>\n",
       "      <td>-0.578953</td>\n",
       "      <td>0.102023</td>\n",
       "      <td>0.730651</td>\n",
       "      <td>-0.386415</td>\n",
       "      <td>1.000000</td>\n",
       "      <td>0.252208</td>\n",
       "      <td>0.628168</td>\n",
       "      <td>0.085358</td>\n",
       "      <td>-0.199844</td>\n",
       "      <td>0.397695</td>\n",
       "      <td>-0.082730</td>\n",
       "    </tr>\n",
       "    <tr>\n",
       "      <th>Vitesse du vent moyen 10 mn</th>\n",
       "      <td>-0.089506</td>\n",
       "      <td>0.065962</td>\n",
       "      <td>0.309847</td>\n",
       "      <td>0.125439</td>\n",
       "      <td>0.252208</td>\n",
       "      <td>1.000000</td>\n",
       "      <td>0.291816</td>\n",
       "      <td>0.157771</td>\n",
       "      <td>-0.118781</td>\n",
       "      <td>0.532747</td>\n",
       "      <td>0.239525</td>\n",
       "    </tr>\n",
       "    <tr>\n",
       "      <th>VL/h</th>\n",
       "      <td>-0.299871</td>\n",
       "      <td>0.485779</td>\n",
       "      <td>0.986358</td>\n",
       "      <td>0.032691</td>\n",
       "      <td>0.628168</td>\n",
       "      <td>0.291816</td>\n",
       "      <td>1.000000</td>\n",
       "      <td>0.193759</td>\n",
       "      <td>-0.321655</td>\n",
       "      <td>0.537074</td>\n",
       "      <td>0.027295</td>\n",
       "    </tr>\n",
       "    <tr>\n",
       "      <th>Variation de pression en 3 heures</th>\n",
       "      <td>-0.146394</td>\n",
       "      <td>0.200906</td>\n",
       "      <td>0.187637</td>\n",
       "      <td>-0.017733</td>\n",
       "      <td>0.085358</td>\n",
       "      <td>0.157771</td>\n",
       "      <td>0.193759</td>\n",
       "      <td>1.000000</td>\n",
       "      <td>0.183050</td>\n",
       "      <td>-0.044886</td>\n",
       "      <td>0.094360</td>\n",
       "    </tr>\n",
       "    <tr>\n",
       "      <th>Etat du sol</th>\n",
       "      <td>-0.023157</td>\n",
       "      <td>-0.316235</td>\n",
       "      <td>-0.312847</td>\n",
       "      <td>-0.033602</td>\n",
       "      <td>-0.199844</td>\n",
       "      <td>-0.118781</td>\n",
       "      <td>-0.321655</td>\n",
       "      <td>0.183050</td>\n",
       "      <td>1.000000</td>\n",
       "      <td>-0.483623</td>\n",
       "      <td>0.008462</td>\n",
       "    </tr>\n",
       "    <tr>\n",
       "      <th>Température</th>\n",
       "      <td>-0.173294</td>\n",
       "      <td>0.229533</td>\n",
       "      <td>0.540111</td>\n",
       "      <td>-0.002380</td>\n",
       "      <td>0.397695</td>\n",
       "      <td>0.532747</td>\n",
       "      <td>0.537074</td>\n",
       "      <td>-0.044886</td>\n",
       "      <td>-0.483623</td>\n",
       "      <td>1.000000</td>\n",
       "      <td>0.333007</td>\n",
       "    </tr>\n",
       "    <tr>\n",
       "      <th>Température minimale du sol sur 12 heures</th>\n",
       "      <td>0.046123</td>\n",
       "      <td>0.155208</td>\n",
       "      <td>0.005789</td>\n",
       "      <td>-0.115330</td>\n",
       "      <td>-0.082730</td>\n",
       "      <td>0.239525</td>\n",
       "      <td>0.027295</td>\n",
       "      <td>0.094360</td>\n",
       "      <td>0.008462</td>\n",
       "      <td>0.333007</td>\n",
       "      <td>1.000000</td>\n",
       "    </tr>\n",
       "  </tbody>\n",
       "</table>\n",
       "</div>"
      ],
      "text/plain": [
       "                                              speed      hour      TV/h  \\\n",
       "speed                                      1.000000  0.064036 -0.364981   \n",
       "hour                                       0.064036  1.000000  0.439234   \n",
       "TV/h                                      -0.364981  0.439234  1.000000   \n",
       "Dayofweek                                  0.403820  0.000000 -0.038127   \n",
       "PL/h                                      -0.578953  0.102023  0.730651   \n",
       "Vitesse du vent moyen 10 mn               -0.089506  0.065962  0.309847   \n",
       "VL/h                                      -0.299871  0.485779  0.986358   \n",
       "Variation de pression en 3 heures         -0.146394  0.200906  0.187637   \n",
       "Etat du sol                               -0.023157 -0.316235 -0.312847   \n",
       "Température                               -0.173294  0.229533  0.540111   \n",
       "Température minimale du sol sur 12 heures  0.046123  0.155208  0.005789   \n",
       "\n",
       "                                           Dayofweek      PL/h  \\\n",
       "speed                                       0.403820 -0.578953   \n",
       "hour                                        0.000000  0.102023   \n",
       "TV/h                                       -0.038127  0.730651   \n",
       "Dayofweek                                   1.000000 -0.386415   \n",
       "PL/h                                       -0.386415  1.000000   \n",
       "Vitesse du vent moyen 10 mn                 0.125439  0.252208   \n",
       "VL/h                                        0.032691  0.628168   \n",
       "Variation de pression en 3 heures          -0.017733  0.085358   \n",
       "Etat du sol                                -0.033602 -0.199844   \n",
       "Température                                -0.002380  0.397695   \n",
       "Température minimale du sol sur 12 heures  -0.115330 -0.082730   \n",
       "\n",
       "                                           Vitesse du vent moyen 10 mn  \\\n",
       "speed                                                        -0.089506   \n",
       "hour                                                          0.065962   \n",
       "TV/h                                                          0.309847   \n",
       "Dayofweek                                                     0.125439   \n",
       "PL/h                                                          0.252208   \n",
       "Vitesse du vent moyen 10 mn                                   1.000000   \n",
       "VL/h                                                          0.291816   \n",
       "Variation de pression en 3 heures                             0.157771   \n",
       "Etat du sol                                                  -0.118781   \n",
       "Température                                                   0.532747   \n",
       "Température minimale du sol sur 12 heures                     0.239525   \n",
       "\n",
       "                                               VL/h  \\\n",
       "speed                                     -0.299871   \n",
       "hour                                       0.485779   \n",
       "TV/h                                       0.986358   \n",
       "Dayofweek                                  0.032691   \n",
       "PL/h                                       0.628168   \n",
       "Vitesse du vent moyen 10 mn                0.291816   \n",
       "VL/h                                       1.000000   \n",
       "Variation de pression en 3 heures          0.193759   \n",
       "Etat du sol                               -0.321655   \n",
       "Température                                0.537074   \n",
       "Température minimale du sol sur 12 heures  0.027295   \n",
       "\n",
       "                                           Variation de pression en 3 heures  \\\n",
       "speed                                                              -0.146394   \n",
       "hour                                                                0.200906   \n",
       "TV/h                                                                0.187637   \n",
       "Dayofweek                                                          -0.017733   \n",
       "PL/h                                                                0.085358   \n",
       "Vitesse du vent moyen 10 mn                                         0.157771   \n",
       "VL/h                                                                0.193759   \n",
       "Variation de pression en 3 heures                                   1.000000   \n",
       "Etat du sol                                                         0.183050   \n",
       "Température                                                        -0.044886   \n",
       "Température minimale du sol sur 12 heures                           0.094360   \n",
       "\n",
       "                                           Etat du sol  Température  \\\n",
       "speed                                        -0.023157    -0.173294   \n",
       "hour                                         -0.316235     0.229533   \n",
       "TV/h                                         -0.312847     0.540111   \n",
       "Dayofweek                                    -0.033602    -0.002380   \n",
       "PL/h                                         -0.199844     0.397695   \n",
       "Vitesse du vent moyen 10 mn                  -0.118781     0.532747   \n",
       "VL/h                                         -0.321655     0.537074   \n",
       "Variation de pression en 3 heures             0.183050    -0.044886   \n",
       "Etat du sol                                   1.000000    -0.483623   \n",
       "Température                                  -0.483623     1.000000   \n",
       "Température minimale du sol sur 12 heures     0.008462     0.333007   \n",
       "\n",
       "                                           Température minimale du sol sur 12 heures  \n",
       "speed                                                                       0.046123  \n",
       "hour                                                                        0.155208  \n",
       "TV/h                                                                        0.005789  \n",
       "Dayofweek                                                                  -0.115330  \n",
       "PL/h                                                                       -0.082730  \n",
       "Vitesse du vent moyen 10 mn                                                 0.239525  \n",
       "VL/h                                                                        0.027295  \n",
       "Variation de pression en 3 heures                                           0.094360  \n",
       "Etat du sol                                                                 0.008462  \n",
       "Température                                                                 0.333007  \n",
       "Température minimale du sol sur 12 heures                                   1.000000  "
      ]
     },
     "execution_count": 24,
     "metadata": {},
     "output_type": "execute_result"
    }
   ],
   "source": [
    "data = df_lapil42.drop(['date', 'congestion+30min'], axis = 1)\n",
    "data.corr(method = 'spearman')"
   ]
  },
  {
   "cell_type": "code",
   "execution_count": 27,
   "id": "db925ef8",
   "metadata": {},
   "outputs": [],
   "source": [
    "cor = data.corr(method = 'spearman')"
   ]
  },
  {
   "cell_type": "code",
   "execution_count": 32,
   "id": "fcb92cae",
   "metadata": {},
   "outputs": [
    {
     "name": "stdout",
     "output_type": "stream",
     "text": [
      "[ True  True  True  True  True  True  True  True  True  True  True]\n",
      "1 6 0.48577925178411707\n",
      "2 4 0.7306514112477317\n",
      "2 6 0.9863576138252252\n",
      "2 9 0.5401114904579603\n",
      "4 6 0.6281681993854236\n",
      "5 9 0.5327472126561941\n",
      "6 9 0.5370740295596701\n"
     ]
    },
    {
     "data": {
      "text/plain": [
       "Index(['speed', 'hour', 'TV/h', 'Dayofweek', 'Vitesse du vent moyen 10 mn',\n",
       "       'Variation de pression en 3 heures', 'Etat du sol',\n",
       "       'Température minimale du sol sur 12 heures'],\n",
       "      dtype='object')"
      ]
     },
     "execution_count": 32,
     "metadata": {},
     "output_type": "execute_result"
    }
   ],
   "source": [
    "columns = np.full((cor.shape[0],), True, dtype=bool)\n",
    "print(columns)\n",
    "for i in range(cor.shape[0]):\n",
    "    for j in range(i+1, cor.shape[0]):\n",
    "        if cor.iloc[i,j] >= 0.45:\n",
    "            print(i,j,cor.iloc[i,j])\n",
    "            if columns[j]:\n",
    "                columns[j] = False\n",
    "selected_columns = df_lapil42.drop(['date', 'congestion+30min'], axis = 1).columns[columns]\n",
    "#data = polynomial_df[selected_columns]\n",
    "selected_columns"
   ]
  },
  {
   "cell_type": "code",
   "execution_count": 35,
   "id": "6432d789",
   "metadata": {},
   "outputs": [
    {
     "data": {
      "text/plain": [
       "Index(['speed', 'hour', 'TV/h', 'Dayofweek', 'Vitesse du vent moyen 10 mn',\n",
       "       'Variation de pression en 3 heures', 'Etat du sol',\n",
       "       'Température minimale du sol sur 12 heures'],\n",
       "      dtype='object')"
      ]
     },
     "execution_count": 35,
     "metadata": {},
     "output_type": "execute_result"
    }
   ],
   "source": [
    "selected_columns"
   ]
  },
  {
   "cell_type": "code",
   "execution_count": 36,
   "id": "544b7d68",
   "metadata": {},
   "outputs": [],
   "source": [
    "Df = df_lapil42[selected_columns]"
   ]
  },
  {
   "cell_type": "markdown",
   "id": "c9b3ea83",
   "metadata": {},
   "source": [
    "## Echantillonage des données"
   ]
  },
  {
   "cell_type": "code",
   "execution_count": 38,
   "id": "1e09fb34",
   "metadata": {},
   "outputs": [
    {
     "name": "stdout",
     "output_type": "stream",
     "text": [
      "Number of full training data points: X = (5220, 8), y = (5220,)\n",
      "Number of validation data points: X = (1500, 8), y = (1500,)\n"
     ]
    }
   ],
   "source": [
    "def split_vals(df, n): \n",
    "    return df[:n].copy(), df[n:].copy()\n",
    "\n",
    "Df = df_lapil42[selected_columns]\n",
    "y = df_lapil42['congestion+30min']\n",
    "\n",
    "n_total = len(df_lapil42)\n",
    "n_test = 1500 #arbitrary\n",
    "n_train = n_total - n_test\n",
    "\n",
    "X_train, X_valid = split_vals(Df, n_train)\n",
    "y_train, y_valid = split_vals(y, n_train)\n",
    "\n",
    "print('Number of full training data points: X = {}, y = {}'.format(X_train.shape, y_train.shape))\n",
    "print('Number of validation data points: X = {}, y = {}'.format(X_valid.shape, y_valid.shape))"
   ]
  },
  {
   "cell_type": "markdown",
   "id": "f2baa43c",
   "metadata": {},
   "source": [
    "## Modèle Gaussien"
   ]
  },
  {
   "cell_type": "code",
   "execution_count": 41,
   "id": "96d65b4b",
   "metadata": {},
   "outputs": [],
   "source": [
    "def classifier_metrics (y_test, y_preds, average='weighted'):\n",
    "    \"\"\"Return Accuracy, Recall, Precision and F-1 score. \n",
    "    Average can take two arguments : macro or weighted \"\"\"\n",
    "\n",
    "    acc = metrics.accuracy_score(y_test, y_preds)\n",
    "    rec = metrics.recall_score(y_test, y_preds, sample_weight = None)\n",
    "    prc = metrics.precision_score(y_test, y_preds, sample_weight = None)\n",
    "    f1  = metrics.f1_score(y_test, y_preds, sample_weight = None)\n",
    "\n",
    "    print('Accuracy : {:.2f}%'.format(acc*100))\n",
    "    print('Recall : {:.2f}%'.format(rec*100))\n",
    "    print('Precision : {:.2f}%'.format(prc*100))\n",
    "    print('F1-score : {:.2f}%'.format(f1*100))"
   ]
  },
  {
   "cell_type": "code",
   "execution_count": 39,
   "id": "eee4686c",
   "metadata": {},
   "outputs": [
    {
     "data": {
      "text/plain": [
       "GaussianNB()"
      ]
     },
     "execution_count": 39,
     "metadata": {},
     "output_type": "execute_result"
    }
   ],
   "source": [
    "#instanciation\n",
    "model_Gaussian = GaussianNB()\n",
    "#training\n",
    "model_Gaussian.fit(X_train, y_train)"
   ]
  },
  {
   "cell_type": "code",
   "execution_count": 43,
   "id": "22520c17",
   "metadata": {},
   "outputs": [
    {
     "name": "stdout",
     "output_type": "stream",
     "text": [
      "Accuracy : 89.54%\n",
      "Recall : 62.14%\n",
      "Precision : 86.55%\n",
      "F1-score : 72.34%\n"
     ]
    }
   ],
   "source": [
    "classifier_metrics(y_train, model_Gaussian.predict(X_train))"
   ]
  },
  {
   "cell_type": "code",
   "execution_count": 46,
   "id": "a3f669fb",
   "metadata": {},
   "outputs": [
    {
     "data": {
      "text/plain": [
       "0.7083374002225532"
      ]
     },
     "execution_count": 46,
     "metadata": {},
     "output_type": "execute_result"
    }
   ],
   "source": [
    "mean_score = cross_val_score(model_Gaussian, X_train, y_train, scoring=\"f1\", cv = 7).mean()\n",
    "mean_score"
   ]
  },
  {
   "cell_type": "markdown",
   "id": "73f46789",
   "metadata": {},
   "source": [
    "## Modèle Bernouilli"
   ]
  },
  {
   "cell_type": "code",
   "execution_count": 51,
   "id": "10d5674a",
   "metadata": {},
   "outputs": [],
   "source": [
    "model_Bernouilli = BernoulliNB()\n",
    "model_Bernouilli = model_Bernouilli.fit(X_train, y_train)"
   ]
  },
  {
   "cell_type": "code",
   "execution_count": 52,
   "id": "ab13ee15",
   "metadata": {},
   "outputs": [
    {
     "name": "stdout",
     "output_type": "stream",
     "text": [
      "Accuracy : 79.35%\n",
      "Recall : 7.75%\n",
      "Precision : 83.18%\n",
      "F1-score : 14.17%\n"
     ]
    }
   ],
   "source": [
    "classifier_metrics(y_train, model_Bernouilli.predict(X_train))"
   ]
  },
  {
   "cell_type": "code",
   "execution_count": 53,
   "id": "4defff71",
   "metadata": {},
   "outputs": [
    {
     "data": {
      "text/plain": [
       "0.036989887469984155"
      ]
     },
     "execution_count": 53,
     "metadata": {},
     "output_type": "execute_result"
    }
   ],
   "source": [
    "mean_score = cross_val_score(model_Bernouilli, X_train, y_train, scoring=\"f1\", cv = 7).mean()\n",
    "mean_score"
   ]
  },
  {
   "cell_type": "markdown",
   "id": "3a25df84",
   "metadata": {},
   "source": [
    "Le modèle Gaussien semble prometteur. Essayons d'affiner le choix des variables."
   ]
  },
  {
   "cell_type": "markdown",
   "id": "1bd41dd1",
   "metadata": {},
   "source": [
    "## Choix des variables sur le modèle gaussien"
   ]
  },
  {
   "cell_type": "code",
   "execution_count": 67,
   "id": "2b443e95",
   "metadata": {},
   "outputs": [
    {
     "name": "stdout",
     "output_type": "stream",
     "text": [
      "1 0.7041922667252126 0.0\n",
      "  \n",
      "2 0.7054769792673422 0.08\n",
      "  \n",
      "3 0.703101832747822 0.2\n",
      "  \n",
      "4 0.7028159224880357 0.22\n",
      "  \n",
      "5 0.702614875310654 0.32\n",
      "  \n",
      "6 0.7006868372149399 0.34\n",
      "  \n",
      "7 0.7056873977436443 0.42\n",
      "  \n",
      "8 0.7083374002225532 0.44\n",
      "  \n",
      "9 0.7122921358884008 0.56\n",
      "  \n",
      "10 0.7479538294555576 0.74\n",
      "  \n"
     ]
    },
    {
     "data": {
      "text/plain": [
       "{1: 0.7041922667252126,\n",
       " 2: 0.7054769792673422,\n",
       " 3: 0.703101832747822,\n",
       " 4: 0.7028159224880357,\n",
       " 5: 0.702614875310654,\n",
       " 6: 0.7006868372149399,\n",
       " 7: 0.7056873977436443,\n",
       " 8: 0.7083374002225532,\n",
       " 9: 0.7122921358884008,\n",
       " 10: 0.7479538294555576}"
      ]
     },
     "execution_count": 67,
     "metadata": {},
     "output_type": "execute_result"
    }
   ],
   "source": [
    "model_Gaussian = GaussianNB()\n",
    "l = 0\n",
    "global_F1 = dict()\n",
    "\n",
    "for k in range(0,95,2):\n",
    "    columns = np.full((cor.shape[0],), True, dtype=bool)\n",
    "    #print(columns)\n",
    "    for i in range(cor.shape[0]):\n",
    "        for j in range(i+1, cor.shape[0]):\n",
    "            if cor.iloc[i,j] >= k/100:\n",
    "                #print(i,j,cor.iloc[i,j])\n",
    "                if columns[j]:\n",
    "                    columns[j] = False\n",
    "    selected_columns = df_lapil42.drop(['date', 'congestion+30min'], axis = 1).columns[columns]\n",
    "    \n",
    "    if len(selected_columns) > l:\n",
    "        l = len(selected_columns)\n",
    "    \n",
    "        Df = df_lapil42[selected_columns]\n",
    "        y = df_lapil42['congestion+30min']\n",
    "\n",
    "        n_total = len(df_lapil42)\n",
    "        n_test = 1500 #arbitrary\n",
    "        n_train = n_total - n_test\n",
    "\n",
    "        X_train, X_valid = split_vals(Df, n_train)\n",
    "\n",
    "        model_Gaussian.fit(X_train, y_train)\n",
    "        mean_score = cross_val_score(model_Gaussian, X_train, y_train, scoring=\"f1\", cv = 7).mean()\n",
    "        print(l, mean_score, k/100)\n",
    "        print('  ')\n",
    "        global_F1[l] = mean_score\n",
    "\n",
    "global_F1"
   ]
  },
  {
   "cell_type": "markdown",
   "id": "35875fbc",
   "metadata": {},
   "source": [
    "L'amélioration des résultats semble minime. Par soucis d'explicatbilité nous allons donc garder seulement deux variables et un seuil de corrélation de 0.08."
   ]
  },
  {
   "cell_type": "markdown",
   "id": "169620f0",
   "metadata": {},
   "source": [
    "## Conclusion"
   ]
  },
  {
   "cell_type": "markdown",
   "id": "a9d3cc62",
   "metadata": {},
   "source": [
    "Le meilleur modèle est le modèle Gaussien couplé au jeu de données ayant pour seules variables explicatives la vitesse et l'heure."
   ]
  }
 ],
 "metadata": {
  "kernelspec": {
   "display_name": "Python 3",
   "language": "python",
   "name": "python3"
  },
  "language_info": {
   "codemirror_mode": {
    "name": "ipython",
    "version": 3
   },
   "file_extension": ".py",
   "mimetype": "text/x-python",
   "name": "python",
   "nbconvert_exporter": "python",
   "pygments_lexer": "ipython3",
   "version": "3.6.13"
  }
 },
 "nbformat": 4,
 "nbformat_minor": 5
}
