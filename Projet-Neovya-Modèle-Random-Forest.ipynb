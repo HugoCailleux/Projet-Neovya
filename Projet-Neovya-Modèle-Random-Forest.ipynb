{
 "cells": [
  {
   "cell_type": "raw",
   "id": "30338425",
   "metadata": {},
   "source": [
    "NEOVYA - Random forest"
   ]
  },
  {
   "cell_type": "markdown",
   "id": "2e5a9d6a",
   "metadata": {},
   "source": [
    "Ce notebook regroupe les modèles de forêts alétoires permettant de prédire la congestion à t+30 minutes."
   ]
  },
  {
   "cell_type": "markdown",
   "id": "b0730f25",
   "metadata": {
    "heading_collapsed": true
   },
   "source": [
    "# Imports"
   ]
  },
  {
   "cell_type": "code",
   "execution_count": 1,
   "id": "15ce5aff",
   "metadata": {
    "hidden": true
   },
   "outputs": [],
   "source": [
    "# base modules\n",
    "import os\n",
    "import sys\n",
    "import copy\n",
    "import logging\n",
    "import pandas as pd \n",
    "\n",
    "# custom module\n",
    "from emlyon_module.imports import *\n",
    "from emlyon_module.structured import *\n",
    "\n",
    "# for manipulating data\n",
    "from pandas_summary import DataFrameSummary\n",
    "#!pip install dill\n",
    "import dill\n",
    "\n",
    "# for Machine Learning\n",
    "from sklearn.ensemble import RandomForestRegressor, RandomForestClassifier, BaggingRegressor\n",
    "from sklearn.tree import DecisionTreeRegressor, DecisionTreeClassifier, plot_tree\n",
    "from sklearn import metrics\n",
    "from sklearn.preprocessing import LabelEncoder\n",
    "from sklearn.model_selection import cross_val_score, KFold, GridSearchCV\n",
    "from sklearn.calibration import CalibratedClassifierCV\n",
    "from sklearn.inspection import permutation_importance\n",
    "from scipy.cluster import hierarchy\n",
    "\n",
    "# for visualization\n",
    "from IPython.display import display\n",
    "from matplotlib import pyplot as plt\n",
    "#!pip install -U plotnine\n",
    "from plotnine import ggplot, aes\n",
    "from plotnine.stats import stat_smooth\n",
    "from pdpbox import pdp\n",
    "# plotly\n",
    "# seaborn\n",
    "# altair"
   ]
  },
  {
   "cell_type": "markdown",
   "id": "88222bab",
   "metadata": {
    "heading_collapsed": true
   },
   "source": [
    "# Pre processing"
   ]
  },
  {
   "cell_type": "code",
   "execution_count": 2,
   "id": "ec259749",
   "metadata": {
    "hidden": true
   },
   "outputs": [],
   "source": [
    "df_lapil42 = pd.read_csv('/Users/hugo/neovya/Data/LAPIL42_final_selection.csv',parse_dates=['date'])"
   ]
  },
  {
   "cell_type": "code",
   "execution_count": 3,
   "id": "78c1ce17",
   "metadata": {
    "hidden": true
   },
   "outputs": [
    {
     "data": {
      "text/html": [
       "<div>\n",
       "<style scoped>\n",
       "    .dataframe tbody tr th:only-of-type {\n",
       "        vertical-align: middle;\n",
       "    }\n",
       "\n",
       "    .dataframe tbody tr th {\n",
       "        vertical-align: top;\n",
       "    }\n",
       "\n",
       "    .dataframe thead th {\n",
       "        text-align: right;\n",
       "    }\n",
       "</style>\n",
       "<table border=\"1\" class=\"dataframe\">\n",
       "  <thead>\n",
       "    <tr style=\"text-align: right;\">\n",
       "      <th></th>\n",
       "      <th>speed</th>\n",
       "      <th>hour</th>\n",
       "      <th>TV/h</th>\n",
       "      <th>Dayofweek</th>\n",
       "      <th>PL/h</th>\n",
       "      <th>Vitesse du vent moyen 10 mn</th>\n",
       "      <th>VL/h</th>\n",
       "      <th>Variation de pression en 3 heures</th>\n",
       "      <th>Etat du sol</th>\n",
       "      <th>Température</th>\n",
       "      <th>Température minimale du sol sur 12 heures</th>\n",
       "      <th>date</th>\n",
       "      <th>congestion+30min</th>\n",
       "    </tr>\n",
       "  </thead>\n",
       "  <tbody>\n",
       "    <tr>\n",
       "      <th>0</th>\n",
       "      <td>87.0</td>\n",
       "      <td>0</td>\n",
       "      <td>434.0</td>\n",
       "      <td>0</td>\n",
       "      <td>141.0</td>\n",
       "      <td>2.700000</td>\n",
       "      <td>293.0</td>\n",
       "      <td>80.000000</td>\n",
       "      <td>1.000000</td>\n",
       "      <td>287.950000</td>\n",
       "      <td>286.450000</td>\n",
       "      <td>2019-09-23 00:00:00</td>\n",
       "      <td>0</td>\n",
       "    </tr>\n",
       "    <tr>\n",
       "      <th>1</th>\n",
       "      <td>87.0</td>\n",
       "      <td>0</td>\n",
       "      <td>434.0</td>\n",
       "      <td>0</td>\n",
       "      <td>141.0</td>\n",
       "      <td>2.672726</td>\n",
       "      <td>293.0</td>\n",
       "      <td>76.713049</td>\n",
       "      <td>0.997336</td>\n",
       "      <td>287.919104</td>\n",
       "      <td>286.424860</td>\n",
       "      <td>2019-09-23 00:06:00</td>\n",
       "      <td>1</td>\n",
       "    </tr>\n",
       "    <tr>\n",
       "      <th>2</th>\n",
       "      <td>87.0</td>\n",
       "      <td>0</td>\n",
       "      <td>520.0</td>\n",
       "      <td>0</td>\n",
       "      <td>170.0</td>\n",
       "      <td>2.642294</td>\n",
       "      <td>350.0</td>\n",
       "      <td>73.491523</td>\n",
       "      <td>0.995162</td>\n",
       "      <td>287.886406</td>\n",
       "      <td>286.398089</td>\n",
       "      <td>2019-09-23 00:12:00</td>\n",
       "      <td>0</td>\n",
       "    </tr>\n",
       "    <tr>\n",
       "      <th>3</th>\n",
       "      <td>87.0</td>\n",
       "      <td>0</td>\n",
       "      <td>520.0</td>\n",
       "      <td>0</td>\n",
       "      <td>170.0</td>\n",
       "      <td>2.608704</td>\n",
       "      <td>350.0</td>\n",
       "      <td>70.335422</td>\n",
       "      <td>0.993478</td>\n",
       "      <td>287.851905</td>\n",
       "      <td>286.369686</td>\n",
       "      <td>2019-09-23 00:18:00</td>\n",
       "      <td>0</td>\n",
       "    </tr>\n",
       "    <tr>\n",
       "      <th>4</th>\n",
       "      <td>86.0</td>\n",
       "      <td>0</td>\n",
       "      <td>390.0</td>\n",
       "      <td>0</td>\n",
       "      <td>120.0</td>\n",
       "      <td>2.571957</td>\n",
       "      <td>270.0</td>\n",
       "      <td>67.244747</td>\n",
       "      <td>0.992285</td>\n",
       "      <td>287.815602</td>\n",
       "      <td>286.339653</td>\n",
       "      <td>2019-09-23 00:24:00</td>\n",
       "      <td>0</td>\n",
       "    </tr>\n",
       "    <tr>\n",
       "      <th>...</th>\n",
       "      <td>...</td>\n",
       "      <td>...</td>\n",
       "      <td>...</td>\n",
       "      <td>...</td>\n",
       "      <td>...</td>\n",
       "      <td>...</td>\n",
       "      <td>...</td>\n",
       "      <td>...</td>\n",
       "      <td>...</td>\n",
       "      <td>...</td>\n",
       "      <td>...</td>\n",
       "      <td>...</td>\n",
       "      <td>...</td>\n",
       "    </tr>\n",
       "    <tr>\n",
       "      <th>6715</th>\n",
       "      <td>88.0</td>\n",
       "      <td>23</td>\n",
       "      <td>520.0</td>\n",
       "      <td>6</td>\n",
       "      <td>110.0</td>\n",
       "      <td>2.652161</td>\n",
       "      <td>410.0</td>\n",
       "      <td>201.973674</td>\n",
       "      <td>1.001384</td>\n",
       "      <td>283.560409</td>\n",
       "      <td>282.890517</td>\n",
       "      <td>2019-10-20 23:30:00</td>\n",
       "      <td>1</td>\n",
       "    </tr>\n",
       "    <tr>\n",
       "      <th>6716</th>\n",
       "      <td>85.0</td>\n",
       "      <td>23</td>\n",
       "      <td>690.0</td>\n",
       "      <td>6</td>\n",
       "      <td>140.0</td>\n",
       "      <td>2.650523</td>\n",
       "      <td>550.0</td>\n",
       "      <td>197.604785</td>\n",
       "      <td>1.001217</td>\n",
       "      <td>283.553549</td>\n",
       "      <td>282.858177</td>\n",
       "      <td>2019-10-20 23:36:00</td>\n",
       "      <td>1</td>\n",
       "    </tr>\n",
       "    <tr>\n",
       "      <th>6717</th>\n",
       "      <td>90.0</td>\n",
       "      <td>23</td>\n",
       "      <td>590.0</td>\n",
       "      <td>6</td>\n",
       "      <td>120.0</td>\n",
       "      <td>2.644488</td>\n",
       "      <td>470.0</td>\n",
       "      <td>193.222973</td>\n",
       "      <td>1.000995</td>\n",
       "      <td>283.549078</td>\n",
       "      <td>282.827955</td>\n",
       "      <td>2019-10-20 23:42:00</td>\n",
       "      <td>1</td>\n",
       "    </tr>\n",
       "    <tr>\n",
       "      <th>6718</th>\n",
       "      <td>86.0</td>\n",
       "      <td>23</td>\n",
       "      <td>510.0</td>\n",
       "      <td>6</td>\n",
       "      <td>100.0</td>\n",
       "      <td>2.634056</td>\n",
       "      <td>410.0</td>\n",
       "      <td>188.828238</td>\n",
       "      <td>1.000718</td>\n",
       "      <td>283.546996</td>\n",
       "      <td>282.799852</td>\n",
       "      <td>2019-10-20 23:48:00</td>\n",
       "      <td>1</td>\n",
       "    </tr>\n",
       "    <tr>\n",
       "      <th>6719</th>\n",
       "      <td>87.0</td>\n",
       "      <td>23</td>\n",
       "      <td>650.0</td>\n",
       "      <td>6</td>\n",
       "      <td>130.0</td>\n",
       "      <td>2.619226</td>\n",
       "      <td>520.0</td>\n",
       "      <td>184.420580</td>\n",
       "      <td>1.000386</td>\n",
       "      <td>283.547303</td>\n",
       "      <td>282.773867</td>\n",
       "      <td>2019-10-20 23:54:00</td>\n",
       "      <td>1</td>\n",
       "    </tr>\n",
       "  </tbody>\n",
       "</table>\n",
       "<p>6720 rows × 13 columns</p>\n",
       "</div>"
      ],
      "text/plain": [
       "      speed  hour   TV/h  Dayofweek   PL/h  Vitesse du vent moyen 10 mn  \\\n",
       "0      87.0     0  434.0          0  141.0                     2.700000   \n",
       "1      87.0     0  434.0          0  141.0                     2.672726   \n",
       "2      87.0     0  520.0          0  170.0                     2.642294   \n",
       "3      87.0     0  520.0          0  170.0                     2.608704   \n",
       "4      86.0     0  390.0          0  120.0                     2.571957   \n",
       "...     ...   ...    ...        ...    ...                          ...   \n",
       "6715   88.0    23  520.0          6  110.0                     2.652161   \n",
       "6716   85.0    23  690.0          6  140.0                     2.650523   \n",
       "6717   90.0    23  590.0          6  120.0                     2.644488   \n",
       "6718   86.0    23  510.0          6  100.0                     2.634056   \n",
       "6719   87.0    23  650.0          6  130.0                     2.619226   \n",
       "\n",
       "       VL/h  Variation de pression en 3 heures  Etat du sol  Température  \\\n",
       "0     293.0                          80.000000     1.000000   287.950000   \n",
       "1     293.0                          76.713049     0.997336   287.919104   \n",
       "2     350.0                          73.491523     0.995162   287.886406   \n",
       "3     350.0                          70.335422     0.993478   287.851905   \n",
       "4     270.0                          67.244747     0.992285   287.815602   \n",
       "...     ...                                ...          ...          ...   \n",
       "6715  410.0                         201.973674     1.001384   283.560409   \n",
       "6716  550.0                         197.604785     1.001217   283.553549   \n",
       "6717  470.0                         193.222973     1.000995   283.549078   \n",
       "6718  410.0                         188.828238     1.000718   283.546996   \n",
       "6719  520.0                         184.420580     1.000386   283.547303   \n",
       "\n",
       "      Température minimale du sol sur 12 heures                date  \\\n",
       "0                                    286.450000 2019-09-23 00:00:00   \n",
       "1                                    286.424860 2019-09-23 00:06:00   \n",
       "2                                    286.398089 2019-09-23 00:12:00   \n",
       "3                                    286.369686 2019-09-23 00:18:00   \n",
       "4                                    286.339653 2019-09-23 00:24:00   \n",
       "...                                         ...                 ...   \n",
       "6715                                 282.890517 2019-10-20 23:30:00   \n",
       "6716                                 282.858177 2019-10-20 23:36:00   \n",
       "6717                                 282.827955 2019-10-20 23:42:00   \n",
       "6718                                 282.799852 2019-10-20 23:48:00   \n",
       "6719                                 282.773867 2019-10-20 23:54:00   \n",
       "\n",
       "      congestion+30min  \n",
       "0                    0  \n",
       "1                    1  \n",
       "2                    0  \n",
       "3                    0  \n",
       "4                    0  \n",
       "...                ...  \n",
       "6715                 1  \n",
       "6716                 1  \n",
       "6717                 1  \n",
       "6718                 1  \n",
       "6719                 1  \n",
       "\n",
       "[6720 rows x 13 columns]"
      ]
     },
     "execution_count": 3,
     "metadata": {},
     "output_type": "execute_result"
    }
   ],
   "source": [
    "df_lapil42"
   ]
  },
  {
   "cell_type": "code",
   "execution_count": 4,
   "id": "e5b627d1",
   "metadata": {
    "hidden": true
   },
   "outputs": [],
   "source": [
    "#drop des colonnes VL & PL car ces données ne sont pas présentes pour les autres capteurs\n",
    "df_lapil42 = df_lapil42.drop(['PL/h', 'VL/h', 'date'], axis = 1)"
   ]
  },
  {
   "cell_type": "code",
   "execution_count": 5,
   "id": "49dc1f0d",
   "metadata": {
    "hidden": true
   },
   "outputs": [],
   "source": [
    "#Transformation en catéogires - Utilisation de la fonction train_cats pour convertir les colonnes en catégories\n",
    "train_cats(df_lapil42)"
   ]
  },
  {
   "cell_type": "code",
   "execution_count": 6,
   "id": "27e7ecde",
   "metadata": {
    "hidden": true
   },
   "outputs": [],
   "source": [
    "#Utilisation de Proc_df pour séparer la variable à prédire des autres colonnes\n",
    "df, y, nas = proc_df(df_lapil42, 'congestion+30min')"
   ]
  },
  {
   "cell_type": "code",
   "execution_count": 7,
   "id": "152c6768",
   "metadata": {
    "hidden": true
   },
   "outputs": [
    {
     "name": "stdout",
     "output_type": "stream",
     "text": [
      "len x_train is 4502\n",
      "len x_test is 2218\n"
     ]
    }
   ],
   "source": [
    "#Split du jeu de données en conservant l'odre\n",
    "from sklearn.model_selection import train_test_split\n",
    "\n",
    "x_train, x_test, y_train, y_test = train_test_split(df, y, test_size=0.33, shuffle=False)\n",
    "\n",
    "print (\"len x_train is\", len(x_train))\n",
    "print (\"len x_test is\", len(x_test))"
   ]
  },
  {
   "cell_type": "code",
   "execution_count": 9,
   "id": "c5de4e19",
   "metadata": {
    "hidden": true
   },
   "outputs": [
    {
     "name": "stdout",
     "output_type": "stream",
     "text": [
      "[[   0 1850]\n",
      " [   1  368]]\n"
     ]
    }
   ],
   "source": [
    "#Vérification du nombre de classes dans le jeu de validation\n",
    "unique, counts = np.unique(y_test, return_counts=True)\n",
    "print (np.asarray((unique, counts)).T)"
   ]
  },
  {
   "cell_type": "code",
   "execution_count": 324,
   "id": "b275254b",
   "metadata": {
    "hidden": true
   },
   "outputs": [
    {
     "name": "stdout",
     "output_type": "stream",
     "text": [
      "[[   0 3425]\n",
      " [   1 1077]]\n"
     ]
    }
   ],
   "source": [
    "#Vérification du nombre de classes dans le jeu d'entrainement\n",
    "unique, counts = np.unique(y_train, return_counts=True)\n",
    "print (np.asarray((unique, counts)).T)"
   ]
  },
  {
   "cell_type": "markdown",
   "id": "bda59490",
   "metadata": {
    "heading_collapsed": true
   },
   "source": [
    "# Premier modèle"
   ]
  },
  {
   "cell_type": "code",
   "execution_count": 11,
   "id": "4d06060a",
   "metadata": {
    "hidden": true
   },
   "outputs": [],
   "source": [
    "def classifier_metrics (y_test, y_preds, average='weighted'):\n",
    "    \"\"\"Return Accuracy, Recall, Precision and F-1 score. \n",
    "    Average can take two arguments : macro or weighted \"\"\"\n",
    "\n",
    "    acc = metrics.accuracy_score(y_test, y_preds)\n",
    "    rec = metrics.recall_score(y_test, y_preds, sample_weight = None)\n",
    "    prc = metrics.precision_score(y_test, y_preds, sample_weight = None)\n",
    "    f1  = metrics.f1_score(y_test, y_preds, sample_weight = None)\n",
    "\n",
    "    print('Accuracy : {:.2f}%'.format(acc*100))\n",
    "    print('Recall : {:.2f}%'.format(rec*100))\n",
    "    print('Precision : {:.2f}%'.format(prc*100))\n",
    "    print('F1-score : {:.2f}%'.format(f1*100))"
   ]
  },
  {
   "cell_type": "markdown",
   "id": "2fb1d6a3",
   "metadata": {
    "heading_collapsed": true,
    "hidden": true
   },
   "source": [
    "## Premier modèle"
   ]
  },
  {
   "cell_type": "markdown",
   "id": "03bdeef1",
   "metadata": {
    "hidden": true
   },
   "source": [
    "Test d'un premier modèle naif"
   ]
  },
  {
   "cell_type": "code",
   "execution_count": 12,
   "id": "d361cb97",
   "metadata": {
    "hidden": true
   },
   "outputs": [],
   "source": [
    "classifier = RandomForestClassifier(\n",
    "    n_estimators = 20, \n",
    "    class_weight = None, # classifier specific\n",
    "    criterion = 'gini',  # classifier specific\n",
    "    max_depth = 3, \n",
    "    min_samples_split = 2, \n",
    "    min_samples_leaf = 1, \n",
    "    min_weight_fraction_leaf = 0.0, \n",
    "    max_features = 'auto', \n",
    "    max_leaf_nodes = None, \n",
    "    min_impurity_decrease = 0.0, \n",
    "    min_impurity_split = None, \n",
    "    ccp_alpha = 0.0, \n",
    "    random_state = 42, \n",
    "    bootstrap = True, \n",
    "    oob_score = True, \n",
    "    max_samples = None,\n",
    "    warm_start = False, \n",
    "    n_jobs = -1, \n",
    "    verbose = 0, \n",
    ")"
   ]
  },
  {
   "cell_type": "code",
   "execution_count": 13,
   "id": "b1ac7669",
   "metadata": {
    "hidden": true,
    "scrolled": true
   },
   "outputs": [
    {
     "data": {
      "text/plain": [
       "RandomForestClassifier(max_depth=3, n_estimators=20, n_jobs=-1, oob_score=True,\n",
       "                       random_state=42)"
      ]
     },
     "execution_count": 13,
     "metadata": {},
     "output_type": "execute_result"
    }
   ],
   "source": [
    "classifier.fit(x_train, y_train)"
   ]
  },
  {
   "cell_type": "markdown",
   "id": "dad66195",
   "metadata": {
    "hidden": true
   },
   "source": [
    "Ayant une quantité de données assez limitée, nous utiliserons uniquement la cross validation pour vérifier nos résultats. Nous conservons le jeu de données test pour la phase finale de notre travail."
   ]
  },
  {
   "cell_type": "markdown",
   "id": "9d700721",
   "metadata": {
    "heading_collapsed": true,
    "hidden": true
   },
   "source": [
    "## Cross validation"
   ]
  },
  {
   "cell_type": "code",
   "execution_count": 14,
   "id": "3d99e088",
   "metadata": {
    "hidden": true
   },
   "outputs": [],
   "source": [
    "from sklearn.metrics import classification_report, confusion_matrix"
   ]
  },
  {
   "cell_type": "code",
   "execution_count": 15,
   "id": "a0c53f1a",
   "metadata": {
    "hidden": true
   },
   "outputs": [
    {
     "data": {
      "text/plain": [
       "array([0.79803, 0.78378, 0.73514, 0.70659, 0.80357, 0.82126, 0.87685, 0.77157, 0.77143, 0.77885])"
      ]
     },
     "execution_count": 15,
     "metadata": {},
     "output_type": "execute_result"
    }
   ],
   "source": [
    "cv_score = cross_val_score(classifier, x_train, y_train, cv=10, scoring= 'f1')\n",
    "cv_score"
   ]
  },
  {
   "cell_type": "code",
   "execution_count": 16,
   "id": "7a5f79aa",
   "metadata": {
    "hidden": true
   },
   "outputs": [
    {
     "data": {
      "text/plain": [
       "0.7847058389111276"
      ]
     },
     "execution_count": 16,
     "metadata": {},
     "output_type": "execute_result"
    }
   ],
   "source": [
    "cv_score.mean()"
   ]
  },
  {
   "cell_type": "markdown",
   "id": "3867d887",
   "metadata": {
    "heading_collapsed": true
   },
   "source": [
    "# Tuning hyperparameters"
   ]
  },
  {
   "cell_type": "markdown",
   "id": "3f881755",
   "metadata": {
    "hidden": true
   },
   "source": [
    "Pour améliorer le résultat, nous allons faire varier les différents paramètres de notre forêt aléatoire.  \n",
    "\n",
    "\n",
    "Après différents tests à la main, nous avons utilisé la fonction Grid_search pour déterminer les meilleurs paramètres du modèle."
   ]
  },
  {
   "cell_type": "markdown",
   "id": "08bb6c04",
   "metadata": {
    "heading_collapsed": true,
    "hidden": true
   },
   "source": [
    "## Grid searchCV"
   ]
  },
  {
   "cell_type": "markdown",
   "id": "3d72c32a",
   "metadata": {
    "hidden": true
   },
   "source": [
    "Définition des paramètres à tester"
   ]
  },
  {
   "cell_type": "code",
   "execution_count": 17,
   "id": "a099492a",
   "metadata": {
    "hidden": true
   },
   "outputs": [],
   "source": [
    "param_grid = [\n",
    "    {'n_estimators': [10, 30, 50, 70, 90, 110, 130, 150],\n",
    "     'max_depth': [2,3,5,7,10,15, 20, None],\n",
    "     'min_samples_split': [2,4,6,8,10,15,20,30,40, 50],\n",
    "     'max_features': [0.25,0.4, 0.5, 0.7, 0.8],\n",
    "     'max_samples': [0.2,0.4, 0.5,0.6,0.7,0.8,0.9, 1],\n",
    "    },\n",
    "]\n",
    "\n",
    "model = RandomForestClassifier(\n",
    "    random_state = 42,\n",
    "    bootstrap = True,\n",
    ")\n",
    "\n"
   ]
  },
  {
   "cell_type": "code",
   "execution_count": 18,
   "id": "f1b593cc",
   "metadata": {
    "hidden": true
   },
   "outputs": [],
   "source": [
    "tuned_model = GridSearchCV(\n",
    "    estimator = model, \n",
    "    param_grid = param_grid, \n",
    "    scoring = None, # uses estimator's default score method\n",
    "    n_jobs = -1, \n",
    "    refit = True, # keep a fitted version of the overall best model\n",
    "    cv = 5, \n",
    "    return_train_score = True,\n",
    "    verbose = 2,\n",
    ")"
   ]
  },
  {
   "cell_type": "code",
   "execution_count": 307,
   "id": "a8274671",
   "metadata": {
    "hidden": true
   },
   "outputs": [
    {
     "name": "stdout",
     "output_type": "stream",
     "text": [
      "Fitting 5 folds for each of 19200 candidates, totalling 96000 fits\n"
     ]
    },
    {
     "data": {
      "text/plain": [
       "GridSearchCV(cv=5, estimator=RandomForestClassifier(random_state=42), n_jobs=-1,\n",
       "             param_grid=[{'max_depth': [2, 3, 5, 7, 10, 15, 20, None],\n",
       "                          'max_features': [0.25, 0.4, 0.5, 0.7, 0.8],\n",
       "                          'max_samples': [0.2, 0.4, 0.6, 0.8, 0.9, 1],\n",
       "                          'min_samples_split': [2, 4, 6, 8, 10, 15, 20, 30, 40,\n",
       "                                                50],\n",
       "                          'n_estimators': [10, 30, 50, 70, 90, 110, 130, 150]}],\n",
       "             return_train_score=True, verbose=2)"
      ]
     },
     "execution_count": 307,
     "metadata": {},
     "output_type": "execute_result"
    }
   ],
   "source": [
    "tuned_model.fit(x_train, y_train)"
   ]
  },
  {
   "cell_type": "code",
   "execution_count": 19,
   "id": "5b733a0e",
   "metadata": {
    "collapsed": true,
    "hidden": true
   },
   "outputs": [
    {
     "ename": "AttributeError",
     "evalue": "'GridSearchCV' object has no attribute 'best_params_'",
     "output_type": "error",
     "traceback": [
      "\u001b[0;31m---------------------------------------------------------------------------\u001b[0m",
      "\u001b[0;31mAttributeError\u001b[0m                            Traceback (most recent call last)",
      "\u001b[0;32m<ipython-input-19-c859d463477b>\u001b[0m in \u001b[0;36m<module>\u001b[0;34m\u001b[0m\n\u001b[0;32m----> 1\u001b[0;31m \u001b[0mtuned_model\u001b[0m\u001b[0;34m.\u001b[0m\u001b[0mbest_params_\u001b[0m\u001b[0;34m\u001b[0m\u001b[0;34m\u001b[0m\u001b[0m\n\u001b[0m",
      "\u001b[0;31mAttributeError\u001b[0m: 'GridSearchCV' object has no attribute 'best_params_'"
     ]
    }
   ],
   "source": [
    "tuned_model.best_params_"
   ]
  },
  {
   "cell_type": "markdown",
   "id": "6a90cbd2",
   "metadata": {
    "heading_collapsed": true,
    "hidden": true
   },
   "source": [
    "## Test des meilleurs hyperparamètres issus de la fonction Grid_search:"
   ]
  },
  {
   "cell_type": "code",
   "execution_count": 28,
   "id": "aa1bdee1",
   "metadata": {
    "hidden": true
   },
   "outputs": [],
   "source": [
    "classifier = RandomForestClassifier(\n",
    "    n_estimators = 10, \n",
    "    class_weight = \"balanced\", # Utilisation du paramètre \"balanced\" car nos classes sont inégales\n",
    "    criterion = 'gini',  \n",
    "    max_depth = 10, \n",
    "    min_samples_split = 40, \n",
    "    min_samples_leaf = 1, \n",
    "    min_weight_fraction_leaf = 0.0, \n",
    "    max_features = 0.5, \n",
    "    max_leaf_nodes = None, \n",
    "    min_impurity_decrease = 0.0, \n",
    "    min_impurity_split = None, \n",
    "    ccp_alpha = 0.0, \n",
    "    random_state = 42, \n",
    "    bootstrap = True, \n",
    "    oob_score = True, \n",
    "    max_samples = 0.2,\n",
    "    warm_start = False, \n",
    "    n_jobs = -1, \n",
    "    verbose = 0, \n",
    ")"
   ]
  },
  {
   "cell_type": "code",
   "execution_count": 26,
   "id": "df24efe4",
   "metadata": {
    "hidden": true
   },
   "outputs": [
    {
     "name": "stdout",
     "output_type": "stream",
     "text": [
      "Accuracy : 92.80%\n",
      "Recall : 87.65%\n",
      "Precision : 83.17%\n",
      "F1-score : 85.35%\n"
     ]
    }
   ],
   "source": [
    "classifier.fit(x_train, y_train)\n",
    "classifier_metrics(y_train, classifier.predict(x_train))"
   ]
  },
  {
   "cell_type": "code",
   "execution_count": 27,
   "id": "b3945ad4",
   "metadata": {
    "hidden": true
   },
   "outputs": [
    {
     "data": {
      "text/plain": [
       "0.814244441826836"
      ]
     },
     "execution_count": 27,
     "metadata": {},
     "output_type": "execute_result"
    }
   ],
   "source": [
    "cv_score = cross_val_score(classifier, x_train, y_train, cv=5, scoring= 'f1')\n",
    "cv_score.mean()"
   ]
  },
  {
   "cell_type": "markdown",
   "id": "c306f185",
   "metadata": {
    "hidden": true
   },
   "source": [
    "Ce modèle est le meilleur modèle que nous ayons trouvé en faisant des forêts aléatoires avec un score f1 de 0.814 par cross validation."
   ]
  }
 ],
 "metadata": {
  "kernelspec": {
   "display_name": "Python 3",
   "language": "python",
   "name": "python3"
  },
  "language_info": {
   "codemirror_mode": {
    "name": "ipython",
    "version": 3
   },
   "file_extension": ".py",
   "mimetype": "text/x-python",
   "name": "python",
   "nbconvert_exporter": "python",
   "pygments_lexer": "ipython3",
   "version": "3.6.13"
  },
  "toc": {
   "base_numbering": 1,
   "nav_menu": {},
   "number_sections": true,
   "sideBar": true,
   "skip_h1_title": false,
   "title_cell": "Table of Contents",
   "title_sidebar": "Contents",
   "toc_cell": false,
   "toc_position": {},
   "toc_section_display": true,
   "toc_window_display": false
  }
 },
 "nbformat": 4,
 "nbformat_minor": 5
}
