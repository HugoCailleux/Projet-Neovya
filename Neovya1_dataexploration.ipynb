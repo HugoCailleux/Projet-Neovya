{
 "cells": [
  {
   "cell_type": "markdown",
   "metadata": {},
   "source": [
    " Neovya - Data exploration - Sensors & timeseries"
   ]
  },
  {
   "cell_type": "markdown",
   "metadata": {
    "heading_collapsed": true
   },
   "source": [
    "## Imports & chargement des données"
   ]
  },
  {
   "cell_type": "code",
   "execution_count": 108,
   "metadata": {
    "hidden": true
   },
   "outputs": [],
   "source": [
    "import pandas as pd\n",
    "import numpy as np\n",
    "import descartes\n",
    "import geopandas as gpd\n",
    "import matplotlib\n",
    "import matplotlib.pyplot as plt\n",
    "import seaborn as sns\n",
    "import zipfile\n",
    "from shapely.geometry import Point, Polygon\n",
    "import datetime\n",
    "import statsmodels.api as sm \n",
    "\n",
    "%matplotlib inline"
   ]
  },
  {
   "cell_type": "code",
   "execution_count": 61,
   "metadata": {
    "hidden": true
   },
   "outputs": [],
   "source": [
    "df = pd.read_csv('/Users/hugo/neovya/Data/Bordeaux_sensordef.csv', sep=';')\n",
    "df_timeseries = pd.read_csv('/Users/hugo/neovya/Data/Bordeaux_sensortimeseries.csv', sep=';')"
   ]
  },
  {
   "cell_type": "markdown",
   "metadata": {
    "heading_collapsed": true
   },
   "source": [
    "# Exploration du premier jeu de données: df_sensor"
   ]
  },
  {
   "cell_type": "code",
   "execution_count": 3,
   "metadata": {
    "hidden": true
   },
   "outputs": [
    {
     "data": {
      "text/plain": [
       "Index(['sensor', 'source', 'info', 'link', 'position_on_link_[m]', 'lat',\n",
       "       'lon', 'muted'],\n",
       "      dtype='object')"
      ]
     },
     "execution_count": 3,
     "metadata": {},
     "output_type": "execute_result"
    }
   ],
   "source": [
    "#Columns\n",
    "df.columns"
   ]
  },
  {
   "cell_type": "code",
   "execution_count": 4,
   "metadata": {
    "hidden": true
   },
   "outputs": [
    {
     "data": {
      "text/plain": [
       "(133, 8)"
      ]
     },
     "execution_count": 4,
     "metadata": {},
     "output_type": "execute_result"
    }
   ],
   "source": [
    "#Shape\n",
    "df.shape"
   ]
  },
  {
   "cell_type": "code",
   "execution_count": 5,
   "metadata": {
    "hidden": true
   },
   "outputs": [
    {
     "data": {
      "text/plain": [
       "sensor                   object\n",
       "source                   object\n",
       "info                     object\n",
       "link                      int64\n",
       "position_on_link_[m]    float64\n",
       "lat                     float64\n",
       "lon                     float64\n",
       "muted                      bool\n",
       "dtype: object"
      ]
     },
     "execution_count": 5,
     "metadata": {},
     "output_type": "execute_result"
    }
   ],
   "source": [
    "#Types\n",
    "df.dtypes"
   ]
  },
  {
   "cell_type": "code",
   "execution_count": 6,
   "metadata": {
    "hidden": true
   },
   "outputs": [
    {
     "data": {
      "text/html": [
       "<div>\n",
       "<style scoped>\n",
       "    .dataframe tbody tr th:only-of-type {\n",
       "        vertical-align: middle;\n",
       "    }\n",
       "\n",
       "    .dataframe tbody tr th {\n",
       "        vertical-align: top;\n",
       "    }\n",
       "\n",
       "    .dataframe thead th {\n",
       "        text-align: right;\n",
       "    }\n",
       "</style>\n",
       "<table border=\"1\" class=\"dataframe\">\n",
       "  <thead>\n",
       "    <tr style=\"text-align: right;\">\n",
       "      <th></th>\n",
       "      <th>sensor</th>\n",
       "      <th>source</th>\n",
       "      <th>info</th>\n",
       "      <th>link</th>\n",
       "      <th>position_on_link_[m]</th>\n",
       "      <th>lat</th>\n",
       "      <th>lon</th>\n",
       "      <th>muted</th>\n",
       "    </tr>\n",
       "  </thead>\n",
       "  <tbody>\n",
       "    <tr>\n",
       "      <th>0</th>\n",
       "      <td>S_MB333.F_0</td>\n",
       "      <td>DIR Atlantique</td>\n",
       "      <td>ech3 - sens extérieur</td>\n",
       "      <td>364</td>\n",
       "      <td>111.434103</td>\n",
       "      <td>44.879983</td>\n",
       "      <td>-0.525714</td>\n",
       "      <td>True</td>\n",
       "    </tr>\n",
       "    <tr>\n",
       "      <th>1</th>\n",
       "      <td>S_MB333.F_1</td>\n",
       "      <td>DIR Atlantique</td>\n",
       "      <td>ech3 - sens inter</td>\n",
       "      <td>198</td>\n",
       "      <td>60.419032</td>\n",
       "      <td>44.879869</td>\n",
       "      <td>-0.525645</td>\n",
       "      <td>True</td>\n",
       "    </tr>\n",
       "    <tr>\n",
       "      <th>2</th>\n",
       "      <td>S_MB333.F_2</td>\n",
       "      <td>DIR Atlantique</td>\n",
       "      <td>ech3 - sortie extérieur</td>\n",
       "      <td>63</td>\n",
       "      <td>131.449616</td>\n",
       "      <td>44.879930</td>\n",
       "      <td>-0.525983</td>\n",
       "      <td>True</td>\n",
       "    </tr>\n",
       "    <tr>\n",
       "      <th>3</th>\n",
       "      <td>S_MB333.E_0</td>\n",
       "      <td>DIR Atlantique</td>\n",
       "      <td>ech2 - sens exter</td>\n",
       "      <td>57</td>\n",
       "      <td>146.433858</td>\n",
       "      <td>44.884118</td>\n",
       "      <td>-0.519036</td>\n",
       "      <td>True</td>\n",
       "    </tr>\n",
       "    <tr>\n",
       "      <th>4</th>\n",
       "      <td>S_MB333.E_1</td>\n",
       "      <td>DIR Atlantique</td>\n",
       "      <td>ech2 - sens inter</td>\n",
       "      <td>185</td>\n",
       "      <td>272.844830</td>\n",
       "      <td>44.884036</td>\n",
       "      <td>-0.518900</td>\n",
       "      <td>True</td>\n",
       "    </tr>\n",
       "    <tr>\n",
       "      <th>...</th>\n",
       "      <td>...</td>\n",
       "      <td>...</td>\n",
       "      <td>...</td>\n",
       "      <td>...</td>\n",
       "      <td>...</td>\n",
       "      <td>...</td>\n",
       "      <td>...</td>\n",
       "      <td>...</td>\n",
       "    </tr>\n",
       "    <tr>\n",
       "      <th>128</th>\n",
       "      <td>LAPI L22</td>\n",
       "      <td>ALYCE</td>\n",
       "      <td>A10 vers Paris</td>\n",
       "      <td>332</td>\n",
       "      <td>830.775255</td>\n",
       "      <td>44.936122</td>\n",
       "      <td>-0.467200</td>\n",
       "      <td>False</td>\n",
       "    </tr>\n",
       "    <tr>\n",
       "      <th>129</th>\n",
       "      <td>LAPI L31</td>\n",
       "      <td>ALYCE</td>\n",
       "      <td>RN89 vers Bordeaux</td>\n",
       "      <td>350</td>\n",
       "      <td>83.416013</td>\n",
       "      <td>44.869539</td>\n",
       "      <td>-0.467172</td>\n",
       "      <td>False</td>\n",
       "    </tr>\n",
       "    <tr>\n",
       "      <th>130</th>\n",
       "      <td>LAPI L32</td>\n",
       "      <td>ALYCE</td>\n",
       "      <td>RN89 vers Libourne</td>\n",
       "      <td>343</td>\n",
       "      <td>310.321130</td>\n",
       "      <td>44.869129</td>\n",
       "      <td>-0.469238</td>\n",
       "      <td>False</td>\n",
       "    </tr>\n",
       "    <tr>\n",
       "      <th>131</th>\n",
       "      <td>LAPI L41</td>\n",
       "      <td>ALYCE</td>\n",
       "      <td>Rocade vers Nord</td>\n",
       "      <td>319</td>\n",
       "      <td>76.558151</td>\n",
       "      <td>44.815794</td>\n",
       "      <td>-0.520793</td>\n",
       "      <td>False</td>\n",
       "    </tr>\n",
       "    <tr>\n",
       "      <th>132</th>\n",
       "      <td>LAPI L42</td>\n",
       "      <td>ALYCE</td>\n",
       "      <td>Rocade vers sud</td>\n",
       "      <td>377</td>\n",
       "      <td>370.906326</td>\n",
       "      <td>44.815794</td>\n",
       "      <td>-0.520626</td>\n",
       "      <td>False</td>\n",
       "    </tr>\n",
       "  </tbody>\n",
       "</table>\n",
       "<p>133 rows × 8 columns</p>\n",
       "</div>"
      ],
      "text/plain": [
       "          sensor          source                     info  link  \\\n",
       "0    S_MB333.F_0  DIR Atlantique    ech3 - sens extérieur   364   \n",
       "1    S_MB333.F_1  DIR Atlantique        ech3 - sens inter   198   \n",
       "2    S_MB333.F_2  DIR Atlantique  ech3 - sortie extérieur    63   \n",
       "3    S_MB333.E_0  DIR Atlantique        ech2 - sens exter    57   \n",
       "4    S_MB333.E_1  DIR Atlantique        ech2 - sens inter   185   \n",
       "..           ...             ...                      ...   ...   \n",
       "128     LAPI L22           ALYCE           A10 vers Paris   332   \n",
       "129     LAPI L31           ALYCE       RN89 vers Bordeaux   350   \n",
       "130     LAPI L32           ALYCE       RN89 vers Libourne   343   \n",
       "131     LAPI L41           ALYCE         Rocade vers Nord   319   \n",
       "132     LAPI L42           ALYCE          Rocade vers sud   377   \n",
       "\n",
       "     position_on_link_[m]        lat       lon  muted  \n",
       "0              111.434103  44.879983 -0.525714   True  \n",
       "1               60.419032  44.879869 -0.525645   True  \n",
       "2              131.449616  44.879930 -0.525983   True  \n",
       "3              146.433858  44.884118 -0.519036   True  \n",
       "4              272.844830  44.884036 -0.518900   True  \n",
       "..                    ...        ...       ...    ...  \n",
       "128            830.775255  44.936122 -0.467200  False  \n",
       "129             83.416013  44.869539 -0.467172  False  \n",
       "130            310.321130  44.869129 -0.469238  False  \n",
       "131             76.558151  44.815794 -0.520793  False  \n",
       "132            370.906326  44.815794 -0.520626  False  \n",
       "\n",
       "[133 rows x 8 columns]"
      ]
     },
     "execution_count": 6,
     "metadata": {},
     "output_type": "execute_result"
    }
   ],
   "source": [
    "df"
   ]
  },
  {
   "cell_type": "markdown",
   "metadata": {
    "heading_collapsed": true,
    "hidden": true
   },
   "source": [
    "## Etude de la première colonne: sensor\n",
    "\n",
    "Sensor correspond au nom de chaque capteur "
   ]
  },
  {
   "cell_type": "code",
   "execution_count": 7,
   "metadata": {
    "hidden": true
   },
   "outputs": [
    {
     "data": {
      "text/html": [
       "<div>\n",
       "<style scoped>\n",
       "    .dataframe tbody tr th:only-of-type {\n",
       "        vertical-align: middle;\n",
       "    }\n",
       "\n",
       "    .dataframe tbody tr th {\n",
       "        vertical-align: top;\n",
       "    }\n",
       "\n",
       "    .dataframe thead th {\n",
       "        text-align: right;\n",
       "    }\n",
       "</style>\n",
       "<table border=\"1\" class=\"dataframe\">\n",
       "  <thead>\n",
       "    <tr style=\"text-align: right;\">\n",
       "      <th></th>\n",
       "      <th>sensor</th>\n",
       "      <th>source</th>\n",
       "      <th>info</th>\n",
       "      <th>link</th>\n",
       "      <th>position_on_link_[m]</th>\n",
       "      <th>lat</th>\n",
       "      <th>lon</th>\n",
       "      <th>muted</th>\n",
       "    </tr>\n",
       "  </thead>\n",
       "  <tbody>\n",
       "    <tr>\n",
       "      <th>0</th>\n",
       "      <td>S_MB333.F_0</td>\n",
       "      <td>DIR Atlantique</td>\n",
       "      <td>ech3 - sens extérieur</td>\n",
       "      <td>364</td>\n",
       "      <td>111.434103</td>\n",
       "      <td>44.879983</td>\n",
       "      <td>-0.525714</td>\n",
       "      <td>True</td>\n",
       "    </tr>\n",
       "    <tr>\n",
       "      <th>1</th>\n",
       "      <td>S_MB333.F_1</td>\n",
       "      <td>DIR Atlantique</td>\n",
       "      <td>ech3 - sens inter</td>\n",
       "      <td>198</td>\n",
       "      <td>60.419032</td>\n",
       "      <td>44.879869</td>\n",
       "      <td>-0.525645</td>\n",
       "      <td>True</td>\n",
       "    </tr>\n",
       "    <tr>\n",
       "      <th>2</th>\n",
       "      <td>S_MB333.F_2</td>\n",
       "      <td>DIR Atlantique</td>\n",
       "      <td>ech3 - sortie extérieur</td>\n",
       "      <td>63</td>\n",
       "      <td>131.449616</td>\n",
       "      <td>44.879930</td>\n",
       "      <td>-0.525983</td>\n",
       "      <td>True</td>\n",
       "    </tr>\n",
       "    <tr>\n",
       "      <th>3</th>\n",
       "      <td>S_MB333.E_0</td>\n",
       "      <td>DIR Atlantique</td>\n",
       "      <td>ech2 - sens exter</td>\n",
       "      <td>57</td>\n",
       "      <td>146.433858</td>\n",
       "      <td>44.884118</td>\n",
       "      <td>-0.519036</td>\n",
       "      <td>True</td>\n",
       "    </tr>\n",
       "    <tr>\n",
       "      <th>4</th>\n",
       "      <td>S_MB333.E_1</td>\n",
       "      <td>DIR Atlantique</td>\n",
       "      <td>ech2 - sens inter</td>\n",
       "      <td>185</td>\n",
       "      <td>272.844830</td>\n",
       "      <td>44.884036</td>\n",
       "      <td>-0.518900</td>\n",
       "      <td>True</td>\n",
       "    </tr>\n",
       "    <tr>\n",
       "      <th>...</th>\n",
       "      <td>...</td>\n",
       "      <td>...</td>\n",
       "      <td>...</td>\n",
       "      <td>...</td>\n",
       "      <td>...</td>\n",
       "      <td>...</td>\n",
       "      <td>...</td>\n",
       "      <td>...</td>\n",
       "    </tr>\n",
       "    <tr>\n",
       "      <th>128</th>\n",
       "      <td>LAPI L22</td>\n",
       "      <td>ALYCE</td>\n",
       "      <td>A10 vers Paris</td>\n",
       "      <td>332</td>\n",
       "      <td>830.775255</td>\n",
       "      <td>44.936122</td>\n",
       "      <td>-0.467200</td>\n",
       "      <td>False</td>\n",
       "    </tr>\n",
       "    <tr>\n",
       "      <th>129</th>\n",
       "      <td>LAPI L31</td>\n",
       "      <td>ALYCE</td>\n",
       "      <td>RN89 vers Bordeaux</td>\n",
       "      <td>350</td>\n",
       "      <td>83.416013</td>\n",
       "      <td>44.869539</td>\n",
       "      <td>-0.467172</td>\n",
       "      <td>False</td>\n",
       "    </tr>\n",
       "    <tr>\n",
       "      <th>130</th>\n",
       "      <td>LAPI L32</td>\n",
       "      <td>ALYCE</td>\n",
       "      <td>RN89 vers Libourne</td>\n",
       "      <td>343</td>\n",
       "      <td>310.321130</td>\n",
       "      <td>44.869129</td>\n",
       "      <td>-0.469238</td>\n",
       "      <td>False</td>\n",
       "    </tr>\n",
       "    <tr>\n",
       "      <th>131</th>\n",
       "      <td>LAPI L41</td>\n",
       "      <td>ALYCE</td>\n",
       "      <td>Rocade vers Nord</td>\n",
       "      <td>319</td>\n",
       "      <td>76.558151</td>\n",
       "      <td>44.815794</td>\n",
       "      <td>-0.520793</td>\n",
       "      <td>False</td>\n",
       "    </tr>\n",
       "    <tr>\n",
       "      <th>132</th>\n",
       "      <td>LAPI L42</td>\n",
       "      <td>ALYCE</td>\n",
       "      <td>Rocade vers sud</td>\n",
       "      <td>377</td>\n",
       "      <td>370.906326</td>\n",
       "      <td>44.815794</td>\n",
       "      <td>-0.520626</td>\n",
       "      <td>False</td>\n",
       "    </tr>\n",
       "  </tbody>\n",
       "</table>\n",
       "<p>133 rows × 8 columns</p>\n",
       "</div>"
      ],
      "text/plain": [
       "          sensor          source                     info  link  \\\n",
       "0    S_MB333.F_0  DIR Atlantique    ech3 - sens extérieur   364   \n",
       "1    S_MB333.F_1  DIR Atlantique        ech3 - sens inter   198   \n",
       "2    S_MB333.F_2  DIR Atlantique  ech3 - sortie extérieur    63   \n",
       "3    S_MB333.E_0  DIR Atlantique        ech2 - sens exter    57   \n",
       "4    S_MB333.E_1  DIR Atlantique        ech2 - sens inter   185   \n",
       "..           ...             ...                      ...   ...   \n",
       "128     LAPI L22           ALYCE           A10 vers Paris   332   \n",
       "129     LAPI L31           ALYCE       RN89 vers Bordeaux   350   \n",
       "130     LAPI L32           ALYCE       RN89 vers Libourne   343   \n",
       "131     LAPI L41           ALYCE         Rocade vers Nord   319   \n",
       "132     LAPI L42           ALYCE          Rocade vers sud   377   \n",
       "\n",
       "     position_on_link_[m]        lat       lon  muted  \n",
       "0              111.434103  44.879983 -0.525714   True  \n",
       "1               60.419032  44.879869 -0.525645   True  \n",
       "2              131.449616  44.879930 -0.525983   True  \n",
       "3              146.433858  44.884118 -0.519036   True  \n",
       "4              272.844830  44.884036 -0.518900   True  \n",
       "..                    ...        ...       ...    ...  \n",
       "128            830.775255  44.936122 -0.467200  False  \n",
       "129             83.416013  44.869539 -0.467172  False  \n",
       "130            310.321130  44.869129 -0.469238  False  \n",
       "131             76.558151  44.815794 -0.520793  False  \n",
       "132            370.906326  44.815794 -0.520626  False  \n",
       "\n",
       "[133 rows x 8 columns]"
      ]
     },
     "execution_count": 7,
     "metadata": {},
     "output_type": "execute_result"
    }
   ],
   "source": [
    "df"
   ]
  },
  {
   "cell_type": "code",
   "execution_count": 8,
   "metadata": {
    "hidden": true
   },
   "outputs": [],
   "source": [
    "#Fonction pour afficher tous les éléments\n",
    "def display_all(df):\n",
    "    with pd.option_context(\"display.max_rows\", 1000, \"display.max_columns\", 1000): \n",
    "        display(df)"
   ]
  },
  {
   "cell_type": "code",
   "execution_count": 9,
   "metadata": {
    "hidden": true
   },
   "outputs": [
    {
     "data": {
      "text/plain": [
       "0      S_MB333.F_0\n",
       "1      S_MB333.F_1\n",
       "2      S_MB333.F_2\n",
       "3      S_MB333.E_0\n",
       "4      S_MB333.E_1\n",
       "5      S_MB333.E_2\n",
       "6      S_MB333.E_3\n",
       "7      S_MB333.E_4\n",
       "8      S_MB333.E_5\n",
       "9      S_MB333.A_0\n",
       "10     S_MB333.A_1\n",
       "11     S_MB333.A_2\n",
       "12     S_MB333.A_3\n",
       "13     S_MB333.A_4\n",
       "14     S_MBG33.n_0\n",
       "15     S_MBG33.n_1\n",
       "16     S_MB333.e_0\n",
       "17     S_MB333.e_1\n",
       "18     S_MB333.e_2\n",
       "19     S_MB333.e_4\n",
       "20     S_MB333.e_5\n",
       "21     S_MB333.e_6\n",
       "22     S_MB333.e_8\n",
       "23     S_MB333.e_9\n",
       "24     S_MB333.G_0\n",
       "25     S_MB333.G_1\n",
       "26     S_MB333.G_2\n",
       "27     S_MBG33.V_1\n",
       "28     S_MBG33.V_0\n",
       "29     S_MBG33.T_1\n",
       "30     S_MBG33.T_0\n",
       "31     S_MBG33.R_1\n",
       "32     S_MBG33.R_0\n",
       "33     S_MB333.M_0\n",
       "34     S_MB333.M_1\n",
       "35     S_MBG33.N_0\n",
       "36     S_MBG33.N_1\n",
       "37     S_MB233.V_1\n",
       "38     S_MB233.V_0\n",
       "39     S_MB333.D_1\n",
       "40     S_MB333.D_0\n",
       "41     S_MBG33.M_0\n",
       "42     S_MBG33.M_1\n",
       "43     S_MBG33.M_2\n",
       "44     S_MBG33.M_3\n",
       "45     S_MBG33.M_4\n",
       "46     S_MBG33.M_5\n",
       "47     S_MB333.x_3\n",
       "48     S_MB333.x_0\n",
       "49     S_MB333.x_2\n",
       "50     S_MB333.x_1\n",
       "51       5442.21 2\n",
       "52       5442.20 2\n",
       "53       5442.00 2\n",
       "54       5342.10 1\n",
       "55       5342.00 1\n",
       "56       5342.11 1\n",
       "57       5642.00 1\n",
       "58       5642.00 2\n",
       "59       5042.00 1\n",
       "60       5042.00 2\n",
       "61       5742.00 1\n",
       "62       5742.00 2\n",
       "63       5042.13 1\n",
       "64       5043.21 2\n",
       "65       5043.15 1\n",
       "66       5043.20 2\n",
       "67       5042.14 2\n",
       "68       5143.00 2\n",
       "69       5143.00 1\n",
       "70       5143.11 1\n",
       "71       5143.12 2\n",
       "72       5143.01 1\n",
       "73       5143.01 2\n",
       "74       5143.13 1\n",
       "75       5143.10 2\n",
       "76       5043.00 1\n",
       "77       5043.00 2\n",
       "78       5044.11 1\n",
       "79       5044.13 1\n",
       "80       5044.15 1\n",
       "81       5044.01 1\n",
       "82       5044.01 2\n",
       "83       5044.12 2\n",
       "84       5044.10 2\n",
       "85       5044.14 2\n",
       "86       5046.01 1\n",
       "87       5046.01 2\n",
       "88       5146.14 2\n",
       "89       5146.15 1\n",
       "90       5146.13 1\n",
       "91       5146.11 1\n",
       "92       5146.10 2\n",
       "93       5146.12 2\n",
       "94       5021.01 1\n",
       "95       5142.00 2\n",
       "96       5020.11 1\n",
       "97       5020.00 1\n",
       "98       5020.00 2\n",
       "99       5020.12 2\n",
       "100      5020.13 1\n",
       "101      5020.10 2\n",
       "102      5121.13 1\n",
       "103      5121.00 1\n",
       "104      5121.11 1\n",
       "105      5121.01 2\n",
       "106      5221.00 1\n",
       "107      5221.00 2\n",
       "108      5221.22 2\n",
       "109      5221.24 2\n",
       "110      5221.26 2\n",
       "111      5321.11 1\n",
       "112      5321.13 1\n",
       "113      5321.00 1\n",
       "114      5321.00 2\n",
       "115      5321.12 2\n",
       "116      5321.14 2\n",
       "117      5321.15 1\n",
       "118      5421.10 2\n",
       "119      5421.00 2\n",
       "120      5421.00 1\n",
       "121      5521.00 1\n",
       "122      5521.00 2\n",
       "123        LAPI L1\n",
       "124        LAPI L2\n",
       "125       LAPI L11\n",
       "126       LAPI L12\n",
       "127       LAPI L21\n",
       "128       LAPI L22\n",
       "129       LAPI L31\n",
       "130       LAPI L32\n",
       "131       LAPI L41\n",
       "132       LAPI L42\n",
       "Name: sensor, dtype: object"
      ]
     },
     "metadata": {},
     "output_type": "display_data"
    }
   ],
   "source": [
    "#Etude de l'ensemble des capteurs:\n",
    "display_all(df['sensor'])"
   ]
  },
  {
   "cell_type": "code",
   "execution_count": 10,
   "metadata": {
    "hidden": true
   },
   "outputs": [
    {
     "data": {
      "text/plain": [
       "133"
      ]
     },
     "execution_count": 10,
     "metadata": {},
     "output_type": "execute_result"
    }
   ],
   "source": [
    "len(df.sensor.value_counts())"
   ]
  },
  {
   "cell_type": "markdown",
   "metadata": {
    "hidden": true
   },
   "source": [
    "Interpretation: \n",
    "3 differents types de noms de capteurs: S_MB..., 5421..., LAPI L...\n",
    "A première vue, la colonne ne semble pas comporter d'erreur\n",
    " "
   ]
  },
  {
   "cell_type": "markdown",
   "metadata": {
    "heading_collapsed": true,
    "hidden": true
   },
   "source": [
    "## Etude de la seconde colonne: source"
   ]
  },
  {
   "cell_type": "markdown",
   "metadata": {
    "hidden": true
   },
   "source": [
    "\"Source\" correspond au nom de l'entreprise ayant réalisé les prises de mesures"
   ]
  },
  {
   "cell_type": "code",
   "execution_count": 11,
   "metadata": {
    "hidden": true
   },
   "outputs": [
    {
     "data": {
      "text/plain": [
       "DIR Atlantique    123\n",
       "ALYCE              10\n",
       "Name: source, dtype: int64"
      ]
     },
     "execution_count": 11,
     "metadata": {},
     "output_type": "execute_result"
    }
   ],
   "source": [
    "#Observation des valeurs présentes dans la colonne \"source\"\n",
    "df['source'].value_counts()"
   ]
  },
  {
   "cell_type": "markdown",
   "metadata": {
    "hidden": true
   },
   "source": [
    "Interprétation: Uniquement deux sources différentes "
   ]
  },
  {
   "cell_type": "markdown",
   "metadata": {
    "heading_collapsed": true,
    "hidden": true
   },
   "source": [
    "## Etude de la troisième colonne: info \n",
    "\n"
   ]
  },
  {
   "cell_type": "markdown",
   "metadata": {
    "hidden": true
   },
   "source": [
    "\"Info\" correspond à un champ d'information, libre, qui n'est pas utile pour nous. L’information contenu dépend de qui l’a rempli."
   ]
  },
  {
   "cell_type": "code",
   "execution_count": 12,
   "metadata": {
    "hidden": true
   },
   "outputs": [
    {
     "data": {
      "text/plain": [
       "0        ech3 - sens extérieur\n",
       "1            ech3 - sens inter\n",
       "2      ech3 - sortie extérieur\n",
       "3            ech2 - sens exter\n",
       "4            ech2 - sens inter\n",
       "                ...           \n",
       "128             A10 vers Paris\n",
       "129         RN89 vers Bordeaux\n",
       "130         RN89 vers Libourne\n",
       "131           Rocade vers Nord\n",
       "132            Rocade vers sud\n",
       "Name: info, Length: 133, dtype: object"
      ]
     },
     "execution_count": 12,
     "metadata": {},
     "output_type": "execute_result"
    }
   ],
   "source": [
    "df['info']"
   ]
  },
  {
   "cell_type": "markdown",
   "metadata": {
    "heading_collapsed": true,
    "hidden": true
   },
   "source": [
    "## Etude de la quatrième colonne: link"
   ]
  },
  {
   "cell_type": "markdown",
   "metadata": {
    "hidden": true
   },
   "source": [
    "\"Link\" correspond à une information qui n'est pas recceuillie sur le terrain. Dans l'entreprise Neovya, lorsque les données sont chargées dans leur application 'Hubsim', elles sont automatiquement rattachées à un réseau routier composé de lien \"link\" numéroté de 1 à n. Il s'agit ici du numéro du lien."
   ]
  },
  {
   "cell_type": "code",
   "execution_count": 13,
   "metadata": {
    "hidden": true
   },
   "outputs": [
    {
     "data": {
      "text/plain": [
       "317    5\n",
       "379    5\n",
       "353    3\n",
       "307    3\n",
       "180    3\n",
       "      ..\n",
       "237    1\n",
       "350    1\n",
       "343    1\n",
       "332    1\n",
       "259    1\n",
       "Name: link, Length: 81, dtype: int64"
      ]
     },
     "execution_count": 13,
     "metadata": {},
     "output_type": "execute_result"
    }
   ],
   "source": [
    "df.link.value_counts()"
   ]
  },
  {
   "cell_type": "markdown",
   "metadata": {
    "heading_collapsed": true,
    "hidden": true
   },
   "source": [
    "## Etude de la cinquième colonne: position_on_link"
   ]
  },
  {
   "cell_type": "markdown",
   "metadata": {
    "hidden": true
   },
   "source": [
    "\"position_on_link\" correspond à la position du lien (ex : 50m signifie que le capteur est situé à 50 m à compter du début du lien)"
   ]
  },
  {
   "cell_type": "code",
   "execution_count": 14,
   "metadata": {
    "hidden": true
   },
   "outputs": [
    {
     "data": {
      "text/plain": [
       "77.436905      1\n",
       "37.599506      1\n",
       "409.331724     1\n",
       "211.252034     1\n",
       "1726.175728    1\n",
       "              ..\n",
       "154.912893     1\n",
       "66.436579      1\n",
       "134.303657     1\n",
       "584.494005     1\n",
       "346.455230     1\n",
       "Name: position_on_link_[m], Length: 133, dtype: int64"
      ]
     },
     "execution_count": 14,
     "metadata": {},
     "output_type": "execute_result"
    }
   ],
   "source": [
    "df['position_on_link_[m]'].value_counts()"
   ]
  },
  {
   "cell_type": "markdown",
   "metadata": {
    "heading_collapsed": true,
    "hidden": true
   },
   "source": [
    "## Etude des colonnes cinq & six: \"lat\" & \"lon\""
   ]
  },
  {
   "cell_type": "markdown",
   "metadata": {
    "hidden": true
   },
   "source": [
    "\"lat\" corresond à la lattitude et \"lon\" correspond à la longitude"
   ]
  },
  {
   "cell_type": "code",
   "execution_count": 15,
   "metadata": {
    "hidden": true
   },
   "outputs": [
    {
     "data": {
      "text/plain": [
       "0      44.879983\n",
       "1      44.879869\n",
       "2      44.879930\n",
       "3      44.884118\n",
       "4      44.884036\n",
       "         ...    \n",
       "128    44.936122\n",
       "129    44.869539\n",
       "130    44.869129\n",
       "131    44.815794\n",
       "132    44.815794\n",
       "Name: lat, Length: 133, dtype: float64"
      ]
     },
     "execution_count": 15,
     "metadata": {},
     "output_type": "execute_result"
    }
   ],
   "source": [
    "df.lat"
   ]
  },
  {
   "cell_type": "markdown",
   "metadata": {
    "hidden": true
   },
   "source": [
    "Les valeurs semblent justes, elles sont toutes regroupées autour de 44.8"
   ]
  },
  {
   "cell_type": "code",
   "execution_count": 16,
   "metadata": {
    "hidden": true
   },
   "outputs": [
    {
     "data": {
      "text/plain": [
       "0     -0.525714\n",
       "1     -0.525645\n",
       "2     -0.525983\n",
       "3     -0.519036\n",
       "4     -0.518900\n",
       "         ...   \n",
       "128   -0.467200\n",
       "129   -0.467172\n",
       "130   -0.469238\n",
       "131   -0.520793\n",
       "132   -0.520626\n",
       "Name: lon, Length: 133, dtype: float64"
      ]
     },
     "execution_count": 16,
     "metadata": {},
     "output_type": "execute_result"
    }
   ],
   "source": [
    "(df.lon)"
   ]
  },
  {
   "cell_type": "markdown",
   "metadata": {
    "hidden": true
   },
   "source": [
    "Les valeurs semblent également justes"
   ]
  },
  {
   "cell_type": "markdown",
   "metadata": {
    "heading_collapsed": true,
    "hidden": true
   },
   "source": [
    "## Etude de la septième colonne: \"muted\""
   ]
  },
  {
   "cell_type": "code",
   "execution_count": 17,
   "metadata": {
    "hidden": true
   },
   "outputs": [
    {
     "data": {
      "text/plain": [
       "0       True\n",
       "1       True\n",
       "2       True\n",
       "3       True\n",
       "4       True\n",
       "       ...  \n",
       "128    False\n",
       "129    False\n",
       "130    False\n",
       "131    False\n",
       "132    False\n",
       "Name: muted, Length: 133, dtype: bool"
      ]
     },
     "execution_count": 17,
     "metadata": {},
     "output_type": "execute_result"
    }
   ],
   "source": [
    "df.muted"
   ]
  },
  {
   "cell_type": "markdown",
   "metadata": {
    "hidden": true
   },
   "source": [
    "Nous n'avons pas d'information sur le contenu de cette colonne"
   ]
  },
  {
   "cell_type": "markdown",
   "metadata": {
    "heading_collapsed": true
   },
   "source": [
    "# Exploration  du second jeu de données: timeseries"
   ]
  },
  {
   "cell_type": "code",
   "execution_count": 18,
   "metadata": {
    "hidden": true
   },
   "outputs": [
    {
     "data": {
      "text/plain": [
       "(498311, 11)"
      ]
     },
     "execution_count": 18,
     "metadata": {},
     "output_type": "execute_result"
    }
   ],
   "source": [
    "df_timeseries.shape"
   ]
  },
  {
   "cell_type": "code",
   "execution_count": 19,
   "metadata": {
    "hidden": true
   },
   "outputs": [
    {
     "data": {
      "text/plain": [
       "Index(['day', 'sensor', 'time_[s]', 'speed_[km/h]', 'occupancy_[%]', 'TV/h',\n",
       "       'PL/h', 'VL/h', 'speed_per_lane', 'occupancy_per_lane',\n",
       "       'flow_per_lane_[veh/h]'],\n",
       "      dtype='object')"
      ]
     },
     "execution_count": 19,
     "metadata": {},
     "output_type": "execute_result"
    }
   ],
   "source": [
    "df_timeseries.columns"
   ]
  },
  {
   "cell_type": "code",
   "execution_count": 20,
   "metadata": {
    "hidden": true
   },
   "outputs": [
    {
     "data": {
      "text/plain": [
       "day                       object\n",
       "sensor                    object\n",
       "time_[s]                   int64\n",
       "speed_[km/h]             float64\n",
       "occupancy_[%]            float64\n",
       "TV/h                     float64\n",
       "PL/h                     float64\n",
       "VL/h                     float64\n",
       "speed_per_lane            object\n",
       "occupancy_per_lane        object\n",
       "flow_per_lane_[veh/h]     object\n",
       "dtype: object"
      ]
     },
     "execution_count": 20,
     "metadata": {},
     "output_type": "execute_result"
    }
   ],
   "source": [
    "df_timeseries.dtypes"
   ]
  },
  {
   "cell_type": "code",
   "execution_count": 21,
   "metadata": {
    "hidden": true
   },
   "outputs": [
    {
     "data": {
      "text/html": [
       "<div>\n",
       "<style scoped>\n",
       "    .dataframe tbody tr th:only-of-type {\n",
       "        vertical-align: middle;\n",
       "    }\n",
       "\n",
       "    .dataframe tbody tr th {\n",
       "        vertical-align: top;\n",
       "    }\n",
       "\n",
       "    .dataframe thead th {\n",
       "        text-align: right;\n",
       "    }\n",
       "</style>\n",
       "<table border=\"1\" class=\"dataframe\">\n",
       "  <thead>\n",
       "    <tr style=\"text-align: right;\">\n",
       "      <th></th>\n",
       "      <th>day</th>\n",
       "      <th>sensor</th>\n",
       "      <th>time_[s]</th>\n",
       "      <th>speed_[km/h]</th>\n",
       "      <th>occupancy_[%]</th>\n",
       "      <th>TV/h</th>\n",
       "      <th>PL/h</th>\n",
       "      <th>VL/h</th>\n",
       "      <th>speed_per_lane</th>\n",
       "      <th>occupancy_per_lane</th>\n",
       "      <th>flow_per_lane_[veh/h]</th>\n",
       "    </tr>\n",
       "  </thead>\n",
       "  <tbody>\n",
       "    <tr>\n",
       "      <th>0</th>\n",
       "      <td>01/09/2019</td>\n",
       "      <td>S_MB333.F_0</td>\n",
       "      <td>3600</td>\n",
       "      <td>NaN</td>\n",
       "      <td>NaN</td>\n",
       "      <td>NaN</td>\n",
       "      <td>11.0</td>\n",
       "      <td>959.0</td>\n",
       "      <td>[]</td>\n",
       "      <td>[]</td>\n",
       "      <td>[]</td>\n",
       "    </tr>\n",
       "    <tr>\n",
       "      <th>1</th>\n",
       "      <td>01/09/2019</td>\n",
       "      <td>S_MB333.F_0</td>\n",
       "      <td>7200</td>\n",
       "      <td>NaN</td>\n",
       "      <td>NaN</td>\n",
       "      <td>NaN</td>\n",
       "      <td>8.0</td>\n",
       "      <td>804.0</td>\n",
       "      <td>[]</td>\n",
       "      <td>[]</td>\n",
       "      <td>[]</td>\n",
       "    </tr>\n",
       "    <tr>\n",
       "      <th>2</th>\n",
       "      <td>01/09/2019</td>\n",
       "      <td>S_MB333.F_0</td>\n",
       "      <td>10800</td>\n",
       "      <td>NaN</td>\n",
       "      <td>NaN</td>\n",
       "      <td>NaN</td>\n",
       "      <td>7.0</td>\n",
       "      <td>509.0</td>\n",
       "      <td>[]</td>\n",
       "      <td>[]</td>\n",
       "      <td>[]</td>\n",
       "    </tr>\n",
       "    <tr>\n",
       "      <th>3</th>\n",
       "      <td>01/09/2019</td>\n",
       "      <td>S_MB333.F_0</td>\n",
       "      <td>14400</td>\n",
       "      <td>NaN</td>\n",
       "      <td>NaN</td>\n",
       "      <td>NaN</td>\n",
       "      <td>6.0</td>\n",
       "      <td>284.0</td>\n",
       "      <td>[]</td>\n",
       "      <td>[]</td>\n",
       "      <td>[]</td>\n",
       "    </tr>\n",
       "    <tr>\n",
       "      <th>4</th>\n",
       "      <td>01/09/2019</td>\n",
       "      <td>S_MB333.F_0</td>\n",
       "      <td>18000</td>\n",
       "      <td>NaN</td>\n",
       "      <td>NaN</td>\n",
       "      <td>NaN</td>\n",
       "      <td>12.0</td>\n",
       "      <td>294.0</td>\n",
       "      <td>[]</td>\n",
       "      <td>[]</td>\n",
       "      <td>[]</td>\n",
       "    </tr>\n",
       "    <tr>\n",
       "      <th>...</th>\n",
       "      <td>...</td>\n",
       "      <td>...</td>\n",
       "      <td>...</td>\n",
       "      <td>...</td>\n",
       "      <td>...</td>\n",
       "      <td>...</td>\n",
       "      <td>...</td>\n",
       "      <td>...</td>\n",
       "      <td>...</td>\n",
       "      <td>...</td>\n",
       "      <td>...</td>\n",
       "    </tr>\n",
       "    <tr>\n",
       "      <th>498306</th>\n",
       "      <td>20/10/2019</td>\n",
       "      <td>LAPI L42</td>\n",
       "      <td>84600</td>\n",
       "      <td>88.0</td>\n",
       "      <td>NaN</td>\n",
       "      <td>NaN</td>\n",
       "      <td>110.0</td>\n",
       "      <td>410.0</td>\n",
       "      <td>[]</td>\n",
       "      <td>[]</td>\n",
       "      <td>[]</td>\n",
       "    </tr>\n",
       "    <tr>\n",
       "      <th>498307</th>\n",
       "      <td>20/10/2019</td>\n",
       "      <td>LAPI L42</td>\n",
       "      <td>84960</td>\n",
       "      <td>85.0</td>\n",
       "      <td>NaN</td>\n",
       "      <td>NaN</td>\n",
       "      <td>140.0</td>\n",
       "      <td>550.0</td>\n",
       "      <td>[]</td>\n",
       "      <td>[]</td>\n",
       "      <td>[]</td>\n",
       "    </tr>\n",
       "    <tr>\n",
       "      <th>498308</th>\n",
       "      <td>20/10/2019</td>\n",
       "      <td>LAPI L42</td>\n",
       "      <td>85320</td>\n",
       "      <td>90.0</td>\n",
       "      <td>NaN</td>\n",
       "      <td>NaN</td>\n",
       "      <td>120.0</td>\n",
       "      <td>470.0</td>\n",
       "      <td>[]</td>\n",
       "      <td>[]</td>\n",
       "      <td>[]</td>\n",
       "    </tr>\n",
       "    <tr>\n",
       "      <th>498309</th>\n",
       "      <td>20/10/2019</td>\n",
       "      <td>LAPI L42</td>\n",
       "      <td>85680</td>\n",
       "      <td>86.0</td>\n",
       "      <td>NaN</td>\n",
       "      <td>NaN</td>\n",
       "      <td>100.0</td>\n",
       "      <td>410.0</td>\n",
       "      <td>[]</td>\n",
       "      <td>[]</td>\n",
       "      <td>[]</td>\n",
       "    </tr>\n",
       "    <tr>\n",
       "      <th>498310</th>\n",
       "      <td>20/10/2019</td>\n",
       "      <td>LAPI L42</td>\n",
       "      <td>86040</td>\n",
       "      <td>87.0</td>\n",
       "      <td>NaN</td>\n",
       "      <td>NaN</td>\n",
       "      <td>130.0</td>\n",
       "      <td>520.0</td>\n",
       "      <td>[]</td>\n",
       "      <td>[]</td>\n",
       "      <td>[]</td>\n",
       "    </tr>\n",
       "  </tbody>\n",
       "</table>\n",
       "<p>498311 rows × 11 columns</p>\n",
       "</div>"
      ],
      "text/plain": [
       "               day       sensor  time_[s]  speed_[km/h]  occupancy_[%]  TV/h  \\\n",
       "0       01/09/2019  S_MB333.F_0      3600           NaN            NaN   NaN   \n",
       "1       01/09/2019  S_MB333.F_0      7200           NaN            NaN   NaN   \n",
       "2       01/09/2019  S_MB333.F_0     10800           NaN            NaN   NaN   \n",
       "3       01/09/2019  S_MB333.F_0     14400           NaN            NaN   NaN   \n",
       "4       01/09/2019  S_MB333.F_0     18000           NaN            NaN   NaN   \n",
       "...            ...          ...       ...           ...            ...   ...   \n",
       "498306  20/10/2019     LAPI L42     84600          88.0            NaN   NaN   \n",
       "498307  20/10/2019     LAPI L42     84960          85.0            NaN   NaN   \n",
       "498308  20/10/2019     LAPI L42     85320          90.0            NaN   NaN   \n",
       "498309  20/10/2019     LAPI L42     85680          86.0            NaN   NaN   \n",
       "498310  20/10/2019     LAPI L42     86040          87.0            NaN   NaN   \n",
       "\n",
       "         PL/h   VL/h speed_per_lane occupancy_per_lane flow_per_lane_[veh/h]  \n",
       "0        11.0  959.0             []                 []                    []  \n",
       "1         8.0  804.0             []                 []                    []  \n",
       "2         7.0  509.0             []                 []                    []  \n",
       "3         6.0  284.0             []                 []                    []  \n",
       "4        12.0  294.0             []                 []                    []  \n",
       "...       ...    ...            ...                ...                   ...  \n",
       "498306  110.0  410.0             []                 []                    []  \n",
       "498307  140.0  550.0             []                 []                    []  \n",
       "498308  120.0  470.0             []                 []                    []  \n",
       "498309  100.0  410.0             []                 []                    []  \n",
       "498310  130.0  520.0             []                 []                    []  \n",
       "\n",
       "[498311 rows x 11 columns]"
      ]
     },
     "execution_count": 21,
     "metadata": {},
     "output_type": "execute_result"
    }
   ],
   "source": [
    "df_timeseries"
   ]
  },
  {
   "cell_type": "code",
   "execution_count": 22,
   "metadata": {
    "hidden": true
   },
   "outputs": [
    {
     "data": {
      "text/plain": [
       "day                           0\n",
       "sensor                        0\n",
       "time_[s]                      0\n",
       "speed_[km/h]             190333\n",
       "occupancy_[%]            498311\n",
       "TV/h                     175801\n",
       "PL/h                     356081\n",
       "VL/h                     356081\n",
       "speed_per_lane                0\n",
       "occupancy_per_lane            0\n",
       "flow_per_lane_[veh/h]         0\n",
       "dtype: int64"
      ]
     },
     "execution_count": 22,
     "metadata": {},
     "output_type": "execute_result"
    }
   ],
   "source": [
    "df_timeseries.isnull().sum()"
   ]
  },
  {
   "cell_type": "markdown",
   "metadata": {
    "heading_collapsed": true,
    "hidden": true
   },
   "source": [
    "## Etude de la première colonne: day\n",
    "\n",
    "Day correspond au jour où la mesure a été prise"
   ]
  },
  {
   "cell_type": "code",
   "execution_count": 23,
   "metadata": {
    "hidden": true
   },
   "outputs": [
    {
     "data": {
      "text/plain": [
       "0         01/09/2019\n",
       "1         01/09/2019\n",
       "2         01/09/2019\n",
       "3         01/09/2019\n",
       "4         01/09/2019\n",
       "             ...    \n",
       "498306    20/10/2019\n",
       "498307    20/10/2019\n",
       "498308    20/10/2019\n",
       "498309    20/10/2019\n",
       "498310    20/10/2019\n",
       "Name: day, Length: 498311, dtype: object"
      ]
     },
     "execution_count": 23,
     "metadata": {},
     "output_type": "execute_result"
    }
   ],
   "source": [
    "df_timeseries.day"
   ]
  },
  {
   "cell_type": "code",
   "execution_count": 24,
   "metadata": {
    "hidden": true
   },
   "outputs": [
    {
     "data": {
      "text/plain": [
       "13/10/2019    16584\n",
       "16/10/2019    16584\n",
       "08/10/2019    16512\n",
       "06/10/2019    16512\n",
       "14/10/2019    16344\n",
       "              ...  \n",
       "12/09/2018       96\n",
       "08/10/2018       96\n",
       "10/09/2018       92\n",
       "30/10/2019       50\n",
       "22/10/2018        4\n",
       "Name: day, Length: 103, dtype: int64"
      ]
     },
     "execution_count": 24,
     "metadata": {},
     "output_type": "execute_result"
    }
   ],
   "source": [
    "df_timeseries.day.value_counts()"
   ]
  },
  {
   "cell_type": "code",
   "execution_count": 25,
   "metadata": {
    "hidden": true
   },
   "outputs": [
    {
     "data": {
      "text/plain": [
       "13/10/2019    16584\n",
       "16/10/2019    16584\n",
       "08/10/2019    16512\n",
       "06/10/2019    16512\n",
       "14/10/2019    16344\n",
       "18/10/2019    16344\n",
       "11/10/2019    16344\n",
       "15/10/2019    16344\n",
       "17/10/2019    16344\n",
       "12/10/2019    16344\n",
       "10/10/2019    16341\n",
       "09/10/2019    16272\n",
       "03/10/2019    16272\n",
       "07/10/2019    16272\n",
       "05/10/2019    16272\n",
       "23/09/2019    16272\n",
       "30/09/2019    16272\n",
       "02/10/2019    16272\n",
       "24/09/2019    16272\n",
       "04/10/2019    16032\n",
       "27/09/2019    16032\n",
       "26/09/2019    16032\n",
       "29/09/2019    16032\n",
       "28/09/2019    16032\n",
       "01/10/2019    16032\n",
       "25/09/2019    16032\n",
       "20/10/2019    15144\n",
       "19/10/2019    14904\n",
       "22/09/2019     3552\n",
       "21/09/2019     3552\n",
       "27/10/2019     1224\n",
       "28/10/2019     1224\n",
       "21/10/2019     1224\n",
       "24/10/2019     1224\n",
       "25/10/2019     1224\n",
       "29/10/2019     1224\n",
       "23/10/2019     1224\n",
       "26/10/2019     1224\n",
       "22/10/2019     1224\n",
       "01/09/2019     1173\n",
       "02/09/2019     1155\n",
       "05/09/2019     1152\n",
       "04/09/2019     1152\n",
       "18/09/2019     1152\n",
       "20/09/2019     1152\n",
       "11/09/2019     1152\n",
       "15/09/2019     1152\n",
       "12/09/2019     1152\n",
       "13/09/2019     1152\n",
       "06/09/2019     1152\n",
       "19/09/2019     1152\n",
       "16/09/2019     1152\n",
       "10/09/2019     1152\n",
       "17/09/2019     1152\n",
       "08/09/2019     1152\n",
       "03/09/2019     1152\n",
       "14/09/2019     1152\n",
       "09/09/2019     1152\n",
       "07/09/2019     1152\n",
       "23/09/2018       96\n",
       "17/09/2018       96\n",
       "13/09/2018       96\n",
       "04/10/2018       96\n",
       "11/10/2018       96\n",
       "06/10/2018       96\n",
       "10/10/2018       96\n",
       "29/09/2018       96\n",
       "26/09/2018       96\n",
       "01/10/2018       96\n",
       "20/10/2018       96\n",
       "05/10/2018       96\n",
       "07/10/2018       96\n",
       "09/10/2018       96\n",
       "16/09/2018       96\n",
       "11/09/2018       96\n",
       "13/10/2018       96\n",
       "14/09/2018       96\n",
       "18/10/2018       96\n",
       "19/10/2018       96\n",
       "19/09/2018       96\n",
       "27/09/2018       96\n",
       "12/10/2018       96\n",
       "28/09/2018       96\n",
       "14/10/2018       96\n",
       "30/09/2018       96\n",
       "21/10/2018       96\n",
       "22/09/2018       96\n",
       "15/10/2018       96\n",
       "18/09/2018       96\n",
       "17/10/2018       96\n",
       "25/09/2018       96\n",
       "15/09/2018       96\n",
       "16/10/2018       96\n",
       "21/09/2018       96\n",
       "03/10/2018       96\n",
       "20/09/2018       96\n",
       "02/10/2018       96\n",
       "24/09/2018       96\n",
       "12/09/2018       96\n",
       "08/10/2018       96\n",
       "10/09/2018       92\n",
       "30/10/2019       50\n",
       "22/10/2018        4\n",
       "Name: day, dtype: int64"
      ]
     },
     "metadata": {},
     "output_type": "display_data"
    }
   ],
   "source": [
    "display_all(df_timeseries.day.value_counts())"
   ]
  },
  {
   "cell_type": "code",
   "execution_count": 26,
   "metadata": {
    "hidden": true
   },
   "outputs": [
    {
     "data": {
      "text/plain": [
       "count         498311\n",
       "unique           103\n",
       "top       13/10/2019\n",
       "freq           16584\n",
       "Name: day, dtype: object"
      ]
     },
     "execution_count": 26,
     "metadata": {},
     "output_type": "execute_result"
    }
   ],
   "source": [
    "df_timeseries.day.describe()"
   ]
  },
  {
   "cell_type": "markdown",
   "metadata": {
    "hidden": true
   },
   "source": [
    "Interprétation: Les dates de mesures vont du 10/09/2018 au 30/10/2019"
   ]
  },
  {
   "cell_type": "markdown",
   "metadata": {
    "heading_collapsed": true,
    "hidden": true
   },
   "source": [
    "## Etude de la seconde colonne: \"sensor names\"\n",
    "Sensor names correspond aux noms des capteurs"
   ]
  },
  {
   "cell_type": "code",
   "execution_count": 27,
   "metadata": {
    "hidden": true
   },
   "outputs": [
    {
     "data": {
      "text/plain": [
       "count       498311\n",
       "unique         124\n",
       "top       LAPI L41\n",
       "freq          7200\n",
       "Name: sensor, dtype: object"
      ]
     },
     "execution_count": 27,
     "metadata": {},
     "output_type": "execute_result"
    }
   ],
   "source": [
    "sensor = df_timeseries.sensor\n",
    "sensor.describe()"
   ]
  },
  {
   "cell_type": "code",
   "execution_count": 28,
   "metadata": {
    "hidden": true
   },
   "outputs": [
    {
     "data": {
      "text/plain": [
       "LAPI L41                     7200\n",
       "LAPI L42                     7200\n",
       "LAPI L12                     7200\n",
       "LAPI L11                     7200\n",
       "5044.10 2                    6720\n",
       "LAPI L2                      6720\n",
       "5146.15 1                    6720\n",
       "LAPI L32                     6720\n",
       "5146.14 2                    6720\n",
       "5146.12 2                    6720\n",
       "5146.10 2                    6720\n",
       "5342.11 1                    6720\n",
       "5121.13 1                    6720\n",
       "5043.20 2                    6720\n",
       "5442.00 2                    6720\n",
       "5442.21 2                    6720\n",
       "5121.11 1                    6720\n",
       "5221.26 2                    6720\n",
       "5143.12 2                    6720\n",
       "5143.13 1                    6720\n",
       "5044.13 1                    6720\n",
       "5020.12 2                    6720\n",
       "5042.00 2                    6720\n",
       "5143.00 2                    6720\n",
       "5043.21 2                    6720\n",
       "5042.00 1                    6720\n",
       "5121.01 2                    6720\n",
       "5044.12 2                    6720\n",
       "5044.01 2                    6720\n",
       "5221.24 2                    6720\n",
       "5043.15 1                    6720\n",
       "5020.00 2                    6720\n",
       "5342.00 1                    6720\n",
       "5020.10 2                    6720\n",
       "5442.20 2                    6720\n",
       "LAPI L22                     6720\n",
       "5043.00 1                    6720\n",
       "LAPI L31                     6720\n",
       "5742.00 1                    6720\n",
       "5221.00 1                    6720\n",
       "LAPI L1                      6720\n",
       "5143.01 1                    6720\n",
       "5146.11 1                    6720\n",
       "5342.10 1                    6720\n",
       "5020.13 1                    6720\n",
       "5221.22 2                    6720\n",
       "LAPI L21                     6720\n",
       "5146.13 1                    6720\n",
       "5121.00 1                    6720\n",
       "5044.15 1                    6720\n",
       "5143.10 2                    6720\n",
       "5742.00 2                    6720\n",
       "5221.00 2                    6720\n",
       "5044.11 1                    6720\n",
       "5044.01 1                    6720\n",
       "5143.01 2                    6720\n",
       "5143.11 1                    6720\n",
       "5044.14 2                    6720\n",
       "5421.10 2                    6000\n",
       "5421.00 1                    6000\n",
       "5421.00 2                    6000\n",
       "5321.00 2                    6000\n",
       "5020.11 1                    3840\n",
       "5321.00 1                    1680\n",
       "S_MB333.e_2                  1416\n",
       "S_MB333.A_4                  1416\n",
       "S_MBG33.n_0                  1416\n",
       "S_MB333.M_1                  1416\n",
       "S_MBG33.M_2                  1416\n",
       "S_MB333.D_0                  1416\n",
       "S_MB333.D_1                  1416\n",
       "S_MBG33.M_5                  1416\n",
       "S_MB333.F_2                  1416\n",
       "S_MB333.x_1                  1416\n",
       "S_MB333.x_2                  1416\n",
       "S_MBG33.R_1                  1416\n",
       "S_MBG33.V_1                  1416\n",
       "S_MB333.E_2                  1416\n",
       "S_MBG33.T_0                  1416\n",
       "S_MB333.E_3                  1416\n",
       "S_MB233.V_0                  1416\n",
       "S_MB333.E_0                  1416\n",
       "S_MB333.E_4                  1416\n",
       "S_MB333.A_3                  1416\n",
       "S_MB333.E_5                  1416\n",
       "S_MB333.A_1                  1416\n",
       "S_MB333.e_6                  1416\n",
       "S_MBG33.M_3                  1416\n",
       "S_MB333.e_1                  1416\n",
       "S_MB333.e_5                  1416\n",
       "S_MBG33.M_4                  1416\n",
       "S_MB333.F_0                  1416\n",
       "S_MB233.V_1                  1416\n",
       "S_MB333.E_1                  1416\n",
       "S_MB333.e_4                  1416\n",
       "S_MBG33.N_0                  1416\n",
       "S_MB333.e_0                  1416\n",
       "S_MB333.A_0                  1416\n",
       "S_MBG33.M_1                  1416\n",
       "S_MBG33.T_1                  1416\n",
       "S_MB333.e_8                  1416\n",
       "S_MBG33.n_1                  1416\n",
       "S_MB333.e_9                  1416\n",
       "S_MBG33.V_0                  1416\n",
       "S_MB333.A_2                  1416\n",
       "S_MBG33.M_0                  1416\n",
       "S_MB333.x_0                  1416\n",
       "S_MBG33.R_0                  1416\n",
       "S_MB333.M_0                  1416\n",
       "S_MB333.F_1                  1416\n",
       "S_MB333.x_3                  1416\n",
       "S_MBG33.N_1                  1415\n",
       "AMBARES -> SAINTE EULALIE    1008\n",
       "CARBON BLANC -> LORMONT      1008\n",
       "AMBES -> AMBARES             1008\n",
       "AMBARES -> AMBES             1008\n",
       "5321.15 1                     720\n",
       "5321.13 1                     720\n",
       "5321.11 1                     720\n",
       "5321.12 2                     720\n",
       "5321.14 2                     720\n",
       "S_MB333.G_2                   504\n",
       "S_MB333.G_0                   504\n",
       "S_MB333.G_1                   504\n",
       "Name: sensor, dtype: int64"
      ]
     },
     "metadata": {},
     "output_type": "display_data"
    }
   ],
   "source": [
    "display_all(sensor.value_counts())"
   ]
  },
  {
   "cell_type": "code",
   "execution_count": 29,
   "metadata": {
    "hidden": true
   },
   "outputs": [
    {
     "data": {
      "text/plain": [
       "124"
      ]
     },
     "execution_count": 29,
     "metadata": {},
     "output_type": "execute_result"
    }
   ],
   "source": [
    "len(sensor.value_counts())"
   ]
  },
  {
   "cell_type": "markdown",
   "metadata": {
    "hidden": true
   },
   "source": [
    "Interprétation: Il y a au minimum 4 valeurs incohérentes ne correspondant pas à un nom de capteur. De plus, Il n'y a pas le même nombre de capteurs entre les deux jeux de données. Il y aura un travail à faire sur la selection des capteurs à conserver"
   ]
  },
  {
   "cell_type": "markdown",
   "metadata": {
    "heading_collapsed": true,
    "hidden": true
   },
   "source": [
    "## Etude de la troisième colonne: \"time_[s]\"\n",
    "time_[s] correspond à un temps, en seconde à partir de minuit. C’est l'heure à laquelle a été enregistrée la donnée de la dernière période."
   ]
  },
  {
   "cell_type": "markdown",
   "metadata": {
    "hidden": true
   },
   "source": [
    "### Conversion de la colonne en heure"
   ]
  },
  {
   "cell_type": "code",
   "execution_count": 62,
   "metadata": {
    "hidden": true
   },
   "outputs": [],
   "source": [
    "#Fonction pour convertir les secondes en heure\n",
    "def convert_second (df):\n",
    "    df = float(df)\n",
    "    return str(datetime.timedelta(seconds= df))"
   ]
  },
  {
   "cell_type": "code",
   "execution_count": 63,
   "metadata": {
    "hidden": true
   },
   "outputs": [],
   "source": [
    "#Application de la fonction à la colonne\n",
    "df_timeseries['time_[s]'] = df_timeseries['time_[s]'].apply(convert_second)"
   ]
  },
  {
   "cell_type": "code",
   "execution_count": 64,
   "metadata": {
    "hidden": true
   },
   "outputs": [
    {
     "data": {
      "text/plain": [
       "0          1:00:00\n",
       "1          2:00:00\n",
       "2          3:00:00\n",
       "3          4:00:00\n",
       "4          5:00:00\n",
       "            ...   \n",
       "498306    23:30:00\n",
       "498307    23:36:00\n",
       "498308    23:42:00\n",
       "498309    23:48:00\n",
       "498310    23:54:00\n",
       "Name: time_[s], Length: 498311, dtype: object"
      ]
     },
     "execution_count": 64,
     "metadata": {},
     "output_type": "execute_result"
    }
   ],
   "source": [
    "df_timeseries['time_[s]']"
   ]
  },
  {
   "cell_type": "markdown",
   "metadata": {
    "hidden": true
   },
   "source": [
    "La colonne correspond maintenant à l'heure, à la seconde près, à laquelle la mesure a été prise"
   ]
  },
  {
   "cell_type": "markdown",
   "metadata": {
    "hidden": true
   },
   "source": [
    "### Ajout des colonnes contenant \"date + heure\", \"année\", \"mois\", \"jour\", \"heure\"."
   ]
  },
  {
   "cell_type": "code",
   "execution_count": 65,
   "metadata": {
    "hidden": true
   },
   "outputs": [
    {
     "data": {
      "text/html": [
       "<div>\n",
       "<style scoped>\n",
       "    .dataframe tbody tr th:only-of-type {\n",
       "        vertical-align: middle;\n",
       "    }\n",
       "\n",
       "    .dataframe tbody tr th {\n",
       "        vertical-align: top;\n",
       "    }\n",
       "\n",
       "    .dataframe thead th {\n",
       "        text-align: right;\n",
       "    }\n",
       "</style>\n",
       "<table border=\"1\" class=\"dataframe\">\n",
       "  <thead>\n",
       "    <tr style=\"text-align: right;\">\n",
       "      <th></th>\n",
       "      <th>day</th>\n",
       "      <th>sensor</th>\n",
       "      <th>time_[s]</th>\n",
       "      <th>speed_[km/h]</th>\n",
       "      <th>occupancy_[%]</th>\n",
       "      <th>TV/h</th>\n",
       "      <th>PL/h</th>\n",
       "      <th>VL/h</th>\n",
       "      <th>speed_per_lane</th>\n",
       "      <th>occupancy_per_lane</th>\n",
       "      <th>flow_per_lane_[veh/h]</th>\n",
       "    </tr>\n",
       "  </thead>\n",
       "  <tbody>\n",
       "    <tr>\n",
       "      <th>0</th>\n",
       "      <td>01/09/2019</td>\n",
       "      <td>S_MB333.F_0</td>\n",
       "      <td>1:00:00</td>\n",
       "      <td>NaN</td>\n",
       "      <td>NaN</td>\n",
       "      <td>NaN</td>\n",
       "      <td>11.0</td>\n",
       "      <td>959.0</td>\n",
       "      <td>[]</td>\n",
       "      <td>[]</td>\n",
       "      <td>[]</td>\n",
       "    </tr>\n",
       "    <tr>\n",
       "      <th>1</th>\n",
       "      <td>01/09/2019</td>\n",
       "      <td>S_MB333.F_0</td>\n",
       "      <td>2:00:00</td>\n",
       "      <td>NaN</td>\n",
       "      <td>NaN</td>\n",
       "      <td>NaN</td>\n",
       "      <td>8.0</td>\n",
       "      <td>804.0</td>\n",
       "      <td>[]</td>\n",
       "      <td>[]</td>\n",
       "      <td>[]</td>\n",
       "    </tr>\n",
       "    <tr>\n",
       "      <th>2</th>\n",
       "      <td>01/09/2019</td>\n",
       "      <td>S_MB333.F_0</td>\n",
       "      <td>3:00:00</td>\n",
       "      <td>NaN</td>\n",
       "      <td>NaN</td>\n",
       "      <td>NaN</td>\n",
       "      <td>7.0</td>\n",
       "      <td>509.0</td>\n",
       "      <td>[]</td>\n",
       "      <td>[]</td>\n",
       "      <td>[]</td>\n",
       "    </tr>\n",
       "    <tr>\n",
       "      <th>3</th>\n",
       "      <td>01/09/2019</td>\n",
       "      <td>S_MB333.F_0</td>\n",
       "      <td>4:00:00</td>\n",
       "      <td>NaN</td>\n",
       "      <td>NaN</td>\n",
       "      <td>NaN</td>\n",
       "      <td>6.0</td>\n",
       "      <td>284.0</td>\n",
       "      <td>[]</td>\n",
       "      <td>[]</td>\n",
       "      <td>[]</td>\n",
       "    </tr>\n",
       "    <tr>\n",
       "      <th>4</th>\n",
       "      <td>01/09/2019</td>\n",
       "      <td>S_MB333.F_0</td>\n",
       "      <td>5:00:00</td>\n",
       "      <td>NaN</td>\n",
       "      <td>NaN</td>\n",
       "      <td>NaN</td>\n",
       "      <td>12.0</td>\n",
       "      <td>294.0</td>\n",
       "      <td>[]</td>\n",
       "      <td>[]</td>\n",
       "      <td>[]</td>\n",
       "    </tr>\n",
       "    <tr>\n",
       "      <th>...</th>\n",
       "      <td>...</td>\n",
       "      <td>...</td>\n",
       "      <td>...</td>\n",
       "      <td>...</td>\n",
       "      <td>...</td>\n",
       "      <td>...</td>\n",
       "      <td>...</td>\n",
       "      <td>...</td>\n",
       "      <td>...</td>\n",
       "      <td>...</td>\n",
       "      <td>...</td>\n",
       "    </tr>\n",
       "    <tr>\n",
       "      <th>498306</th>\n",
       "      <td>20/10/2019</td>\n",
       "      <td>LAPI L42</td>\n",
       "      <td>23:30:00</td>\n",
       "      <td>88.0</td>\n",
       "      <td>NaN</td>\n",
       "      <td>NaN</td>\n",
       "      <td>110.0</td>\n",
       "      <td>410.0</td>\n",
       "      <td>[]</td>\n",
       "      <td>[]</td>\n",
       "      <td>[]</td>\n",
       "    </tr>\n",
       "    <tr>\n",
       "      <th>498307</th>\n",
       "      <td>20/10/2019</td>\n",
       "      <td>LAPI L42</td>\n",
       "      <td>23:36:00</td>\n",
       "      <td>85.0</td>\n",
       "      <td>NaN</td>\n",
       "      <td>NaN</td>\n",
       "      <td>140.0</td>\n",
       "      <td>550.0</td>\n",
       "      <td>[]</td>\n",
       "      <td>[]</td>\n",
       "      <td>[]</td>\n",
       "    </tr>\n",
       "    <tr>\n",
       "      <th>498308</th>\n",
       "      <td>20/10/2019</td>\n",
       "      <td>LAPI L42</td>\n",
       "      <td>23:42:00</td>\n",
       "      <td>90.0</td>\n",
       "      <td>NaN</td>\n",
       "      <td>NaN</td>\n",
       "      <td>120.0</td>\n",
       "      <td>470.0</td>\n",
       "      <td>[]</td>\n",
       "      <td>[]</td>\n",
       "      <td>[]</td>\n",
       "    </tr>\n",
       "    <tr>\n",
       "      <th>498309</th>\n",
       "      <td>20/10/2019</td>\n",
       "      <td>LAPI L42</td>\n",
       "      <td>23:48:00</td>\n",
       "      <td>86.0</td>\n",
       "      <td>NaN</td>\n",
       "      <td>NaN</td>\n",
       "      <td>100.0</td>\n",
       "      <td>410.0</td>\n",
       "      <td>[]</td>\n",
       "      <td>[]</td>\n",
       "      <td>[]</td>\n",
       "    </tr>\n",
       "    <tr>\n",
       "      <th>498310</th>\n",
       "      <td>20/10/2019</td>\n",
       "      <td>LAPI L42</td>\n",
       "      <td>23:54:00</td>\n",
       "      <td>87.0</td>\n",
       "      <td>NaN</td>\n",
       "      <td>NaN</td>\n",
       "      <td>130.0</td>\n",
       "      <td>520.0</td>\n",
       "      <td>[]</td>\n",
       "      <td>[]</td>\n",
       "      <td>[]</td>\n",
       "    </tr>\n",
       "  </tbody>\n",
       "</table>\n",
       "<p>498311 rows × 11 columns</p>\n",
       "</div>"
      ],
      "text/plain": [
       "               day       sensor  time_[s]  speed_[km/h]  occupancy_[%]  TV/h  \\\n",
       "0       01/09/2019  S_MB333.F_0   1:00:00           NaN            NaN   NaN   \n",
       "1       01/09/2019  S_MB333.F_0   2:00:00           NaN            NaN   NaN   \n",
       "2       01/09/2019  S_MB333.F_0   3:00:00           NaN            NaN   NaN   \n",
       "3       01/09/2019  S_MB333.F_0   4:00:00           NaN            NaN   NaN   \n",
       "4       01/09/2019  S_MB333.F_0   5:00:00           NaN            NaN   NaN   \n",
       "...            ...          ...       ...           ...            ...   ...   \n",
       "498306  20/10/2019     LAPI L42  23:30:00          88.0            NaN   NaN   \n",
       "498307  20/10/2019     LAPI L42  23:36:00          85.0            NaN   NaN   \n",
       "498308  20/10/2019     LAPI L42  23:42:00          90.0            NaN   NaN   \n",
       "498309  20/10/2019     LAPI L42  23:48:00          86.0            NaN   NaN   \n",
       "498310  20/10/2019     LAPI L42  23:54:00          87.0            NaN   NaN   \n",
       "\n",
       "         PL/h   VL/h speed_per_lane occupancy_per_lane flow_per_lane_[veh/h]  \n",
       "0        11.0  959.0             []                 []                    []  \n",
       "1         8.0  804.0             []                 []                    []  \n",
       "2         7.0  509.0             []                 []                    []  \n",
       "3         6.0  284.0             []                 []                    []  \n",
       "4        12.0  294.0             []                 []                    []  \n",
       "...       ...    ...            ...                ...                   ...  \n",
       "498306  110.0  410.0             []                 []                    []  \n",
       "498307  140.0  550.0             []                 []                    []  \n",
       "498308  120.0  470.0             []                 []                    []  \n",
       "498309  100.0  410.0             []                 []                    []  \n",
       "498310  130.0  520.0             []                 []                    []  \n",
       "\n",
       "[498311 rows x 11 columns]"
      ]
     },
     "execution_count": 65,
     "metadata": {},
     "output_type": "execute_result"
    }
   ],
   "source": [
    "#Création d'une copie du df pour analyser les séries temporelles:\n",
    "df_time = df_timeseries.copy()\n",
    "df_time"
   ]
  },
  {
   "cell_type": "code",
   "execution_count": 67,
   "metadata": {
    "hidden": true
   },
   "outputs": [
    {
     "data": {
      "text/plain": [
       "0          01/09/2019 1:00:00\n",
       "1          01/09/2019 2:00:00\n",
       "2          01/09/2019 3:00:00\n",
       "3          01/09/2019 4:00:00\n",
       "4          01/09/2019 5:00:00\n",
       "                 ...         \n",
       "498306    20/10/2019 23:30:00\n",
       "498307    20/10/2019 23:36:00\n",
       "498308    20/10/2019 23:42:00\n",
       "498309    20/10/2019 23:48:00\n",
       "498310    20/10/2019 23:54:00\n",
       "Name: date, Length: 498311, dtype: object"
      ]
     },
     "execution_count": 67,
     "metadata": {},
     "output_type": "execute_result"
    }
   ],
   "source": [
    "#Création d'une colonne \"date\" contenant \"date + heure\"\n",
    "df_time['date'] = df_time['day'] + \" \" + df_time['time_[s]']\n",
    "df_time['date']"
   ]
  },
  {
   "cell_type": "code",
   "execution_count": 70,
   "metadata": {
    "hidden": true
   },
   "outputs": [],
   "source": [
    "#Rename des colonnes pour simplification\n",
    "df_time = df_time.rename(columns = {\"speed_[km/h]\": \"speed\", 'occupancy_[%]':'occupancy'})"
   ]
  },
  {
   "cell_type": "code",
   "execution_count": 71,
   "metadata": {
    "hidden": true
   },
   "outputs": [],
   "source": [
    "#Suppression des colonnes inutiles\n",
    "df_time = df_time.drop(['day', 'time_[s]', 'speed_per_lane', 'occupancy_per_lane', 'flow_per_lane_[veh/h]','occupancy'], axis=1, inplace=False)"
   ]
  },
  {
   "cell_type": "code",
   "execution_count": 57,
   "metadata": {
    "hidden": true
   },
   "outputs": [],
   "source": [
    "#Ajout de colonnes: \"year\",\"month\",\"day\",\"hour\""
   ]
  },
  {
   "cell_type": "code",
   "execution_count": 86,
   "metadata": {
    "hidden": true
   },
   "outputs": [],
   "source": [
    "df_time['year'] = df_time['date'].astype(str).apply(lambda x : x[6:10])\n",
    "df_time['month'] = df_time['date'].astype(str).apply(lambda x : x[3:5])\n",
    "df_time['day'] = df_time['date'].astype(str).apply(lambda x : x[0:2])\n",
    "df_time['hour'] = df_time['date'].astype(str).apply(lambda x : x[11:18])"
   ]
  },
  {
   "cell_type": "markdown",
   "metadata": {
    "hidden": true
   },
   "source": [
    "### Analyse des données temporelles"
   ]
  },
  {
   "cell_type": "code",
   "execution_count": 87,
   "metadata": {
    "hidden": true
   },
   "outputs": [],
   "source": [
    "#Conversion au format datetime\n",
    "df_time['date'] = pd.to_datetime(df_time['date'],dayfirst = True)"
   ]
  },
  {
   "cell_type": "code",
   "execution_count": 93,
   "metadata": {
    "hidden": true
   },
   "outputs": [
    {
     "ename": "KeyError",
     "evalue": "\"None of ['date'] are in the columns\"",
     "output_type": "error",
     "traceback": [
      "\u001b[0;31m---------------------------------------------------------------------------\u001b[0m",
      "\u001b[0;31mKeyError\u001b[0m                                  Traceback (most recent call last)",
      "\u001b[0;32m<ipython-input-93-fa5779b9bad5>\u001b[0m in \u001b[0;36m<module>\u001b[0;34m\u001b[0m\n\u001b[1;32m      1\u001b[0m \u001b[0;31m#Ajout des dates en index\u001b[0m\u001b[0;34m\u001b[0m\u001b[0;34m\u001b[0m\u001b[0;34m\u001b[0m\u001b[0m\n\u001b[0;32m----> 2\u001b[0;31m \u001b[0mdf_time\u001b[0m \u001b[0;34m=\u001b[0m \u001b[0mdf_time\u001b[0m\u001b[0;34m.\u001b[0m\u001b[0mset_index\u001b[0m\u001b[0;34m(\u001b[0m\u001b[0;34m'date'\u001b[0m\u001b[0;34m)\u001b[0m\u001b[0;34m\u001b[0m\u001b[0;34m\u001b[0m\u001b[0m\n\u001b[0m",
      "\u001b[0;32m/Applications/anaconda3/lib/python3.8/site-packages/pandas/core/frame.py\u001b[0m in \u001b[0;36mset_index\u001b[0;34m(self, keys, drop, append, inplace, verify_integrity)\u001b[0m\n\u001b[1;32m   4549\u001b[0m \u001b[0;34m\u001b[0m\u001b[0m\n\u001b[1;32m   4550\u001b[0m         \u001b[0;32mif\u001b[0m \u001b[0mmissing\u001b[0m\u001b[0;34m:\u001b[0m\u001b[0;34m\u001b[0m\u001b[0;34m\u001b[0m\u001b[0m\n\u001b[0;32m-> 4551\u001b[0;31m             \u001b[0;32mraise\u001b[0m \u001b[0mKeyError\u001b[0m\u001b[0;34m(\u001b[0m\u001b[0;34mf\"None of {missing} are in the columns\"\u001b[0m\u001b[0;34m)\u001b[0m\u001b[0;34m\u001b[0m\u001b[0;34m\u001b[0m\u001b[0m\n\u001b[0m\u001b[1;32m   4552\u001b[0m \u001b[0;34m\u001b[0m\u001b[0m\n\u001b[1;32m   4553\u001b[0m         \u001b[0;32mif\u001b[0m \u001b[0minplace\u001b[0m\u001b[0;34m:\u001b[0m\u001b[0;34m\u001b[0m\u001b[0;34m\u001b[0m\u001b[0m\n",
      "\u001b[0;31mKeyError\u001b[0m: \"None of ['date'] are in the columns\""
     ]
    }
   ],
   "source": [
    "#Ajout des dates en index\n",
    "df_time = df_time.set_index('date')"
   ]
  },
  {
   "cell_type": "code",
   "execution_count": 89,
   "metadata": {
    "hidden": true,
    "scrolled": true
   },
   "outputs": [
    {
     "data": {
      "text/plain": [
       "2019    494279\n",
       "2018      4032\n",
       "Name: year, dtype: int64"
      ]
     },
     "execution_count": 89,
     "metadata": {},
     "output_type": "execute_result"
    }
   ],
   "source": [
    "df_time['year'].value_counts()"
   ]
  },
  {
   "cell_type": "code",
   "execution_count": 90,
   "metadata": {
    "hidden": true
   },
   "outputs": [
    {
     "data": {
      "text/plain": [
       "10    337155\n",
       "09    161156\n",
       "Name: month, dtype: int64"
      ]
     },
     "execution_count": 90,
     "metadata": {},
     "output_type": "execute_result"
    }
   ],
   "source": [
    "df_time['month'].value_counts()"
   ]
  },
  {
   "cell_type": "code",
   "execution_count": 92,
   "metadata": {
    "hidden": true,
    "scrolled": true
   },
   "outputs": [
    {
     "data": {
      "text/plain": [
       "16    17928\n",
       "13    17928\n",
       "06    17760\n",
       "08    17760\n",
       "17    17688\n",
       "15    17688\n",
       "18    17688\n",
       "12    17688\n",
       "11    17688\n",
       "14    17688\n",
       "10    17681\n",
       "23    17592\n",
       "24    17592\n",
       "02    17523\n",
       "09    17520\n",
       "03    17520\n",
       "05    17520\n",
       "07    17520\n",
       "29    17352\n",
       "28    17352\n",
       "25    17352\n",
       "26    17352\n",
       "27    17352\n",
       "01    17301\n",
       "04    17280\n",
       "20    16488\n",
       "30    16418\n",
       "19    16248\n",
       "21     4968\n",
       "22     4876\n",
       "Name: day, dtype: int64"
      ]
     },
     "execution_count": 92,
     "metadata": {},
     "output_type": "execute_result"
    }
   ],
   "source": [
    "df_time['day'].value_counts()"
   ]
  },
  {
   "cell_type": "markdown",
   "metadata": {
    "hidden": true
   },
   "source": [
    "Interprétation: Les mois de septembre et Octobre 2019 constituent la grande majorité de nos données. Nous allons donc nous focaliser sur cette partie du jeu de données."
   ]
  },
  {
   "cell_type": "markdown",
   "metadata": {
    "heading_collapsed": true,
    "hidden": true
   },
   "source": [
    "## Etude de la quatrième colonne: \"speed_[km/h]\"\n",
    "\"Speed_[km/h]\" correspond à la vitesse moyenne sur une période de temps enregistrée par le capteur en km/h"
   ]
  },
  {
   "cell_type": "code",
   "execution_count": 97,
   "metadata": {
    "hidden": true
   },
   "outputs": [
    {
     "data": {
      "text/plain": [
       "0.0      30077\n",
       "87.0     13560\n",
       "88.0     12724\n",
       "86.0     12395\n",
       "89.0     10126\n",
       "         ...  \n",
       "130.4        1\n",
       "130.6        1\n",
       "14.2         1\n",
       "132.7        1\n",
       "31.6         1\n",
       "Name: speed_[km/h], Length: 1238, dtype: int64"
      ]
     },
     "execution_count": 97,
     "metadata": {},
     "output_type": "execute_result"
    }
   ],
   "source": [
    "df_timeseries['speed_[km/h]'].value_counts()"
   ]
  },
  {
   "cell_type": "code",
   "execution_count": 106,
   "metadata": {
    "hidden": true
   },
   "outputs": [
    {
     "data": {
      "text/plain": [
       "38.195624820644134"
      ]
     },
     "execution_count": 106,
     "metadata": {},
     "output_type": "execute_result"
    }
   ],
   "source": [
    "#Vérification du nombre de valeurs manquantes\n",
    "df_timeseries['speed_[km/h]'].isnull().sum()/len(df_timeseries)*100"
   ]
  },
  {
   "cell_type": "markdown",
   "metadata": {
    "hidden": true
   },
   "source": [
    "38,2% des lignes sont vides"
   ]
  },
  {
   "cell_type": "code",
   "execution_count": 133,
   "metadata": {
    "hidden": true
   },
   "outputs": [
    {
     "data": {
      "text/plain": [
       "count    307978.000000\n",
       "mean         64.450221\n",
       "std          29.164174\n",
       "min           0.000000\n",
       "25%          51.000000\n",
       "50%          72.000000\n",
       "75%          86.000000\n",
       "max         180.000000\n",
       "Name: speed_[km/h], dtype: float64"
      ]
     },
     "execution_count": 133,
     "metadata": {},
     "output_type": "execute_result"
    }
   ],
   "source": [
    "df_timeseries['speed_[km/h]'].describe()"
   ]
  },
  {
   "cell_type": "code",
   "execution_count": 132,
   "metadata": {
    "hidden": true
   },
   "outputs": [
    {
     "data": {
      "text/plain": [
       "<AxesSubplot:xlabel='date'>"
      ]
     },
     "execution_count": 132,
     "metadata": {},
     "output_type": "execute_result"
    },
    {
     "data": {
      "image/png": "[encoded data removed]",
      "text/plain": [
       "<Figure size 864x576 with 1 Axes>"
      ]
     },
     "metadata": {
      "needs_background": "light"
     },
     "output_type": "display_data"
    }
   ],
   "source": [
    "from datetime import datetime\n",
    "#Regardons les deux mois avec le plus de relevés (septembre et octobre 2019)\n",
    "matplotlib.rcParams['figure.figsize'] = [12.0, 8.0]\n",
    "start_date = datetime (2018, 9, 1)\n",
    "end_date = datetime (2019, 10, 30 )\n",
    "df_time['speed'][(start_date <=df_time.index) & (df_time.index <= end_date)].plot(grid=True)"
   ]
  },
  {
   "cell_type": "markdown",
   "metadata": {
    "hidden": true
   },
   "source": [
    "Interprétation: Dans l'ensemble du jeu de données, il n'y a des données de vitesse que pour la période allant du 20/09/2019 au 21/10/2019"
   ]
  },
  {
   "cell_type": "markdown",
   "metadata": {
    "heading_collapsed": true,
    "hidden": true
   },
   "source": [
    "## Etude de la cinquième colonne: \"occupancy_[%]\""
   ]
  },
  {
   "cell_type": "code",
   "execution_count": 95,
   "metadata": {
    "hidden": true
   },
   "outputs": [
    {
     "data": {
      "text/plain": [
       "Series([], Name: occupancy_[%], dtype: int64)"
      ]
     },
     "execution_count": 95,
     "metadata": {},
     "output_type": "execute_result"
    }
   ],
   "source": [
    "df_timeseries['occupancy_[%]'].value_counts()"
   ]
  },
  {
   "cell_type": "markdown",
   "metadata": {
    "hidden": true
   },
   "source": [
    "Colonne vide"
   ]
  },
  {
   "cell_type": "markdown",
   "metadata": {
    "heading_collapsed": true,
    "hidden": true
   },
   "source": [
    "## Etude de la sixième colonne: \"TV/h\"\n",
    "TV/h correspond au nombre total de véhicule ayant déclenché le capteur sur une période d'une heure"
   ]
  },
  {
   "cell_type": "code",
   "execution_count": 135,
   "metadata": {
    "hidden": true,
    "scrolled": false
   },
   "outputs": [
    {
     "data": {
      "text/plain": [
       "0.0       10766\n",
       "10.0       8755\n",
       "20.0       7633\n",
       "30.0       6341\n",
       "40.0       5525\n",
       "          ...  \n",
       "6210.0        1\n",
       "6100.0        1\n",
       "6240.0        1\n",
       "6440.0        1\n",
       "6180.0        1\n",
       "Name: TV/h, Length: 624, dtype: int64"
      ]
     },
     "execution_count": 135,
     "metadata": {},
     "output_type": "execute_result"
    }
   ],
   "source": [
    "df_timeseries['TV/h'].value_counts()"
   ]
  },
  {
   "cell_type": "code",
   "execution_count": 136,
   "metadata": {
    "hidden": true,
    "scrolled": false
   },
   "outputs": [
    {
     "data": {
      "text/plain": [
       "count    322510.000000\n",
       "mean       1081.655018\n",
       "std        1326.886136\n",
       "min           0.000000\n",
       "25%         160.000000\n",
       "50%         450.000000\n",
       "75%        1470.000000\n",
       "max        6440.000000\n",
       "Name: TV/h, dtype: float64"
      ]
     },
     "execution_count": 136,
     "metadata": {},
     "output_type": "execute_result"
    }
   ],
   "source": [
    "df_timeseries['TV/h'].describe()"
   ]
  },
  {
   "cell_type": "code",
   "execution_count": 139,
   "metadata": {
    "hidden": true
   },
   "outputs": [
    {
     "data": {
      "text/plain": [
       "35.27937372444116"
      ]
     },
     "execution_count": 139,
     "metadata": {},
     "output_type": "execute_result"
    }
   ],
   "source": [
    "#Vérification du nombre de valeurs manquantes\n",
    "df_timeseries['TV/h'].isnull().sum()/len(df_timeseries)*100"
   ]
  },
  {
   "cell_type": "markdown",
   "metadata": {
    "hidden": true
   },
   "source": [
    "35% des données sont manquantes"
   ]
  },
  {
   "cell_type": "code",
   "execution_count": 153,
   "metadata": {
    "hidden": true,
    "scrolled": true
   },
   "outputs": [
    {
     "data": {
      "text/plain": [
       "<AxesSubplot:xlabel='date'>"
      ]
     },
     "execution_count": 153,
     "metadata": {},
     "output_type": "execute_result"
    },
    {
     "data": {
      "image/png": "[encoded data removed]",
      "text/plain": [
       "<Figure size 864x576 with 1 Axes>"
      ]
     },
     "metadata": {
      "needs_background": "light"
     },
     "output_type": "display_data"
    }
   ],
   "source": [
    "from datetime import datetime\n",
    "#Regardons la distribution de TV/h sur les deux mois avec le plus de relevés (septembre et octobre 2019)\n",
    "matplotlib.rcParams['figure.figsize'] = [12.0, 8.0]\n",
    "start_date = datetime (2019, 9, 1)\n",
    "end_date = datetime (2019, 10, 30 )\n",
    "df_time['TV/h'][(start_date <=df_time.index) & (df_time.index <= end_date)].plot(grid=True)"
   ]
  },
  {
   "cell_type": "code",
   "execution_count": 143,
   "metadata": {
    "hidden": true,
    "scrolled": true
   },
   "outputs": [
    {
     "data": {
      "text/plain": [
       "<AxesSubplot:xlabel='date'>"
      ]
     },
     "execution_count": 143,
     "metadata": {},
     "output_type": "execute_result"
    },
    {
     "data": {
      "image/png": "[encoded data removed]",
      "text/plain": [
       "<Figure size 864x576 with 1 Axes>"
      ]
     },
     "metadata": {
      "needs_background": "light"
     },
     "output_type": "display_data"
    }
   ],
   "source": [
    "#Regardons la distribution de TV/h sur une semaine\n",
    "matplotlib.rcParams['figure.figsize'] = [12.0, 8.0]\n",
    "start_date = datetime (2019, 10, 7)\n",
    "end_date = datetime (2019, 10, 14 )\n",
    "df_time['TV/h'][(start_date <=df_time.index) & (df_time.index <= end_date)].plot(grid=True)"
   ]
  },
  {
   "cell_type": "markdown",
   "metadata": {
    "hidden": true
   },
   "source": [
    "Intreprétation: Les données semblent cohérentes, des paternes se repettent."
   ]
  },
  {
   "cell_type": "markdown",
   "metadata": {
    "heading_collapsed": true,
    "hidden": true
   },
   "source": [
    "## Etude de la septième colonne: \"PL/h\"\n",
    "PL/h correspond au nombre total de poids lourds ayant déclenché le capteur sur une période d'une heure"
   ]
  },
  {
   "cell_type": "code",
   "execution_count": 145,
   "metadata": {
    "hidden": true
   },
   "outputs": [
    {
     "data": {
      "text/plain": [
       "0.0       6686\n",
       "10.0      4872\n",
       "20.0      4791\n",
       "30.0      4324\n",
       "40.0      3630\n",
       "          ... \n",
       "1150.0       1\n",
       "1430.0       1\n",
       "1026.0       1\n",
       "1870.0       1\n",
       "2370.0       1\n",
       "Name: PL/h, Length: 1082, dtype: int64"
      ]
     },
     "execution_count": 145,
     "metadata": {},
     "output_type": "execute_result"
    }
   ],
   "source": [
    "df_timeseries['PL/h'].value_counts()"
   ]
  },
  {
   "cell_type": "code",
   "execution_count": 146,
   "metadata": {
    "hidden": true
   },
   "outputs": [
    {
     "data": {
      "text/plain": [
       "count    142230.000000\n",
       "mean        186.235182\n",
       "std         204.710616\n",
       "min           0.000000\n",
       "25%          30.000000\n",
       "50%         120.000000\n",
       "75%         261.000000\n",
       "max        2370.000000\n",
       "Name: PL/h, dtype: float64"
      ]
     },
     "execution_count": 146,
     "metadata": {},
     "output_type": "execute_result"
    }
   ],
   "source": [
    "df_timeseries['PL/h'].describe()"
   ]
  },
  {
   "cell_type": "code",
   "execution_count": 149,
   "metadata": {
    "hidden": true
   },
   "outputs": [
    {
     "data": {
      "text/plain": [
       "71.45758371779873"
      ]
     },
     "execution_count": 149,
     "metadata": {},
     "output_type": "execute_result"
    }
   ],
   "source": [
    "#Vérification du nombre de valeurs manquantes\n",
    "df_timeseries['PL/h'].isnull().sum()/len(df_timeseries)*100"
   ]
  },
  {
   "cell_type": "markdown",
   "metadata": {
    "hidden": true
   },
   "source": [
    "71.45% des données sont manquantes"
   ]
  },
  {
   "cell_type": "code",
   "execution_count": 151,
   "metadata": {
    "hidden": true
   },
   "outputs": [
    {
     "data": {
      "text/plain": [
       "<AxesSubplot:xlabel='date'>"
      ]
     },
     "execution_count": 151,
     "metadata": {},
     "output_type": "execute_result"
    },
    {
     "data": {
      "image/png": "[encoded data removed]",
      "text/plain": [
       "<Figure size 864x576 with 1 Axes>"
      ]
     },
     "metadata": {
      "needs_background": "light"
     },
     "output_type": "display_data"
    }
   ],
   "source": [
    "#Regardons la distribution de PL/h sur les deux mois avec le plus de relevés (septembre et octobre 2019)\n",
    "matplotlib.rcParams['figure.figsize'] = [12.0, 8.0]\n",
    "start_date = datetime (2019, 9, 1)\n",
    "end_date = datetime (2019, 10, 30 )\n",
    "df_time['PL/h'][(start_date <=df_time.index) & (df_time.index <= end_date)].plot(grid=True)"
   ]
  },
  {
   "cell_type": "code",
   "execution_count": 156,
   "metadata": {
    "hidden": true
   },
   "outputs": [
    {
     "data": {
      "text/plain": [
       "<AxesSubplot:xlabel='date'>"
      ]
     },
     "execution_count": 156,
     "metadata": {},
     "output_type": "execute_result"
    },
    {
     "data": {
      "image/png": "[encoded data removed]",
      "text/plain": [
       "<Figure size 864x576 with 1 Axes>"
      ]
     },
     "metadata": {
      "needs_background": "light"
     },
     "output_type": "display_data"
    }
   ],
   "source": [
    "#Regardons  la distribution de PL/h sur deux semaines\n",
    "matplotlib.rcParams['figure.figsize'] = [12.0, 8.0]\n",
    "start_date = datetime (2019, 10, 1)\n",
    "end_date = datetime (2019, 10, 14 )\n",
    "df_time['PL/h'][(start_date <=df_time.index) & (df_time.index <= end_date)].plot(grid=True)"
   ]
  },
  {
   "cell_type": "markdown",
   "metadata": {
    "hidden": true
   },
   "source": [
    "Interprétation: Les données semblent cohérentes, il semble y avoir quelques erreurs début octobre (valeurs extrèmes)"
   ]
  },
  {
   "cell_type": "markdown",
   "metadata": {
    "heading_collapsed": true,
    "hidden": true
   },
   "source": [
    "## Etude de la huitième colonne: \"VL/h\"\n",
    "VL/h correspond au nombre total de véhicules légers ayant déclenché le capteur sur une période d'une heure"
   ]
  },
  {
   "cell_type": "code",
   "execution_count": 157,
   "metadata": {
    "hidden": true
   },
   "outputs": [
    {
     "data": {
      "text/plain": [
       "0.0       1858\n",
       "90.0       655\n",
       "120.0      637\n",
       "170.0      605\n",
       "110.0      603\n",
       "          ... \n",
       "5641.0       1\n",
       "4287.0       1\n",
       "5362.0       1\n",
       "5309.0       1\n",
       "5413.0       1\n",
       "Name: VL/h, Length: 4937, dtype: int64"
      ]
     },
     "execution_count": 157,
     "metadata": {},
     "output_type": "execute_result"
    }
   ],
   "source": [
    "df_timeseries['VL/h'].value_counts()"
   ]
  },
  {
   "cell_type": "code",
   "execution_count": 158,
   "metadata": {
    "hidden": true
   },
   "outputs": [
    {
     "data": {
      "text/plain": [
       "count    142230.000000\n",
       "mean       1527.649258\n",
       "std        1288.975990\n",
       "min           0.000000\n",
       "25%         343.000000\n",
       "50%        1190.000000\n",
       "75%        2560.000000\n",
       "max        6110.000000\n",
       "Name: VL/h, dtype: float64"
      ]
     },
     "execution_count": 158,
     "metadata": {},
     "output_type": "execute_result"
    }
   ],
   "source": [
    "df_timeseries['VL/h'].describe()"
   ]
  },
  {
   "cell_type": "code",
   "execution_count": 159,
   "metadata": {
    "hidden": true
   },
   "outputs": [
    {
     "data": {
      "text/plain": [
       "71.45758371779873"
      ]
     },
     "execution_count": 159,
     "metadata": {},
     "output_type": "execute_result"
    }
   ],
   "source": [
    "#Vérification du nombre de valeurs manquantes\n",
    "df_timeseries['VL/h'].isnull().sum()/len(df_timeseries)*100"
   ]
  },
  {
   "cell_type": "markdown",
   "metadata": {
    "hidden": true
   },
   "source": [
    "71.45% des données sont manquantes"
   ]
  },
  {
   "cell_type": "code",
   "execution_count": 161,
   "metadata": {
    "hidden": true
   },
   "outputs": [
    {
     "data": {
      "text/plain": [
       "<AxesSubplot:xlabel='date'>"
      ]
     },
     "execution_count": 161,
     "metadata": {},
     "output_type": "execute_result"
    },
    {
     "data": {
      "image/png": "[encoded data removed]",
      "text/plain": [
       "<Figure size 864x576 with 1 Axes>"
      ]
     },
     "metadata": {
      "needs_background": "light"
     },
     "output_type": "display_data"
    }
   ],
   "source": [
    "#Regardons la distribution de VL/h sur les deux mois avec le plus de relevés (septembre et octobre 2019)\n",
    "matplotlib.rcParams['figure.figsize'] = [12.0, 8.0]\n",
    "start_date = datetime (2019, 9, 1)\n",
    "end_date = datetime (2019, 10, 30 )\n",
    "df_time['VL/h'][(start_date <=df_time.index) & (df_time.index <= end_date)].plot(grid=True)"
   ]
  },
  {
   "cell_type": "code",
   "execution_count": 163,
   "metadata": {
    "hidden": true,
    "scrolled": true
   },
   "outputs": [
    {
     "data": {
      "text/plain": [
       "<AxesSubplot:xlabel='date'>"
      ]
     },
     "execution_count": 163,
     "metadata": {},
     "output_type": "execute_result"
    },
    {
     "data": {
      "image/png": "[encoded data removed]",
      "text/plain": [
       "<Figure size 864x576 with 1 Axes>"
      ]
     },
     "metadata": {
      "needs_background": "light"
     },
     "output_type": "display_data"
    }
   ],
   "source": [
    "#Regardons  la distribution de VL/h sur une semaine\n",
    "matplotlib.rcParams['figure.figsize'] = [12.0, 8.0]\n",
    "start_date = datetime (2019, 10, 7)\n",
    "end_date = datetime (2019, 10, 14 )\n",
    "df_time['VL/h'][(start_date <=df_time.index) & (df_time.index <= end_date)].plot(grid=True)"
   ]
  },
  {
   "cell_type": "markdown",
   "metadata": {
    "hidden": true
   },
   "source": [
    "Intreprétation: Les données semblent cohérentes, des paternes se repettent."
   ]
  },
  {
   "cell_type": "markdown",
   "metadata": {
    "heading_collapsed": true,
    "hidden": true
   },
   "source": [
    "## Etude de la neuvième colonne: \"speed_per_lane\""
   ]
  },
  {
   "cell_type": "code",
   "execution_count": 165,
   "metadata": {
    "hidden": true,
    "scrolled": true
   },
   "outputs": [
    {
     "data": {
      "text/plain": [
       "[]    498311\n",
       "Name: speed_per_lane, dtype: int64"
      ]
     },
     "execution_count": 165,
     "metadata": {},
     "output_type": "execute_result"
    }
   ],
   "source": [
    "df_timeseries['speed_per_lane'].value_counts()"
   ]
  },
  {
   "cell_type": "markdown",
   "metadata": {
    "hidden": true
   },
   "source": [
    "Colonne vide"
   ]
  },
  {
   "cell_type": "markdown",
   "metadata": {
    "heading_collapsed": true,
    "hidden": true
   },
   "source": [
    "## Etude de la dixième colonne: \"occupancy_per_lane\""
   ]
  },
  {
   "cell_type": "code",
   "execution_count": 166,
   "metadata": {
    "hidden": true
   },
   "outputs": [
    {
     "data": {
      "text/plain": [
       "[]    498311\n",
       "Name: occupancy_per_lane, dtype: int64"
      ]
     },
     "execution_count": 166,
     "metadata": {},
     "output_type": "execute_result"
    }
   ],
   "source": [
    "df_timeseries['occupancy_per_lane'].value_counts()"
   ]
  },
  {
   "cell_type": "markdown",
   "metadata": {
    "hidden": true
   },
   "source": [
    "Colonne vide"
   ]
  },
  {
   "cell_type": "markdown",
   "metadata": {
    "heading_collapsed": true,
    "hidden": true
   },
   "source": [
    "## Etude de la onzième colonne: \"flow_per_lane_[veh/h]\""
   ]
  },
  {
   "cell_type": "code",
   "execution_count": 167,
   "metadata": {
    "hidden": true
   },
   "outputs": [
    {
     "data": {
      "text/plain": [
       "[]    498311\n",
       "Name: flow_per_lane_[veh/h], dtype: int64"
      ]
     },
     "execution_count": 167,
     "metadata": {},
     "output_type": "execute_result"
    }
   ],
   "source": [
    "df_timeseries[\"flow_per_lane_[veh/h]\"].value_counts()"
   ]
  },
  {
   "cell_type": "markdown",
   "metadata": {
    "hidden": true
   },
   "source": [
    "Colonne vide"
   ]
  },
  {
   "cell_type": "markdown",
   "metadata": {
    "heading_collapsed": true
   },
   "source": [
    "# Conclusion"
   ]
  },
  {
   "cell_type": "markdown",
   "metadata": {
    "hidden": true
   },
   "source": [
    "Cette première exploration nous a permis de:  \n",
    "    - Découvrir, comprendre et s'approprier nos jeux de données  \n",
    "    - Identifier les colonnes vides  \n",
    "    - Identifier les potentielles erreurs  \n",
    "    - Travailler la temporalité du jeu de données et réduire la taille de notre jeu de données à deux mois (septembre & octobre 2019)  \n",
    "    - Identifier les étapes suivantes: Visualiser l'emplacement des capteurs pour par la suite sélectionner des capteurs se trouvant sur la même route"
   ]
  }
 ],
 "metadata": {
  "kernelspec": {
   "display_name": "Python 3",
   "language": "python",
   "name": "python3"
  },
  "language_info": {
   "codemirror_mode": {
    "name": "ipython",
    "version": 3
   },
   "file_extension": ".py",
   "mimetype": "text/x-python",
   "name": "python",
   "nbconvert_exporter": "python",
   "pygments_lexer": "ipython3",
   "version": "3.8.5"
  },
  "toc": {
   "base_numbering": 1,
   "nav_menu": {},
   "number_sections": true,
   "sideBar": true,
   "skip_h1_title": false,
   "title_cell": "Table of Contents",
   "title_sidebar": "Contents",
   "toc_cell": false,
   "toc_position": {},
   "toc_section_display": true,
   "toc_window_display": false
  }
 },
 "nbformat": 4,
 "nbformat_minor": 2
}
