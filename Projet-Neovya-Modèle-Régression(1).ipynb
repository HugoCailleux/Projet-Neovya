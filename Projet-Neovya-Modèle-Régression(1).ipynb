{
 "cells": [
  {
   "cell_type": "markdown",
   "id": "2a9af89b",
   "metadata": {},
   "source": [
    "### Modèle étudié\n",
    "Dans ce Notebook, nous utiliserons un modèle de regression logistique pour faire notre classification. Mais qu'est-ce la regression logistique? \n"
   ]
  },
  {
   "cell_type": "markdown",
   "id": "889f3cd8",
   "metadata": {},
   "source": [
    "### Définition"
   ]
  },
  {
   "cell_type": "markdown",
   "id": "ac574d45",
   "metadata": {},
   "source": [
    "Pour cette partie nous nous sommes inspirés de ce lien : [Datascientest Regression Logistique](https://datascientest.com/regression-logistique-quest-ce-que-cest).\n",
    "\n",
    "La **régression logistique** est un **modèle statistique** permettant d’étudier les relations entre un ensemble de **variables qualitatives Xi** et une **variable qualitative Y**. Il s’agit d’un **modèle ** généralisé utilisant une **fonction logistique** comme fonction de lien. \n",
    "\n",
    "Un modèle de régression logistique permet aussi de **prédire la probabilité** qu’un événement arrive (valeur de 1 : **congestion** dans notre cas d'étude) ou non (valeur de 0 : **pas de congestion** dans notre cas d'étude) à partir de l’**optimisation des coefficients de régression**. Ce résultat varie toujours entre 0 et 1. Lorsque la valeur prédite est supérieure à un seuil, l’événement est susceptible de se produire, alors que lorsque cette valeur est inférieure au même seuil, il ne l’est pas.\n",
    "\n",
    "Mais comment cela se traduit?\n",
    "Considérons une entrée  **X= $x_1$ $x_2$ $x_3$ …  $x_n$** , la régression logistique a pour objectif de trouver une **fonction h** telle que nous puissions calculer :\n",
    "\n",
    "**y= {1   si   hX≥ seuil ,  0   si   hX< seuil}**\n",
    "\n",
    "**La fonction h** doit être une **probabilité comprise entre 0 et 1**. Le **seuil** que nous définissons conrrespond à notre **critère de classification**; on le prend généralement égal à **0.5**\n",
    "\n",
    "La fonction qui remplit le mieux ces conditions est la **fonction sigmoïde**, définie sur R à valeurs dans [0,1]. Elle s'écrit de la manière suivante : \n",
    "$$ \\text{sigma(x)} = \\frac{1}{1 + exp(-x)}$$\n"
   ]
  },
  {
   "cell_type": "markdown",
   "id": "07cbf7ab",
   "metadata": {},
   "source": [
    "### Imports"
   ]
  },
  {
   "cell_type": "code",
   "execution_count": 1,
   "id": "4174ad38",
   "metadata": {},
   "outputs": [],
   "source": [
    "# base modules\n",
    "import os\n",
    "import sys\n",
    "import copy\n",
    "import logging\n",
    "\n",
    "# custom module\n",
    "from emlyon_module.imports import *\n",
    "from emlyon_module.structured import *\n",
    "\n",
    "# for manipulating data\n",
    "from pandas_summary import DataFrameSummary\n",
    "#!pip install dill\n",
    "import dill\n",
    "\n",
    "# for Machine Learning\n",
    "from sklearn.linear_model import LogisticRegression\n",
    "from sklearn import metrics\n",
    "from sklearn.preprocessing import LabelEncoder\n",
    "from sklearn.model_selection import cross_val_score, KFold, GridSearchCV\n",
    "from sklearn.calibration import CalibratedClassifierCV\n",
    "from sklearn.inspection import permutation_importance\n",
    "from scipy.cluster import hierarchy\n",
    "\n",
    "# for visualization\n",
    "from IPython.display import display\n",
    "from matplotlib import pyplot as plt\n",
    "# !pip install -U plotnine\n",
    "# from plotnine import ggplot, aes\n",
    "# from plotnine.stats import stat_smooth\n",
    "from pdpbox import pdp\n",
    "import folium\n",
    "# plotly\n",
    "# seaborn\n",
    "# altair"
   ]
  },
  {
   "cell_type": "code",
   "execution_count": 2,
   "id": "6006a31e",
   "metadata": {},
   "outputs": [],
   "source": [
    "df_lapil42 = pd.read_csv('data/LAPIL42_final_selection.csv')"
   ]
  },
  {
   "cell_type": "code",
   "execution_count": 3,
   "id": "0d974c16",
   "metadata": {},
   "outputs": [
    {
     "data": {
      "text/plain": [
       "speed                                        0\n",
       "hour                                         0\n",
       "TV/h                                         0\n",
       "Dayofweek                                    0\n",
       "PL/h                                         0\n",
       "Vitesse du vent moyen 10 mn                  0\n",
       "VL/h                                         0\n",
       "Variation de pression en 3 heures            0\n",
       "Etat du sol                                  0\n",
       "Température                                  0\n",
       "Température minimale du sol sur 12 heures    0\n",
       "date                                         0\n",
       "congestion+30min                             0\n",
       "dtype: int64"
      ]
     },
     "execution_count": 3,
     "metadata": {},
     "output_type": "execute_result"
    }
   ],
   "source": [
    "df_lapil42.isnull().sum()"
   ]
  },
  {
   "cell_type": "markdown",
   "id": "86b3e1d9",
   "metadata": {},
   "source": [
    "### Lecture du dataset"
   ]
  },
  {
   "cell_type": "code",
   "execution_count": 4,
   "id": "966be055",
   "metadata": {},
   "outputs": [
    {
     "data": {
      "text/html": [
       "<div>\n",
       "<style scoped>\n",
       "    .dataframe tbody tr th:only-of-type {\n",
       "        vertical-align: middle;\n",
       "    }\n",
       "\n",
       "    .dataframe tbody tr th {\n",
       "        vertical-align: top;\n",
       "    }\n",
       "\n",
       "    .dataframe thead th {\n",
       "        text-align: right;\n",
       "    }\n",
       "</style>\n",
       "<table border=\"1\" class=\"dataframe\">\n",
       "  <thead>\n",
       "    <tr style=\"text-align: right;\">\n",
       "      <th></th>\n",
       "      <th>speed</th>\n",
       "      <th>hour</th>\n",
       "      <th>TV/h</th>\n",
       "      <th>Dayofweek</th>\n",
       "      <th>PL/h</th>\n",
       "      <th>Vitesse du vent moyen 10 mn</th>\n",
       "      <th>VL/h</th>\n",
       "      <th>Variation de pression en 3 heures</th>\n",
       "      <th>Etat du sol</th>\n",
       "      <th>Température</th>\n",
       "      <th>Température minimale du sol sur 12 heures</th>\n",
       "      <th>date</th>\n",
       "      <th>congestion+30min</th>\n",
       "    </tr>\n",
       "    <tr>\n",
       "      <th>date</th>\n",
       "      <th></th>\n",
       "      <th></th>\n",
       "      <th></th>\n",
       "      <th></th>\n",
       "      <th></th>\n",
       "      <th></th>\n",
       "      <th></th>\n",
       "      <th></th>\n",
       "      <th></th>\n",
       "      <th></th>\n",
       "      <th></th>\n",
       "      <th></th>\n",
       "      <th></th>\n",
       "    </tr>\n",
       "  </thead>\n",
       "  <tbody>\n",
       "    <tr>\n",
       "      <th>2019-09-23 00:00:00</th>\n",
       "      <td>87.0</td>\n",
       "      <td>0</td>\n",
       "      <td>434.0</td>\n",
       "      <td>0</td>\n",
       "      <td>141.0</td>\n",
       "      <td>2.700000</td>\n",
       "      <td>293.0</td>\n",
       "      <td>80.000000</td>\n",
       "      <td>1.000000</td>\n",
       "      <td>287.950000</td>\n",
       "      <td>286.450000</td>\n",
       "      <td>2019-09-23 00:00:00</td>\n",
       "      <td>0</td>\n",
       "    </tr>\n",
       "    <tr>\n",
       "      <th>2019-09-23 00:06:00</th>\n",
       "      <td>87.0</td>\n",
       "      <td>0</td>\n",
       "      <td>434.0</td>\n",
       "      <td>0</td>\n",
       "      <td>141.0</td>\n",
       "      <td>2.672726</td>\n",
       "      <td>293.0</td>\n",
       "      <td>76.713049</td>\n",
       "      <td>0.997336</td>\n",
       "      <td>287.919104</td>\n",
       "      <td>286.424860</td>\n",
       "      <td>2019-09-23 00:06:00</td>\n",
       "      <td>1</td>\n",
       "    </tr>\n",
       "    <tr>\n",
       "      <th>2019-09-23 00:12:00</th>\n",
       "      <td>87.0</td>\n",
       "      <td>0</td>\n",
       "      <td>520.0</td>\n",
       "      <td>0</td>\n",
       "      <td>170.0</td>\n",
       "      <td>2.642294</td>\n",
       "      <td>350.0</td>\n",
       "      <td>73.491523</td>\n",
       "      <td>0.995162</td>\n",
       "      <td>287.886406</td>\n",
       "      <td>286.398089</td>\n",
       "      <td>2019-09-23 00:12:00</td>\n",
       "      <td>0</td>\n",
       "    </tr>\n",
       "    <tr>\n",
       "      <th>2019-09-23 00:18:00</th>\n",
       "      <td>87.0</td>\n",
       "      <td>0</td>\n",
       "      <td>520.0</td>\n",
       "      <td>0</td>\n",
       "      <td>170.0</td>\n",
       "      <td>2.608704</td>\n",
       "      <td>350.0</td>\n",
       "      <td>70.335422</td>\n",
       "      <td>0.993478</td>\n",
       "      <td>287.851905</td>\n",
       "      <td>286.369686</td>\n",
       "      <td>2019-09-23 00:18:00</td>\n",
       "      <td>0</td>\n",
       "    </tr>\n",
       "    <tr>\n",
       "      <th>2019-09-23 00:24:00</th>\n",
       "      <td>86.0</td>\n",
       "      <td>0</td>\n",
       "      <td>390.0</td>\n",
       "      <td>0</td>\n",
       "      <td>120.0</td>\n",
       "      <td>2.571957</td>\n",
       "      <td>270.0</td>\n",
       "      <td>67.244747</td>\n",
       "      <td>0.992285</td>\n",
       "      <td>287.815602</td>\n",
       "      <td>286.339653</td>\n",
       "      <td>2019-09-23 00:24:00</td>\n",
       "      <td>0</td>\n",
       "    </tr>\n",
       "    <tr>\n",
       "      <th>...</th>\n",
       "      <td>...</td>\n",
       "      <td>...</td>\n",
       "      <td>...</td>\n",
       "      <td>...</td>\n",
       "      <td>...</td>\n",
       "      <td>...</td>\n",
       "      <td>...</td>\n",
       "      <td>...</td>\n",
       "      <td>...</td>\n",
       "      <td>...</td>\n",
       "      <td>...</td>\n",
       "      <td>...</td>\n",
       "      <td>...</td>\n",
       "    </tr>\n",
       "    <tr>\n",
       "      <th>2019-10-20 23:30:00</th>\n",
       "      <td>88.0</td>\n",
       "      <td>23</td>\n",
       "      <td>520.0</td>\n",
       "      <td>6</td>\n",
       "      <td>110.0</td>\n",
       "      <td>2.652161</td>\n",
       "      <td>410.0</td>\n",
       "      <td>201.973674</td>\n",
       "      <td>1.001384</td>\n",
       "      <td>283.560409</td>\n",
       "      <td>282.890517</td>\n",
       "      <td>2019-10-20 23:30:00</td>\n",
       "      <td>1</td>\n",
       "    </tr>\n",
       "    <tr>\n",
       "      <th>2019-10-20 23:36:00</th>\n",
       "      <td>85.0</td>\n",
       "      <td>23</td>\n",
       "      <td>690.0</td>\n",
       "      <td>6</td>\n",
       "      <td>140.0</td>\n",
       "      <td>2.650523</td>\n",
       "      <td>550.0</td>\n",
       "      <td>197.604785</td>\n",
       "      <td>1.001217</td>\n",
       "      <td>283.553549</td>\n",
       "      <td>282.858177</td>\n",
       "      <td>2019-10-20 23:36:00</td>\n",
       "      <td>1</td>\n",
       "    </tr>\n",
       "    <tr>\n",
       "      <th>2019-10-20 23:42:00</th>\n",
       "      <td>90.0</td>\n",
       "      <td>23</td>\n",
       "      <td>590.0</td>\n",
       "      <td>6</td>\n",
       "      <td>120.0</td>\n",
       "      <td>2.644488</td>\n",
       "      <td>470.0</td>\n",
       "      <td>193.222973</td>\n",
       "      <td>1.000995</td>\n",
       "      <td>283.549078</td>\n",
       "      <td>282.827955</td>\n",
       "      <td>2019-10-20 23:42:00</td>\n",
       "      <td>1</td>\n",
       "    </tr>\n",
       "    <tr>\n",
       "      <th>2019-10-20 23:48:00</th>\n",
       "      <td>86.0</td>\n",
       "      <td>23</td>\n",
       "      <td>510.0</td>\n",
       "      <td>6</td>\n",
       "      <td>100.0</td>\n",
       "      <td>2.634056</td>\n",
       "      <td>410.0</td>\n",
       "      <td>188.828238</td>\n",
       "      <td>1.000718</td>\n",
       "      <td>283.546996</td>\n",
       "      <td>282.799852</td>\n",
       "      <td>2019-10-20 23:48:00</td>\n",
       "      <td>1</td>\n",
       "    </tr>\n",
       "    <tr>\n",
       "      <th>2019-10-20 23:54:00</th>\n",
       "      <td>87.0</td>\n",
       "      <td>23</td>\n",
       "      <td>650.0</td>\n",
       "      <td>6</td>\n",
       "      <td>130.0</td>\n",
       "      <td>2.619226</td>\n",
       "      <td>520.0</td>\n",
       "      <td>184.420580</td>\n",
       "      <td>1.000386</td>\n",
       "      <td>283.547303</td>\n",
       "      <td>282.773867</td>\n",
       "      <td>2019-10-20 23:54:00</td>\n",
       "      <td>1</td>\n",
       "    </tr>\n",
       "  </tbody>\n",
       "</table>\n",
       "<p>6720 rows × 13 columns</p>\n",
       "</div>"
      ],
      "text/plain": [
       "                     speed  hour   TV/h  Dayofweek   PL/h  \\\n",
       "date                                                        \n",
       "2019-09-23 00:00:00   87.0     0  434.0          0  141.0   \n",
       "2019-09-23 00:06:00   87.0     0  434.0          0  141.0   \n",
       "2019-09-23 00:12:00   87.0     0  520.0          0  170.0   \n",
       "2019-09-23 00:18:00   87.0     0  520.0          0  170.0   \n",
       "2019-09-23 00:24:00   86.0     0  390.0          0  120.0   \n",
       "...                    ...   ...    ...        ...    ...   \n",
       "2019-10-20 23:30:00   88.0    23  520.0          6  110.0   \n",
       "2019-10-20 23:36:00   85.0    23  690.0          6  140.0   \n",
       "2019-10-20 23:42:00   90.0    23  590.0          6  120.0   \n",
       "2019-10-20 23:48:00   86.0    23  510.0          6  100.0   \n",
       "2019-10-20 23:54:00   87.0    23  650.0          6  130.0   \n",
       "\n",
       "                     Vitesse du vent moyen 10 mn   VL/h  \\\n",
       "date                                                      \n",
       "2019-09-23 00:00:00                     2.700000  293.0   \n",
       "2019-09-23 00:06:00                     2.672726  293.0   \n",
       "2019-09-23 00:12:00                     2.642294  350.0   \n",
       "2019-09-23 00:18:00                     2.608704  350.0   \n",
       "2019-09-23 00:24:00                     2.571957  270.0   \n",
       "...                                          ...    ...   \n",
       "2019-10-20 23:30:00                     2.652161  410.0   \n",
       "2019-10-20 23:36:00                     2.650523  550.0   \n",
       "2019-10-20 23:42:00                     2.644488  470.0   \n",
       "2019-10-20 23:48:00                     2.634056  410.0   \n",
       "2019-10-20 23:54:00                     2.619226  520.0   \n",
       "\n",
       "                     Variation de pression en 3 heures  Etat du sol  \\\n",
       "date                                                                  \n",
       "2019-09-23 00:00:00                          80.000000     1.000000   \n",
       "2019-09-23 00:06:00                          76.713049     0.997336   \n",
       "2019-09-23 00:12:00                          73.491523     0.995162   \n",
       "2019-09-23 00:18:00                          70.335422     0.993478   \n",
       "2019-09-23 00:24:00                          67.244747     0.992285   \n",
       "...                                                ...          ...   \n",
       "2019-10-20 23:30:00                         201.973674     1.001384   \n",
       "2019-10-20 23:36:00                         197.604785     1.001217   \n",
       "2019-10-20 23:42:00                         193.222973     1.000995   \n",
       "2019-10-20 23:48:00                         188.828238     1.000718   \n",
       "2019-10-20 23:54:00                         184.420580     1.000386   \n",
       "\n",
       "                     Température  Température minimale du sol sur 12 heures  \\\n",
       "date                                                                          \n",
       "2019-09-23 00:00:00   287.950000                                 286.450000   \n",
       "2019-09-23 00:06:00   287.919104                                 286.424860   \n",
       "2019-09-23 00:12:00   287.886406                                 286.398089   \n",
       "2019-09-23 00:18:00   287.851905                                 286.369686   \n",
       "2019-09-23 00:24:00   287.815602                                 286.339653   \n",
       "...                          ...                                        ...   \n",
       "2019-10-20 23:30:00   283.560409                                 282.890517   \n",
       "2019-10-20 23:36:00   283.553549                                 282.858177   \n",
       "2019-10-20 23:42:00   283.549078                                 282.827955   \n",
       "2019-10-20 23:48:00   283.546996                                 282.799852   \n",
       "2019-10-20 23:54:00   283.547303                                 282.773867   \n",
       "\n",
       "                                    date  congestion+30min  \n",
       "date                                                        \n",
       "2019-09-23 00:00:00  2019-09-23 00:00:00                 0  \n",
       "2019-09-23 00:06:00  2019-09-23 00:06:00                 1  \n",
       "2019-09-23 00:12:00  2019-09-23 00:12:00                 0  \n",
       "2019-09-23 00:18:00  2019-09-23 00:18:00                 0  \n",
       "2019-09-23 00:24:00  2019-09-23 00:24:00                 0  \n",
       "...                                  ...               ...  \n",
       "2019-10-20 23:30:00  2019-10-20 23:30:00                 1  \n",
       "2019-10-20 23:36:00  2019-10-20 23:36:00                 1  \n",
       "2019-10-20 23:42:00  2019-10-20 23:42:00                 1  \n",
       "2019-10-20 23:48:00  2019-10-20 23:48:00                 1  \n",
       "2019-10-20 23:54:00  2019-10-20 23:54:00                 1  \n",
       "\n",
       "[6720 rows x 13 columns]"
      ]
     },
     "execution_count": 4,
     "metadata": {},
     "output_type": "execute_result"
    }
   ],
   "source": [
    "df_lapil42 = df_lapil42.set_index(df_lapil42['date'])\n",
    "df_lapil42"
   ]
  },
  {
   "cell_type": "markdown",
   "id": "c8766c2d",
   "metadata": {},
   "source": [
    "### Split du dataframe df_lapil42"
   ]
  },
  {
   "cell_type": "code",
   "execution_count": 5,
   "id": "5f57cc3a",
   "metadata": {},
   "outputs": [],
   "source": [
    "df, y, nas = proc_df(df_lapil42, 'congestion+30min')"
   ]
  },
  {
   "cell_type": "code",
   "execution_count": 6,
   "id": "9933e47e",
   "metadata": {},
   "outputs": [],
   "source": [
    "def split_vals(df, n): \n",
    "\n",
    "    return df[:n].copy(), df[n:].copy()"
   ]
  },
  {
   "cell_type": "code",
   "execution_count": 7,
   "id": "8c37edb0",
   "metadata": {},
   "outputs": [
    {
     "name": "stdout",
     "output_type": "stream",
     "text": [
      "Number of full training data points: X = (4503, 12), y = (4503,)\n",
      "Number of validation data points: X = (2217, 12), y = (2217,)\n"
     ]
    }
   ],
   "source": [
    "n_total = len(df)\n",
    "n_valid = int(0.33 * n_total)\n",
    "n_train = n_total - n_valid\n",
    "#n_small = 20000\n",
    "\n",
    "\n",
    "X_train, X_valid = split_vals(df, n_train)\n",
    "y_train, y_valid = split_vals(y, n_train)\n",
    "\n",
    "# X_small, _ = split_vals(df, n_small)\n",
    "# y_small, _ = split_vals(y, n_small)\n",
    "\n",
    "#print('Number of small training data points: X = {}, y = {}'.format(X_small.shape, y_small.shape))\n",
    "print('Number of full training data points: X = {}, y = {}'.format(X_train.shape, y_train.shape))\n",
    "print('Number of validation data points: X = {}, y = {}'.format(X_valid.shape, y_valid.shape))"
   ]
  },
  {
   "cell_type": "markdown",
   "id": "ac5db4ec",
   "metadata": {},
   "source": [
    "### Regression logistique"
   ]
  },
  {
   "cell_type": "markdown",
   "id": "2e7421e5",
   "metadata": {},
   "source": [
    "Dans le but d'avoir une meilleure estimation de la qualité d'un classificateur binaire, nous utilisons quatre différents scores qui sont:\n",
    "\n",
    "- Accuracy\n",
    "- Recall\n",
    "- Precision\n",
    "- Specificity\n",
    "\n",
    "Dans l'ensemble, les scores de **Recall** et de **Precision** sont en général les plus informatifs concernant la qualité d'un classificateur binaire. Ces deux score sont souvent fusionnés en un seul appelé **F1-score**. Sa formule est la suivante :\n",
    "\n",
    "$$ \\text{F}_1\\text{-score} = 2. \\frac{\\text{Precision} \\times \\text{Recall}}{\\text{Precision} + \\text{Recall}}$$"
   ]
  },
  {
   "cell_type": "markdown",
   "id": "894e3784",
   "metadata": {},
   "source": [
    "#### Spécificité du modèle"
   ]
  },
  {
   "cell_type": "code",
   "execution_count": 11,
   "id": "937caca7",
   "metadata": {},
   "outputs": [],
   "source": [
    "def specificity_score(y_true, y_predict):\n",
    "    '''\n",
    "    Computes the proba that a label is 0 knowing that the prediction is 0\n",
    "    '''\n",
    "    y_predict_0  = [(pred, true) for pred, true in zip(y_predict, y_true) if true == 0]\n",
    "    y_predict_00 = [(pred, true) for pred, true in y_predict_0 if pred == 0]\n",
    "    specificity  = (0 if len(y_predict_0) == 0 else len(y_predict_00)/len(y_predict_0))\n",
    "    return specificity"
   ]
  },
  {
   "cell_type": "code",
   "execution_count": 14,
   "id": "1ce288f1",
   "metadata": {},
   "outputs": [],
   "source": [
    "def classifier_metrics (y_test, y_preds, average='weighted'):\n",
    "    \"\"\"Return Accuracy, Recall, Precision and F-1 score. \n",
    "    Average can take two arguments : macro or weighted \"\"\"\n",
    "\n",
    "    acc = metrics.accuracy_score(y_test, y_preds)\n",
    "    rec = metrics.recall_score(y_test, y_preds, sample_weight = None)\n",
    "    prc = metrics.precision_score(y_test, y_preds, sample_weight = None)\n",
    "    spe = specificity_score(y_valid, y_predict_valid)\n",
    "    f1  = metrics.f1_score(y_test, y_preds, sample_weight = None)\n",
    "\n",
    "    print('Accuracy : {:.2f}%'.format(acc*100))\n",
    "    print('Recall : {:.2f}%'.format(rec*100))\n",
    "    print('Precision : {:.2f}%'.format(prc*100))\n",
    "    print('Specificity : {:.2f}%'.format(spe*100))\n",
    "    print('F1-score : {:.2f}%'.format(f1*100))"
   ]
  },
  {
   "cell_type": "markdown",
   "id": "85ed48a0",
   "metadata": {},
   "source": [
    "Faisons un modèle de base avec les paramètres par défaut et voyons ce qu'on a comme résultat."
   ]
  },
  {
   "cell_type": "code",
   "execution_count": 8,
   "id": "0a29ebdc",
   "metadata": {},
   "outputs": [],
   "source": [
    "base_model = LogisticRegression()"
   ]
  },
  {
   "cell_type": "code",
   "execution_count": 9,
   "id": "ede8fa36",
   "metadata": {},
   "outputs": [
    {
     "data": {
      "text/plain": [
       "LogisticRegression()"
      ]
     },
     "execution_count": 9,
     "metadata": {},
     "output_type": "execute_result"
    }
   ],
   "source": [
    "base_model.fit(X_train,y_train)"
   ]
  },
  {
   "cell_type": "markdown",
   "id": "f8c3b0d8",
   "metadata": {},
   "source": [
    "Ayant une quantité de données assez limitée, nous utiliserons uniquement la cross validation pour vérifier nos résultats. Nous conservons le jeu de données test pour la phase finale de notre travail"
   ]
  },
  {
   "cell_type": "markdown",
   "id": "7da662c7",
   "metadata": {},
   "source": [
    "## Cross validation"
   ]
  },
  {
   "cell_type": "code",
   "execution_count": 19,
   "id": "ae044bf7",
   "metadata": {},
   "outputs": [
    {
     "data": {
      "text/plain": [
       "0.7525613150831681"
      ]
     },
     "execution_count": 19,
     "metadata": {},
     "output_type": "execute_result"
    }
   ],
   "source": [
    "cv_score = cross_val_score(base_model, X_train, y_train, cv=10, scoring= 'f1').mean()\n",
    "cv_score"
   ]
  },
  {
   "cell_type": "markdown",
   "id": "7264391d",
   "metadata": {},
   "source": [
    "## Choix des paramètres du modèle de regression linéaire"
   ]
  },
  {
   "cell_type": "markdown",
   "id": "22b41f92",
   "metadata": {},
   "source": [
    "### $\\bullet$ Choix de la pénalité à appliquer"
   ]
  },
  {
   "cell_type": "code",
   "execution_count": 24,
   "id": "9d05fe3c",
   "metadata": {},
   "outputs": [
    {
     "data": {
      "text/plain": [
       "{'l1': 0.6856394635924064,\n",
       " 'l2': 0.6856394635924064,\n",
       " 'elasticnet': 0.6856394635924064,\n",
       " 'none': 0.6856394635924064}"
      ]
     },
     "execution_count": 24,
     "metadata": {},
     "output_type": "execute_result"
    }
   ],
   "source": [
    "f1_results = {}\n",
    "for pen in ['l1', 'l2','elasticnet', 'none']:\n",
    "    if pen == 'elasticnet':\n",
    "        ratio = 0.5\n",
    "    else:\n",
    "        ratio = None\n",
    "    model = LogisticRegression(penalty=pen, class_weight= 'balanced',solver = 'saga', random_state=42, l1_ratio = ratio, n_jobs=-1)\n",
    "    model.fit(X_train,y_train)\n",
    "    mean_score = cross_val_score(model, X_train, y_train, scoring=\"f1\", cv = 7).mean()\n",
    "\n",
    "    f1_results[pen] = mean_score\n",
    "    \n",
    "f1_results\n",
    "    "
   ]
  },
  {
   "cell_type": "markdown",
   "id": "30319c74",
   "metadata": {},
   "source": [
    "Nous avons le même résultat peu importe la pénalité choisie. Nous ferons donc un choix entre les pénalités **$l_1$** et **$l_2$**. Selectionnons le solver."
   ]
  },
  {
   "cell_type": "markdown",
   "id": "1369ef50",
   "metadata": {},
   "source": [
    "### $\\bullet$ Choix du solver"
   ]
  },
  {
   "cell_type": "code",
   "execution_count": 29,
   "id": "3a084cc0",
   "metadata": {},
   "outputs": [
    {
     "data": {
      "text/plain": [
       "{'l1_liblinear': 0.7380425408561714,\n",
       " 'l1_saga': 0.6938622168264773,\n",
       " 'l2_newton-cg': 0.7231590681458547,\n",
       " 'l2_lbfgs': 0.7518569378323287,\n",
       " 'l2_liblinear': 0.7433357691988115,\n",
       " 'l2_sag': 0.7104292046561695,\n",
       " 'l2_saga': 0.6946014807228135}"
      ]
     },
     "execution_count": 29,
     "metadata": {},
     "output_type": "execute_result"
    }
   ],
   "source": [
    "f1_results = {}\n",
    "for pen in ['l1', 'l2']:\n",
    "    if pen == 'l1':\n",
    "        for sol in ['liblinear', 'saga']:\n",
    "            model = LogisticRegression(penalty=pen, class_weight= 'balanced',solver = sol, l1_ratio = None, n_jobs=-1)\n",
    "            model.fit(X_train,y_train)\n",
    "            mean_score = cross_val_score(model, X_train, y_train, scoring=\"f1\", cv = 10).mean()\n",
    "\n",
    "            f1_results[pen+ '_' + sol] = mean_score  \n",
    "    else:\n",
    "        for sol in ['newton-cg', 'lbfgs','liblinear', 'sag', 'saga']:\n",
    "            model = LogisticRegression(penalty=pen, class_weight= 'balanced',solver = sol, l1_ratio = None, n_jobs=-1)\n",
    "            model.fit(X_train,y_train)\n",
    "            mean_score = cross_val_score(model, X_train, y_train, scoring=\"f1\", cv = 10).mean()\n",
    "\n",
    "            f1_results[pen+ '_' + sol] = mean_score\n",
    "    \n",
    "f1_results"
   ]
  },
  {
   "cell_type": "markdown",
   "id": "a2eafabd",
   "metadata": {},
   "source": [
    "Nous allons donc choisir la pénalité **$l_2$** ainsi que le solver **lbfgs** au vue de nos précédents résultats."
   ]
  },
  {
   "cell_type": "code",
   "execution_count": 34,
   "id": "7fe7b878",
   "metadata": {},
   "outputs": [],
   "source": [
    "model = LogisticRegression(penalty='l1', class_weight= 'balanced', solver= 'liblinear', random_state=42)"
   ]
  },
  {
   "cell_type": "code",
   "execution_count": 35,
   "id": "da021349",
   "metadata": {},
   "outputs": [
    {
     "data": {
      "text/plain": [
       "LogisticRegression(class_weight='balanced', penalty='l1', random_state=42,\n",
       "                   solver='liblinear')"
      ]
     },
     "execution_count": 35,
     "metadata": {},
     "output_type": "execute_result"
    }
   ],
   "source": [
    "model.fit(X_train,y_train)"
   ]
  },
  {
   "cell_type": "code",
   "execution_count": 36,
   "id": "b9e4f21d",
   "metadata": {},
   "outputs": [],
   "source": [
    "def specificity_score(y_true, y_predict):\n",
    "    '''\n",
    "    Computes the proba that a label is 0 knowing that the prediction is 0\n",
    "    '''\n",
    "    y_predict_0  = [(pred, true) for pred, true in zip(y_predict, y_true) if true == 0]\n",
    "    y_predict_00 = [(pred, true) for pred, true in y_predict_0 if pred == 0]\n",
    "    specificity  = (0 if len(y_predict_0) == 0 else len(y_predict_00)/len(y_predict_0))\n",
    "    return specificity"
   ]
  },
  {
   "cell_type": "code",
   "execution_count": 37,
   "id": "36d34d85",
   "metadata": {},
   "outputs": [
    {
     "name": "stdout",
     "output_type": "stream",
     "text": [
      "Accuracy : 92.42%\n",
      "Recall : 82.29%\n",
      "Precision : 74.57%\n",
      "Specificity : 94.43%\n",
      "F1-score : 78.24%\n"
     ]
    }
   ],
   "source": [
    "y_predict_valid = model.predict(X_valid)\n",
    "\n",
    "acc = metrics.accuracy_score(y_valid, y_predict_valid)\n",
    "rec = metrics.recall_score(y_valid, y_predict_valid)\n",
    "prc = metrics.precision_score(y_valid, y_predict_valid)\n",
    "spe = specificity_score(y_valid, y_predict_valid)\n",
    "f1  = metrics.f1_score(y_valid, y_predict_valid)\n",
    "\n",
    "print('Accuracy : {:.2f}%'.format(acc*100))\n",
    "print('Recall : {:.2f}%'.format(rec*100))\n",
    "print('Precision : {:.2f}%'.format(prc*100))\n",
    "print('Specificity : {:.2f}%'.format(spe*100))\n",
    "print('F1-score : {:.2f}%'.format(f1*100))"
   ]
  },
  {
   "cell_type": "markdown",
   "id": "9f28605b",
   "metadata": {},
   "source": [
    "### Courbe de Precision - Recall  et sélection du seuil"
   ]
  },
  {
   "cell_type": "code",
   "execution_count": 92,
   "id": "02719fec",
   "metadata": {},
   "outputs": [],
   "source": [
    "def precision_recall_curve_with_threshold(targets, probas, threshold = 0.5):\n",
    "    \n",
    "    def sort_pair(X, Y):\n",
    "        rangee = [(x, y) for x, y in sorted(zip(X, Y), key = lambda pair: pair[0])]\n",
    "        return [pair[0] for pair in rangee], [pair[1] for pair in rangee]\n",
    "    \n",
    "    # --- main\n",
    "    targets, probas = sort_pair(targets, probas)\n",
    "    precision, recall, thresholds = metrics.precision_recall_curve(targets, probas)\n",
    "    \n",
    "    # calculate precision-recall AUC\n",
    "    auc_val = metrics.auc(recall, precision)\n",
    "    print('Area Under Curve (AUC) : {:.3f}'.format(auc_val))\n",
    "    # plot no skill\n",
    "    if threshold is not None : \n",
    "        index = len([y for y in thresholds if y <= threshold]) # thresholds are sorted\n",
    "\n",
    "        print('Recall with threshold = {}: {:.2f}%'.format(threshold, recall[index]*100))\n",
    "        print('Precision with threshold = {} : {:.2f}%'.format(threshold, precision[index]*100))\n",
    "\n",
    "        plt.plot([0, 1], [precision[index], precision[index]], linestyle='--', color = 'grey')\n",
    "        plt.plot([recall[index], recall[index]], [0, 1], linestyle='--', color = 'grey')\n",
    "        \n",
    "        # plot the precision-recall curve for the model\n",
    "        plt.plot(recall[:index], precision[:index], color = 'navy', marker='.')\n",
    "        plt.plot(recall[index:], precision[index:], color = 'orange', marker='.')\n",
    "        \n",
    "        # show the plot\n",
    "        plt.title('Precision-Recall curve with threshold = {}'.format(threshold))\n",
    "        plt.xlabel('Recall $P(\\, \\widehat{1}\\, | 1)$')\n",
    "        plt.ylabel('Precision $P(\\, 1\\, | \\widehat{1})$                                ', rotation = 'horizontal')\n",
    "    else :\n",
    "        # plot the precision-recall curve for the model\n",
    "        plt.plot(recall, precision, color = 'orange', marker='.')\n",
    "        \n",
    "        # show the plot\n",
    "        plt.title('Precision-Recall curve')\n",
    "        plt.xlabel('Recall $P(\\, \\widehat{1}\\, | 1)$')\n",
    "        plt.ylabel('Precision $P(\\, 1\\, | \\widehat{1})$                                ', rotation = 'horizontal')\n",
    "\n",
    "    plt.show()\n",
    "    return"
   ]
  },
  {
   "cell_type": "code",
   "execution_count": 93,
   "id": "98765f83",
   "metadata": {},
   "outputs": [
    {
     "data": {
      "text/plain": [
       "1.0"
      ]
     },
     "execution_count": 93,
     "metadata": {},
     "output_type": "execute_result"
    }
   ],
   "source": [
    "# Le label prédit est 1 (Congestion) précisement quand sa probabilité estimée est >= 0.5\n",
    "threshold = 0.5\n",
    "\n",
    "probas_1 = model.predict_proba(X_valid)[:, 1]\n",
    "prob_labels = [int(p > threshold) for p in probas_1]\n",
    "\n",
    "pred_labels = model.predict(X_valid)\n",
    "\n",
    "sum(prob_labels == pred_labels)/len(pred_labels)"
   ]
  },
  {
   "cell_type": "code",
   "execution_count": 94,
   "id": "8ce33247",
   "metadata": {},
   "outputs": [
    {
     "data": {
      "text/plain": [
       "<sklearn.metrics._plot.precision_recall_curve.PrecisionRecallDisplay at 0x232d9a3b550>"
      ]
     },
     "execution_count": 94,
     "metadata": {},
     "output_type": "execute_result"
    },
    {
     "data": {
      "image/png": "[encoded data removed]",
      "text/plain": [
       "<Figure size 432x288 with 1 Axes>"
      ]
     },
     "metadata": {
      "needs_background": "light"
     },
     "output_type": "display_data"
    }
   ],
   "source": [
    "# beware that y axis is along [0.5, 1]\n",
    "rec_prc_curve = metrics.plot_precision_recall_curve(model, X_valid, y_valid)\n",
    "rec_prc_curve"
   ]
  },
  {
   "cell_type": "code",
   "execution_count": 95,
   "id": "4d70726e",
   "metadata": {},
   "outputs": [
    {
     "name": "stdout",
     "output_type": "stream",
     "text": [
      "Accuracy : 92.42%\n",
      "Recall : 82.29%\n",
      "Precision : 74.57%\n",
      "Specificity : 94.43%\n",
      "F1-score : 78.24%\n"
     ]
    }
   ],
   "source": [
    "y_predict_valid = model.predict(X_valid)\n",
    "\n",
    "acc = metrics.accuracy_score(y_valid, y_predict_valid)\n",
    "rec = metrics.recall_score(y_valid, y_predict_valid)\n",
    "prc = metrics.precision_score(y_valid, y_predict_valid)\n",
    "spe = specificity_score(y_valid, y_predict_valid)\n",
    "f1  = metrics.f1_score(y_valid, y_predict_valid)\n",
    "\n",
    "print('Accuracy : {:.2f}%'.format(acc*100))\n",
    "print('Recall : {:.2f}%'.format(rec*100))\n",
    "print('Precision : {:.2f}%'.format(prc*100))\n",
    "print('Specificity : {:.2f}%'.format(spe*100))\n",
    "print('F1-score : {:.2f}%'.format(f1*100))"
   ]
  },
  {
   "cell_type": "code",
   "execution_count": 96,
   "id": "caba3023",
   "metadata": {},
   "outputs": [
    {
     "name": "stdout",
     "output_type": "stream",
     "text": [
      "Accuracy : 93.50%\n",
      "Recall : 80.93%\n",
      "Precision : 80.05%\n",
      "Specificity : 96.00%\n",
      "F1-score : 80.49%\n"
     ]
    }
   ],
   "source": [
    "probs = model.predict_proba(X_valid)[:, 1] \n",
    "preds = [int(prob > 0.55) for prob in probs]\n",
    "y_predict_valid = preds\n",
    "\n",
    "acc = metrics.accuracy_score(y_valid, y_predict_valid)\n",
    "rec = metrics.recall_score(y_valid, y_predict_valid)\n",
    "prc = metrics.precision_score(y_valid, y_predict_valid)\n",
    "spe = specificity_score(y_valid, y_predict_valid)\n",
    "f1  = metrics.f1_score(y_valid, y_predict_valid)\n",
    "\n",
    "print('Accuracy : {:.2f}%'.format(acc*100))\n",
    "print('Recall : {:.2f}%'.format(rec*100))\n",
    "print('Precision : {:.2f}%'.format(prc*100))\n",
    "print('Specificity : {:.2f}%'.format(spe*100))\n",
    "print('F1-score : {:.2f}%'.format(f1*100))"
   ]
  },
  {
   "cell_type": "markdown",
   "id": "43e32013",
   "metadata": {},
   "source": [
    "Avec un seuil de 0.55, on semble avoir un classifieur plus équilibré."
   ]
  },
  {
   "cell_type": "code",
   "execution_count": 38,
   "id": "f0e969cf",
   "metadata": {},
   "outputs": [
    {
     "name": "stdout",
     "output_type": "stream",
     "text": [
      "              precision    recall  f1-score   support\n",
      "\n",
      "           0       0.96      0.94      0.95      1850\n",
      "           1       0.75      0.82      0.78       367\n",
      "\n",
      "    accuracy                           0.92      2217\n",
      "   macro avg       0.85      0.88      0.87      2217\n",
      "weighted avg       0.93      0.92      0.93      2217\n",
      "\n"
     ]
    }
   ],
   "source": [
    "y_predict_valid = model.predict(X_valid)\n",
    "\n",
    "report = metrics.classification_report(\n",
    "    y_valid, \n",
    "    y_predict_valid, \n",
    ")\n",
    "print(report)"
   ]
  },
  {
   "cell_type": "markdown",
   "id": "aefb0453",
   "metadata": {},
   "source": [
    "### $\\bullet$ Construction de la matrice de confusion"
   ]
  },
  {
   "cell_type": "code",
   "execution_count": 39,
   "id": "e4376191",
   "metadata": {},
   "outputs": [
    {
     "data": {
      "text/plain": [
       "array([[1747,  103],\n",
       "       [  65,  302]], dtype=int64)"
      ]
     },
     "execution_count": 39,
     "metadata": {},
     "output_type": "execute_result"
    }
   ],
   "source": [
    "from sklearn.metrics import confusion_matrix\n",
    "cm = confusion_matrix(y_valid, y_predict_valid)\n",
    "cm"
   ]
  },
  {
   "cell_type": "code",
   "execution_count": 40,
   "id": "7fb5f101",
   "metadata": {},
   "outputs": [
    {
     "data": {
      "text/plain": [
       "<sklearn.metrics._plot.confusion_matrix.ConfusionMatrixDisplay at 0x222391a2c18>"
      ]
     },
     "execution_count": 40,
     "metadata": {},
     "output_type": "execute_result"
    },
    {
     "data": {
      "image/png": "[encoded data removed]",
      "text/plain": [
       "<Figure size 720x720 with 2 Axes>"
      ]
     },
     "metadata": {
      "needs_background": "light"
     },
     "output_type": "display_data"
    }
   ],
   "source": [
    "fig, ax = plt.subplots(figsize=(10, 10))\n",
    "\n",
    "metrics.plot_confusion_matrix(\n",
    "    model, \n",
    "    X_valid, \n",
    "    y_valid, \n",
    "    #display_labels = [str(interval) for interval in label_encoder.classes_.tolist()],\n",
    "    include_values = True, \n",
    "    xticks_rotation = 45, \n",
    "    values_format = None, \n",
    "    cmap = 'viridis', \n",
    "    ax = ax,\n",
    "    colorbar = True,\n",
    ")"
   ]
  },
  {
   "cell_type": "code",
   "execution_count": null,
   "id": "e039e9de",
   "metadata": {},
   "outputs": [],
   "source": []
  }
 ],
 "metadata": {
  "kernelspec": {
   "display_name": "Python 3",
   "language": "python",
   "name": "python3"
  },
  "language_info": {
   "codemirror_mode": {
    "name": "ipython",
    "version": 3
   },
   "file_extension": ".py",
   "mimetype": "text/x-python",
   "name": "python",
   "nbconvert_exporter": "python",
   "pygments_lexer": "ipython3",
   "version": "3.6.13"
  }
 },
 "nbformat": 4,
 "nbformat_minor": 5
}
