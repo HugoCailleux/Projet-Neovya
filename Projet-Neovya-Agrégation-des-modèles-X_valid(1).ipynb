{
 "cells": [
  {
   "cell_type": "markdown",
   "id": "5f558b4b",
   "metadata": {},
   "source": [
    "## Imports"
   ]
  },
  {
   "cell_type": "code",
   "execution_count": 145,
   "id": "06169679",
   "metadata": {},
   "outputs": [],
   "source": [
    "import os\n",
    "import pandas as pd\n",
    "import numpy as np\n",
    "from matplotlib import pyplot as plt\n",
    "import math\n",
    "from sklearn import metrics\n",
    "from sklearn.ensemble import RandomForestClassifier\n",
    "from sklearn.model_selection import cross_val_score\n",
    "from sklearn.neighbors import KNeighborsClassifier\n",
    "from sklearn.naive_bayes import GaussianNB\n",
    "from sklearn.naive_bayes import BernoulliNB\n",
    "from sklearn.linear_model import LogisticRegression\n",
    "from statsmodels.tsa.arima_model import ARIMA"
   ]
  },
  {
   "cell_type": "code",
   "execution_count": 11,
   "id": "3a0d7687",
   "metadata": {},
   "outputs": [],
   "source": [
    "df_lapil42 = pd.read_csv('data/LAPIL42_final_selection.csv')"
   ]
  },
  {
   "cell_type": "code",
   "execution_count": 10,
   "id": "822433f7",
   "metadata": {},
   "outputs": [
    {
     "data": {
      "text/html": [
       "<div>\n",
       "<style scoped>\n",
       "    .dataframe tbody tr th:only-of-type {\n",
       "        vertical-align: middle;\n",
       "    }\n",
       "\n",
       "    .dataframe tbody tr th {\n",
       "        vertical-align: top;\n",
       "    }\n",
       "\n",
       "    .dataframe thead th {\n",
       "        text-align: right;\n",
       "    }\n",
       "</style>\n",
       "<table border=\"1\" class=\"dataframe\">\n",
       "  <thead>\n",
       "    <tr style=\"text-align: right;\">\n",
       "      <th></th>\n",
       "      <th>speed</th>\n",
       "      <th>hour</th>\n",
       "      <th>TV/h</th>\n",
       "      <th>Dayofweek</th>\n",
       "      <th>PL/h</th>\n",
       "      <th>Vitesse du vent moyen 10 mn</th>\n",
       "      <th>VL/h</th>\n",
       "      <th>Variation de pression en 3 heures</th>\n",
       "      <th>Etat du sol</th>\n",
       "      <th>Température</th>\n",
       "      <th>Température minimale du sol sur 12 heures</th>\n",
       "      <th>date</th>\n",
       "      <th>congestion+30min</th>\n",
       "    </tr>\n",
       "  </thead>\n",
       "  <tbody>\n",
       "    <tr>\n",
       "      <th>0</th>\n",
       "      <td>87.0</td>\n",
       "      <td>0</td>\n",
       "      <td>434.0</td>\n",
       "      <td>0</td>\n",
       "      <td>141.0</td>\n",
       "      <td>2.700000</td>\n",
       "      <td>293.0</td>\n",
       "      <td>80.000000</td>\n",
       "      <td>1.000000</td>\n",
       "      <td>287.950000</td>\n",
       "      <td>286.450000</td>\n",
       "      <td>2019-09-23 00:00:00</td>\n",
       "      <td>0</td>\n",
       "    </tr>\n",
       "    <tr>\n",
       "      <th>1</th>\n",
       "      <td>87.0</td>\n",
       "      <td>0</td>\n",
       "      <td>434.0</td>\n",
       "      <td>0</td>\n",
       "      <td>141.0</td>\n",
       "      <td>2.672726</td>\n",
       "      <td>293.0</td>\n",
       "      <td>76.713049</td>\n",
       "      <td>0.997336</td>\n",
       "      <td>287.919104</td>\n",
       "      <td>286.424860</td>\n",
       "      <td>2019-09-23 00:06:00</td>\n",
       "      <td>1</td>\n",
       "    </tr>\n",
       "    <tr>\n",
       "      <th>2</th>\n",
       "      <td>87.0</td>\n",
       "      <td>0</td>\n",
       "      <td>520.0</td>\n",
       "      <td>0</td>\n",
       "      <td>170.0</td>\n",
       "      <td>2.642294</td>\n",
       "      <td>350.0</td>\n",
       "      <td>73.491523</td>\n",
       "      <td>0.995162</td>\n",
       "      <td>287.886406</td>\n",
       "      <td>286.398089</td>\n",
       "      <td>2019-09-23 00:12:00</td>\n",
       "      <td>0</td>\n",
       "    </tr>\n",
       "    <tr>\n",
       "      <th>3</th>\n",
       "      <td>87.0</td>\n",
       "      <td>0</td>\n",
       "      <td>520.0</td>\n",
       "      <td>0</td>\n",
       "      <td>170.0</td>\n",
       "      <td>2.608704</td>\n",
       "      <td>350.0</td>\n",
       "      <td>70.335422</td>\n",
       "      <td>0.993478</td>\n",
       "      <td>287.851905</td>\n",
       "      <td>286.369686</td>\n",
       "      <td>2019-09-23 00:18:00</td>\n",
       "      <td>0</td>\n",
       "    </tr>\n",
       "    <tr>\n",
       "      <th>4</th>\n",
       "      <td>86.0</td>\n",
       "      <td>0</td>\n",
       "      <td>390.0</td>\n",
       "      <td>0</td>\n",
       "      <td>120.0</td>\n",
       "      <td>2.571957</td>\n",
       "      <td>270.0</td>\n",
       "      <td>67.244747</td>\n",
       "      <td>0.992285</td>\n",
       "      <td>287.815602</td>\n",
       "      <td>286.339653</td>\n",
       "      <td>2019-09-23 00:24:00</td>\n",
       "      <td>0</td>\n",
       "    </tr>\n",
       "  </tbody>\n",
       "</table>\n",
       "</div>"
      ],
      "text/plain": [
       "   speed  hour   TV/h  Dayofweek   PL/h  Vitesse du vent moyen 10 mn   VL/h  \\\n",
       "0   87.0     0  434.0          0  141.0                     2.700000  293.0   \n",
       "1   87.0     0  434.0          0  141.0                     2.672726  293.0   \n",
       "2   87.0     0  520.0          0  170.0                     2.642294  350.0   \n",
       "3   87.0     0  520.0          0  170.0                     2.608704  350.0   \n",
       "4   86.0     0  390.0          0  120.0                     2.571957  270.0   \n",
       "\n",
       "   Variation de pression en 3 heures  Etat du sol  Température  \\\n",
       "0                          80.000000     1.000000   287.950000   \n",
       "1                          76.713049     0.997336   287.919104   \n",
       "2                          73.491523     0.995162   287.886406   \n",
       "3                          70.335422     0.993478   287.851905   \n",
       "4                          67.244747     0.992285   287.815602   \n",
       "\n",
       "   Température minimale du sol sur 12 heures                 date  \\\n",
       "0                                 286.450000  2019-09-23 00:00:00   \n",
       "1                                 286.424860  2019-09-23 00:06:00   \n",
       "2                                 286.398089  2019-09-23 00:12:00   \n",
       "3                                 286.369686  2019-09-23 00:18:00   \n",
       "4                                 286.339653  2019-09-23 00:24:00   \n",
       "\n",
       "   congestion+30min  \n",
       "0                 0  \n",
       "1                 1  \n",
       "2                 0  \n",
       "3                 0  \n",
       "4                 0  "
      ]
     },
     "execution_count": 10,
     "metadata": {},
     "output_type": "execute_result"
    }
   ],
   "source": [
    "df_lapil42.head()"
   ]
  },
  {
   "cell_type": "markdown",
   "id": "6103cc76",
   "metadata": {},
   "source": [
    "## Etapes \n",
    "\n",
    "- 3 méthodes ont été testées sur le capteurs LAPI L42 avec l'horizon de prédiction de 30 minutes :\n",
    "    1. Par aggrégation des probabilités \n",
    "    2. Par vote \n",
    "    3. Par utilisation d'un modèle de forêt aléatoire\n",
    "    \n",
    "\n",
    "- La troisième méthode a été la plus efficace, nous l'avons donc appliqué à tout les capteurs et tous les horizons de temps dans un second temps."
   ]
  },
  {
   "cell_type": "markdown",
   "id": "0eb46d62",
   "metadata": {},
   "source": [
    "## Echantillonage du jeu de données"
   ]
  },
  {
   "cell_type": "code",
   "execution_count": 12,
   "id": "e715d447",
   "metadata": {},
   "outputs": [],
   "source": [
    "def split_vals(df, n): \n",
    "    return df[:n].copy(), df[n:].copy()"
   ]
  },
  {
   "cell_type": "code",
   "execution_count": 13,
   "id": "bd50edfb",
   "metadata": {},
   "outputs": [],
   "source": [
    "Df = df_lapil42.drop(['congestion+30min', 'date'], axis = 1)\n",
    "y = df_lapil42['congestion+30min']"
   ]
  },
  {
   "cell_type": "code",
   "execution_count": 14,
   "id": "80d9bbc3",
   "metadata": {},
   "outputs": [],
   "source": [
    "n_total = len(df_lapil42)\n",
    "n_test = 1500 #arbitrary\n",
    "n_train = n_total - n_test"
   ]
  },
  {
   "cell_type": "code",
   "execution_count": 15,
   "id": "a46a89ea",
   "metadata": {},
   "outputs": [
    {
     "name": "stdout",
     "output_type": "stream",
     "text": [
      "Number of full training data points: X = (5220, 11), y = (5220,)\n",
      "Number of validation data points: X = (1500, 11), y = (1500,)\n"
     ]
    }
   ],
   "source": [
    "X_train, X_valid = split_vals(Df, n_train)\n",
    "y_train, y_valid = split_vals(y, n_train)\n",
    "\n",
    "print('Number of full training data points: X = {}, y = {}'.format(X_train.shape, y_train.shape))\n",
    "print('Number of validation data points: X = {}, y = {}'.format(X_valid.shape, y_valid.shape))"
   ]
  },
  {
   "cell_type": "markdown",
   "id": "8388e512",
   "metadata": {},
   "source": [
    "## LAPIL42"
   ]
  },
  {
   "cell_type": "markdown",
   "id": "364981cc",
   "metadata": {},
   "source": [
    "### Modèles :"
   ]
  },
  {
   "cell_type": "markdown",
   "id": "f6e55baa",
   "metadata": {},
   "source": [
    "#### KNN"
   ]
  },
  {
   "cell_type": "code",
   "execution_count": 33,
   "id": "3c5c3478",
   "metadata": {},
   "outputs": [],
   "source": [
    "knn_model = KNeighborsClassifier(\n",
    "    n_neighbors=9,\n",
    "    weights='distance',\n",
    "    algorithm='auto',\n",
    "    leaf_size=30,\n",
    "    p=1,\n",
    "    metric='manhattan',\n",
    "    metric_params=None,\n",
    "    n_jobs=-1,\n",
    "    )    "
   ]
  },
  {
   "cell_type": "code",
   "execution_count": 19,
   "id": "a4bc90e5",
   "metadata": {},
   "outputs": [],
   "source": [
    "X_knn_train = X_train[['speed', 'hour']]"
   ]
  },
  {
   "cell_type": "markdown",
   "id": "4c0c6613",
   "metadata": {},
   "source": [
    "### Random Forest"
   ]
  },
  {
   "cell_type": "code",
   "execution_count": 20,
   "id": "46651d50",
   "metadata": {},
   "outputs": [],
   "source": [
    "randomforest_classifier = RandomForestClassifier(\n",
    "    n_estimators = 10, \n",
    "    class_weight = \"balanced\", # Utilisation du paramètre \"balanced\" car nos classes sont inégales\n",
    "    criterion = 'gini',  \n",
    "    max_depth = 10, \n",
    "    min_samples_split = 40, \n",
    "    min_samples_leaf = 1, \n",
    "    min_weight_fraction_leaf = 0.0, \n",
    "    max_features = 0.5, \n",
    "    max_leaf_nodes = None, \n",
    "    min_impurity_decrease = 0.0, \n",
    "    min_impurity_split = None, \n",
    "    ccp_alpha = 0.0, \n",
    "    random_state = 42, \n",
    "    bootstrap = True, \n",
    "    oob_score = True, \n",
    "    max_samples = 0.2,\n",
    "    warm_start = False, \n",
    "    n_jobs = -1, \n",
    "    verbose = 0, \n",
    ")"
   ]
  },
  {
   "cell_type": "code",
   "execution_count": 278,
   "id": "eee91be6",
   "metadata": {},
   "outputs": [],
   "source": [
    "X_rf_train = X_train"
   ]
  },
  {
   "cell_type": "code",
   "execution_count": 279,
   "id": "605ad156",
   "metadata": {},
   "outputs": [
    {
     "data": {
      "text/plain": [
       "Index(['timeseries', 'Bayes', 'régression logistique', 'random forest', 'knn'], dtype='object')"
      ]
     },
     "execution_count": 279,
     "metadata": {},
     "output_type": "execute_result"
    }
   ],
   "source": [
    "X_train.columns"
   ]
  },
  {
   "cell_type": "markdown",
   "id": "23f0013d",
   "metadata": {},
   "source": [
    "### Modèle Bayésien"
   ]
  },
  {
   "cell_type": "code",
   "execution_count": 80,
   "id": "afc3d730",
   "metadata": {},
   "outputs": [],
   "source": [
    "model_Gaussian = GaussianNB()"
   ]
  },
  {
   "cell_type": "code",
   "execution_count": 81,
   "id": "1c3668ba",
   "metadata": {},
   "outputs": [],
   "source": [
    "X_gaussian_train = X_train[['speed', 'hour']]"
   ]
  },
  {
   "cell_type": "code",
   "execution_count": 82,
   "id": "21302ee6",
   "metadata": {},
   "outputs": [
    {
     "data": {
      "text/plain": [
       "GaussianNB()"
      ]
     },
     "execution_count": 82,
     "metadata": {},
     "output_type": "execute_result"
    }
   ],
   "source": [
    "model_Gaussian.fit(X_gaussian_train, y_train)"
   ]
  },
  {
   "cell_type": "markdown",
   "id": "2bdff2e6",
   "metadata": {},
   "source": [
    "### Régression logistique"
   ]
  },
  {
   "cell_type": "code",
   "execution_count": 29,
   "id": "db2779b3",
   "metadata": {},
   "outputs": [],
   "source": [
    "logistic_model = LogisticRegression(penalty='l1', class_weight= 'balanced', solver= 'liblinear', random_state=42)"
   ]
  },
  {
   "cell_type": "code",
   "execution_count": 28,
   "id": "360c7719",
   "metadata": {},
   "outputs": [],
   "source": [
    "X_logistic_train = X_train"
   ]
  },
  {
   "cell_type": "markdown",
   "id": "84511a6e",
   "metadata": {},
   "source": [
    "## Agrégation"
   ]
  },
  {
   "cell_type": "code",
   "execution_count": 125,
   "id": "e46de7b2",
   "metadata": {},
   "outputs": [],
   "source": [
    "models = {model_Gaussian : X_gaussian_train, \n",
    "              logistic_model : X_logistic_train, \n",
    "              randomforest_classifier : X_rf_train,\n",
    "              knn_model : X_knn_train\n",
    "             }"
   ]
  },
  {
   "cell_type": "markdown",
   "id": "4922bbcc",
   "metadata": {},
   "source": [
    "### Agrégation par les probabilités"
   ]
  },
  {
   "cell_type": "code",
   "execution_count": 142,
   "id": "f8e0a60b",
   "metadata": {},
   "outputs": [],
   "source": [
    "def proba_agregation(models = models, treshold = 0.5):\n",
    "    \n",
    "    array_test = np.array([(float(0), float(0))]*len(X_train))\n",
    "    \n",
    "    def reduction(x, treshold):\n",
    "        if x > 4*treshold: return 0\n",
    "        else: return 1\n",
    "\n",
    "\n",
    "    for model in models.keys():\n",
    "        model.fit(models[model], y_train)\n",
    "\n",
    "        predictions = model.predict_proba(models[model])\n",
    "        array_test += predictions\n",
    "\n",
    "    final_predictions = np.vectorize(lambda t : reduction(t, treshold))(array_test)\n",
    "    final_predictions = [prediction[0] for prediction in final_predictions]\n",
    "                      \n",
    "    return final_predictions\n"
   ]
  },
  {
   "cell_type": "code",
   "execution_count": 143,
   "id": "e79b3fb7",
   "metadata": {},
   "outputs": [],
   "source": [
    "def treshold_selection(start, end, pas):\n",
    "    f1_values = []\n",
    "    for k in range(start, end, pas):\n",
    "        pred = proba_agregation(models, k/100)\n",
    "        f1 = metrics.f1_score(y_train, pred, sample_weight = None)\n",
    "        f1_values.append(f1)\n",
    "        \n",
    "    plt.plot(f1_values)\n",
    "    print([(k,v) for k,v in zip(f1_values, range(20, 90, 5))])"
   ]
  },
  {
   "cell_type": "code",
   "execution_count": 141,
   "id": "318b10e8",
   "metadata": {},
   "outputs": [
    {
     "name": "stderr",
     "output_type": "stream",
     "text": [
      "/opt/anaconda3/envs/fastai-cpu-v0.7/lib/python3.7/site-packages/sklearn/svm/_base.py:986: ConvergenceWarning: Liblinear failed to converge, increase the number of iterations.\n",
      "  \"the number of iterations.\", ConvergenceWarning)\n",
      "/opt/anaconda3/envs/fastai-cpu-v0.7/lib/python3.7/site-packages/sklearn/svm/_base.py:986: ConvergenceWarning: Liblinear failed to converge, increase the number of iterations.\n",
      "  \"the number of iterations.\", ConvergenceWarning)\n",
      "/opt/anaconda3/envs/fastai-cpu-v0.7/lib/python3.7/site-packages/sklearn/svm/_base.py:986: ConvergenceWarning: Liblinear failed to converge, increase the number of iterations.\n",
      "  \"the number of iterations.\", ConvergenceWarning)\n",
      "/opt/anaconda3/envs/fastai-cpu-v0.7/lib/python3.7/site-packages/sklearn/svm/_base.py:986: ConvergenceWarning: Liblinear failed to converge, increase the number of iterations.\n",
      "  \"the number of iterations.\", ConvergenceWarning)\n",
      "/opt/anaconda3/envs/fastai-cpu-v0.7/lib/python3.7/site-packages/sklearn/svm/_base.py:986: ConvergenceWarning: Liblinear failed to converge, increase the number of iterations.\n",
      "  \"the number of iterations.\", ConvergenceWarning)\n",
      "/opt/anaconda3/envs/fastai-cpu-v0.7/lib/python3.7/site-packages/sklearn/svm/_base.py:986: ConvergenceWarning: Liblinear failed to converge, increase the number of iterations.\n",
      "  \"the number of iterations.\", ConvergenceWarning)\n",
      "/opt/anaconda3/envs/fastai-cpu-v0.7/lib/python3.7/site-packages/sklearn/svm/_base.py:986: ConvergenceWarning: Liblinear failed to converge, increase the number of iterations.\n",
      "  \"the number of iterations.\", ConvergenceWarning)\n",
      "/opt/anaconda3/envs/fastai-cpu-v0.7/lib/python3.7/site-packages/sklearn/svm/_base.py:986: ConvergenceWarning: Liblinear failed to converge, increase the number of iterations.\n",
      "  \"the number of iterations.\", ConvergenceWarning)\n",
      "/opt/anaconda3/envs/fastai-cpu-v0.7/lib/python3.7/site-packages/sklearn/svm/_base.py:986: ConvergenceWarning: Liblinear failed to converge, increase the number of iterations.\n",
      "  \"the number of iterations.\", ConvergenceWarning)\n",
      "/opt/anaconda3/envs/fastai-cpu-v0.7/lib/python3.7/site-packages/sklearn/svm/_base.py:986: ConvergenceWarning: Liblinear failed to converge, increase the number of iterations.\n",
      "  \"the number of iterations.\", ConvergenceWarning)\n",
      "/opt/anaconda3/envs/fastai-cpu-v0.7/lib/python3.7/site-packages/sklearn/svm/_base.py:986: ConvergenceWarning: Liblinear failed to converge, increase the number of iterations.\n",
      "  \"the number of iterations.\", ConvergenceWarning)\n",
      "/opt/anaconda3/envs/fastai-cpu-v0.7/lib/python3.7/site-packages/sklearn/svm/_base.py:986: ConvergenceWarning: Liblinear failed to converge, increase the number of iterations.\n",
      "  \"the number of iterations.\", ConvergenceWarning)\n",
      "/opt/anaconda3/envs/fastai-cpu-v0.7/lib/python3.7/site-packages/sklearn/svm/_base.py:986: ConvergenceWarning: Liblinear failed to converge, increase the number of iterations.\n",
      "  \"the number of iterations.\", ConvergenceWarning)\n",
      "/opt/anaconda3/envs/fastai-cpu-v0.7/lib/python3.7/site-packages/sklearn/svm/_base.py:986: ConvergenceWarning: Liblinear failed to converge, increase the number of iterations.\n",
      "  \"the number of iterations.\", ConvergenceWarning)\n"
     ]
    },
    {
     "name": "stdout",
     "output_type": "stream",
     "text": [
      "[(0.7358288770053476, 20), (0.7528795811518326, 25), (0.7876954109934442, 30), (0.7974497302599314, 35), (0.8236406619385341, 40), (0.8432183908045976, 45), (0.8518518518518517, 50), (0.8535714285714286, 55), (0.8529929577464789, 60), (0.8560277536860365, 65), (0.8540268456375839, 70), (0.8324066719618745, 75), (0.7843280849505675, 80), (0.7267886855241265, 85)]\n"
     ]
    },
    {
     "data": {
      "image/png": "[encoded data removed]",
      "text/plain": [
       "<Figure size 432x288 with 1 Axes>"
      ]
     },
     "metadata": {
      "needs_background": "light"
     },
     "output_type": "display_data"
    }
   ],
   "source": [
    "treshold_selection(20, 90, 5)"
   ]
  },
  {
   "cell_type": "markdown",
   "id": "ff2ef543",
   "metadata": {},
   "source": [
    "Gardons 0.5"
   ]
  },
  {
   "cell_type": "markdown",
   "id": "e790d0a8",
   "metadata": {},
   "source": [
    "### Agrégation par \"vote\""
   ]
  },
  {
   "cell_type": "code",
   "execution_count": 198,
   "id": "461dc18a",
   "metadata": {},
   "outputs": [],
   "source": [
    "Df_timeseries = df_lapil42['speed']\n",
    "Df_timeseries.index = df_lapil42['date']"
   ]
  },
  {
   "cell_type": "code",
   "execution_count": 199,
   "id": "838b389b",
   "metadata": {},
   "outputs": [],
   "source": [
    "n_total = len(df_lapil42)\n",
    "n_test = 1500 #arbitrary\n",
    "n_train = n_total - n_test"
   ]
  },
  {
   "cell_type": "code",
   "execution_count": 481,
   "id": "408d1fda",
   "metadata": {},
   "outputs": [],
   "source": [
    "X_train_timeseries, X_valid_timeseries = split_vals(Df_timeseries, n_train)"
   ]
  },
  {
   "cell_type": "code",
   "execution_count": 289,
   "id": "b9d56b97",
   "metadata": {},
   "outputs": [
    {
     "name": "stderr",
     "output_type": "stream",
     "text": [
      "/opt/anaconda3/envs/fastai-cpu-v0.7/lib/python3.7/site-packages/statsmodels/tsa/arima_model.py:472: FutureWarning: \n",
      "statsmodels.tsa.arima_model.ARMA and statsmodels.tsa.arima_model.ARIMA have\n",
      "been deprecated in favor of statsmodels.tsa.arima.model.ARIMA (note the .\n",
      "between arima and model) and\n",
      "statsmodels.tsa.SARIMAX. These will be removed after the 0.12 release.\n",
      "\n",
      "statsmodels.tsa.arima.model.ARIMA makes use of the statespace framework and\n",
      "is both well tested and maintained.\n",
      "\n",
      "To silence this warning and continue using ARMA and ARIMA until they are\n",
      "removed, use:\n",
      "\n",
      "import warnings\n",
      "warnings.filterwarnings('ignore', 'statsmodels.tsa.arima_model.ARMA',\n",
      "                        FutureWarning)\n",
      "warnings.filterwarnings('ignore', 'statsmodels.tsa.arima_model.ARIMA',\n",
      "                        FutureWarning)\n",
      "\n",
      "  warnings.warn(ARIMA_DEPRECATION_WARN, FutureWarning)\n",
      "/opt/anaconda3/envs/fastai-cpu-v0.7/lib/python3.7/site-packages/statsmodels/tsa/base/tsa_model.py:527: ValueWarning: No frequency information was provided, so inferred frequency 6T will be used.\n",
      "  % freq, ValueWarning)\n"
     ]
    }
   ],
   "source": [
    "model=ARIMA(X_train_timeseries,order=(1,0,5))\n",
    "model=model.fit()"
   ]
  },
  {
   "cell_type": "code",
   "execution_count": 202,
   "id": "39db8bcf",
   "metadata": {},
   "outputs": [],
   "source": [
    "timeseries_array = model.predict(X_train_timeseries.index[0]).apply(lambda x : congestion(x)).values"
   ]
  },
  {
   "cell_type": "code",
   "execution_count": 164,
   "id": "6d1d50dc",
   "metadata": {},
   "outputs": [],
   "source": [
    "def congestion(x):\n",
    "    if x > 80: return 0\n",
    "    else: return 1"
   ]
  },
  {
   "cell_type": "code",
   "execution_count": 177,
   "id": "7595a5fa",
   "metadata": {},
   "outputs": [],
   "source": [
    "def reduction_vote(t):\n",
    "    if t > 2: return 1\n",
    "    else: return 0"
   ]
  },
  {
   "cell_type": "code",
   "execution_count": 193,
   "id": "159adeb4",
   "metadata": {},
   "outputs": [
    {
     "name": "stderr",
     "output_type": "stream",
     "text": [
      "/opt/anaconda3/envs/fastai-cpu-v0.7/lib/python3.7/site-packages/sklearn/svm/_base.py:986: ConvergenceWarning: Liblinear failed to converge, increase the number of iterations.\n",
      "  \"the number of iterations.\", ConvergenceWarning)\n"
     ]
    },
    {
     "data": {
      "text/plain": [
       "array([0, 0, 0, ..., 1, 1, 1])"
      ]
     },
     "execution_count": 193,
     "metadata": {},
     "output_type": "execute_result"
    }
   ],
   "source": [
    "array_test = timeseries_array\n",
    "\n",
    "for model in models.keys():\n",
    "    model.fit(models[model], y_train)\n",
    "\n",
    "    predictions = model.predict(models[model])\n",
    "    array_test += predictions\n",
    "\n",
    "final_predictions = np.vectorize(lambda t : reduction_vote(t))(array_test)\n",
    "                      \n",
    "final_predictions"
   ]
  },
  {
   "cell_type": "code",
   "execution_count": 194,
   "id": "5b87b73e",
   "metadata": {},
   "outputs": [
    {
     "data": {
      "text/plain": [
       "0.8428635749662313"
      ]
     },
     "execution_count": 194,
     "metadata": {},
     "output_type": "execute_result"
    }
   ],
   "source": [
    "metrics.f1_score(y_train, final_predictions, sample_weight = None)"
   ]
  },
  {
   "cell_type": "markdown",
   "id": "5ba43ef6",
   "metadata": {},
   "source": [
    "## Agrégation par Forêt aléatoire"
   ]
  },
  {
   "cell_type": "markdown",
   "id": "6ed16336",
   "metadata": {},
   "source": [
    "### reconstitution d'un DataFrame "
   ]
  },
  {
   "cell_type": "code",
   "execution_count": 218,
   "id": "80009566",
   "metadata": {},
   "outputs": [],
   "source": [
    "timeseries_array = model.predict(X_train_timeseries.index[0]).apply(lambda x : congestion(x)).values"
   ]
  },
  {
   "cell_type": "code",
   "execution_count": 222,
   "id": "70a19f1f",
   "metadata": {},
   "outputs": [],
   "source": [
    "df_preds = pd.DataFrame(timeseries_array)"
   ]
  },
  {
   "cell_type": "code",
   "execution_count": 238,
   "id": "03c93180",
   "metadata": {},
   "outputs": [],
   "source": [
    "df_preds.index, _ = split_vals(df_lapil42['date'], n_train)"
   ]
  },
  {
   "cell_type": "code",
   "execution_count": 241,
   "id": "87aae05e",
   "metadata": {},
   "outputs": [],
   "source": [
    "df_preds.columns = ['timeseries']"
   ]
  },
  {
   "cell_type": "code",
   "execution_count": 244,
   "id": "830b69f6",
   "metadata": {},
   "outputs": [
    {
     "name": "stderr",
     "output_type": "stream",
     "text": [
      "/opt/anaconda3/envs/fastai-cpu-v0.7/lib/python3.7/site-packages/sklearn/svm/_base.py:986: ConvergenceWarning: Liblinear failed to converge, increase the number of iterations.\n",
      "  \"the number of iterations.\", ConvergenceWarning)\n"
     ]
    }
   ],
   "source": [
    "for model in models.keys():\n",
    "    model.fit(models[model], y_train)\n",
    "    predictions = model.predict(models[model])\n",
    "    df_preds[model] = predictions\n"
   ]
  },
  {
   "cell_type": "code",
   "execution_count": 246,
   "id": "606a3465",
   "metadata": {},
   "outputs": [],
   "source": [
    "df_preds.columns = ['timeseries','Bayes', 'régression logistique', 'random forest', 'knn', 'Y_train']"
   ]
  },
  {
   "cell_type": "code",
   "execution_count": 255,
   "id": "fd2f63b7",
   "metadata": {},
   "outputs": [],
   "source": [
    "y_train.index, _ = split_vals(df_lapil42['date'], n_train)"
   ]
  },
  {
   "cell_type": "code",
   "execution_count": 256,
   "id": "ee221d54",
   "metadata": {},
   "outputs": [],
   "source": [
    "df_preds['Y_train'] = y_train"
   ]
  },
  {
   "cell_type": "markdown",
   "id": "38d5081f",
   "metadata": {},
   "source": [
    "### Utilisation des modèles"
   ]
  },
  {
   "cell_type": "code",
   "execution_count": 265,
   "id": "f48317f0",
   "metadata": {},
   "outputs": [],
   "source": [
    "X_train = df_preds.drop(['Y_train'], axis = 1)"
   ]
  },
  {
   "cell_type": "code",
   "execution_count": 262,
   "id": "7594f21a",
   "metadata": {},
   "outputs": [],
   "source": [
    "y_train = df_preds['Y_train']"
   ]
  },
  {
   "cell_type": "code",
   "execution_count": 264,
   "id": "19732ed3",
   "metadata": {},
   "outputs": [],
   "source": [
    "classifier = RandomForestClassifier(\n",
    "    n_estimators = 20, \n",
    "    class_weight = None, # classifier specific\n",
    "    criterion = 'gini',  # classifier specific\n",
    "    max_depth = 3, \n",
    "    min_samples_split = 2, \n",
    "    min_samples_leaf = 1, \n",
    "    min_weight_fraction_leaf = 0.0, \n",
    "    max_features = 'auto', \n",
    "    max_leaf_nodes = None, \n",
    "    min_impurity_decrease = 0.0, \n",
    "    min_impurity_split = None, \n",
    "    ccp_alpha = 0.0, \n",
    "    random_state = 42, \n",
    "    bootstrap = True, \n",
    "    oob_score = True, \n",
    "    max_samples = None,\n",
    "    warm_start = False, \n",
    "    n_jobs = -1, \n",
    "    verbose = 0, \n",
    ")"
   ]
  },
  {
   "cell_type": "code",
   "execution_count": 268,
   "id": "7e05f36c",
   "metadata": {},
   "outputs": [
    {
     "name": "stdout",
     "output_type": "stream",
     "text": [
      "Accuracy : 95.08%\n",
      "Recall : 80.77%\n",
      "Precision : 96.27%\n",
      "F1-score : 87.84%\n"
     ]
    },
    {
     "name": "stderr",
     "output_type": "stream",
     "text": [
      "/opt/anaconda3/envs/fastai-cpu-v0.7/lib/python3.7/site-packages/sklearn/ensemble/_forest.py:541: UserWarning: Some inputs do not have OOB scores. This probably means too few trees were used to compute any reliable oob estimates.\n",
      "  warn(\"Some inputs do not have OOB scores. \"\n",
      "/opt/anaconda3/envs/fastai-cpu-v0.7/lib/python3.7/site-packages/sklearn/ensemble/_forest.py:546: RuntimeWarning: invalid value encountered in true_divide\n",
      "  predictions[k].sum(axis=1)[:, np.newaxis])\n"
     ]
    }
   ],
   "source": [
    "classifier.fit(X_train, y_train)\n",
    "classifier_metrics(y_train, classifier.predict(X_train))"
   ]
  },
  {
   "cell_type": "markdown",
   "id": "66332dcc",
   "metadata": {},
   "source": [
    "## Tuning"
   ]
  },
  {
   "cell_type": "code",
   "execution_count": 271,
   "id": "1007e4d0",
   "metadata": {},
   "outputs": [],
   "source": [
    "classifier = RandomForestClassifier(\n",
    "    n_estimators = 50, \n",
    "    class_weight = None, # classifier specific\n",
    "    criterion = 'gini',  # classifier specific\n",
    "    max_depth = 3, \n",
    "    min_samples_split = 3, \n",
    "    min_samples_leaf = 1, \n",
    "    min_weight_fraction_leaf = 0.0, \n",
    "    max_features = 0.5, \n",
    "    max_leaf_nodes = None, \n",
    "    min_impurity_decrease = 0.0, \n",
    "    min_impurity_split = None, \n",
    "    ccp_alpha = 0.0, \n",
    "    random_state = 42, \n",
    "    bootstrap = True, \n",
    "    oob_score = False, \n",
    "    max_samples = 0.5,\n",
    "    warm_start = False, \n",
    "    n_jobs = -1, \n",
    "    verbose = 0, \n",
    ")"
   ]
  },
  {
   "cell_type": "code",
   "execution_count": 274,
   "id": "89913243",
   "metadata": {},
   "outputs": [
    {
     "name": "stdout",
     "output_type": "stream",
     "text": [
      "Accuracy : 95.08%\n",
      "Recall : 80.77%\n",
      "Precision : 96.27%\n",
      "F1-score : 87.84%\n"
     ]
    }
   ],
   "source": [
    "classifier.fit(X_train, y_train)\n",
    "classifier_metrics(y_train, classifier.predict(X_train))"
   ]
  },
  {
   "cell_type": "code",
   "execution_count": 275,
   "id": "15a33864",
   "metadata": {},
   "outputs": [
    {
     "data": {
      "text/plain": [
       "0.8777233375499629"
      ]
     },
     "execution_count": 275,
     "metadata": {},
     "output_type": "execute_result"
    }
   ],
   "source": [
    "cv_score = cross_val_score(classifier, X_train, y_train, cv=5, scoring= 'f1')\n",
    "cv_score.mean()"
   ]
  },
  {
   "cell_type": "markdown",
   "id": "3d9f2da5",
   "metadata": {},
   "source": [
    "# TOUS LES CAPTEURS + TOUS LES HORIZONS DE TEMPS"
   ]
  },
  {
   "cell_type": "markdown",
   "id": "83867338",
   "metadata": {},
   "source": [
    "L'aggrégation par Random Forest semblait la plus prometteuse, nous gardons donc cette méthode pour la suite : "
   ]
  },
  {
   "cell_type": "code",
   "execution_count": 331,
   "id": "4bc653a2",
   "metadata": {},
   "outputs": [],
   "source": [
    "df_n230 = pd.read_csv('data/df_n230_final.csv')\n",
    "df_n230.drop(['date.1', 'date.1.1'], axis = 1, inplace = True)"
   ]
  },
  {
   "cell_type": "code",
   "execution_count": 450,
   "id": "f5745bba",
   "metadata": {},
   "outputs": [],
   "source": [
    "dirty_idx = [23]\n",
    "df_n230 = df_n230[~df_n230.index.isin(dirty_idx)]"
   ]
  },
  {
   "cell_type": "code",
   "execution_count": 336,
   "id": "929086da",
   "metadata": {},
   "outputs": [
    {
     "data": {
      "text/plain": [
       "Index(['date', 'sensor', 'TV/h', 'speed', 'pression au niveau de la mer',\n",
       "       'Variation de pression en 3 heures', 'Vitesse du vent moyen 10 mn',\n",
       "       'Température', 'Point de rosée', 'Visibilité horizontale',\n",
       "       'Nébulosité des nuages de l'étage inférieur',\n",
       "       'Variation de pression en 24 heures',\n",
       "       'Température minimale du sol sur 12 heures', 'Etat du sol',\n",
       "       'Hauteur de la neige fraiche', 'Précipitation dans la dernière heure',\n",
       "       'year', 'month', 'day', 'hour', 'minutes', 'congestion+30min',\n",
       "       'congestion+60min', 'congestion+3heures', 'congestion+24heures'],\n",
       "      dtype='object')"
      ]
     },
     "execution_count": 336,
     "metadata": {},
     "output_type": "execute_result"
    }
   ],
   "source": [
    "df_n230.columns"
   ]
  },
  {
   "cell_type": "code",
   "execution_count": 437,
   "id": "a3613f4a",
   "metadata": {},
   "outputs": [
    {
     "name": "stderr",
     "output_type": "stream",
     "text": [
      "/opt/anaconda3/envs/fastai-cpu-v0.7/lib/python3.7/site-packages/statsmodels/tsa/arima_model.py:472: FutureWarning: \n",
      "statsmodels.tsa.arima_model.ARMA and statsmodels.tsa.arima_model.ARIMA have\n",
      "been deprecated in favor of statsmodels.tsa.arima.model.ARIMA (note the .\n",
      "between arima and model) and\n",
      "statsmodels.tsa.SARIMAX. These will be removed after the 0.12 release.\n",
      "\n",
      "statsmodels.tsa.arima.model.ARIMA makes use of the statespace framework and\n",
      "is both well tested and maintained.\n",
      "\n",
      "To silence this warning and continue using ARMA and ARIMA until they are\n",
      "removed, use:\n",
      "\n",
      "import warnings\n",
      "warnings.filterwarnings('ignore', 'statsmodels.tsa.arima_model.ARMA',\n",
      "                        FutureWarning)\n",
      "warnings.filterwarnings('ignore', 'statsmodels.tsa.arima_model.ARIMA',\n",
      "                        FutureWarning)\n",
      "\n",
      "  warnings.warn(ARIMA_DEPRECATION_WARN, FutureWarning)\n",
      "/opt/anaconda3/envs/fastai-cpu-v0.7/lib/python3.7/site-packages/statsmodels/tsa/base/tsa_model.py:527: ValueWarning: No frequency information was provided, so inferred frequency 6T will be used.\n",
      "  % freq, ValueWarning)\n"
     ]
    }
   ],
   "source": [
    "classifier_tuned_aggregation = RandomForestClassifier(\n",
    "    n_estimators = 50, \n",
    "    class_weight = None, # classifier specific\n",
    "    criterion = 'gini',  # classifier specific\n",
    "    max_depth = 3, \n",
    "    min_samples_split = 3, \n",
    "    min_samples_leaf = 1, \n",
    "    min_weight_fraction_leaf = 0.0, \n",
    "    max_features = 0.5, \n",
    "    max_leaf_nodes = None, \n",
    "    min_impurity_decrease = 0.0, \n",
    "    min_impurity_split = None, \n",
    "    ccp_alpha = 0.0, \n",
    "    random_state = 42, \n",
    "    bootstrap = True, \n",
    "    oob_score = False, \n",
    "    max_samples = 0.5,\n",
    "    warm_start = False, \n",
    "    n_jobs = -1, \n",
    "    verbose = 0, \n",
    ")\n",
    "\n",
    "N_TRAIN = 5220\n",
    "model = dict()\n",
    "\n",
    "model_arima = ARIMA(X_train_timeseries,order=(1,0,5))\n",
    "model_arima = model_arima.fit()\n",
    "\n",
    "def pred(capteur, horizon):\n",
    "\n",
    "    df = df_n230[df_n230['sensor'] == capteur]\n",
    "    y = df[horizon].apply(lambda x: congestion(x))\n",
    "\n",
    "    models[model_Gaussian] = ['speed', 'hour']\n",
    "    models[knn_model] = ['speed', 'hour']\n",
    "    models[logistic_model] = ['speed', 'hour', 'TV/h',\n",
    "     'Vitesse du vent moyen 10 mn', 'Variation de pression en 3 heures', 'Etat du sol', 'Température',\n",
    "     'Température minimale du sol sur 12 heures']\n",
    "    models[randomforest_classifier] = models[logistic_model]\n",
    "\n",
    "    X_train, X_valid = split_vals(df.drop(['date', 'congestion+30min', 'congestion+60min', 'congestion+3heures', 'congestion+24heures'], axis = 1), N_TRAIN)\n",
    "    y_train, y_valid = split_vals(y, N_TRAIN)\n",
    "\n",
    "    #construction du nouveau df pour la forêt aléatoire d'agrégation :\n",
    "\n",
    "    timeseries_array = model_arima.predict(X_train_timeseries.index[0]).apply(lambda x : congestion(x)).values\n",
    "\n",
    "    df_preds = pd.DataFrame(timeseries_array)\n",
    "    df_preds.index, _ = split_vals(df_lapil42['date'], N_TRAIN)\n",
    "\n",
    "    for model in models.keys():\n",
    "        model.fit(X_train[models[model]], y_train)\n",
    "        predictions = model.predict(X_train[models[model]])\n",
    "        df_preds[str(model)] = predictions\n",
    "        \n",
    "    y_train.index, _ = split_vals(df_lapil42['date'], n_train)\n",
    "    \n",
    "    df_preds['y_train'] = y_train\n",
    "\n",
    "\n",
    "\n",
    "    #modèle\n",
    "    \n",
    "    X_train_aggregation = df_preds.drop(['y_train'], axis = 1)\n",
    "    y_train_aggregation = df_preds['y_train']\n",
    "    \n",
    "    classifier_tuned_aggregation.fit(X_train_aggregation, y_train_aggregation)\n",
    "    y_preds = classifier_tuned_aggregation.predict(X_train_aggregation)\n",
    "    return metrics.f1_score(y_train_aggregation, y_preds, sample_weight = None)\n",
    "    \n"
   ]
  },
  {
   "cell_type": "code",
   "execution_count": 486,
   "id": "fb61c53f",
   "metadata": {},
   "outputs": [
    {
     "name": "stderr",
     "output_type": "stream",
     "text": [
      "/opt/anaconda3/envs/fastai-cpu-v0.7/lib/python3.7/site-packages/statsmodels/tsa/arima_model.py:472: FutureWarning: \n",
      "statsmodels.tsa.arima_model.ARMA and statsmodels.tsa.arima_model.ARIMA have\n",
      "been deprecated in favor of statsmodels.tsa.arima.model.ARIMA (note the .\n",
      "between arima and model) and\n",
      "statsmodels.tsa.SARIMAX. These will be removed after the 0.12 release.\n",
      "\n",
      "statsmodels.tsa.arima.model.ARIMA makes use of the statespace framework and\n",
      "is both well tested and maintained.\n",
      "\n",
      "To silence this warning and continue using ARMA and ARIMA until they are\n",
      "removed, use:\n",
      "\n",
      "import warnings\n",
      "warnings.filterwarnings('ignore', 'statsmodels.tsa.arima_model.ARMA',\n",
      "                        FutureWarning)\n",
      "warnings.filterwarnings('ignore', 'statsmodels.tsa.arima_model.ARIMA',\n",
      "                        FutureWarning)\n",
      "\n",
      "  warnings.warn(ARIMA_DEPRECATION_WARN, FutureWarning)\n",
      "/opt/anaconda3/envs/fastai-cpu-v0.7/lib/python3.7/site-packages/statsmodels/tsa/base/tsa_model.py:527: ValueWarning: No frequency information was provided, so inferred frequency 6T will be used.\n",
      "  % freq, ValueWarning)\n"
     ]
    }
   ],
   "source": [
    "classifier_tuned_aggregation = RandomForestClassifier(\n",
    "    n_estimators = 50, \n",
    "    class_weight = None, # classifier specific\n",
    "    criterion = 'gini',  # classifier specific\n",
    "    max_depth = 3, \n",
    "    min_samples_split = 3, \n",
    "    min_samples_leaf = 1, \n",
    "    min_weight_fraction_leaf = 0.0, \n",
    "    max_features = 0.5, \n",
    "    max_leaf_nodes = None, \n",
    "    min_impurity_decrease = 0.0, \n",
    "    min_impurity_split = None, \n",
    "    ccp_alpha = 0.0, \n",
    "    random_state = 42, \n",
    "    bootstrap = True, \n",
    "    oob_score = False, \n",
    "    max_samples = 0.5,\n",
    "    warm_start = False, \n",
    "    n_jobs = -1, \n",
    "    verbose = 0, \n",
    ")\n",
    "\n",
    "N_TRAIN = 5220\n",
    "model = dict()\n",
    "\n",
    "model_arima = ARIMA(X_valid_timeseries,order=(1,0,5))\n",
    "model_arima = model_arima.fit()\n",
    "\n",
    "def pred_valid(capteur, horizon):\n",
    "\n",
    "    df = df_n230[df_n230['sensor'] == capteur]\n",
    "    y = df[horizon].apply(lambda x: congestion(x))\n",
    "\n",
    "    models[model_Gaussian] = ['speed', 'hour']\n",
    "    models[knn_model] = ['speed', 'hour']\n",
    "    models[logistic_model] = ['speed', 'hour', 'TV/h',\n",
    "     'Vitesse du vent moyen 10 mn', 'Variation de pression en 3 heures', 'Etat du sol', 'Température',\n",
    "     'Température minimale du sol sur 12 heures']\n",
    "    models[randomforest_classifier] = models[logistic_model]\n",
    "\n",
    "    X_train, X_valid = split_vals(df.drop(['date', 'congestion+30min', 'congestion+60min', 'congestion+3heures', 'congestion+24heures'], axis = 1), N_TRAIN)\n",
    "    y_train, y_valid = split_vals(y, N_TRAIN)\n",
    "\n",
    "    #construction du nouveau df pour la forêt aléatoire d'agrégation :\n",
    "\n",
    "    timeseries_array = model_arima.predict(X_test_timeseries.index[0]).apply(lambda x : congestion(x)).values\n",
    "\n",
    "    df_preds = pd.DataFrame(timeseries_array)\n",
    "    _ , df_preds.index = split_vals(df_lapil42['date'], N_TRAIN)\n",
    "\n",
    "    for model in models.keys():\n",
    "        model.fit(X_valid[models[model]], y_valid)\n",
    "        predictions = model.predict(X_valid[models[model]])\n",
    "        df_preds[str(model)] = predictions\n",
    "        \n",
    "    y_train.index, y_valid.index = split_vals(df_lapil42['date'], n_train)\n",
    "    \n",
    "    df_preds['y_valid'] = y_valid\n",
    "\n",
    "\n",
    "\n",
    "    #modèle\n",
    "    \n",
    "    X_train_aggregation = df_preds.drop(['y_valid'], axis = 1)\n",
    "    y_train_aggregation = df_preds['y_valid']\n",
    "    \n",
    "    classifier_tuned_aggregation.fit(X_train_aggregation, y_train_aggregation)\n",
    "    y_preds = classifier_tuned_aggregation.predict(X_train_aggregation)\n",
    "    return metrics.f1_score(y_train_aggregation, y_preds, sample_weight = None)\n",
    "    "
   ]
  },
  {
   "cell_type": "code",
   "execution_count": 490,
   "id": "c63ca640",
   "metadata": {},
   "outputs": [
    {
     "name": "stderr",
     "output_type": "stream",
     "text": [
      "/opt/anaconda3/envs/fastai-cpu-v0.7/lib/python3.7/site-packages/sklearn/svm/_base.py:986: ConvergenceWarning: Liblinear failed to converge, increase the number of iterations.\n",
      "  \"the number of iterations.\", ConvergenceWarning)\n"
     ]
    },
    {
     "data": {
      "text/plain": [
       "0.8657844990548205"
      ]
     },
     "execution_count": 490,
     "metadata": {},
     "output_type": "execute_result"
    }
   ],
   "source": [
    "pred_valid('LAPI L42', 'congestion+30min')"
   ]
  },
  {
   "cell_type": "code",
   "execution_count": 500,
   "id": "a2ab8003",
   "metadata": {},
   "outputs": [
    {
     "name": "stderr",
     "output_type": "stream",
     "text": [
      "/opt/anaconda3/envs/fastai-cpu-v0.7/lib/python3.7/site-packages/sklearn/svm/_base.py:986: ConvergenceWarning: Liblinear failed to converge, increase the number of iterations.\n",
      "  \"the number of iterations.\", ConvergenceWarning)\n",
      "/opt/anaconda3/envs/fastai-cpu-v0.7/lib/python3.7/site-packages/sklearn/svm/_base.py:986: ConvergenceWarning: Liblinear failed to converge, increase the number of iterations.\n",
      "  \"the number of iterations.\", ConvergenceWarning)\n",
      "/opt/anaconda3/envs/fastai-cpu-v0.7/lib/python3.7/site-packages/sklearn/svm/_base.py:986: ConvergenceWarning: Liblinear failed to converge, increase the number of iterations.\n",
      "  \"the number of iterations.\", ConvergenceWarning)\n",
      "/opt/anaconda3/envs/fastai-cpu-v0.7/lib/python3.7/site-packages/sklearn/svm/_base.py:986: ConvergenceWarning: Liblinear failed to converge, increase the number of iterations.\n",
      "  \"the number of iterations.\", ConvergenceWarning)\n",
      "/opt/anaconda3/envs/fastai-cpu-v0.7/lib/python3.7/site-packages/sklearn/svm/_base.py:986: ConvergenceWarning: Liblinear failed to converge, increase the number of iterations.\n",
      "  \"the number of iterations.\", ConvergenceWarning)\n",
      "/opt/anaconda3/envs/fastai-cpu-v0.7/lib/python3.7/site-packages/sklearn/svm/_base.py:986: ConvergenceWarning: Liblinear failed to converge, increase the number of iterations.\n",
      "  \"the number of iterations.\", ConvergenceWarning)\n",
      "/opt/anaconda3/envs/fastai-cpu-v0.7/lib/python3.7/site-packages/sklearn/svm/_base.py:986: ConvergenceWarning: Liblinear failed to converge, increase the number of iterations.\n",
      "  \"the number of iterations.\", ConvergenceWarning)\n",
      "/opt/anaconda3/envs/fastai-cpu-v0.7/lib/python3.7/site-packages/sklearn/svm/_base.py:986: ConvergenceWarning: Liblinear failed to converge, increase the number of iterations.\n",
      "  \"the number of iterations.\", ConvergenceWarning)\n",
      "/opt/anaconda3/envs/fastai-cpu-v0.7/lib/python3.7/site-packages/sklearn/svm/_base.py:986: ConvergenceWarning: Liblinear failed to converge, increase the number of iterations.\n",
      "  \"the number of iterations.\", ConvergenceWarning)\n",
      "/opt/anaconda3/envs/fastai-cpu-v0.7/lib/python3.7/site-packages/sklearn/svm/_base.py:986: ConvergenceWarning: Liblinear failed to converge, increase the number of iterations.\n",
      "  \"the number of iterations.\", ConvergenceWarning)\n",
      "/opt/anaconda3/envs/fastai-cpu-v0.7/lib/python3.7/site-packages/sklearn/svm/_base.py:986: ConvergenceWarning: Liblinear failed to converge, increase the number of iterations.\n",
      "  \"the number of iterations.\", ConvergenceWarning)\n",
      "/opt/anaconda3/envs/fastai-cpu-v0.7/lib/python3.7/site-packages/sklearn/svm/_base.py:986: ConvergenceWarning: Liblinear failed to converge, increase the number of iterations.\n",
      "  \"the number of iterations.\", ConvergenceWarning)\n",
      "/opt/anaconda3/envs/fastai-cpu-v0.7/lib/python3.7/site-packages/sklearn/svm/_base.py:986: ConvergenceWarning: Liblinear failed to converge, increase the number of iterations.\n",
      "  \"the number of iterations.\", ConvergenceWarning)\n",
      "/opt/anaconda3/envs/fastai-cpu-v0.7/lib/python3.7/site-packages/sklearn/svm/_base.py:986: ConvergenceWarning: Liblinear failed to converge, increase the number of iterations.\n",
      "  \"the number of iterations.\", ConvergenceWarning)\n",
      "/opt/anaconda3/envs/fastai-cpu-v0.7/lib/python3.7/site-packages/sklearn/svm/_base.py:986: ConvergenceWarning: Liblinear failed to converge, increase the number of iterations.\n",
      "  \"the number of iterations.\", ConvergenceWarning)\n",
      "/opt/anaconda3/envs/fastai-cpu-v0.7/lib/python3.7/site-packages/sklearn/svm/_base.py:986: ConvergenceWarning: Liblinear failed to converge, increase the number of iterations.\n",
      "  \"the number of iterations.\", ConvergenceWarning)\n",
      "/opt/anaconda3/envs/fastai-cpu-v0.7/lib/python3.7/site-packages/sklearn/svm/_base.py:986: ConvergenceWarning: Liblinear failed to converge, increase the number of iterations.\n",
      "  \"the number of iterations.\", ConvergenceWarning)\n",
      "/opt/anaconda3/envs/fastai-cpu-v0.7/lib/python3.7/site-packages/sklearn/svm/_base.py:986: ConvergenceWarning: Liblinear failed to converge, increase the number of iterations.\n",
      "  \"the number of iterations.\", ConvergenceWarning)\n",
      "/opt/anaconda3/envs/fastai-cpu-v0.7/lib/python3.7/site-packages/sklearn/svm/_base.py:986: ConvergenceWarning: Liblinear failed to converge, increase the number of iterations.\n",
      "  \"the number of iterations.\", ConvergenceWarning)\n",
      "/opt/anaconda3/envs/fastai-cpu-v0.7/lib/python3.7/site-packages/sklearn/svm/_base.py:986: ConvergenceWarning: Liblinear failed to converge, increase the number of iterations.\n",
      "  \"the number of iterations.\", ConvergenceWarning)\n",
      "/opt/anaconda3/envs/fastai-cpu-v0.7/lib/python3.7/site-packages/sklearn/svm/_base.py:986: ConvergenceWarning: Liblinear failed to converge, increase the number of iterations.\n",
      "  \"the number of iterations.\", ConvergenceWarning)\n",
      "/opt/anaconda3/envs/fastai-cpu-v0.7/lib/python3.7/site-packages/sklearn/svm/_base.py:986: ConvergenceWarning: Liblinear failed to converge, increase the number of iterations.\n",
      "  \"the number of iterations.\", ConvergenceWarning)\n",
      "/opt/anaconda3/envs/fastai-cpu-v0.7/lib/python3.7/site-packages/sklearn/svm/_base.py:986: ConvergenceWarning: Liblinear failed to converge, increase the number of iterations.\n",
      "  \"the number of iterations.\", ConvergenceWarning)\n",
      "/opt/anaconda3/envs/fastai-cpu-v0.7/lib/python3.7/site-packages/sklearn/svm/_base.py:986: ConvergenceWarning: Liblinear failed to converge, increase the number of iterations.\n",
      "  \"the number of iterations.\", ConvergenceWarning)\n",
      "/opt/anaconda3/envs/fastai-cpu-v0.7/lib/python3.7/site-packages/sklearn/svm/_base.py:986: ConvergenceWarning: Liblinear failed to converge, increase the number of iterations.\n",
      "  \"the number of iterations.\", ConvergenceWarning)\n",
      "/opt/anaconda3/envs/fastai-cpu-v0.7/lib/python3.7/site-packages/sklearn/svm/_base.py:986: ConvergenceWarning: Liblinear failed to converge, increase the number of iterations.\n",
      "  \"the number of iterations.\", ConvergenceWarning)\n",
      "/opt/anaconda3/envs/fastai-cpu-v0.7/lib/python3.7/site-packages/sklearn/svm/_base.py:986: ConvergenceWarning: Liblinear failed to converge, increase the number of iterations.\n",
      "  \"the number of iterations.\", ConvergenceWarning)\n",
      "/opt/anaconda3/envs/fastai-cpu-v0.7/lib/python3.7/site-packages/sklearn/svm/_base.py:986: ConvergenceWarning: Liblinear failed to converge, increase the number of iterations.\n",
      "  \"the number of iterations.\", ConvergenceWarning)\n",
      "/opt/anaconda3/envs/fastai-cpu-v0.7/lib/python3.7/site-packages/sklearn/svm/_base.py:986: ConvergenceWarning: Liblinear failed to converge, increase the number of iterations.\n",
      "  \"the number of iterations.\", ConvergenceWarning)\n",
      "/opt/anaconda3/envs/fastai-cpu-v0.7/lib/python3.7/site-packages/sklearn/svm/_base.py:986: ConvergenceWarning: Liblinear failed to converge, increase the number of iterations.\n",
      "  \"the number of iterations.\", ConvergenceWarning)\n",
      "/opt/anaconda3/envs/fastai-cpu-v0.7/lib/python3.7/site-packages/sklearn/svm/_base.py:986: ConvergenceWarning: Liblinear failed to converge, increase the number of iterations.\n",
      "  \"the number of iterations.\", ConvergenceWarning)\n",
      "/opt/anaconda3/envs/fastai-cpu-v0.7/lib/python3.7/site-packages/sklearn/svm/_base.py:986: ConvergenceWarning: Liblinear failed to converge, increase the number of iterations.\n",
      "  \"the number of iterations.\", ConvergenceWarning)\n",
      "/opt/anaconda3/envs/fastai-cpu-v0.7/lib/python3.7/site-packages/sklearn/svm/_base.py:986: ConvergenceWarning: Liblinear failed to converge, increase the number of iterations.\n",
      "  \"the number of iterations.\", ConvergenceWarning)\n",
      "/opt/anaconda3/envs/fastai-cpu-v0.7/lib/python3.7/site-packages/sklearn/svm/_base.py:986: ConvergenceWarning: Liblinear failed to converge, increase the number of iterations.\n",
      "  \"the number of iterations.\", ConvergenceWarning)\n",
      "/opt/anaconda3/envs/fastai-cpu-v0.7/lib/python3.7/site-packages/sklearn/svm/_base.py:986: ConvergenceWarning: Liblinear failed to converge, increase the number of iterations.\n",
      "  \"the number of iterations.\", ConvergenceWarning)\n",
      "/opt/anaconda3/envs/fastai-cpu-v0.7/lib/python3.7/site-packages/sklearn/svm/_base.py:986: ConvergenceWarning: Liblinear failed to converge, increase the number of iterations.\n",
      "  \"the number of iterations.\", ConvergenceWarning)\n",
      "/opt/anaconda3/envs/fastai-cpu-v0.7/lib/python3.7/site-packages/sklearn/svm/_base.py:986: ConvergenceWarning: Liblinear failed to converge, increase the number of iterations.\n",
      "  \"the number of iterations.\", ConvergenceWarning)\n"
     ]
    },
    {
     "name": "stderr",
     "output_type": "stream",
     "text": [
      "/opt/anaconda3/envs/fastai-cpu-v0.7/lib/python3.7/site-packages/sklearn/svm/_base.py:986: ConvergenceWarning: Liblinear failed to converge, increase the number of iterations.\n",
      "  \"the number of iterations.\", ConvergenceWarning)\n",
      "/opt/anaconda3/envs/fastai-cpu-v0.7/lib/python3.7/site-packages/sklearn/svm/_base.py:986: ConvergenceWarning: Liblinear failed to converge, increase the number of iterations.\n",
      "  \"the number of iterations.\", ConvergenceWarning)\n",
      "/opt/anaconda3/envs/fastai-cpu-v0.7/lib/python3.7/site-packages/sklearn/svm/_base.py:986: ConvergenceWarning: Liblinear failed to converge, increase the number of iterations.\n",
      "  \"the number of iterations.\", ConvergenceWarning)\n",
      "/opt/anaconda3/envs/fastai-cpu-v0.7/lib/python3.7/site-packages/sklearn/svm/_base.py:986: ConvergenceWarning: Liblinear failed to converge, increase the number of iterations.\n",
      "  \"the number of iterations.\", ConvergenceWarning)\n",
      "/opt/anaconda3/envs/fastai-cpu-v0.7/lib/python3.7/site-packages/sklearn/svm/_base.py:986: ConvergenceWarning: Liblinear failed to converge, increase the number of iterations.\n",
      "  \"the number of iterations.\", ConvergenceWarning)\n",
      "/opt/anaconda3/envs/fastai-cpu-v0.7/lib/python3.7/site-packages/sklearn/svm/_base.py:986: ConvergenceWarning: Liblinear failed to converge, increase the number of iterations.\n",
      "  \"the number of iterations.\", ConvergenceWarning)\n",
      "/opt/anaconda3/envs/fastai-cpu-v0.7/lib/python3.7/site-packages/sklearn/svm/_base.py:986: ConvergenceWarning: Liblinear failed to converge, increase the number of iterations.\n",
      "  \"the number of iterations.\", ConvergenceWarning)\n",
      "/opt/anaconda3/envs/fastai-cpu-v0.7/lib/python3.7/site-packages/sklearn/svm/_base.py:986: ConvergenceWarning: Liblinear failed to converge, increase the number of iterations.\n",
      "  \"the number of iterations.\", ConvergenceWarning)\n",
      "/opt/anaconda3/envs/fastai-cpu-v0.7/lib/python3.7/site-packages/sklearn/svm/_base.py:986: ConvergenceWarning: Liblinear failed to converge, increase the number of iterations.\n",
      "  \"the number of iterations.\", ConvergenceWarning)\n",
      "/opt/anaconda3/envs/fastai-cpu-v0.7/lib/python3.7/site-packages/sklearn/svm/_base.py:986: ConvergenceWarning: Liblinear failed to converge, increase the number of iterations.\n",
      "  \"the number of iterations.\", ConvergenceWarning)\n",
      "/opt/anaconda3/envs/fastai-cpu-v0.7/lib/python3.7/site-packages/sklearn/svm/_base.py:986: ConvergenceWarning: Liblinear failed to converge, increase the number of iterations.\n",
      "  \"the number of iterations.\", ConvergenceWarning)\n",
      "/opt/anaconda3/envs/fastai-cpu-v0.7/lib/python3.7/site-packages/sklearn/svm/_base.py:986: ConvergenceWarning: Liblinear failed to converge, increase the number of iterations.\n",
      "  \"the number of iterations.\", ConvergenceWarning)\n",
      "/opt/anaconda3/envs/fastai-cpu-v0.7/lib/python3.7/site-packages/sklearn/svm/_base.py:986: ConvergenceWarning: Liblinear failed to converge, increase the number of iterations.\n",
      "  \"the number of iterations.\", ConvergenceWarning)\n",
      "/opt/anaconda3/envs/fastai-cpu-v0.7/lib/python3.7/site-packages/sklearn/svm/_base.py:986: ConvergenceWarning: Liblinear failed to converge, increase the number of iterations.\n",
      "  \"the number of iterations.\", ConvergenceWarning)\n",
      "/opt/anaconda3/envs/fastai-cpu-v0.7/lib/python3.7/site-packages/sklearn/svm/_base.py:986: ConvergenceWarning: Liblinear failed to converge, increase the number of iterations.\n",
      "  \"the number of iterations.\", ConvergenceWarning)\n",
      "/opt/anaconda3/envs/fastai-cpu-v0.7/lib/python3.7/site-packages/sklearn/svm/_base.py:986: ConvergenceWarning: Liblinear failed to converge, increase the number of iterations.\n",
      "  \"the number of iterations.\", ConvergenceWarning)\n",
      "/opt/anaconda3/envs/fastai-cpu-v0.7/lib/python3.7/site-packages/sklearn/svm/_base.py:986: ConvergenceWarning: Liblinear failed to converge, increase the number of iterations.\n",
      "  \"the number of iterations.\", ConvergenceWarning)\n",
      "/opt/anaconda3/envs/fastai-cpu-v0.7/lib/python3.7/site-packages/sklearn/svm/_base.py:986: ConvergenceWarning: Liblinear failed to converge, increase the number of iterations.\n",
      "  \"the number of iterations.\", ConvergenceWarning)\n",
      "/opt/anaconda3/envs/fastai-cpu-v0.7/lib/python3.7/site-packages/sklearn/svm/_base.py:986: ConvergenceWarning: Liblinear failed to converge, increase the number of iterations.\n",
      "  \"the number of iterations.\", ConvergenceWarning)\n",
      "/opt/anaconda3/envs/fastai-cpu-v0.7/lib/python3.7/site-packages/sklearn/svm/_base.py:986: ConvergenceWarning: Liblinear failed to converge, increase the number of iterations.\n",
      "  \"the number of iterations.\", ConvergenceWarning)\n",
      "/opt/anaconda3/envs/fastai-cpu-v0.7/lib/python3.7/site-packages/sklearn/svm/_base.py:986: ConvergenceWarning: Liblinear failed to converge, increase the number of iterations.\n",
      "  \"the number of iterations.\", ConvergenceWarning)\n",
      "/opt/anaconda3/envs/fastai-cpu-v0.7/lib/python3.7/site-packages/sklearn/svm/_base.py:986: ConvergenceWarning: Liblinear failed to converge, increase the number of iterations.\n",
      "  \"the number of iterations.\", ConvergenceWarning)\n",
      "/opt/anaconda3/envs/fastai-cpu-v0.7/lib/python3.7/site-packages/sklearn/svm/_base.py:986: ConvergenceWarning: Liblinear failed to converge, increase the number of iterations.\n",
      "  \"the number of iterations.\", ConvergenceWarning)\n",
      "/opt/anaconda3/envs/fastai-cpu-v0.7/lib/python3.7/site-packages/sklearn/svm/_base.py:986: ConvergenceWarning: Liblinear failed to converge, increase the number of iterations.\n",
      "  \"the number of iterations.\", ConvergenceWarning)\n",
      "/opt/anaconda3/envs/fastai-cpu-v0.7/lib/python3.7/site-packages/sklearn/svm/_base.py:986: ConvergenceWarning: Liblinear failed to converge, increase the number of iterations.\n",
      "  \"the number of iterations.\", ConvergenceWarning)\n",
      "/opt/anaconda3/envs/fastai-cpu-v0.7/lib/python3.7/site-packages/sklearn/svm/_base.py:986: ConvergenceWarning: Liblinear failed to converge, increase the number of iterations.\n",
      "  \"the number of iterations.\", ConvergenceWarning)\n",
      "/opt/anaconda3/envs/fastai-cpu-v0.7/lib/python3.7/site-packages/sklearn/svm/_base.py:986: ConvergenceWarning: Liblinear failed to converge, increase the number of iterations.\n",
      "  \"the number of iterations.\", ConvergenceWarning)\n",
      "/opt/anaconda3/envs/fastai-cpu-v0.7/lib/python3.7/site-packages/sklearn/svm/_base.py:986: ConvergenceWarning: Liblinear failed to converge, increase the number of iterations.\n",
      "  \"the number of iterations.\", ConvergenceWarning)\n",
      "/opt/anaconda3/envs/fastai-cpu-v0.7/lib/python3.7/site-packages/sklearn/svm/_base.py:986: ConvergenceWarning: Liblinear failed to converge, increase the number of iterations.\n",
      "  \"the number of iterations.\", ConvergenceWarning)\n",
      "/opt/anaconda3/envs/fastai-cpu-v0.7/lib/python3.7/site-packages/sklearn/svm/_base.py:986: ConvergenceWarning: Liblinear failed to converge, increase the number of iterations.\n",
      "  \"the number of iterations.\", ConvergenceWarning)\n",
      "/opt/anaconda3/envs/fastai-cpu-v0.7/lib/python3.7/site-packages/sklearn/svm/_base.py:986: ConvergenceWarning: Liblinear failed to converge, increase the number of iterations.\n",
      "  \"the number of iterations.\", ConvergenceWarning)\n",
      "/opt/anaconda3/envs/fastai-cpu-v0.7/lib/python3.7/site-packages/sklearn/svm/_base.py:986: ConvergenceWarning: Liblinear failed to converge, increase the number of iterations.\n",
      "  \"the number of iterations.\", ConvergenceWarning)\n",
      "/opt/anaconda3/envs/fastai-cpu-v0.7/lib/python3.7/site-packages/sklearn/svm/_base.py:986: ConvergenceWarning: Liblinear failed to converge, increase the number of iterations.\n",
      "  \"the number of iterations.\", ConvergenceWarning)\n",
      "/opt/anaconda3/envs/fastai-cpu-v0.7/lib/python3.7/site-packages/sklearn/svm/_base.py:986: ConvergenceWarning: Liblinear failed to converge, increase the number of iterations.\n",
      "  \"the number of iterations.\", ConvergenceWarning)\n",
      "/opt/anaconda3/envs/fastai-cpu-v0.7/lib/python3.7/site-packages/sklearn/svm/_base.py:986: ConvergenceWarning: Liblinear failed to converge, increase the number of iterations.\n",
      "  \"the number of iterations.\", ConvergenceWarning)\n",
      "/opt/anaconda3/envs/fastai-cpu-v0.7/lib/python3.7/site-packages/sklearn/svm/_base.py:986: ConvergenceWarning: Liblinear failed to converge, increase the number of iterations.\n",
      "  \"the number of iterations.\", ConvergenceWarning)\n",
      "/opt/anaconda3/envs/fastai-cpu-v0.7/lib/python3.7/site-packages/sklearn/svm/_base.py:986: ConvergenceWarning: Liblinear failed to converge, increase the number of iterations.\n",
      "  \"the number of iterations.\", ConvergenceWarning)\n"
     ]
    },
    {
     "name": "stderr",
     "output_type": "stream",
     "text": [
      "/opt/anaconda3/envs/fastai-cpu-v0.7/lib/python3.7/site-packages/sklearn/svm/_base.py:986: ConvergenceWarning: Liblinear failed to converge, increase the number of iterations.\n",
      "  \"the number of iterations.\", ConvergenceWarning)\n",
      "/opt/anaconda3/envs/fastai-cpu-v0.7/lib/python3.7/site-packages/sklearn/svm/_base.py:986: ConvergenceWarning: Liblinear failed to converge, increase the number of iterations.\n",
      "  \"the number of iterations.\", ConvergenceWarning)\n",
      "/opt/anaconda3/envs/fastai-cpu-v0.7/lib/python3.7/site-packages/sklearn/svm/_base.py:986: ConvergenceWarning: Liblinear failed to converge, increase the number of iterations.\n",
      "  \"the number of iterations.\", ConvergenceWarning)\n"
     ]
    }
   ],
   "source": [
    "results = dict()\n",
    "for sensor in df_n230['sensor'].value_counts().index.tolist():\n",
    "    result = []\n",
    "    for horizon in ['congestion+30min', 'congestion+60min', 'congestion+3heures', 'congestion+24heures']:\n",
    "        try: \n",
    "            result.append(pred_valid(sensor, horizon))\n",
    "        except: \n",
    "            result.append(['error'])\n",
    "    results[sensor] = result\n",
    "    \n",
    "df_results_valid = pd.DataFrame.from_dict(results)"
   ]
  },
  {
   "cell_type": "code",
   "execution_count": 501,
   "id": "f16fff39",
   "metadata": {},
   "outputs": [],
   "source": [
    "df_results_valid.index = ['congestion+30min', 'congestion+60min', 'congestion+3heures', 'congestion+24heures']"
   ]
  },
  {
   "cell_type": "code",
   "execution_count": 502,
   "id": "2ba51599",
   "metadata": {},
   "outputs": [
    {
     "data": {
      "text/html": [
       "<div>\n",
       "<style scoped>\n",
       "    .dataframe tbody tr th:only-of-type {\n",
       "        vertical-align: middle;\n",
       "    }\n",
       "\n",
       "    .dataframe tbody tr th {\n",
       "        vertical-align: top;\n",
       "    }\n",
       "\n",
       "    .dataframe thead th {\n",
       "        text-align: right;\n",
       "    }\n",
       "</style>\n",
       "<table border=\"1\" class=\"dataframe\">\n",
       "  <thead>\n",
       "    <tr style=\"text-align: right;\">\n",
       "      <th></th>\n",
       "      <th>congestion+30min</th>\n",
       "      <th>congestion+60min</th>\n",
       "      <th>congestion+3heures</th>\n",
       "      <th>congestion+24heures</th>\n",
       "    </tr>\n",
       "  </thead>\n",
       "  <tbody>\n",
       "    <tr>\n",
       "      <th>5143.01 2</th>\n",
       "      <td>0.797753</td>\n",
       "      <td>0.682081</td>\n",
       "      <td>0.572917</td>\n",
       "      <td>0.907668</td>\n",
       "    </tr>\n",
       "    <tr>\n",
       "      <th>5146.12 2</th>\n",
       "      <td>0.669872</td>\n",
       "      <td>0.569468</td>\n",
       "      <td>0.5</td>\n",
       "      <td>0.789026</td>\n",
       "    </tr>\n",
       "    <tr>\n",
       "      <th>5146.15 1</th>\n",
       "      <td>0.998998</td>\n",
       "      <td>0.998331</td>\n",
       "      <td>0.998331</td>\n",
       "      <td>0.998331</td>\n",
       "    </tr>\n",
       "    <tr>\n",
       "      <th>5044.12 2</th>\n",
       "      <td>[error]</td>\n",
       "      <td>[error]</td>\n",
       "      <td>[error]</td>\n",
       "      <td>[error]</td>\n",
       "    </tr>\n",
       "    <tr>\n",
       "      <th>LAPI L41</th>\n",
       "      <td>0.514286</td>\n",
       "      <td>0.458716</td>\n",
       "      <td>0.220339</td>\n",
       "      <td>0.871795</td>\n",
       "    </tr>\n",
       "    <tr>\n",
       "      <th>5044.01 1</th>\n",
       "      <td>0.835821</td>\n",
       "      <td>0.804819</td>\n",
       "      <td>0.71564</td>\n",
       "      <td>0.877872</td>\n",
       "    </tr>\n",
       "    <tr>\n",
       "      <th>5742.00 1</th>\n",
       "      <td>0.724177</td>\n",
       "      <td>0.667516</td>\n",
       "      <td>0.659204</td>\n",
       "      <td>0.738806</td>\n",
       "    </tr>\n",
       "    <tr>\n",
       "      <th>5146.13 1</th>\n",
       "      <td>0.999667</td>\n",
       "      <td>0.999667</td>\n",
       "      <td>0.999667</td>\n",
       "      <td>0.999667</td>\n",
       "    </tr>\n",
       "    <tr>\n",
       "      <th>5143.00 2</th>\n",
       "      <td>0.806015</td>\n",
       "      <td>0.786145</td>\n",
       "      <td>0.755102</td>\n",
       "      <td>0.853704</td>\n",
       "    </tr>\n",
       "    <tr>\n",
       "      <th>5044.15 1</th>\n",
       "      <td>0.998999</td>\n",
       "      <td>0.999666</td>\n",
       "      <td>0.998999</td>\n",
       "      <td>0.998999</td>\n",
       "    </tr>\n",
       "    <tr>\n",
       "      <th>5042.00 1</th>\n",
       "      <td>0.75</td>\n",
       "      <td>0.673684</td>\n",
       "      <td>0.533333</td>\n",
       "      <td>0.900929</td>\n",
       "    </tr>\n",
       "    <tr>\n",
       "      <th>5043.00 1</th>\n",
       "      <td>0.909474</td>\n",
       "      <td>0.869748</td>\n",
       "      <td>0.844697</td>\n",
       "      <td>0.911565</td>\n",
       "    </tr>\n",
       "    <tr>\n",
       "      <th>5146.14 2</th>\n",
       "      <td>[error]</td>\n",
       "      <td>[error]</td>\n",
       "      <td>[error]</td>\n",
       "      <td>[error]</td>\n",
       "    </tr>\n",
       "    <tr>\n",
       "      <th>5146.10 2</th>\n",
       "      <td>0.920016</td>\n",
       "      <td>0.923378</td>\n",
       "      <td>0.922484</td>\n",
       "      <td>0.934053</td>\n",
       "    </tr>\n",
       "    <tr>\n",
       "      <th>5143.01 1</th>\n",
       "      <td>0.873016</td>\n",
       "      <td>0.834225</td>\n",
       "      <td>0.698734</td>\n",
       "      <td>0.9202</td>\n",
       "    </tr>\n",
       "    <tr>\n",
       "      <th>5342.00 1</th>\n",
       "      <td>0.75188</td>\n",
       "      <td>0.569106</td>\n",
       "      <td>0.425532</td>\n",
       "      <td>0.903339</td>\n",
       "    </tr>\n",
       "    <tr>\n",
       "      <th>LAPI L42</th>\n",
       "      <td>0.865784</td>\n",
       "      <td>0.811133</td>\n",
       "      <td>0.745763</td>\n",
       "      <td>0.87069</td>\n",
       "    </tr>\n",
       "    <tr>\n",
       "      <th>5146.11 1</th>\n",
       "      <td>0.990894</td>\n",
       "      <td>0.990226</td>\n",
       "      <td>0.991228</td>\n",
       "      <td>0.991568</td>\n",
       "    </tr>\n",
       "    <tr>\n",
       "      <th>5044.10 2</th>\n",
       "      <td>0.999667</td>\n",
       "      <td>0.999667</td>\n",
       "      <td>0.999667</td>\n",
       "      <td>0.999667</td>\n",
       "    </tr>\n",
       "    <tr>\n",
       "      <th>5042.00 2</th>\n",
       "      <td>0.879167</td>\n",
       "      <td>0.848861</td>\n",
       "      <td>0.812274</td>\n",
       "      <td>0.914005</td>\n",
       "    </tr>\n",
       "    <tr>\n",
       "      <th>5742.00 2</th>\n",
       "      <td>0.909091</td>\n",
       "      <td>0.885057</td>\n",
       "      <td>0.844444</td>\n",
       "      <td>0.91834</td>\n",
       "    </tr>\n",
       "    <tr>\n",
       "      <th>5044.01 2</th>\n",
       "      <td>0.597403</td>\n",
       "      <td>0.403846</td>\n",
       "      <td>0.296296</td>\n",
       "      <td>0.818713</td>\n",
       "    </tr>\n",
       "    <tr>\n",
       "      <th>5044.11 1</th>\n",
       "      <td>[error]</td>\n",
       "      <td>[error]</td>\n",
       "      <td>[error]</td>\n",
       "      <td>[error]</td>\n",
       "    </tr>\n",
       "    <tr>\n",
       "      <th>5442.00 2</th>\n",
       "      <td>[error]</td>\n",
       "      <td>[error]</td>\n",
       "      <td>[error]</td>\n",
       "      <td>[error]</td>\n",
       "    </tr>\n",
       "  </tbody>\n",
       "</table>\n",
       "</div>"
      ],
      "text/plain": [
       "          congestion+30min congestion+60min congestion+3heures  \\\n",
       "5143.01 2         0.797753         0.682081           0.572917   \n",
       "5146.12 2         0.669872         0.569468                0.5   \n",
       "5146.15 1         0.998998         0.998331           0.998331   \n",
       "5044.12 2          [error]          [error]            [error]   \n",
       "LAPI L41          0.514286         0.458716           0.220339   \n",
       "5044.01 1         0.835821         0.804819            0.71564   \n",
       "5742.00 1         0.724177         0.667516           0.659204   \n",
       "5146.13 1         0.999667         0.999667           0.999667   \n",
       "5143.00 2         0.806015         0.786145           0.755102   \n",
       "5044.15 1         0.998999         0.999666           0.998999   \n",
       "5042.00 1             0.75         0.673684           0.533333   \n",
       "5043.00 1         0.909474         0.869748           0.844697   \n",
       "5146.14 2          [error]          [error]            [error]   \n",
       "5146.10 2         0.920016         0.923378           0.922484   \n",
       "5143.01 1         0.873016         0.834225           0.698734   \n",
       "5342.00 1          0.75188         0.569106           0.425532   \n",
       "LAPI L42          0.865784         0.811133           0.745763   \n",
       "5146.11 1         0.990894         0.990226           0.991228   \n",
       "5044.10 2         0.999667         0.999667           0.999667   \n",
       "5042.00 2         0.879167         0.848861           0.812274   \n",
       "5742.00 2         0.909091         0.885057           0.844444   \n",
       "5044.01 2         0.597403         0.403846           0.296296   \n",
       "5044.11 1          [error]          [error]            [error]   \n",
       "5442.00 2          [error]          [error]            [error]   \n",
       "\n",
       "          congestion+24heures  \n",
       "5143.01 2            0.907668  \n",
       "5146.12 2            0.789026  \n",
       "5146.15 1            0.998331  \n",
       "5044.12 2             [error]  \n",
       "LAPI L41             0.871795  \n",
       "5044.01 1            0.877872  \n",
       "5742.00 1            0.738806  \n",
       "5146.13 1            0.999667  \n",
       "5143.00 2            0.853704  \n",
       "5044.15 1            0.998999  \n",
       "5042.00 1            0.900929  \n",
       "5043.00 1            0.911565  \n",
       "5146.14 2             [error]  \n",
       "5146.10 2            0.934053  \n",
       "5143.01 1              0.9202  \n",
       "5342.00 1            0.903339  \n",
       "LAPI L42              0.87069  \n",
       "5146.11 1            0.991568  \n",
       "5044.10 2            0.999667  \n",
       "5042.00 2            0.914005  \n",
       "5742.00 2             0.91834  \n",
       "5044.01 2            0.818713  \n",
       "5044.11 1             [error]  \n",
       "5442.00 2             [error]  "
      ]
     },
     "execution_count": 502,
     "metadata": {},
     "output_type": "execute_result"
    }
   ],
   "source": [
    "df_results_valid.T"
   ]
  },
  {
   "cell_type": "code",
   "execution_count": 478,
   "id": "4c32b212",
   "metadata": {},
   "outputs": [],
   "source": [
    "df_results.to_csv('data/resultats_modelisation_echantillon_valid.csv')"
   ]
  }
 ],
 "metadata": {
  "kernelspec": {
   "display_name": "Python 3",
   "language": "python",
   "name": "python3"
  },
  "language_info": {
   "codemirror_mode": {
    "name": "ipython",
    "version": 3
   },
   "file_extension": ".py",
   "mimetype": "text/x-python",
   "name": "python",
   "nbconvert_exporter": "python",
   "pygments_lexer": "ipython3",
   "version": "3.6.13"
  }
 },
 "nbformat": 4,
 "nbformat_minor": 5
}
