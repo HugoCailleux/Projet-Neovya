{
 "cells": [
  {
   "cell_type": "markdown",
   "id": "e2a9648c",
   "metadata": {},
   "source": [
    "## Imports"
   ]
  },
  {
   "cell_type": "code",
   "execution_count": 214,
   "id": "7ccc87d8",
   "metadata": {},
   "outputs": [],
   "source": [
    "import os\n",
    "import pandas as pd\n",
    "import numpy as np\n",
    "from matplotlib import pyplot as plt\n",
    "import math\n",
    "from sklearn import metrics"
   ]
  },
  {
   "cell_type": "code",
   "execution_count": 215,
   "id": "4d17a9dc",
   "metadata": {},
   "outputs": [],
   "source": [
    "from sklearn.ensemble import RandomForestClassifier\n",
    "from sklearn.model_selection import cross_val_score"
   ]
  },
  {
   "cell_type": "code",
   "execution_count": 218,
   "id": "299a12ed",
   "metadata": {},
   "outputs": [],
   "source": [
    "df_lapil42 = pd.read_csv('data/polynomial_lapil42_selected_df.csv')\n",
    "df_lapil42_all = pd.read_csv('data/polynomial_lapil42_allweather_df.csv')"
   ]
  },
  {
   "cell_type": "markdown",
   "id": "916590b0",
   "metadata": {},
   "source": [
    "## Feature engineering"
   ]
  },
  {
   "cell_type": "markdown",
   "id": "cd413972",
   "metadata": {},
   "source": [
    "Nous allons transformer la colonne speed de façon catégorielle : au dessus de 75, le trafic est fluide (1), sinon le trafic est congestionné (0) : "
   ]
  },
  {
   "cell_type": "code",
   "execution_count": 392,
   "id": "243008bb",
   "metadata": {},
   "outputs": [],
   "source": [
    "def etat_du_trafic(x):\n",
    "    if x > 80: return 0\n",
    "    else: return 1"
   ]
  },
  {
   "cell_type": "markdown",
   "id": "dad1a075",
   "metadata": {},
   "source": [
    "Nous ajoutons la variable à prédire : l'état du trafic dans 30 minutes"
   ]
  },
  {
   "cell_type": "code",
   "execution_count": 393,
   "id": "72e57187",
   "metadata": {},
   "outputs": [],
   "source": [
    "df_lapil42['congestion+30min'] = df_lapil42['speed'].shift(periods=-5, fill_value=False).apply(lambda x : etat_du_trafic(x))"
   ]
  },
  {
   "cell_type": "code",
   "execution_count": 394,
   "id": "4fc210c4",
   "metadata": {},
   "outputs": [
    {
     "data": {
      "text/plain": [
       "0    5275\n",
       "1    1445\n",
       "Name: congestion+30min, dtype: int64"
      ]
     },
     "execution_count": 394,
     "metadata": {},
     "output_type": "execute_result"
    }
   ],
   "source": [
    "df_lapil42['congestion+30min'].value_counts()"
   ]
  },
  {
   "cell_type": "code",
   "execution_count": 395,
   "id": "0474eb5d",
   "metadata": {},
   "outputs": [],
   "source": [
    "df_lapil42_all['congestion+30min'] = df_lapil42_all['speed'].shift(periods=-5, fill_value=False).apply(lambda x : etat_du_trafic(x))"
   ]
  },
  {
   "cell_type": "code",
   "execution_count": 396,
   "id": "3237d9e1",
   "metadata": {},
   "outputs": [
    {
     "data": {
      "text/plain": [
       "0    5275\n",
       "1    1445\n",
       "Name: congestion+30min, dtype: int64"
      ]
     },
     "execution_count": 396,
     "metadata": {},
     "output_type": "execute_result"
    }
   ],
   "source": [
    "df_lapil42_all['congestion+30min'].value_counts()"
   ]
  },
  {
   "cell_type": "markdown",
   "id": "368799ed",
   "metadata": {},
   "source": [
    "## Création des différents jeux de données"
   ]
  },
  {
   "cell_type": "code",
   "execution_count": 397,
   "id": "a58782c3",
   "metadata": {},
   "outputs": [],
   "source": [
    "Df = df_lapil42.drop(['congestion+30min', 'date'], axis = 1)"
   ]
  },
  {
   "cell_type": "code",
   "execution_count": 398,
   "id": "c974d8d4",
   "metadata": {},
   "outputs": [],
   "source": [
    "Df_all = df_lapil42_all.drop(['congestion+30min', 'date'], axis = 1)"
   ]
  },
  {
   "cell_type": "code",
   "execution_count": 399,
   "id": "3fae1c7b",
   "metadata": {},
   "outputs": [],
   "source": [
    "y = df_lapil42['congestion+30min']"
   ]
  },
  {
   "cell_type": "code",
   "execution_count": 400,
   "id": "fa66c51f",
   "metadata": {},
   "outputs": [],
   "source": [
    "def split_vals(df, n): \n",
    "    return df[:n].copy(), df[n:].copy()"
   ]
  },
  {
   "cell_type": "code",
   "execution_count": 401,
   "id": "d6218021",
   "metadata": {},
   "outputs": [],
   "source": [
    "n_total = len(df_lapil42)\n",
    "n_test = 1500 #arbitrary\n",
    "n_train = n_total - n_test"
   ]
  },
  {
   "cell_type": "code",
   "execution_count": 402,
   "id": "0a096b5a",
   "metadata": {},
   "outputs": [
    {
     "name": "stdout",
     "output_type": "stream",
     "text": [
      "Number of full training data points: X = (5220, 33), y = (5220,)\n",
      "Number of validation data points: X = (1500, 33), y = (1500,)\n"
     ]
    }
   ],
   "source": [
    "X_train_all, X_valid_all = split_vals(Df_all, n_train)\n",
    "X_train, X_valid = split_vals(Df, n_train)\n",
    "y_train, y_valid = split_vals(y, n_train)\n",
    "\n",
    "print('Number of full training data points: X = {}, y = {}'.format(X_train.shape, y_train.shape))\n",
    "print('Number of validation data points: X = {}, y = {}'.format(X_valid.shape, y_valid.shape))"
   ]
  },
  {
   "cell_type": "code",
   "execution_count": 403,
   "id": "17c4a4b4",
   "metadata": {},
   "outputs": [
    {
     "data": {
      "text/plain": [
       "0    1204\n",
       "1     296\n",
       "Name: congestion+30min, dtype: int64"
      ]
     },
     "execution_count": 403,
     "metadata": {},
     "output_type": "execute_result"
    }
   ],
   "source": [
    "y_valid.value_counts()"
   ]
  },
  {
   "cell_type": "code",
   "execution_count": 404,
   "id": "05b52857",
   "metadata": {},
   "outputs": [
    {
     "data": {
      "text/plain": [
       "0    4071\n",
       "1    1149\n",
       "Name: congestion+30min, dtype: int64"
      ]
     },
     "execution_count": 404,
     "metadata": {},
     "output_type": "execute_result"
    }
   ],
   "source": [
    "y_train.value_counts()"
   ]
  },
  {
   "cell_type": "markdown",
   "id": "6567a34d",
   "metadata": {},
   "source": [
    "## Premier modèle"
   ]
  },
  {
   "cell_type": "code",
   "execution_count": 405,
   "id": "f05a4a8e",
   "metadata": {},
   "outputs": [],
   "source": [
    "classifier = RandomForestClassifier(\n",
    "    n_estimators = 20, \n",
    "    class_weight = None, # classifier specific\n",
    "    criterion = 'gini',  # classifier specific\n",
    "    max_depth = 3, \n",
    "    min_samples_split = 2, \n",
    "    min_samples_leaf = 1, \n",
    "    min_weight_fraction_leaf = 0.0, \n",
    "    max_features = 'auto', \n",
    "    max_leaf_nodes = None, \n",
    "    min_impurity_decrease = 0.0, \n",
    "    min_impurity_split = None, \n",
    "    ccp_alpha = 0.0, \n",
    "    random_state = 42, \n",
    "    bootstrap = True, \n",
    "    oob_score = True, \n",
    "    max_samples = None,\n",
    "    warm_start = False, \n",
    "    n_jobs = -1, \n",
    "    verbose = 0, \n",
    ")"
   ]
  },
  {
   "cell_type": "code",
   "execution_count": 406,
   "id": "79032e27",
   "metadata": {},
   "outputs": [],
   "source": [
    "def classifier_metrics (y_test, y_preds, average='weighted'):\n",
    "    \"\"\"Return Accuracy, Recall, Precision and F-1 score. \n",
    "    Average can take two arguments : macro or weighted \"\"\"\n",
    "\n",
    "    acc = metrics.accuracy_score(y_test, y_preds)\n",
    "    rec = metrics.recall_score(y_test, y_preds, sample_weight = None)\n",
    "    prc = metrics.precision_score(y_test, y_preds, sample_weight = None)\n",
    "    f1  = metrics.f1_score(y_test, y_preds, sample_weight = None)\n",
    "\n",
    "    print('Accuracy : {:.2f}%'.format(acc*100))\n",
    "    print('Recall : {:.2f}%'.format(rec*100))\n",
    "    print('Precision : {:.2f}%'.format(prc*100))\n",
    "    print('F1-score : {:.2f}%'.format(f1*100))"
   ]
  },
  {
   "cell_type": "code",
   "execution_count": 407,
   "id": "53485ed4",
   "metadata": {},
   "outputs": [
    {
     "name": "stdout",
     "output_type": "stream",
     "text": [
      "Accuracy : 90.65%\n",
      "Recall : 60.31%\n",
      "Precision : 95.59%\n",
      "F1-score : 73.96%\n"
     ]
    },
    {
     "name": "stderr",
     "output_type": "stream",
     "text": [
      "/opt/anaconda3/envs/fastai-cpu-v0.7/lib/python3.7/site-packages/sklearn/ensemble/_forest.py:541: UserWarning: Some inputs do not have OOB scores. This probably means too few trees were used to compute any reliable oob estimates.\n",
      "  warn(\"Some inputs do not have OOB scores. \"\n",
      "/opt/anaconda3/envs/fastai-cpu-v0.7/lib/python3.7/site-packages/sklearn/ensemble/_forest.py:546: RuntimeWarning: invalid value encountered in true_divide\n",
      "  predictions[k].sum(axis=1)[:, np.newaxis])\n"
     ]
    }
   ],
   "source": [
    "classifier.fit(X_train_all, y_train)\n",
    "classifier_metrics(y_train, classifier.predict(X_train_all))"
   ]
  },
  {
   "cell_type": "code",
   "execution_count": 408,
   "id": "43053dd1",
   "metadata": {},
   "outputs": [
    {
     "name": "stdout",
     "output_type": "stream",
     "text": [
      "Accuracy : 90.25%\n",
      "Recall : 57.27%\n",
      "Precision : 97.34%\n",
      "F1-score : 72.11%\n"
     ]
    },
    {
     "name": "stderr",
     "output_type": "stream",
     "text": [
      "/opt/anaconda3/envs/fastai-cpu-v0.7/lib/python3.7/site-packages/sklearn/ensemble/_forest.py:541: UserWarning: Some inputs do not have OOB scores. This probably means too few trees were used to compute any reliable oob estimates.\n",
      "  warn(\"Some inputs do not have OOB scores. \"\n",
      "/opt/anaconda3/envs/fastai-cpu-v0.7/lib/python3.7/site-packages/sklearn/ensemble/_forest.py:546: RuntimeWarning: invalid value encountered in true_divide\n",
      "  predictions[k].sum(axis=1)[:, np.newaxis])\n"
     ]
    }
   ],
   "source": [
    "classifier.fit(X_train, y_train)\n",
    "classifier_metrics(y_train, classifier.predict(X_train))"
   ]
  },
  {
   "cell_type": "markdown",
   "id": "77a06d31",
   "metadata": {},
   "source": [
    "Les résultats sont plutôt bons mais peuvent certainement être améliorer. Procédons au tuning des hyperparamètres :"
   ]
  },
  {
   "cell_type": "markdown",
   "id": "43ec8a47",
   "metadata": {},
   "source": [
    "## Tuning des hyperparamètres :\n",
    "\n",
    "Le jeu de données dont nous disposons est plutôt restreint. Nous allons donc travailler uniquement sur l'échantillon \"train\" grâce à des Cross-validation :"
   ]
  },
  {
   "cell_type": "markdown",
   "id": "bc170d05",
   "metadata": {},
   "source": [
    "### Déterminons le nombre d'estimateurs le plus pertinent"
   ]
  },
  {
   "cell_type": "code",
   "execution_count": 409,
   "id": "870f0abc",
   "metadata": {},
   "outputs": [],
   "source": [
    "def plt_f1(start, end, pas):\n",
    "    f1_results = []\n",
    "    f1_results_all = []\n",
    "    \n",
    "    for k in range(start, end, pas):\n",
    "        classifier = RandomForestClassifier(\n",
    "            n_estimators = k, \n",
    "            class_weight = None, # classifier specific\n",
    "            criterion = 'gini',  # classifier specific\n",
    "            max_depth = 3, \n",
    "            min_samples_split = 2, \n",
    "            min_samples_leaf = 1, \n",
    "            min_weight_fraction_leaf = 0.0, \n",
    "            max_features = 'auto', \n",
    "            max_leaf_nodes = None, \n",
    "            min_impurity_decrease = 0.0, \n",
    "            min_impurity_split = None, \n",
    "            ccp_alpha = 0.0, \n",
    "            random_state = 42, \n",
    "            bootstrap = True, \n",
    "            oob_score = False, \n",
    "            max_samples = None,\n",
    "            warm_start = False, \n",
    "            n_jobs = -1, \n",
    "            verbose = 0, \n",
    "        )\n",
    "\n",
    "        classifier.fit(X_train, y_train)\n",
    "        mean_score = cross_val_score(classifier, X_train, y_train, scoring=\"f1\", cv = 7).mean()\n",
    "\n",
    "        classifier.fit(X_train_all, y_train)\n",
    "        mean_score_all = cross_val_score(classifier, X_train_all, y_train, scoring = 'f1', cv = 7).mean()\n",
    "        f1_results.append(mean_score)\n",
    "        f1_results_all.append(mean_score_all)\n",
    "\n",
    "    plt.plot(f1_results)\n",
    "    plt.plot(f1_results_all)\n",
    "    print('Météo réduite :')\n",
    "    print([(k,v) for k,v in zip(f1_results, range(start,end,pas))])\n",
    "    print('   ')\n",
    "    print('Météo complète')\n",
    "    print([(k,v) for k,v in zip(f1_results_all, range(start,end,pas))])"
   ]
  },
  {
   "cell_type": "code",
   "execution_count": 410,
   "id": "ec2c877f",
   "metadata": {},
   "outputs": [
    {
     "name": "stdout",
     "output_type": "stream",
     "text": [
      "Météo réduite :\n",
      "[(0.5805999795018992, 40), (0.5902261143515567, 45), (0.5923248006933916, 50), (0.5792649154749342, 55), (0.604753350536617, 60), (0.603438170520061, 65), (0.6030610021355493, 70), (0.5975413739678306, 75)]\n",
      "   \n",
      "Météo complète\n",
      "[(0.5872514727231913, 40), (0.5903799270019293, 45), (0.5737024552922314, 50), (0.5783263122908243, 55), (0.6041922178714227, 60), (0.608035349623551, 65), (0.6101103325233387, 70), (0.5989072424619215, 75)]\n"
     ]
    },
    {
     "data": {
      "image/png": "[encoded data removed]",
      "text/plain": [
       "<Figure size 432x288 with 1 Axes>"
      ]
     },
     "metadata": {
      "needs_background": "light"
     },
     "output_type": "display_data"
    }
   ],
   "source": [
    "plt_f1(40,80,5)"
   ]
  },
  {
   "cell_type": "markdown",
   "id": "62fef161",
   "metadata": {},
   "source": [
    "Gardons 60 comme valeurs."
   ]
  },
  {
   "cell_type": "markdown",
   "id": "9ed1ef4e",
   "metadata": {},
   "source": [
    "### Déterminons la taille des arbres"
   ]
  },
  {
   "cell_type": "code",
   "execution_count": 411,
   "id": "35a61e6c",
   "metadata": {},
   "outputs": [
    {
     "data": {
      "text/plain": [
       "[<matplotlib.lines.Line2D at 0x7ff442ee2210>]"
      ]
     },
     "execution_count": 411,
     "metadata": {},
     "output_type": "execute_result"
    },
    {
     "data": {
      "image/png": "[encoded data removed]",
      "text/plain": [
       "<Figure size 432x288 with 1 Axes>"
      ]
     },
     "metadata": {
      "needs_background": "light"
     },
     "output_type": "display_data"
    }
   ],
   "source": [
    "f1_results = []\n",
    "for k in range(2, 10, 1):\n",
    "    classifier = RandomForestClassifier(\n",
    "        n_estimators = 60, \n",
    "        class_weight = None, # classifier specific\n",
    "        criterion = 'gini',  # classifier specific\n",
    "        max_depth = k, \n",
    "        min_samples_split = 2, \n",
    "        min_samples_leaf = 1, \n",
    "        min_weight_fraction_leaf = 0.0, \n",
    "        max_features = 'auto', \n",
    "        max_leaf_nodes = None, \n",
    "        min_impurity_decrease = 0.0, \n",
    "        min_impurity_split = None, \n",
    "        ccp_alpha = 0.0, \n",
    "        random_state = 42, \n",
    "        bootstrap = True, \n",
    "        oob_score = False, \n",
    "        max_samples = None,\n",
    "        warm_start = False, \n",
    "        n_jobs = -1, \n",
    "        verbose = 0, \n",
    "    )\n",
    "    \n",
    "    classifier.fit(X_train, y_train)\n",
    "    mean_score = cross_val_score(classifier, X_train, y_train, scoring=\"f1\", cv = 7).mean()\n",
    "    f1_results.append(mean_score)\n",
    "    \n",
    "plt.plot(f1_results)"
   ]
  },
  {
   "cell_type": "code",
   "execution_count": 412,
   "id": "4bdb5f1f",
   "metadata": {},
   "outputs": [
    {
     "data": {
      "text/plain": [
       "[(0.2372402273597591, 2),\n",
       " (0.604753350536617, 3),\n",
       " (0.6242543311207226, 4),\n",
       " (0.6296712213577796, 5),\n",
       " (0.6326266105377011, 6),\n",
       " (0.6442049843318524, 7),\n",
       " (0.6049652993716081, 8),\n",
       " (0.6183952857612558, 9)]"
      ]
     },
     "execution_count": 412,
     "metadata": {},
     "output_type": "execute_result"
    }
   ],
   "source": [
    "[(k,v) for k,v in zip(f1_results, range(2,10,1))]"
   ]
  },
  {
   "cell_type": "code",
   "execution_count": 413,
   "id": "ddbc33f3",
   "metadata": {},
   "outputs": [
    {
     "data": {
      "text/plain": [
       "0    4071\n",
       "1    1149\n",
       "Name: congestion+30min, dtype: int64"
      ]
     },
     "execution_count": 413,
     "metadata": {},
     "output_type": "execute_result"
    }
   ],
   "source": [
    "y_train.value_counts()"
   ]
  },
  {
   "cell_type": "code",
   "execution_count": 414,
   "id": "7e0edf28",
   "metadata": {},
   "outputs": [
    {
     "data": {
      "text/plain": [
       "[(0.2372402273597591, 2),\n",
       " (0.604753350536617, 3),\n",
       " (0.6242543311207226, 4),\n",
       " (0.6296712213577796, 5),\n",
       " (0.6326266105377011, 6),\n",
       " (0.6442049843318524, 7),\n",
       " (0.6049652993716081, 8),\n",
       " (0.6183952857612558, 9)]"
      ]
     },
     "execution_count": 414,
     "metadata": {},
     "output_type": "execute_result"
    }
   ],
   "source": [
    "[(k,v) for k,v in zip(f1_results, range(2,10,1))]"
   ]
  },
  {
   "cell_type": "markdown",
   "id": "3860ab68",
   "metadata": {},
   "source": [
    "Gardons 5 comme valeurs."
   ]
  },
  {
   "cell_type": "code",
   "execution_count": 280,
   "id": "74a6be6a",
   "metadata": {},
   "outputs": [
    {
     "data": {
      "text/plain": [
       "[<matplotlib.lines.Line2D at 0x7ff4424b3090>]"
      ]
     },
     "execution_count": 280,
     "metadata": {},
     "output_type": "execute_result"
    },
    {
     "data": {
      "image/png": "[encoded data removed]",
      "text/plain": [
       "<Figure size 432x288 with 1 Axes>"
      ]
     },
     "metadata": {
      "needs_background": "light"
     },
     "output_type": "display_data"
    }
   ],
   "source": [
    "#0.73\n",
    "f1_results = []\n",
    "for k in range(50, 70, 2):\n",
    "    classifier = RandomForestClassifier(\n",
    "        n_estimators = 60, \n",
    "        class_weight = None, # classifier specific\n",
    "        criterion = 'gini',  # classifier specific\n",
    "        max_depth = 5, \n",
    "        min_samples_split = k, \n",
    "        min_samples_leaf = 1, \n",
    "        min_weight_fraction_leaf = 0.0, \n",
    "        max_features = 'auto', \n",
    "        max_leaf_nodes = None, \n",
    "        min_impurity_decrease = 0.0, \n",
    "        min_impurity_split = None, \n",
    "        ccp_alpha = 0.0, \n",
    "        random_state = 42, \n",
    "        bootstrap = True, \n",
    "        oob_score = False, \n",
    "        max_samples = None,\n",
    "        warm_start = False, \n",
    "        n_jobs = -1, \n",
    "        verbose = 0, \n",
    "    )\n",
    "    \n",
    "    classifier.fit(X_train, y_train)\n",
    "    mean_score = cross_val_score(classifier, X_train, y_train, scoring=\"f1\", cv = 7).mean()\n",
    "    f1_results.append(mean_score)\n",
    "    \n",
    "plt.plot(f1_results)"
   ]
  },
  {
   "cell_type": "code",
   "execution_count": 281,
   "id": "1da05928",
   "metadata": {},
   "outputs": [
    {
     "data": {
      "text/plain": [
       "[(0.6533498724222362, 50),\n",
       " (0.6535454175629661, 52),\n",
       " (0.6492641359934481, 54),\n",
       " (0.658275072887036, 56),\n",
       " (0.6558214807763463, 58),\n",
       " (0.6556290900621208, 60),\n",
       " (0.6503251721781531, 62),\n",
       " (0.6485780282339635, 64),\n",
       " (0.6530561646074453, 66),\n",
       " (0.6563482102308578, 68)]"
      ]
     },
     "execution_count": 281,
     "metadata": {},
     "output_type": "execute_result"
    }
   ],
   "source": [
    "[(k,v) for k,v in zip(f1_results, range(50,70,2))]"
   ]
  },
  {
   "cell_type": "markdown",
   "id": "01f8c044",
   "metadata": {},
   "source": [
    "Gardons 58."
   ]
  },
  {
   "cell_type": "code",
   "execution_count": 154,
   "id": "9456950e",
   "metadata": {},
   "outputs": [
    {
     "data": {
      "text/plain": [
       "[<matplotlib.lines.Line2D at 0x7ff4217621d0>]"
      ]
     },
     "execution_count": 154,
     "metadata": {},
     "output_type": "execute_result"
    },
    {
     "data": {
      "image/png": "[encoded data removed]",
      "text/plain": [
       "<Figure size 432x288 with 1 Axes>"
      ]
     },
     "metadata": {
      "needs_background": "light"
     },
     "output_type": "display_data"
    }
   ],
   "source": [
    "f1_results = []\n",
    "for k in range(1, 10, 1):\n",
    "    classifier = RandomForestClassifier(\n",
    "        n_estimators = 60, \n",
    "        class_weight = None, # classifier specific\n",
    "        criterion = 'gini',  # classifier specific\n",
    "        max_depth = 5, \n",
    "        min_samples_split = 58, \n",
    "        min_samples_leaf = k, \n",
    "        min_weight_fraction_leaf = 0.0, \n",
    "        max_features = 'auto', \n",
    "        max_leaf_nodes = None, \n",
    "        min_impurity_decrease = 0.0, \n",
    "        min_impurity_split = None, \n",
    "        ccp_alpha = 0.0, \n",
    "        random_state = 42, \n",
    "        bootstrap = True, \n",
    "        oob_score = False, \n",
    "        max_samples = None,\n",
    "        warm_start = False, \n",
    "        n_jobs = -1, \n",
    "        verbose = 0, \n",
    "    )\n",
    "    \n",
    "    classifier.fit(X_train, y_train)\n",
    "    mean_score = cross_val_score(classifier, X_train, y_train, scoring=\"f1\", cv = 7).mean()\n",
    "    f1_results.append(mean_score)\n",
    "    \n",
    "plt.plot(f1_results)"
   ]
  },
  {
   "cell_type": "markdown",
   "id": "f99ff4aa",
   "metadata": {},
   "source": [
    "Gardons la valeur par défaut : 1"
   ]
  },
  {
   "cell_type": "markdown",
   "id": "224c7dd8",
   "metadata": {},
   "source": [
    "### \"max features\""
   ]
  },
  {
   "cell_type": "code",
   "execution_count": 282,
   "id": "d9372dcf",
   "metadata": {},
   "outputs": [
    {
     "data": {
      "text/plain": [
       "[<matplotlib.lines.Line2D at 0x7ff430c9e3d0>]"
      ]
     },
     "execution_count": 282,
     "metadata": {},
     "output_type": "execute_result"
    },
    {
     "data": {
      "image/png": "[encoded data removed]",
      "text/plain": [
       "<Figure size 432x288 with 1 Axes>"
      ]
     },
     "metadata": {
      "needs_background": "light"
     },
     "output_type": "display_data"
    }
   ],
   "source": [
    "f1_results = []\n",
    "for k in range(15, 25, 1):\n",
    "    classifier = RandomForestClassifier(\n",
    "        n_estimators = 60, \n",
    "        class_weight = None, # classifier specific\n",
    "        criterion = 'gini',  # classifier specific\n",
    "        max_depth = 5, \n",
    "        min_samples_split = 58, \n",
    "        min_samples_leaf = 1, \n",
    "        min_weight_fraction_leaf = 0.0, \n",
    "        max_features = k/100, \n",
    "        max_leaf_nodes = None, \n",
    "        min_impurity_decrease = 0.0, \n",
    "        min_impurity_split = None, \n",
    "        ccp_alpha = 0.0, \n",
    "        random_state = 42, \n",
    "        bootstrap = True, \n",
    "        oob_score = False, \n",
    "        max_samples = None,\n",
    "        warm_start = False, \n",
    "        n_jobs = -1, \n",
    "        verbose = 0, \n",
    "    )\n",
    "    \n",
    "    classifier.fit(X_train, y_train)\n",
    "    mean_score = cross_val_score(classifier, X_train, y_train, scoring=\"f1\", cv = 7).mean()\n",
    "    f1_results.append(mean_score)\n",
    "    \n",
    "plt.plot(f1_results)"
   ]
  },
  {
   "cell_type": "code",
   "execution_count": 283,
   "id": "f6e8336a",
   "metadata": {},
   "outputs": [
    {
     "data": {
      "text/plain": [
       "[(0.5930835516350939, 15),\n",
       " (0.6558214807763463, 16),\n",
       " (0.6558214807763463, 17),\n",
       " (0.6558214807763463, 18),\n",
       " (0.7036549473192232, 19),\n",
       " (0.7036549473192232, 20),\n",
       " (0.7036549473192232, 21),\n",
       " (0.716229168779782, 22),\n",
       " (0.716229168779782, 23),\n",
       " (0.716229168779782, 24)]"
      ]
     },
     "execution_count": 283,
     "metadata": {},
     "output_type": "execute_result"
    }
   ],
   "source": [
    "[(k,v) for k,v in zip(f1_results, range(15, 25, 1))]"
   ]
  },
  {
   "cell_type": "markdown",
   "id": "2c740b32",
   "metadata": {},
   "source": [
    "Gardons 0.22 comme valeur.\n",
    "\n",
    "## Comparaison des résultats entre les datasets"
   ]
  },
  {
   "cell_type": "code",
   "execution_count": 287,
   "id": "49a23daf",
   "metadata": {},
   "outputs": [],
   "source": [
    "def classifier_metrics (y_test, y_preds, average='macro'):\n",
    "    \"\"\"Return Accuracy, Recall, Precision and F-1 score. \n",
    "    Average can take two arguments : macro or weighted \"\"\"\n",
    "\n",
    "    acc = metrics.accuracy_score(y_test, y_preds)\n",
    "    rec = metrics.recall_score(y_test, y_preds, average = average)\n",
    "    prc = metrics.precision_score(y_test, y_preds, average = average)\n",
    "    f1  = metrics.f1_score(y_test, y_preds, average = average)\n",
    "\n",
    "    print('Accuracy : {:.2f}%'.format(acc*100))\n",
    "    print('Recall : {:.2f}%'.format(rec*100))\n",
    "    print('Precision : {:.2f}%'.format(prc*100))\n",
    "    print('F1-score : {:.2f}%'.format(f1*100))"
   ]
  },
  {
   "cell_type": "code",
   "execution_count": 290,
   "id": "981d9de0",
   "metadata": {},
   "outputs": [
    {
     "data": {
      "text/plain": [
       "RandomForestClassifier(max_depth=5, max_features=0.22, min_samples_split=58,\n",
       "                       n_estimators=60, n_jobs=-1, random_state=42)"
      ]
     },
     "execution_count": 290,
     "metadata": {},
     "output_type": "execute_result"
    }
   ],
   "source": [
    "classifier = RandomForestClassifier(\n",
    "    n_estimators = 60, \n",
    "    class_weight = None, # classifier specific\n",
    "    criterion = 'gini',  # classifier specific\n",
    "    max_depth = 5, \n",
    "    min_samples_split = 58, \n",
    "    min_samples_leaf = 1, \n",
    "    min_weight_fraction_leaf = 0.0, \n",
    "    max_features = 0.22, \n",
    "    max_leaf_nodes = None, \n",
    "    min_impurity_decrease = 0.0, \n",
    "    min_impurity_split = None, \n",
    "    ccp_alpha = 0.0, \n",
    "    random_state = 42, \n",
    "    bootstrap = True, \n",
    "    oob_score = False, \n",
    "    max_samples = None,\n",
    "    warm_start = False, \n",
    "    n_jobs = -1, \n",
    "    verbose = 0, \n",
    "    )\n",
    "classifier.fit(X_train, y_train)"
   ]
  },
  {
   "cell_type": "code",
   "execution_count": 299,
   "id": "4287c15f",
   "metadata": {},
   "outputs": [
    {
     "name": "stdout",
     "output_type": "stream",
     "text": [
      "Accuracy : 94.10%\n",
      "Recall : 89.13%\n",
      "Precision : 93.27%\n",
      "F1-score : 90.99%\n"
     ]
    }
   ],
   "source": [
    "classifier.fit(X_train, y_train)\n",
    "predictions = classifier.predict(X_train)\n",
    "classifier_metrics(y_test = y_train, y_preds = predictions, average='macro')"
   ]
  },
  {
   "cell_type": "code",
   "execution_count": 296,
   "id": "367033aa",
   "metadata": {},
   "outputs": [
    {
     "name": "stdout",
     "output_type": "stream",
     "text": [
      "Accuracy : 94.10%\n",
      "Recall : 80.24%\n",
      "Precision : 91.92%\n",
      "Specificity : 98.01%\n",
      "F1-score : 85.69%\n"
     ]
    }
   ],
   "source": [
    "y_predict_train = classifier.predict(X_train)\n",
    "\n",
    "acc = metrics.accuracy_score(y_train, y_predict_train)\n",
    "rec = metrics.recall_score(y_train, y_predict_train)\n",
    "prc = metrics.precision_score(y_train, y_predict_train)\n",
    "spe = specificity_score(y_train, y_predict_train)\n",
    "f1  = metrics.f1_score(y_train, y_predict_train)\n",
    "\n",
    "print('Accuracy : {:.2f}%'.format(acc*100))\n",
    "print('Recall : {:.2f}%'.format(rec*100))\n",
    "print('Precision : {:.2f}%'.format(prc*100))\n",
    "print('Specificity : {:.2f}%'.format(spe*100))\n",
    "print('F1-score : {:.2f}%'.format(f1*100))"
   ]
  },
  {
   "cell_type": "code",
   "execution_count": 293,
   "id": "5814b5b9",
   "metadata": {},
   "outputs": [
    {
     "name": "stdout",
     "output_type": "stream",
     "text": [
      "Accuracy : 94.27%\n",
      "Recall : 89.18%\n",
      "Precision : 93.76%\n",
      "F1-score : 91.21%\n"
     ]
    }
   ],
   "source": [
    "classifier.fit(X_train_all, y_train)\n",
    "predictions = classifier.predict(X_train_all)\n",
    "classifier_metrics(y_test = y_train, y_preds = predictions, average='macro')"
   ]
  },
  {
   "cell_type": "code",
   "execution_count": 300,
   "id": "f013e933",
   "metadata": {},
   "outputs": [
    {
     "name": "stdout",
     "output_type": "stream",
     "text": [
      "Accuracy : 94.27%\n",
      "Recall : 80.07%\n",
      "Precision : 92.93%\n",
      "Specificity : 98.28%\n",
      "F1-score : 86.02%\n"
     ]
    }
   ],
   "source": [
    "classifier.fit(X_train_all, y_train)\n",
    "y_predict_train = classifier.predict(X_train_all)\n",
    "\n",
    "acc = metrics.accuracy_score(y_train, y_predict_train)\n",
    "rec = metrics.recall_score(y_train, y_predict_train)\n",
    "prc = metrics.precision_score(y_train, y_predict_train)\n",
    "spe = specificity_score(y_train, y_predict_train)\n",
    "f1  = metrics.f1_score(y_train, y_predict_train)\n",
    "\n",
    "print('Accuracy : {:.2f}%'.format(acc*100))\n",
    "print('Recall : {:.2f}%'.format(rec*100))\n",
    "print('Precision : {:.2f}%'.format(prc*100))\n",
    "print('Specificity : {:.2f}%'.format(spe*100))\n",
    "print('F1-score : {:.2f}%'.format(f1*100))"
   ]
  },
  {
   "cell_type": "markdown",
   "id": "51fd3ec9",
   "metadata": {},
   "source": [
    "## Sélection du seuil"
   ]
  },
  {
   "cell_type": "code",
   "execution_count": 302,
   "id": "caba0a68",
   "metadata": {},
   "outputs": [],
   "source": [
    "classifier = RandomForestClassifier(\n",
    "    n_estimators = 60, \n",
    "    class_weight = None, # classifier specific\n",
    "    criterion = 'gini',  # classifier specific\n",
    "    max_depth = 5, \n",
    "    min_samples_split = 58, \n",
    "    min_samples_leaf = 1, \n",
    "    min_weight_fraction_leaf = 0.0, \n",
    "    max_features = 0.21, \n",
    "    max_leaf_nodes = None, \n",
    "    min_impurity_decrease = 0.0, \n",
    "    min_impurity_split = None, \n",
    "    ccp_alpha = 0.0, \n",
    "    random_state = 42, \n",
    "    bootstrap = True, \n",
    "    oob_score = False, \n",
    "    max_samples = None,\n",
    "    warm_start = False, \n",
    "    n_jobs = -1, \n",
    "    verbose = 0, \n",
    "    )"
   ]
  },
  {
   "cell_type": "code",
   "execution_count": 303,
   "id": "c4b5d072",
   "metadata": {},
   "outputs": [],
   "source": [
    "def precision_recall_curve_with_threshold(targets, probas, threshold = 0.5):\n",
    "    \n",
    "    def sort_pair(X, Y):\n",
    "        rangee = [(x, y) for x, y in sorted(zip(X, Y), key = lambda pair: pair[0])]\n",
    "        return [pair[0] for pair in rangee], [pair[1] for pair in rangee]\n",
    "    \n",
    "    # --- main\n",
    "    targets, probas = sort_pair(targets, probas)\n",
    "    precision, recall, thresholds = metrics.precision_recall_curve(targets, probas)\n",
    "    \n",
    "    # calculate precision-recall AUC\n",
    "    auc_val = metrics.auc(recall, precision)\n",
    "    print('Area Under Curve (AUC) : {:.3f}'.format(auc_val))\n",
    "    # plot no skill\n",
    "    if threshold is not None : \n",
    "        index = len([y for y in thresholds if y <= threshold]) # thresholds are sorted\n",
    "\n",
    "        print('Recall with threshold = {}: {:.2f}%'.format(threshold, recall[index]*100))\n",
    "        print('Precision with threshold = {} : {:.2f}%'.format(threshold, precision[index]*100))\n",
    "\n",
    "        plt.plot([0, 1], [precision[index], precision[index]], linestyle='--', color = 'grey')\n",
    "        plt.plot([recall[index], recall[index]], [0, 1], linestyle='--', color = 'grey')\n",
    "        \n",
    "        # plot the precision-recall curve for the model\n",
    "        plt.plot(recall[:index], precision[:index], color = 'navy', marker='.')\n",
    "        plt.plot(recall[index:], precision[index:], color = 'orange', marker='.')\n",
    "        \n",
    "        # show the plot\n",
    "        plt.title('Precision-Recall curve with threshold = {}'.format(threshold))\n",
    "        plt.xlabel('Recall $P(\\, \\widehat{1}\\, | 1)$')\n",
    "        plt.ylabel('Precision $P(\\, 1\\, | \\widehat{1})$                                ', rotation = 'horizontal')\n",
    "    else :\n",
    "        # plot the precision-recall curve for the model\n",
    "        plt.plot(recall, precision, color = 'orange', marker='.')\n",
    "        \n",
    "        # show the plot\n",
    "        plt.title('Precision-Recall curve')\n",
    "        plt.xlabel('Recall $P(\\, \\widehat{1}\\, | 1)$')\n",
    "        plt.ylabel('Precision $P(\\, 1\\, | \\widehat{1})$                                ', rotation = 'horizontal')\n",
    "\n",
    "    plt.show()\n",
    "    return"
   ]
  },
  {
   "cell_type": "code",
   "execution_count": 304,
   "id": "6ff644e8",
   "metadata": {},
   "outputs": [
    {
     "data": {
      "text/plain": [
       "RandomForestClassifier(max_depth=5, max_features=0.21, min_samples_split=58,\n",
       "                       n_estimators=60, n_jobs=-1, random_state=42)"
      ]
     },
     "execution_count": 304,
     "metadata": {},
     "output_type": "execute_result"
    }
   ],
   "source": [
    "classifier.fit(X_train, y_train)"
   ]
  },
  {
   "cell_type": "code",
   "execution_count": 314,
   "id": "fe59f1db",
   "metadata": {},
   "outputs": [
    {
     "name": "stdout",
     "output_type": "stream",
     "text": [
      "Area Under Curve (AUC) : 0.939\n",
      "Recall with threshold = 0.365: 86.68%\n",
      "Precision with threshold = 0.365 : 86.68%\n"
     ]
    },
    {
     "data": {
      "image/png": "[encoded data removed]",
      "text/plain": [
       "<Figure size 432x288 with 1 Axes>"
      ]
     },
     "metadata": {
      "needs_background": "light"
     },
     "output_type": "display_data"
    }
   ],
   "source": [
    "probas = classifier.predict_proba(X_train)[:, 1]\n",
    "\n",
    "precision_recall_curve_with_threshold(y_train, probas, threshold = 0.365)"
   ]
  },
  {
   "cell_type": "code",
   "execution_count": 315,
   "id": "c3dfc600",
   "metadata": {},
   "outputs": [
    {
     "name": "stdout",
     "output_type": "stream",
     "text": [
      "Accuracy : 94.14%\n",
      "Recall : 86.68%\n",
      "Precision : 86.68%\n",
      "Specificity : 96.24%\n",
      "F1-score : 86.68%\n"
     ]
    }
   ],
   "source": [
    "probs = classifier.predict_proba(X_train)[:, 1] \n",
    "preds = [int(prob > 0.365) for prob in probs]\n",
    "y_predict_train = preds\n",
    "\n",
    "acc = metrics.accuracy_score(y_train, y_predict_train)\n",
    "rec = metrics.recall_score(y_train, y_predict_train)\n",
    "prc = metrics.precision_score(y_train, y_predict_train)\n",
    "spe = specificity_score(y_train, y_predict_train)\n",
    "f1  = metrics.f1_score(y_train, y_predict_train)\n",
    "\n",
    "print('Accuracy : {:.2f}%'.format(acc*100))\n",
    "print('Recall : {:.2f}%'.format(rec*100))\n",
    "print('Precision : {:.2f}%'.format(prc*100))\n",
    "print('Specificity : {:.2f}%'.format(spe*100))\n",
    "print('F1-score : {:.2f}%'.format(f1*100))"
   ]
  },
  {
   "cell_type": "code",
   "execution_count": 322,
   "id": "91c401bc",
   "metadata": {},
   "outputs": [
    {
     "name": "stdout",
     "output_type": "stream",
     "text": [
      "Accuracy : 94.14%\n",
      "Recall : 91.46%\n",
      "Precision : 91.46%\n",
      "F1-score : 91.46%\n"
     ]
    }
   ],
   "source": [
    "classifier_metrics(y_test = y_train, y_preds = [int(prob > 0.365) for prob in probs], average='macro')"
   ]
  },
  {
   "cell_type": "markdown",
   "id": "943fba66",
   "metadata": {},
   "source": [
    "## Random Forest Feature Importance"
   ]
  },
  {
   "cell_type": "code",
   "execution_count": 323,
   "id": "2b893b04",
   "metadata": {},
   "outputs": [],
   "source": [
    "def rf_feat_importance(model, df):\n",
    "    feat_importance = pd.DataFrame({\n",
    "        'cols': df.columns, \n",
    "        'imp': model.feature_importances_,\n",
    "    })\n",
    "    feat_importance = feat_importance.sort_values('imp', ascending = False)\n",
    "    return feat_importance\n",
    "\n",
    "\n",
    "def rf_unfolded_feat_importance(model, df):\n",
    "    feat_importance = pd.DataFrame({\n",
    "        'cols': df.columns, \n",
    "        'imp': model.feature_importances_,\n",
    "    })\n",
    "    for i, tree in enumerate(model.estimators_):\n",
    "        feat_importance['imp_' + str(i)] = tree.feature_importances_\n",
    "    feat_importance = feat_importance.sort_values('imp', ascending = False)\n",
    "    return feat_importance\n",
    "\n",
    "\n",
    "# found at\n",
    "# https://stackoverflow.com/questions/49170296/scikit-learn-feature-importance-calculation-in-decision-trees\n",
    "def tree_feature_importance(model, normalize = True):\n",
    "\n",
    "    left_c = model.tree_.children_left\n",
    "    right_c = model.tree_.children_right\n",
    "\n",
    "    impurity = model.tree_.impurity    \n",
    "    node_samples = model.tree_.weighted_n_node_samples \n",
    "\n",
    "    # Initialize the feature importance, those not used remain zero\n",
    "    feature_importance = np.zeros((model.tree_.n_features,))\n",
    "\n",
    "    for idx, node in enumerate(model.tree_.feature):\n",
    "        if node >= 0:\n",
    "            # Accumulate the feature importance over all the nodes where it's used\n",
    "            feature_importance[node] += (\n",
    "                impurity[idx]*node_samples[idx] -\n",
    "                impurity[left_c[idx]]*node_samples[left_c[idx]] -\n",
    "                impurity[right_c[idx]]*node_samples[right_c[idx]])\n",
    "\n",
    "    # Number of samples at the root node\n",
    "    feature_importance /= node_samples[0]\n",
    "\n",
    "    if normalize:\n",
    "        normalizer = feature_importance.sum()\n",
    "        if normalizer > 0:\n",
    "            feature_importance /= normalizer\n",
    "\n",
    "    return feature_importance"
   ]
  },
  {
   "cell_type": "code",
   "execution_count": 325,
   "id": "c98032d2",
   "metadata": {},
   "outputs": [
    {
     "data": {
      "text/plain": [
       "RandomForestClassifier(max_depth=5, max_features=0.21, min_samples_split=58,\n",
       "                       n_estimators=60, n_jobs=-1, random_state=42)"
      ]
     },
     "execution_count": 325,
     "metadata": {},
     "output_type": "execute_result"
    }
   ],
   "source": [
    "classifier = RandomForestClassifier(\n",
    "    n_estimators = 60, \n",
    "    class_weight = None, # classifier specific\n",
    "    criterion = 'gini',  # classifier specific\n",
    "    max_depth = 5, \n",
    "    min_samples_split = 58, \n",
    "    min_samples_leaf = 1, \n",
    "    min_weight_fraction_leaf = 0.0, \n",
    "    max_features = 0.21, \n",
    "    max_leaf_nodes = None, \n",
    "    min_impurity_decrease = 0.0, \n",
    "    min_impurity_split = None, \n",
    "    ccp_alpha = 0.0, \n",
    "    random_state = 42, \n",
    "    bootstrap = True, \n",
    "    oob_score = False, \n",
    "    max_samples = None,\n",
    "    warm_start = False, \n",
    "    n_jobs = -1, \n",
    "    verbose = 0, \n",
    "    )\n",
    "classifier.fit(X_train, y_train)"
   ]
  },
  {
   "cell_type": "code",
   "execution_count": 326,
   "id": "0d33432a",
   "metadata": {},
   "outputs": [
    {
     "data": {
      "text/plain": [
       "array([3.88934580e-02, 4.05826973e-02, 7.37700109e-02, 4.25859217e-01,\n",
       "       3.37743007e-03, 0.00000000e+00, 5.39731551e-04, 1.68541327e-03,\n",
       "       9.51923616e-03, 5.03750261e-02, 2.44921432e-03, 5.92107112e-03,\n",
       "       2.44500213e-02, 4.04229797e-02, 1.87612974e-02, 1.43298049e-02,\n",
       "       1.73637317e-02, 5.09349318e-03, 2.66918828e-03, 1.28507146e-02,\n",
       "       1.81284289e-02, 2.38587366e-02, 0.00000000e+00, 3.02271556e-03,\n",
       "       2.56839521e-03, 1.03894327e-02, 1.37180915e-02, 1.42547171e-02,\n",
       "       0.00000000e+00, 1.73074214e-04, 7.24879036e-03, 1.17721964e-01,\n",
       "       1.91693599e-06])"
      ]
     },
     "execution_count": 326,
     "metadata": {},
     "output_type": "execute_result"
    }
   ],
   "source": [
    "classifier.feature_importances_"
   ]
  },
  {
   "cell_type": "code",
   "execution_count": 437,
   "id": "6101f942",
   "metadata": {},
   "outputs": [
    {
     "data": {
      "text/html": [
       "<div>\n",
       "<style scoped>\n",
       "    .dataframe tbody tr th:only-of-type {\n",
       "        vertical-align: middle;\n",
       "    }\n",
       "\n",
       "    .dataframe tbody tr th {\n",
       "        vertical-align: top;\n",
       "    }\n",
       "\n",
       "    .dataframe thead th {\n",
       "        text-align: right;\n",
       "    }\n",
       "</style>\n",
       "<table border=\"1\" class=\"dataframe\">\n",
       "  <thead>\n",
       "    <tr style=\"text-align: right;\">\n",
       "      <th></th>\n",
       "      <th>cols</th>\n",
       "      <th>imp</th>\n",
       "    </tr>\n",
       "  </thead>\n",
       "  <tbody>\n",
       "    <tr>\n",
       "      <th>3</th>\n",
       "      <td>speed</td>\n",
       "      <td>0.425859</td>\n",
       "    </tr>\n",
       "    <tr>\n",
       "      <th>31</th>\n",
       "      <td>hour</td>\n",
       "      <td>0.117722</td>\n",
       "    </tr>\n",
       "    <tr>\n",
       "      <th>2</th>\n",
       "      <td>TV/h</td>\n",
       "      <td>0.073770</td>\n",
       "    </tr>\n",
       "    <tr>\n",
       "      <th>9</th>\n",
       "      <td>Dayofweek</td>\n",
       "      <td>0.050375</td>\n",
       "    </tr>\n",
       "    <tr>\n",
       "      <th>1</th>\n",
       "      <td>PL/h</td>\n",
       "      <td>0.040583</td>\n",
       "    </tr>\n",
       "    <tr>\n",
       "      <th>13</th>\n",
       "      <td>Vitesse du vent moyen 10 mn</td>\n",
       "      <td>0.040423</td>\n",
       "    </tr>\n",
       "    <tr>\n",
       "      <th>0</th>\n",
       "      <td>VL/h</td>\n",
       "      <td>0.038893</td>\n",
       "    </tr>\n",
       "    <tr>\n",
       "      <th>12</th>\n",
       "      <td>Variation de pression en 3 heures</td>\n",
       "      <td>0.024450</td>\n",
       "    </tr>\n",
       "    <tr>\n",
       "      <th>21</th>\n",
       "      <td>Etat du sol</td>\n",
       "      <td>0.023859</td>\n",
       "    </tr>\n",
       "    <tr>\n",
       "      <th>14</th>\n",
       "      <td>Température</td>\n",
       "      <td>0.018761</td>\n",
       "    </tr>\n",
       "    <tr>\n",
       "      <th>20</th>\n",
       "      <td>Température minimale du sol sur 12 heures</td>\n",
       "      <td>0.018128</td>\n",
       "    </tr>\n",
       "    <tr>\n",
       "      <th>16</th>\n",
       "      <td>Visibilité horizontale</td>\n",
       "      <td>0.017364</td>\n",
       "    </tr>\n",
       "    <tr>\n",
       "      <th>15</th>\n",
       "      <td>Point de rosée</td>\n",
       "      <td>0.014330</td>\n",
       "    </tr>\n",
       "    <tr>\n",
       "      <th>27</th>\n",
       "      <td>Elapsed</td>\n",
       "      <td>0.014255</td>\n",
       "    </tr>\n",
       "    <tr>\n",
       "      <th>26</th>\n",
       "      <td>précipitations dans les 24 dernières heures</td>\n",
       "      <td>0.013718</td>\n",
       "    </tr>\n",
       "    <tr>\n",
       "      <th>19</th>\n",
       "      <td>Variation de pression en 24 heures</td>\n",
       "      <td>0.012851</td>\n",
       "    </tr>\n",
       "    <tr>\n",
       "      <th>25</th>\n",
       "      <td>précipitations dans les 12 dernières heures</td>\n",
       "      <td>0.010389</td>\n",
       "    </tr>\n",
       "    <tr>\n",
       "      <th>8</th>\n",
       "      <td>Day</td>\n",
       "      <td>0.009519</td>\n",
       "    </tr>\n",
       "    <tr>\n",
       "      <th>30</th>\n",
       "      <td>day</td>\n",
       "      <td>0.007249</td>\n",
       "    </tr>\n",
       "    <tr>\n",
       "      <th>11</th>\n",
       "      <td>pression au niveau de la mer</td>\n",
       "      <td>0.005921</td>\n",
       "    </tr>\n",
       "    <tr>\n",
       "      <th>17</th>\n",
       "      <td>Temps présent</td>\n",
       "      <td>0.005093</td>\n",
       "    </tr>\n",
       "    <tr>\n",
       "      <th>4</th>\n",
       "      <td>précipitations h-1</td>\n",
       "      <td>0.003377</td>\n",
       "    </tr>\n",
       "    <tr>\n",
       "      <th>23</th>\n",
       "      <td>Précipitation dans la dernière heure</td>\n",
       "      <td>0.003023</td>\n",
       "    </tr>\n",
       "    <tr>\n",
       "      <th>18</th>\n",
       "      <td>Nébulosité des nuages de l'étage inférieur</td>\n",
       "      <td>0.002669</td>\n",
       "    </tr>\n",
       "    <tr>\n",
       "      <th>24</th>\n",
       "      <td>précipitaitons dans les trois dernières heures</td>\n",
       "      <td>0.002568</td>\n",
       "    </tr>\n",
       "    <tr>\n",
       "      <th>10</th>\n",
       "      <td>Dayofyear</td>\n",
       "      <td>0.002449</td>\n",
       "    </tr>\n",
       "    <tr>\n",
       "      <th>7</th>\n",
       "      <td>Week</td>\n",
       "      <td>0.001685</td>\n",
       "    </tr>\n",
       "    <tr>\n",
       "      <th>6</th>\n",
       "      <td>Month</td>\n",
       "      <td>0.000540</td>\n",
       "    </tr>\n",
       "    <tr>\n",
       "      <th>29</th>\n",
       "      <td>month</td>\n",
       "      <td>0.000173</td>\n",
       "    </tr>\n",
       "    <tr>\n",
       "      <th>32</th>\n",
       "      <td>minutes</td>\n",
       "      <td>0.000002</td>\n",
       "    </tr>\n",
       "    <tr>\n",
       "      <th>28</th>\n",
       "      <td>year</td>\n",
       "      <td>0.000000</td>\n",
       "    </tr>\n",
       "    <tr>\n",
       "      <th>5</th>\n",
       "      <td>Year</td>\n",
       "      <td>0.000000</td>\n",
       "    </tr>\n",
       "    <tr>\n",
       "      <th>22</th>\n",
       "      <td>Hauteur de la neige fraiche</td>\n",
       "      <td>0.000000</td>\n",
       "    </tr>\n",
       "  </tbody>\n",
       "</table>\n",
       "</div>"
      ],
      "text/plain": [
       "                                              cols       imp\n",
       "3                                            speed  0.425859\n",
       "31                                            hour  0.117722\n",
       "2                                             TV/h  0.073770\n",
       "9                                        Dayofweek  0.050375\n",
       "1                                             PL/h  0.040583\n",
       "13                     Vitesse du vent moyen 10 mn  0.040423\n",
       "0                                             VL/h  0.038893\n",
       "12               Variation de pression en 3 heures  0.024450\n",
       "21                                     Etat du sol  0.023859\n",
       "14                                     Température  0.018761\n",
       "20       Température minimale du sol sur 12 heures  0.018128\n",
       "16                          Visibilité horizontale  0.017364\n",
       "15                                  Point de rosée  0.014330\n",
       "27                                         Elapsed  0.014255\n",
       "26     précipitations dans les 24 dernières heures  0.013718\n",
       "19              Variation de pression en 24 heures  0.012851\n",
       "25     précipitations dans les 12 dernières heures  0.010389\n",
       "8                                              Day  0.009519\n",
       "30                                             day  0.007249\n",
       "11                    pression au niveau de la mer  0.005921\n",
       "17                                   Temps présent  0.005093\n",
       "4                               précipitations h-1  0.003377\n",
       "23            Précipitation dans la dernière heure  0.003023\n",
       "18      Nébulosité des nuages de l'étage inférieur  0.002669\n",
       "24  précipitaitons dans les trois dernières heures  0.002568\n",
       "10                                       Dayofyear  0.002449\n",
       "7                                             Week  0.001685\n",
       "6                                            Month  0.000540\n",
       "29                                           month  0.000173\n",
       "32                                         minutes  0.000002\n",
       "28                                            year  0.000000\n",
       "5                                             Year  0.000000\n",
       "22                     Hauteur de la neige fraiche  0.000000"
      ]
     },
     "execution_count": 437,
     "metadata": {},
     "output_type": "execute_result"
    }
   ],
   "source": [
    "feat_importance = rf_feat_importance(classifier, X_train)\n",
    "feat_importance[:35]"
   ]
  },
  {
   "cell_type": "code",
   "execution_count": 333,
   "id": "96612a44",
   "metadata": {},
   "outputs": [],
   "source": [
    "def display_all(df):\n",
    "    with pd.option_context(\"display.max_rows\", 1000, \"display.max_columns\", 1000): \n",
    "        display(df)"
   ]
  },
  {
   "cell_type": "code",
   "execution_count": 334,
   "id": "90a3aba1",
   "metadata": {},
   "outputs": [
    {
     "data": {
      "text/html": [
       "<div>\n",
       "<style scoped>\n",
       "    .dataframe tbody tr th:only-of-type {\n",
       "        vertical-align: middle;\n",
       "    }\n",
       "\n",
       "    .dataframe tbody tr th {\n",
       "        vertical-align: top;\n",
       "    }\n",
       "\n",
       "    .dataframe thead th {\n",
       "        text-align: right;\n",
       "    }\n",
       "</style>\n",
       "<table border=\"1\" class=\"dataframe\">\n",
       "  <thead>\n",
       "    <tr style=\"text-align: right;\">\n",
       "      <th></th>\n",
       "      <th>1</th>\n",
       "      <th>2</th>\n",
       "      <th>3</th>\n",
       "      <th>4</th>\n",
       "      <th>5</th>\n",
       "      <th>6</th>\n",
       "      <th>7</th>\n",
       "      <th>8</th>\n",
       "      <th>9</th>\n",
       "      <th>10</th>\n",
       "      <th>11</th>\n",
       "      <th>12</th>\n",
       "      <th>13</th>\n",
       "      <th>14</th>\n",
       "      <th>15</th>\n",
       "      <th>16</th>\n",
       "      <th>17</th>\n",
       "      <th>18</th>\n",
       "      <th>19</th>\n",
       "      <th>20</th>\n",
       "      <th>21</th>\n",
       "      <th>22</th>\n",
       "      <th>23</th>\n",
       "      <th>24</th>\n",
       "      <th>25</th>\n",
       "      <th>26</th>\n",
       "      <th>27</th>\n",
       "      <th>28</th>\n",
       "      <th>29</th>\n",
       "      <th>30</th>\n",
       "      <th>31</th>\n",
       "      <th>32</th>\n",
       "    </tr>\n",
       "  </thead>\n",
       "  <tbody>\n",
       "    <tr>\n",
       "      <th>CV</th>\n",
       "      <td>0.762487</td>\n",
       "      <td>0.800852</td>\n",
       "      <td>0.797545</td>\n",
       "      <td>0.811845</td>\n",
       "      <td>0.786111</td>\n",
       "      <td>0.744030</td>\n",
       "      <td>0.757153</td>\n",
       "      <td>0.716232</td>\n",
       "      <td>0.697571</td>\n",
       "      <td>0.736744</td>\n",
       "      <td>0.753395</td>\n",
       "      <td>0.731205</td>\n",
       "      <td>0.731627</td>\n",
       "      <td>0.688285</td>\n",
       "      <td>0.682595</td>\n",
       "      <td>0.718192</td>\n",
       "      <td>0.673912</td>\n",
       "      <td>0.712431</td>\n",
       "      <td>0.683022</td>\n",
       "      <td>0.718813</td>\n",
       "      <td>0.719705</td>\n",
       "      <td>0.706033</td>\n",
       "      <td>0.704131</td>\n",
       "      <td>0.707572</td>\n",
       "      <td>0.705454</td>\n",
       "      <td>0.720504</td>\n",
       "      <td>0.693222</td>\n",
       "      <td>0.652746</td>\n",
       "      <td>0.691651</td>\n",
       "      <td>0.683754</td>\n",
       "      <td>0.696817</td>\n",
       "      <td>0.665921</td>\n",
       "    </tr>\n",
       "    <tr>\n",
       "      <th>classic</th>\n",
       "      <td>0.800367</td>\n",
       "      <td>0.839245</td>\n",
       "      <td>0.851025</td>\n",
       "      <td>0.851936</td>\n",
       "      <td>0.852847</td>\n",
       "      <td>0.844779</td>\n",
       "      <td>0.854378</td>\n",
       "      <td>0.836676</td>\n",
       "      <td>0.819656</td>\n",
       "      <td>0.849263</td>\n",
       "      <td>0.865922</td>\n",
       "      <td>0.863658</td>\n",
       "      <td>0.845757</td>\n",
       "      <td>0.854693</td>\n",
       "      <td>0.863744</td>\n",
       "      <td>0.864289</td>\n",
       "      <td>0.855787</td>\n",
       "      <td>0.860113</td>\n",
       "      <td>0.841185</td>\n",
       "      <td>0.856879</td>\n",
       "      <td>0.857944</td>\n",
       "      <td>0.854831</td>\n",
       "      <td>0.857543</td>\n",
       "      <td>0.864486</td>\n",
       "      <td>0.859135</td>\n",
       "      <td>0.863615</td>\n",
       "      <td>0.854846</td>\n",
       "      <td>0.863551</td>\n",
       "      <td>0.865893</td>\n",
       "      <td>0.856464</td>\n",
       "      <td>0.864037</td>\n",
       "      <td>0.863828</td>\n",
       "    </tr>\n",
       "  </tbody>\n",
       "</table>\n",
       "</div>"
      ],
      "text/plain": [
       "               1         2         3         4         5         6         7   \\\n",
       "CV       0.762487  0.800852  0.797545  0.811845  0.786111  0.744030  0.757153   \n",
       "classic  0.800367  0.839245  0.851025  0.851936  0.852847  0.844779  0.854378   \n",
       "\n",
       "               8         9         10        11        12        13        14  \\\n",
       "CV       0.716232  0.697571  0.736744  0.753395  0.731205  0.731627  0.688285   \n",
       "classic  0.836676  0.819656  0.849263  0.865922  0.863658  0.845757  0.854693   \n",
       "\n",
       "               15        16        17        18        19        20        21  \\\n",
       "CV       0.682595  0.718192  0.673912  0.712431  0.683022  0.718813  0.719705   \n",
       "classic  0.863744  0.864289  0.855787  0.860113  0.841185  0.856879  0.857944   \n",
       "\n",
       "               22        23        24        25        26        27        28  \\\n",
       "CV       0.706033  0.704131  0.707572  0.705454  0.720504  0.693222  0.652746   \n",
       "classic  0.854831  0.857543  0.864486  0.859135  0.863615  0.854846  0.863551   \n",
       "\n",
       "               29        30        31        32  \n",
       "CV       0.691651  0.683754  0.696817  0.665921  \n",
       "classic  0.865893  0.856464  0.864037  0.863828  "
      ]
     },
     "metadata": {},
     "output_type": "display_data"
    }
   ],
   "source": [
    "classifier = RandomForestClassifier(\n",
    "    n_estimators = 60, \n",
    "    class_weight = None, # classifier specific\n",
    "    criterion = 'gini',  # classifier specific\n",
    "    max_depth = 5, \n",
    "    min_samples_split = 58, \n",
    "    min_samples_leaf = 1, \n",
    "    min_weight_fraction_leaf = 0.0, \n",
    "    max_features = 0.21, \n",
    "    max_leaf_nodes = None, \n",
    "    min_impurity_decrease = 0.0, \n",
    "    min_impurity_split = None, \n",
    "    ccp_alpha = 0.0, \n",
    "    random_state = 42, \n",
    "    bootstrap = True, \n",
    "    oob_score = False, \n",
    "    max_samples = None,\n",
    "    warm_start = False, \n",
    "    n_jobs = -1, \n",
    "    verbose = 0, \n",
    "    )\n",
    "\n",
    "global_results = dict()\n",
    "\n",
    "for k in range(1, len(feat_importance)):\n",
    "    \n",
    "    f1, f1_CV= [], []\n",
    "    \n",
    "    to_keep = feat_importance.iloc[:k].cols\n",
    "    df_keep = df_lapil42[to_keep].copy()\n",
    "\n",
    "    n_total = len(df_keep)\n",
    "    n_valid = 1500  \n",
    "    n_train = n_total - n_valid\n",
    "\n",
    "    X_train_keep, X_valid_keep = split_vals(df_keep, n_train)\n",
    "    y_train, y_valid = split_vals(y, n_train)\n",
    "    \n",
    "    classifier.fit(X_train_keep, y_train)\n",
    "    CV_score = cross_val_score(classifier, X_train_keep, y_train, scoring=\"f1\", cv = 7).mean()\n",
    "    y_predict_train = classifier.predict(X_train_keep)\n",
    "    score = metrics.f1_score(y_train, y_predict_train)\n",
    "    \n",
    "    global_results[k] = [CV_score, score]\n",
    "\n",
    "df_results = pd.DataFrame.from_dict(global_results)\n",
    "df_results.index = ['CV', 'classic']\n",
    "display_all(df_results)"
   ]
  },
  {
   "cell_type": "markdown",
   "id": "b6a000bb",
   "metadata": {},
   "source": [
    "Garder Uniquement 11 variables semblerait pertinent."
   ]
  },
  {
   "cell_type": "markdown",
   "id": "a23f6c9a",
   "metadata": {},
   "source": [
    "## Permutation importance"
   ]
  },
  {
   "cell_type": "code",
   "execution_count": 415,
   "id": "c7655868",
   "metadata": {},
   "outputs": [
    {
     "data": {
      "text/plain": [
       "RandomForestClassifier(max_depth=5, max_features=0.21, min_samples_split=58,\n",
       "                       n_estimators=60, n_jobs=-1, random_state=42)"
      ]
     },
     "execution_count": 415,
     "metadata": {},
     "output_type": "execute_result"
    }
   ],
   "source": [
    "classifier = RandomForestClassifier(\n",
    "    n_estimators = 60, \n",
    "    class_weight = None, # classifier specific\n",
    "    criterion = 'gini',  # classifier specific\n",
    "    max_depth = 5, \n",
    "    min_samples_split = 58, \n",
    "    min_samples_leaf = 1, \n",
    "    min_weight_fraction_leaf = 0.0, \n",
    "    max_features = 0.21, \n",
    "    max_leaf_nodes = None, \n",
    "    min_impurity_decrease = 0.0, \n",
    "    min_impurity_split = None, \n",
    "    ccp_alpha = 0.0, \n",
    "    random_state = 42, \n",
    "    bootstrap = True, \n",
    "    oob_score = False, \n",
    "    max_samples = None,\n",
    "    warm_start = False, \n",
    "    n_jobs = -1, \n",
    "    verbose = 0, \n",
    "    )\n",
    "classifier.fit(X_train, y_train)"
   ]
  },
  {
   "cell_type": "code",
   "execution_count": 417,
   "id": "2920986f",
   "metadata": {},
   "outputs": [],
   "source": [
    "from sklearn.inspection import permutation_importance"
   ]
  },
  {
   "cell_type": "code",
   "execution_count": 419,
   "id": "cea37c3a",
   "metadata": {},
   "outputs": [],
   "source": [
    "result = permutation_importance(\n",
    "    classifier, \n",
    "    X_train, \n",
    "    y_train, \n",
    "    n_repeats = 10,\n",
    "    random_state = 42, n_jobs = -1,\n",
    ")\n",
    "sorted_idx = result.importances_mean.argsort()"
   ]
  },
  {
   "cell_type": "code",
   "execution_count": 426,
   "id": "0753ef5d",
   "metadata": {},
   "outputs": [
    {
     "data": {
      "image/png": "[encoded data removed]",
      "text/plain": [
       "<Figure size 1080x3600 with 1 Axes>"
      ]
     },
     "metadata": {
      "needs_background": "light"
     },
     "output_type": "display_data"
    }
   ],
   "source": [
    "fig, ax = plt.subplots(figsize = (15, 50))\n",
    "ax.boxplot(\n",
    "    result.importances[sorted_idx].T,\n",
    "    vert = False, \n",
    "    labels = X_train.columns[sorted_idx],\n",
    ")\n",
    "ax.set_title(\"Permutation Importances (training)\")\n",
    "fig.tight_layout()\n",
    "plt.show()"
   ]
  },
  {
   "cell_type": "code",
   "execution_count": 438,
   "id": "89a2dea9",
   "metadata": {},
   "outputs": [
    {
     "data": {
      "text/plain": [
       "Index(['minutes', 'Month', 'Year', 'Hauteur de la neige fraiche', 'year',\n",
       "       'Temps présent', 'Week', 'Dayofyear', 'day', 'Day',\n",
       "       'précipitaitons dans les trois dernières heures',\n",
       "       'Nébulosité des nuages de l'étage inférieur', 'précipitations h-1',\n",
       "       'Variation de pression en 24 heures',\n",
       "       'Précipitation dans la dernière heure', 'pression au niveau de la mer',\n",
       "       'précipitations dans les 12 dernières heures',\n",
       "       'précipitations dans les 24 dernières heures', 'Elapsed',\n",
       "       'Point de rosée', 'Température minimale du sol sur 12 heures',\n",
       "       'Visibilité horizontale', 'VL/h', 'Etat du sol', 'Température',\n",
       "       'Variation de pression en 3 heures', 'Vitesse du vent moyen 10 mn',\n",
       "       'TV/h', 'PL/h', 'Dayofweek', 'hour', 'speed'],\n",
       "      dtype='object')"
      ]
     },
     "execution_count": 438,
     "metadata": {},
     "output_type": "execute_result"
    }
   ],
   "source": [
    "X_train.columns[sorted_idx][1:]"
   ]
  },
  {
   "cell_type": "code",
   "execution_count": 440,
   "id": "c4bf1502",
   "metadata": {},
   "outputs": [
    {
     "data": {
      "text/html": [
       "<div>\n",
       "<style scoped>\n",
       "    .dataframe tbody tr th:only-of-type {\n",
       "        vertical-align: middle;\n",
       "    }\n",
       "\n",
       "    .dataframe tbody tr th {\n",
       "        vertical-align: top;\n",
       "    }\n",
       "\n",
       "    .dataframe thead th {\n",
       "        text-align: right;\n",
       "    }\n",
       "</style>\n",
       "<table border=\"1\" class=\"dataframe\">\n",
       "  <thead>\n",
       "    <tr style=\"text-align: right;\">\n",
       "      <th></th>\n",
       "      <th>1</th>\n",
       "      <th>2</th>\n",
       "      <th>3</th>\n",
       "      <th>4</th>\n",
       "      <th>5</th>\n",
       "      <th>6</th>\n",
       "      <th>7</th>\n",
       "      <th>8</th>\n",
       "      <th>9</th>\n",
       "      <th>10</th>\n",
       "      <th>11</th>\n",
       "      <th>12</th>\n",
       "      <th>13</th>\n",
       "      <th>14</th>\n",
       "      <th>15</th>\n",
       "      <th>16</th>\n",
       "      <th>17</th>\n",
       "      <th>18</th>\n",
       "      <th>19</th>\n",
       "      <th>20</th>\n",
       "      <th>21</th>\n",
       "      <th>22</th>\n",
       "      <th>23</th>\n",
       "      <th>24</th>\n",
       "      <th>25</th>\n",
       "      <th>26</th>\n",
       "      <th>27</th>\n",
       "      <th>28</th>\n",
       "      <th>29</th>\n",
       "      <th>30</th>\n",
       "      <th>31</th>\n",
       "      <th>32</th>\n",
       "    </tr>\n",
       "  </thead>\n",
       "  <tbody>\n",
       "    <tr>\n",
       "      <th>CV</th>\n",
       "      <td>0.683879</td>\n",
       "      <td>0.675089</td>\n",
       "      <td>0.698538</td>\n",
       "      <td>0.695750</td>\n",
       "      <td>0.653679</td>\n",
       "      <td>0.686476</td>\n",
       "      <td>0.697413</td>\n",
       "      <td>0.695479</td>\n",
       "      <td>0.716593</td>\n",
       "      <td>0.684791</td>\n",
       "      <td>0.709035</td>\n",
       "      <td>0.723551</td>\n",
       "      <td>0.707084</td>\n",
       "      <td>0.687388</td>\n",
       "      <td>0.698602</td>\n",
       "      <td>0.702377</td>\n",
       "      <td>0.707205</td>\n",
       "      <td>0.722209</td>\n",
       "      <td>0.683712</td>\n",
       "      <td>0.700752</td>\n",
       "      <td>0.732786</td>\n",
       "      <td>0.754299</td>\n",
       "      <td>0.756535</td>\n",
       "      <td>0.703336</td>\n",
       "      <td>0.735582</td>\n",
       "      <td>0.733080</td>\n",
       "      <td>0.762377</td>\n",
       "      <td>0.782759</td>\n",
       "      <td>0.786579</td>\n",
       "      <td>0.787695</td>\n",
       "      <td>0.802766</td>\n",
       "      <td>0.762487</td>\n",
       "    </tr>\n",
       "    <tr>\n",
       "      <th>classic</th>\n",
       "      <td>0.864462</td>\n",
       "      <td>0.859142</td>\n",
       "      <td>0.851765</td>\n",
       "      <td>0.862197</td>\n",
       "      <td>0.863894</td>\n",
       "      <td>0.865769</td>\n",
       "      <td>0.863489</td>\n",
       "      <td>0.854215</td>\n",
       "      <td>0.851282</td>\n",
       "      <td>0.862085</td>\n",
       "      <td>0.857936</td>\n",
       "      <td>0.867281</td>\n",
       "      <td>0.854621</td>\n",
       "      <td>0.853333</td>\n",
       "      <td>0.865602</td>\n",
       "      <td>0.849673</td>\n",
       "      <td>0.854323</td>\n",
       "      <td>0.863636</td>\n",
       "      <td>0.838491</td>\n",
       "      <td>0.851958</td>\n",
       "      <td>0.856744</td>\n",
       "      <td>0.854215</td>\n",
       "      <td>0.852612</td>\n",
       "      <td>0.838114</td>\n",
       "      <td>0.845322</td>\n",
       "      <td>0.847521</td>\n",
       "      <td>0.849100</td>\n",
       "      <td>0.845941</td>\n",
       "      <td>0.837102</td>\n",
       "      <td>0.834791</td>\n",
       "      <td>0.836380</td>\n",
       "      <td>0.800367</td>\n",
       "    </tr>\n",
       "  </tbody>\n",
       "</table>\n",
       "</div>"
      ],
      "text/plain": [
       "               1         2         3         4         5         6         7   \\\n",
       "CV       0.683879  0.675089  0.698538  0.695750  0.653679  0.686476  0.697413   \n",
       "classic  0.864462  0.859142  0.851765  0.862197  0.863894  0.865769  0.863489   \n",
       "\n",
       "               8         9         10        11        12        13        14  \\\n",
       "CV       0.695479  0.716593  0.684791  0.709035  0.723551  0.707084  0.687388   \n",
       "classic  0.854215  0.851282  0.862085  0.857936  0.867281  0.854621  0.853333   \n",
       "\n",
       "               15        16        17        18        19        20        21  \\\n",
       "CV       0.698602  0.702377  0.707205  0.722209  0.683712  0.700752  0.732786   \n",
       "classic  0.865602  0.849673  0.854323  0.863636  0.838491  0.851958  0.856744   \n",
       "\n",
       "               22        23        24        25        26        27        28  \\\n",
       "CV       0.754299  0.756535  0.703336  0.735582  0.733080  0.762377  0.782759   \n",
       "classic  0.854215  0.852612  0.838114  0.845322  0.847521  0.849100  0.845941   \n",
       "\n",
       "               29        30        31        32  \n",
       "CV       0.786579  0.787695  0.802766  0.762487  \n",
       "classic  0.837102  0.834791  0.836380  0.800367  "
      ]
     },
     "metadata": {},
     "output_type": "display_data"
    }
   ],
   "source": [
    "classifier = RandomForestClassifier(\n",
    "    n_estimators = 60, \n",
    "    class_weight = None, # classifier specific\n",
    "    criterion = 'gini',  # classifier specific\n",
    "    max_depth = 5, \n",
    "    min_samples_split = 58, \n",
    "    min_samples_leaf = 1, \n",
    "    min_weight_fraction_leaf = 0.0, \n",
    "    max_features = 0.21, \n",
    "    max_leaf_nodes = None, \n",
    "    min_impurity_decrease = 0.0, \n",
    "    min_impurity_split = None, \n",
    "    ccp_alpha = 0.0, \n",
    "    random_state = 42, \n",
    "    bootstrap = True, \n",
    "    oob_score = False, \n",
    "    max_samples = None,\n",
    "    warm_start = False, \n",
    "    n_jobs = -1, \n",
    "    verbose = 0, \n",
    "    )\n",
    "\n",
    "global_results = dict()\n",
    "\n",
    "for k in range(1, len(X_train.columns[sorted_idx])):\n",
    "    f1, f1_CV= [], []\n",
    "    \n",
    "    to_keep = X_train.columns[sorted_idx][k:]\n",
    "    df_keep = df_lapil42[to_keep].copy()\n",
    "\n",
    "    n_total = len(df_keep)\n",
    "    n_valid = 1500  \n",
    "    n_train = n_total - n_valid\n",
    "\n",
    "    X_train_keep, X_valid_keep = split_vals(df_keep, n_train)\n",
    "    y_train, y_valid = split_vals(y, n_train)\n",
    "    \n",
    "    classifier.fit(X_train_keep, y_train)\n",
    "    CV_score = cross_val_score(classifier, X_train_keep, y_train, scoring=\"f1\", cv = 7).mean()\n",
    "    y_predict_train = classifier.predict(X_train_keep)\n",
    "    score = metrics.f1_score(y_train, y_predict_train)\n",
    "    \n",
    "    global_results[k] = [CV_score, score]\n",
    "\n",
    "df_results = pd.DataFrame.from_dict(global_results)\n",
    "df_results.index = ['CV', 'classic']\n",
    "display_all(df_results)"
   ]
  },
  {
   "cell_type": "markdown",
   "id": "5b2ec83f",
   "metadata": {},
   "source": [
    "Les résultats semblent moins pertinents ici."
   ]
  },
  {
   "cell_type": "markdown",
   "id": "4e57228b",
   "metadata": {},
   "source": [
    "## Conclusion"
   ]
  },
  {
   "cell_type": "markdown",
   "id": "db408ff1",
   "metadata": {},
   "source": [
    "Nous allons garder les 11 variables qui apparaissent comme les plus importantes pour le modèle de fôret aléatoire. Il semblerait que ce soit le meilleur équilibre en terme de résultat (F1) et du nombre de variables explicatives."
   ]
  },
  {
   "cell_type": "code",
   "execution_count": 464,
   "id": "4b327075",
   "metadata": {},
   "outputs": [],
   "source": [
    "to_keep = feat_importance.iloc[:11].cols\n",
    "df_keep = df_lapil42[to_keep].copy()\n",
    "df_keep['date'] = df_lapil42['date']\n",
    "df_keep['congestion+30min'] = df_lapil42['congestion+30min']"
   ]
  },
  {
   "cell_type": "code",
   "execution_count": 465,
   "id": "2d85997b",
   "metadata": {},
   "outputs": [
    {
     "data": {
      "text/html": [
       "<div>\n",
       "<style scoped>\n",
       "    .dataframe tbody tr th:only-of-type {\n",
       "        vertical-align: middle;\n",
       "    }\n",
       "\n",
       "    .dataframe tbody tr th {\n",
       "        vertical-align: top;\n",
       "    }\n",
       "\n",
       "    .dataframe thead th {\n",
       "        text-align: right;\n",
       "    }\n",
       "</style>\n",
       "<table border=\"1\" class=\"dataframe\">\n",
       "  <thead>\n",
       "    <tr style=\"text-align: right;\">\n",
       "      <th></th>\n",
       "      <th>speed</th>\n",
       "      <th>hour</th>\n",
       "      <th>TV/h</th>\n",
       "      <th>Dayofweek</th>\n",
       "      <th>PL/h</th>\n",
       "      <th>Vitesse du vent moyen 10 mn</th>\n",
       "      <th>VL/h</th>\n",
       "      <th>Variation de pression en 3 heures</th>\n",
       "      <th>Etat du sol</th>\n",
       "      <th>Température</th>\n",
       "      <th>Température minimale du sol sur 12 heures</th>\n",
       "      <th>date</th>\n",
       "      <th>congestion+30min</th>\n",
       "    </tr>\n",
       "  </thead>\n",
       "  <tbody>\n",
       "    <tr>\n",
       "      <th>0</th>\n",
       "      <td>87.0</td>\n",
       "      <td>0</td>\n",
       "      <td>434.0</td>\n",
       "      <td>0</td>\n",
       "      <td>141.0</td>\n",
       "      <td>2.700000</td>\n",
       "      <td>293.0</td>\n",
       "      <td>80.000000</td>\n",
       "      <td>1.000000</td>\n",
       "      <td>287.950000</td>\n",
       "      <td>286.450000</td>\n",
       "      <td>2019-09-23 00:00:00</td>\n",
       "      <td>0</td>\n",
       "    </tr>\n",
       "    <tr>\n",
       "      <th>1</th>\n",
       "      <td>87.0</td>\n",
       "      <td>0</td>\n",
       "      <td>434.0</td>\n",
       "      <td>0</td>\n",
       "      <td>141.0</td>\n",
       "      <td>2.672726</td>\n",
       "      <td>293.0</td>\n",
       "      <td>76.713049</td>\n",
       "      <td>0.997336</td>\n",
       "      <td>287.919104</td>\n",
       "      <td>286.424860</td>\n",
       "      <td>2019-09-23 00:06:00</td>\n",
       "      <td>1</td>\n",
       "    </tr>\n",
       "    <tr>\n",
       "      <th>2</th>\n",
       "      <td>87.0</td>\n",
       "      <td>0</td>\n",
       "      <td>520.0</td>\n",
       "      <td>0</td>\n",
       "      <td>170.0</td>\n",
       "      <td>2.642294</td>\n",
       "      <td>350.0</td>\n",
       "      <td>73.491523</td>\n",
       "      <td>0.995162</td>\n",
       "      <td>287.886406</td>\n",
       "      <td>286.398089</td>\n",
       "      <td>2019-09-23 00:12:00</td>\n",
       "      <td>0</td>\n",
       "    </tr>\n",
       "    <tr>\n",
       "      <th>3</th>\n",
       "      <td>87.0</td>\n",
       "      <td>0</td>\n",
       "      <td>520.0</td>\n",
       "      <td>0</td>\n",
       "      <td>170.0</td>\n",
       "      <td>2.608704</td>\n",
       "      <td>350.0</td>\n",
       "      <td>70.335422</td>\n",
       "      <td>0.993478</td>\n",
       "      <td>287.851905</td>\n",
       "      <td>286.369686</td>\n",
       "      <td>2019-09-23 00:18:00</td>\n",
       "      <td>0</td>\n",
       "    </tr>\n",
       "    <tr>\n",
       "      <th>4</th>\n",
       "      <td>86.0</td>\n",
       "      <td>0</td>\n",
       "      <td>390.0</td>\n",
       "      <td>0</td>\n",
       "      <td>120.0</td>\n",
       "      <td>2.571957</td>\n",
       "      <td>270.0</td>\n",
       "      <td>67.244747</td>\n",
       "      <td>0.992285</td>\n",
       "      <td>287.815602</td>\n",
       "      <td>286.339653</td>\n",
       "      <td>2019-09-23 00:24:00</td>\n",
       "      <td>0</td>\n",
       "    </tr>\n",
       "    <tr>\n",
       "      <th>...</th>\n",
       "      <td>...</td>\n",
       "      <td>...</td>\n",
       "      <td>...</td>\n",
       "      <td>...</td>\n",
       "      <td>...</td>\n",
       "      <td>...</td>\n",
       "      <td>...</td>\n",
       "      <td>...</td>\n",
       "      <td>...</td>\n",
       "      <td>...</td>\n",
       "      <td>...</td>\n",
       "      <td>...</td>\n",
       "      <td>...</td>\n",
       "    </tr>\n",
       "    <tr>\n",
       "      <th>6715</th>\n",
       "      <td>88.0</td>\n",
       "      <td>23</td>\n",
       "      <td>520.0</td>\n",
       "      <td>6</td>\n",
       "      <td>110.0</td>\n",
       "      <td>2.652161</td>\n",
       "      <td>410.0</td>\n",
       "      <td>201.973674</td>\n",
       "      <td>1.001384</td>\n",
       "      <td>283.560409</td>\n",
       "      <td>282.890517</td>\n",
       "      <td>2019-10-20 23:30:00</td>\n",
       "      <td>1</td>\n",
       "    </tr>\n",
       "    <tr>\n",
       "      <th>6716</th>\n",
       "      <td>85.0</td>\n",
       "      <td>23</td>\n",
       "      <td>690.0</td>\n",
       "      <td>6</td>\n",
       "      <td>140.0</td>\n",
       "      <td>2.650523</td>\n",
       "      <td>550.0</td>\n",
       "      <td>197.604785</td>\n",
       "      <td>1.001217</td>\n",
       "      <td>283.553549</td>\n",
       "      <td>282.858177</td>\n",
       "      <td>2019-10-20 23:36:00</td>\n",
       "      <td>1</td>\n",
       "    </tr>\n",
       "    <tr>\n",
       "      <th>6717</th>\n",
       "      <td>90.0</td>\n",
       "      <td>23</td>\n",
       "      <td>590.0</td>\n",
       "      <td>6</td>\n",
       "      <td>120.0</td>\n",
       "      <td>2.644488</td>\n",
       "      <td>470.0</td>\n",
       "      <td>193.222973</td>\n",
       "      <td>1.000995</td>\n",
       "      <td>283.549078</td>\n",
       "      <td>282.827955</td>\n",
       "      <td>2019-10-20 23:42:00</td>\n",
       "      <td>1</td>\n",
       "    </tr>\n",
       "    <tr>\n",
       "      <th>6718</th>\n",
       "      <td>86.0</td>\n",
       "      <td>23</td>\n",
       "      <td>510.0</td>\n",
       "      <td>6</td>\n",
       "      <td>100.0</td>\n",
       "      <td>2.634056</td>\n",
       "      <td>410.0</td>\n",
       "      <td>188.828238</td>\n",
       "      <td>1.000718</td>\n",
       "      <td>283.546996</td>\n",
       "      <td>282.799852</td>\n",
       "      <td>2019-10-20 23:48:00</td>\n",
       "      <td>1</td>\n",
       "    </tr>\n",
       "    <tr>\n",
       "      <th>6719</th>\n",
       "      <td>87.0</td>\n",
       "      <td>23</td>\n",
       "      <td>650.0</td>\n",
       "      <td>6</td>\n",
       "      <td>130.0</td>\n",
       "      <td>2.619226</td>\n",
       "      <td>520.0</td>\n",
       "      <td>184.420580</td>\n",
       "      <td>1.000386</td>\n",
       "      <td>283.547303</td>\n",
       "      <td>282.773867</td>\n",
       "      <td>2019-10-20 23:54:00</td>\n",
       "      <td>1</td>\n",
       "    </tr>\n",
       "  </tbody>\n",
       "</table>\n",
       "<p>6720 rows × 13 columns</p>\n",
       "</div>"
      ],
      "text/plain": [
       "      speed  hour   TV/h  Dayofweek   PL/h  Vitesse du vent moyen 10 mn  \\\n",
       "0      87.0     0  434.0          0  141.0                     2.700000   \n",
       "1      87.0     0  434.0          0  141.0                     2.672726   \n",
       "2      87.0     0  520.0          0  170.0                     2.642294   \n",
       "3      87.0     0  520.0          0  170.0                     2.608704   \n",
       "4      86.0     0  390.0          0  120.0                     2.571957   \n",
       "...     ...   ...    ...        ...    ...                          ...   \n",
       "6715   88.0    23  520.0          6  110.0                     2.652161   \n",
       "6716   85.0    23  690.0          6  140.0                     2.650523   \n",
       "6717   90.0    23  590.0          6  120.0                     2.644488   \n",
       "6718   86.0    23  510.0          6  100.0                     2.634056   \n",
       "6719   87.0    23  650.0          6  130.0                     2.619226   \n",
       "\n",
       "       VL/h  Variation de pression en 3 heures  Etat du sol  Température  \\\n",
       "0     293.0                          80.000000     1.000000   287.950000   \n",
       "1     293.0                          76.713049     0.997336   287.919104   \n",
       "2     350.0                          73.491523     0.995162   287.886406   \n",
       "3     350.0                          70.335422     0.993478   287.851905   \n",
       "4     270.0                          67.244747     0.992285   287.815602   \n",
       "...     ...                                ...          ...          ...   \n",
       "6715  410.0                         201.973674     1.001384   283.560409   \n",
       "6716  550.0                         197.604785     1.001217   283.553549   \n",
       "6717  470.0                         193.222973     1.000995   283.549078   \n",
       "6718  410.0                         188.828238     1.000718   283.546996   \n",
       "6719  520.0                         184.420580     1.000386   283.547303   \n",
       "\n",
       "      Température minimale du sol sur 12 heures                 date  \\\n",
       "0                                    286.450000  2019-09-23 00:00:00   \n",
       "1                                    286.424860  2019-09-23 00:06:00   \n",
       "2                                    286.398089  2019-09-23 00:12:00   \n",
       "3                                    286.369686  2019-09-23 00:18:00   \n",
       "4                                    286.339653  2019-09-23 00:24:00   \n",
       "...                                         ...                  ...   \n",
       "6715                                 282.890517  2019-10-20 23:30:00   \n",
       "6716                                 282.858177  2019-10-20 23:36:00   \n",
       "6717                                 282.827955  2019-10-20 23:42:00   \n",
       "6718                                 282.799852  2019-10-20 23:48:00   \n",
       "6719                                 282.773867  2019-10-20 23:54:00   \n",
       "\n",
       "      congestion+30min  \n",
       "0                    0  \n",
       "1                    1  \n",
       "2                    0  \n",
       "3                    0  \n",
       "4                    0  \n",
       "...                ...  \n",
       "6715                 1  \n",
       "6716                 1  \n",
       "6717                 1  \n",
       "6718                 1  \n",
       "6719                 1  \n",
       "\n",
       "[6720 rows x 13 columns]"
      ]
     },
     "execution_count": 465,
     "metadata": {},
     "output_type": "execute_result"
    }
   ],
   "source": [
    "df_keep"
   ]
  },
  {
   "cell_type": "code",
   "execution_count": 466,
   "id": "d13f0401",
   "metadata": {},
   "outputs": [],
   "source": [
    "df_keep.to_csv('data/LAPIL42_final_selection.csv', index = False)"
   ]
  }
 ],
 "metadata": {
  "kernelspec": {
   "display_name": "Python 3",
   "language": "python",
   "name": "python3"
  },
  "language_info": {
   "codemirror_mode": {
    "name": "ipython",
    "version": 3
   },
   "file_extension": ".py",
   "mimetype": "text/x-python",
   "name": "python",
   "nbconvert_exporter": "python",
   "pygments_lexer": "ipython3",
   "version": "3.6.13"
  }
 },
 "nbformat": 4,
 "nbformat_minor": 5
}
