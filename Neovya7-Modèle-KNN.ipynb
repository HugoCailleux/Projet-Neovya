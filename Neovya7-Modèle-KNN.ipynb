{
 "cells": [
  {
   "cell_type": "markdown",
   "id": "5dde9aab",
   "metadata": {},
   "source": [
    "## Imports"
   ]
  },
  {
   "cell_type": "code",
   "execution_count": 2,
   "id": "fdc06b78",
   "metadata": {},
   "outputs": [],
   "source": [
    "import os\n",
    "import pandas as pd\n",
    "import numpy as np\n",
    "from matplotlib import pyplot as plt\n",
    "import math\n",
    "from sklearn import metrics"
   ]
  },
  {
   "cell_type": "code",
   "execution_count": 3,
   "id": "d8145587",
   "metadata": {},
   "outputs": [],
   "source": [
    "from sklearn.ensemble import RandomForestClassifier\n",
    "from sklearn.model_selection import cross_val_score"
   ]
  },
  {
   "cell_type": "code",
   "execution_count": 4,
   "id": "9090aebf",
   "metadata": {},
   "outputs": [],
   "source": [
    "df_lapil42 = pd.read_csv('data/LAPIL42_final_selection.csv')"
   ]
  },
  {
   "cell_type": "code",
   "execution_count": 5,
   "id": "3c46dbbb",
   "metadata": {},
   "outputs": [
    {
     "data": {
      "text/html": [
       "<div>\n",
       "<style scoped>\n",
       "    .dataframe tbody tr th:only-of-type {\n",
       "        vertical-align: middle;\n",
       "    }\n",
       "\n",
       "    .dataframe tbody tr th {\n",
       "        vertical-align: top;\n",
       "    }\n",
       "\n",
       "    .dataframe thead th {\n",
       "        text-align: right;\n",
       "    }\n",
       "</style>\n",
       "<table border=\"1\" class=\"dataframe\">\n",
       "  <thead>\n",
       "    <tr style=\"text-align: right;\">\n",
       "      <th></th>\n",
       "      <th>speed</th>\n",
       "      <th>hour</th>\n",
       "      <th>TV/h</th>\n",
       "      <th>Dayofweek</th>\n",
       "      <th>PL/h</th>\n",
       "      <th>Vitesse du vent moyen 10 mn</th>\n",
       "      <th>VL/h</th>\n",
       "      <th>Variation de pression en 3 heures</th>\n",
       "      <th>Etat du sol</th>\n",
       "      <th>Température</th>\n",
       "      <th>Température minimale du sol sur 12 heures</th>\n",
       "      <th>date</th>\n",
       "      <th>congestion+30min</th>\n",
       "    </tr>\n",
       "  </thead>\n",
       "  <tbody>\n",
       "    <tr>\n",
       "      <th>0</th>\n",
       "      <td>87.0</td>\n",
       "      <td>0</td>\n",
       "      <td>434.0</td>\n",
       "      <td>0</td>\n",
       "      <td>141.0</td>\n",
       "      <td>2.700000</td>\n",
       "      <td>293.0</td>\n",
       "      <td>80.000000</td>\n",
       "      <td>1.000000</td>\n",
       "      <td>287.950000</td>\n",
       "      <td>286.450000</td>\n",
       "      <td>2019-09-23 00:00:00</td>\n",
       "      <td>0</td>\n",
       "    </tr>\n",
       "    <tr>\n",
       "      <th>1</th>\n",
       "      <td>87.0</td>\n",
       "      <td>0</td>\n",
       "      <td>434.0</td>\n",
       "      <td>0</td>\n",
       "      <td>141.0</td>\n",
       "      <td>2.672726</td>\n",
       "      <td>293.0</td>\n",
       "      <td>76.713049</td>\n",
       "      <td>0.997336</td>\n",
       "      <td>287.919104</td>\n",
       "      <td>286.424860</td>\n",
       "      <td>2019-09-23 00:06:00</td>\n",
       "      <td>1</td>\n",
       "    </tr>\n",
       "    <tr>\n",
       "      <th>2</th>\n",
       "      <td>87.0</td>\n",
       "      <td>0</td>\n",
       "      <td>520.0</td>\n",
       "      <td>0</td>\n",
       "      <td>170.0</td>\n",
       "      <td>2.642294</td>\n",
       "      <td>350.0</td>\n",
       "      <td>73.491523</td>\n",
       "      <td>0.995162</td>\n",
       "      <td>287.886406</td>\n",
       "      <td>286.398089</td>\n",
       "      <td>2019-09-23 00:12:00</td>\n",
       "      <td>0</td>\n",
       "    </tr>\n",
       "    <tr>\n",
       "      <th>3</th>\n",
       "      <td>87.0</td>\n",
       "      <td>0</td>\n",
       "      <td>520.0</td>\n",
       "      <td>0</td>\n",
       "      <td>170.0</td>\n",
       "      <td>2.608704</td>\n",
       "      <td>350.0</td>\n",
       "      <td>70.335422</td>\n",
       "      <td>0.993478</td>\n",
       "      <td>287.851905</td>\n",
       "      <td>286.369686</td>\n",
       "      <td>2019-09-23 00:18:00</td>\n",
       "      <td>0</td>\n",
       "    </tr>\n",
       "    <tr>\n",
       "      <th>4</th>\n",
       "      <td>86.0</td>\n",
       "      <td>0</td>\n",
       "      <td>390.0</td>\n",
       "      <td>0</td>\n",
       "      <td>120.0</td>\n",
       "      <td>2.571957</td>\n",
       "      <td>270.0</td>\n",
       "      <td>67.244747</td>\n",
       "      <td>0.992285</td>\n",
       "      <td>287.815602</td>\n",
       "      <td>286.339653</td>\n",
       "      <td>2019-09-23 00:24:00</td>\n",
       "      <td>0</td>\n",
       "    </tr>\n",
       "  </tbody>\n",
       "</table>\n",
       "</div>"
      ],
      "text/plain": [
       "   speed  hour   TV/h  Dayofweek   PL/h  Vitesse du vent moyen 10 mn   VL/h  \\\n",
       "0   87.0     0  434.0          0  141.0                     2.700000  293.0   \n",
       "1   87.0     0  434.0          0  141.0                     2.672726  293.0   \n",
       "2   87.0     0  520.0          0  170.0                     2.642294  350.0   \n",
       "3   87.0     0  520.0          0  170.0                     2.608704  350.0   \n",
       "4   86.0     0  390.0          0  120.0                     2.571957  270.0   \n",
       "\n",
       "   Variation de pression en 3 heures  Etat du sol  Température  \\\n",
       "0                          80.000000     1.000000   287.950000   \n",
       "1                          76.713049     0.997336   287.919104   \n",
       "2                          73.491523     0.995162   287.886406   \n",
       "3                          70.335422     0.993478   287.851905   \n",
       "4                          67.244747     0.992285   287.815602   \n",
       "\n",
       "   Température minimale du sol sur 12 heures                 date  \\\n",
       "0                                 286.450000  2019-09-23 00:00:00   \n",
       "1                                 286.424860  2019-09-23 00:06:00   \n",
       "2                                 286.398089  2019-09-23 00:12:00   \n",
       "3                                 286.369686  2019-09-23 00:18:00   \n",
       "4                                 286.339653  2019-09-23 00:24:00   \n",
       "\n",
       "   congestion+30min  \n",
       "0                 0  \n",
       "1                 1  \n",
       "2                 0  \n",
       "3                 0  \n",
       "4                 0  "
      ]
     },
     "execution_count": 5,
     "metadata": {},
     "output_type": "execute_result"
    }
   ],
   "source": [
    "df_lapil42.head()"
   ]
  },
  {
   "cell_type": "markdown",
   "id": "83e0d165",
   "metadata": {},
   "source": [
    "## Echantillonage des données"
   ]
  },
  {
   "cell_type": "code",
   "execution_count": 42,
   "id": "95323948",
   "metadata": {},
   "outputs": [],
   "source": [
    "def split_vals(df, n): \n",
    "    return df[:n].copy(), df[n:].copy()"
   ]
  },
  {
   "cell_type": "code",
   "execution_count": 43,
   "id": "85ca3ba7",
   "metadata": {},
   "outputs": [],
   "source": [
    "Df = df_lapil42.drop(['congestion+30min', 'date'], axis = 1)\n",
    "y = df_lapil42['congestion+30min']"
   ]
  },
  {
   "cell_type": "code",
   "execution_count": 44,
   "id": "9a07785b",
   "metadata": {},
   "outputs": [],
   "source": [
    "n_total = len(df_lapil42)\n",
    "n_test = 1500 #arbitrary\n",
    "n_train = n_total - n_test"
   ]
  },
  {
   "cell_type": "code",
   "execution_count": 45,
   "id": "c002a669",
   "metadata": {},
   "outputs": [
    {
     "name": "stdout",
     "output_type": "stream",
     "text": [
      "Number of full training data points: X = (5220, 11), y = (5220,)\n",
      "Number of validation data points: X = (1500, 11), y = (1500,)\n"
     ]
    }
   ],
   "source": [
    "X_train, X_valid = split_vals(Df, n_train)\n",
    "y_train, y_valid = split_vals(y, n_train)\n",
    "\n",
    "print('Number of full training data points: X = {}, y = {}'.format(X_train.shape, y_train.shape))\n",
    "print('Number of validation data points: X = {}, y = {}'.format(X_valid.shape, y_valid.shape))"
   ]
  },
  {
   "cell_type": "markdown",
   "id": "a7375237",
   "metadata": {},
   "source": [
    "## Premier modèle"
   ]
  },
  {
   "cell_type": "code",
   "execution_count": 10,
   "id": "dcf24771",
   "metadata": {},
   "outputs": [],
   "source": [
    "def classifier_metrics (y_test, y_preds, average='weighted'):\n",
    "    \"\"\"Return Accuracy, Recall, Precision and F-1 score. \n",
    "    Average can take two arguments : macro or weighted \"\"\"\n",
    "\n",
    "    acc = metrics.accuracy_score(y_test, y_preds)\n",
    "    rec = metrics.recall_score(y_test, y_preds, sample_weight = None)\n",
    "    prc = metrics.precision_score(y_test, y_preds, sample_weight = None)\n",
    "    f1  = metrics.f1_score(y_test, y_preds, sample_weight = None)\n",
    "\n",
    "    print('Accuracy : {:.2f}%'.format(acc*100))\n",
    "    print('Recall : {:.2f}%'.format(rec*100))\n",
    "    print('Precision : {:.2f}%'.format(prc*100))\n",
    "    print('F1-score : {:.2f}%'.format(f1*100))"
   ]
  },
  {
   "cell_type": "code",
   "execution_count": 11,
   "id": "72da8b48",
   "metadata": {},
   "outputs": [],
   "source": [
    "from sklearn.neighbors import KNeighborsClassifier"
   ]
  },
  {
   "cell_type": "code",
   "execution_count": 13,
   "id": "5dac14f8",
   "metadata": {},
   "outputs": [],
   "source": [
    "first_model = KNeighborsClassifier(\n",
    "    n_neighbors=5,\n",
    "    weights='uniform',\n",
    "    algorithm='auto',\n",
    "    leaf_size=30,\n",
    "    p=2,\n",
    "    metric='minkowski',\n",
    "    metric_params=None,\n",
    "    n_jobs=None,\n",
    "    )    "
   ]
  },
  {
   "cell_type": "code",
   "execution_count": 14,
   "id": "f14f612e",
   "metadata": {},
   "outputs": [
    {
     "data": {
      "text/plain": [
       "KNeighborsClassifier()"
      ]
     },
     "execution_count": 14,
     "metadata": {},
     "output_type": "execute_result"
    }
   ],
   "source": [
    "first_model.fit(X_train, y_train)"
   ]
  },
  {
   "cell_type": "code",
   "execution_count": 15,
   "id": "a108147d",
   "metadata": {},
   "outputs": [
    {
     "name": "stdout",
     "output_type": "stream",
     "text": [
      "Accuracy : 92.20%\n",
      "Recall : 74.33%\n",
      "Precision : 88.41%\n",
      "F1-score : 80.76%\n"
     ]
    }
   ],
   "source": [
    "classifier_metrics(y_train, first_model.predict(X_train))"
   ]
  },
  {
   "cell_type": "markdown",
   "id": "ac28c124",
   "metadata": {},
   "source": [
    "Ces premiers résultats sont prometteurs, chercons à les améliorer."
   ]
  },
  {
   "cell_type": "markdown",
   "id": "03832a51",
   "metadata": {},
   "source": [
    "## Tuning des hyperparamètres"
   ]
  },
  {
   "cell_type": "markdown",
   "id": "d231cacc",
   "metadata": {},
   "source": [
    "### \"nombre de voisins\""
   ]
  },
  {
   "cell_type": "code",
   "execution_count": 16,
   "id": "0cb467d2",
   "metadata": {},
   "outputs": [],
   "source": [
    "def plt_f1(start, end, pas):\n",
    "    f1_results = []\n",
    "    f1_results_all = []\n",
    "    \n",
    "    for k in range(start, end, pas):\n",
    "        model = KNeighborsClassifier(\n",
    "            n_neighbors=k,\n",
    "            weights='uniform',\n",
    "            algorithm='auto',\n",
    "            leaf_size=30,\n",
    "            p=2,\n",
    "            metric='minkowski',\n",
    "            metric_params=None,\n",
    "            n_jobs=-1,\n",
    "        )    \n",
    "\n",
    "        model.fit(X_train, y_train)\n",
    "        mean_score = cross_val_score(model, X_train, y_train, scoring=\"f1\", cv = 7).mean()\n",
    "\n",
    "        f1_results.append(mean_score)\n",
    "        \n",
    "    plt.plot(f1_results)\n",
    "    print([(k,v) for k,v in zip(f1_results, range(start,end,pas))])\n",
    "    print('   ')"
   ]
  },
  {
   "cell_type": "code",
   "execution_count": 17,
   "id": "7e348646",
   "metadata": {},
   "outputs": [
    {
     "name": "stdout",
     "output_type": "stream",
     "text": [
      "[(0.6366703531699905, 7), (0.6198357738659134, 8), (0.6394844315462613, 9), (0.6227347657523504, 10), (0.6295616705176343, 11), (0.6215526057573019, 12), (0.6324715454864089, 13)]\n",
      "   \n"
     ]
    },
    {
     "data": {
      "image/png": "[encoded data removed]",
      "text/plain": [
       "<Figure size 432x288 with 1 Axes>"
      ]
     },
     "metadata": {
      "needs_background": "light"
     },
     "output_type": "display_data"
    }
   ],
   "source": [
    "plt_f1(7,14,1)"
   ]
  },
  {
   "cell_type": "markdown",
   "id": "7d4e1504",
   "metadata": {},
   "source": [
    "Gardons 9 comme valeur."
   ]
  },
  {
   "cell_type": "markdown",
   "id": "17fcb056",
   "metadata": {},
   "source": [
    "### \"weights\""
   ]
  },
  {
   "cell_type": "code",
   "execution_count": 18,
   "id": "d9835046",
   "metadata": {},
   "outputs": [
    {
     "data": {
      "text/plain": [
       "0.6394844315462613"
      ]
     },
     "execution_count": 18,
     "metadata": {},
     "output_type": "execute_result"
    }
   ],
   "source": [
    "model = KNeighborsClassifier(\n",
    "    n_neighbors=9,\n",
    "    weights='uniform',\n",
    "    algorithm='auto',\n",
    "    leaf_size=30,\n",
    "    p=2,\n",
    "    metric='minkowski',\n",
    "    metric_params=None,\n",
    "    n_jobs=-1,\n",
    "    )    \n",
    "\n",
    "model.fit(X_train, y_train)\n",
    "mean_score = cross_val_score(model, X_train, y_train, scoring=\"f1\", cv = 7).mean()\n",
    "mean_score"
   ]
  },
  {
   "cell_type": "code",
   "execution_count": 19,
   "id": "72c663bd",
   "metadata": {},
   "outputs": [
    {
     "data": {
      "text/plain": [
       "0.6389069307984895"
      ]
     },
     "execution_count": 19,
     "metadata": {},
     "output_type": "execute_result"
    }
   ],
   "source": [
    "model = KNeighborsClassifier(\n",
    "    n_neighbors=9,\n",
    "    weights='distance',\n",
    "    algorithm='auto',\n",
    "    leaf_size=30,\n",
    "    p=2,\n",
    "    metric='minkowski',\n",
    "    metric_params=None,\n",
    "    n_jobs=-1,\n",
    "    )    \n",
    "\n",
    "model.fit(X_train, y_train)\n",
    "mean_score = cross_val_score(model, X_train, y_train, scoring=\"f1\", cv = 7).mean()\n",
    "mean_score"
   ]
  },
  {
   "cell_type": "markdown",
   "id": "494d5705",
   "metadata": {},
   "source": [
    "Pas vraiment de différence notables, gardons la valeur par défaut."
   ]
  },
  {
   "cell_type": "markdown",
   "id": "edd784fa",
   "metadata": {},
   "source": [
    "### p in L_p distance"
   ]
  },
  {
   "cell_type": "code",
   "execution_count": 20,
   "id": "9f612b2e",
   "metadata": {},
   "outputs": [],
   "source": [
    "def plt_f1(start, end, pas):\n",
    "    f1_results = []\n",
    "    f1_results_all = []\n",
    "    \n",
    "    for k in range(start, end, pas):\n",
    "        model = KNeighborsClassifier(\n",
    "            n_neighbors=9,\n",
    "            weights='uniform',\n",
    "            algorithm='auto',\n",
    "            leaf_size=30,\n",
    "            p=k,\n",
    "            metric='minkowski',\n",
    "            metric_params=None,\n",
    "            n_jobs=-1,\n",
    "        )    \n",
    "\n",
    "        model.fit(X_train, y_train)\n",
    "        mean_score = cross_val_score(model, X_train, y_train, scoring=\"f1\", cv = 7).mean()\n",
    "\n",
    "        f1_results.append(mean_score)\n",
    "        \n",
    "    plt.plot(f1_results)\n",
    "    print([(k,v) for k,v in zip(f1_results, range(start,end,pas))])\n",
    "    print('   ')"
   ]
  },
  {
   "cell_type": "code",
   "execution_count": 21,
   "id": "041d1d7e",
   "metadata": {},
   "outputs": [
    {
     "name": "stdout",
     "output_type": "stream",
     "text": [
      "[(0.6671689067414538, 1), (0.6394844315462613, 2), (0.6218686757138122, 3), (0.6145125501808052, 4), (0.6107406261101852, 5)]\n",
      "   \n"
     ]
    },
    {
     "data": {
      "image/png": "[encoded data removed]",
      "text/plain": [
       "<Figure size 432x288 with 1 Axes>"
      ]
     },
     "metadata": {
      "needs_background": "light"
     },
     "output_type": "display_data"
    }
   ],
   "source": [
    "plt_f1(1,6,1)"
   ]
  },
  {
   "cell_type": "markdown",
   "id": "1eb156d6",
   "metadata": {},
   "source": [
    "Utilisons la distance Manhattan."
   ]
  },
  {
   "cell_type": "markdown",
   "id": "b7c20ef0",
   "metadata": {},
   "source": [
    "### leaf_size"
   ]
  },
  {
   "cell_type": "code",
   "execution_count": 22,
   "id": "c4dbabea",
   "metadata": {},
   "outputs": [],
   "source": [
    "def plt_f1(start, end, pas):\n",
    "    f1_results = []\n",
    "    f1_results_all = []\n",
    "    \n",
    "    for k in range(start, end, pas):\n",
    "        model = KNeighborsClassifier(\n",
    "            n_neighbors=9,\n",
    "            weights='uniform',\n",
    "            algorithm='auto',\n",
    "            leaf_size=k,\n",
    "            p=1,\n",
    "            metric='manhattan',\n",
    "            metric_params=None,\n",
    "            n_jobs=-1,\n",
    "        )    \n",
    "\n",
    "        model.fit(X_train, y_train)\n",
    "        mean_score = cross_val_score(model, X_train, y_train, scoring=\"f1\", cv = 7).mean()\n",
    "\n",
    "        f1_results.append(mean_score)\n",
    "        \n",
    "    plt.plot(f1_results)\n",
    "    print([(k,v) for k,v in zip(f1_results, range(start,end,pas))])\n",
    "    print('   ')"
   ]
  },
  {
   "cell_type": "code",
   "execution_count": 23,
   "id": "4f22eefc",
   "metadata": {},
   "outputs": [
    {
     "name": "stdout",
     "output_type": "stream",
     "text": [
      "[(0.6671689067414538, 5), (0.6671689067414538, 10), (0.6671689067414538, 15), (0.6671689067414538, 20), (0.6671689067414538, 25), (0.6671689067414538, 30), (0.6671689067414538, 35), (0.6671689067414538, 40), (0.6671689067414538, 45), (0.6671689067414538, 50), (0.6671689067414538, 55)]\n",
      "   \n"
     ]
    },
    {
     "data": {
      "image/png": "[encoded data removed]",
      "text/plain": [
       "<Figure size 432x288 with 1 Axes>"
      ]
     },
     "metadata": {
      "needs_background": "light"
     },
     "output_type": "display_data"
    }
   ],
   "source": [
    "plt_f1(5, 60, 5)"
   ]
  },
  {
   "cell_type": "markdown",
   "id": "114f527b",
   "metadata": {},
   "source": [
    "Pas d'influence, gardons la valeur par défaut."
   ]
  },
  {
   "cell_type": "markdown",
   "id": "97f76983",
   "metadata": {},
   "source": [
    "## Selections de variables explicatives\n",
    "\n",
    "Les variables sont classés par odre d'importance au regard des résultats obtenus précédement. (Voir Notebook Sélection des colonnes par classification). Observons l'évolution des résultats lorsque nous ne gardons qu'un échantillon des variables explicatives."
   ]
  },
  {
   "cell_type": "code",
   "execution_count": 46,
   "id": "c2232c4c",
   "metadata": {},
   "outputs": [
    {
     "data": {
      "text/plain": [
       "[<matplotlib.lines.Line2D at 0x7ff30119c1d0>]"
      ]
     },
     "execution_count": 46,
     "metadata": {},
     "output_type": "execute_result"
    },
    {
     "data": {
      "image/png": "[encoded data removed]",
      "text/plain": [
       "<Figure size 432x288 with 1 Axes>"
      ]
     },
     "metadata": {
      "needs_background": "light"
     },
     "output_type": "display_data"
    }
   ],
   "source": [
    "model = KNeighborsClassifier(\n",
    "    n_neighbors=9,\n",
    "    weights='uniform',\n",
    "    algorithm='auto',\n",
    "    leaf_size=30,\n",
    "    p=1,\n",
    "    metric='manhattan',\n",
    "    metric_params=None,\n",
    "    n_jobs=-1,\n",
    "    )\n",
    "\n",
    "f1 = []\n",
    "\n",
    "for k in range(1, X_train.shape[1]+1):\n",
    "    col = X_train.columns.tolist()[:k]\n",
    "    X = X_train[col]\n",
    "    model.fit(X, y_train)\n",
    "    mean_score = cross_val_score(model, X, y_train, scoring=\"f1\", cv = 7).mean()\n",
    "    f1.append(mean_score)\n",
    "    \n",
    "plt.plot(f1)"
   ]
  },
  {
   "cell_type": "code",
   "execution_count": 47,
   "id": "b9013724",
   "metadata": {},
   "outputs": [
    {
     "name": "stdout",
     "output_type": "stream",
     "text": [
      "[(0.7557828217441483, 1), (0.802807245210225, 2), (0.7074386882228164, 3), (0.7053714071455051, 4), (0.7184297873085771, 5), (0.7164956642604573, 6), (0.7063241212677064, 7), (0.6655428958213149, 8), (0.667084178358647, 9), (0.6642141290204767, 10), (0.6671689067414538, 11)]\n"
     ]
    }
   ],
   "source": [
    "print([(k,v) for k,v in zip(f1, range(1,X_train.shape[1]+1))])"
   ]
  },
  {
   "cell_type": "markdown",
   "id": "af059f81",
   "metadata": {},
   "source": [
    "En gardant uniquement les variables speed et hour nous améliorons grandement nos résultats. Essayons d'affiner les hyperparamètres pour cette nouvelle configuration :"
   ]
  },
  {
   "cell_type": "markdown",
   "id": "2f2f9367",
   "metadata": {},
   "source": [
    "### Nombre de voisins"
   ]
  },
  {
   "cell_type": "code",
   "execution_count": 48,
   "id": "25382ef1",
   "metadata": {},
   "outputs": [
    {
     "data": {
      "text/plain": [
       "[<matplotlib.lines.Line2D at 0x7ff2f057b990>]"
      ]
     },
     "execution_count": 48,
     "metadata": {},
     "output_type": "execute_result"
    },
    {
     "data": {
      "image/png": "[encoded data removed]",
      "text/plain": [
       "<Figure size 432x288 with 1 Axes>"
      ]
     },
     "metadata": {
      "needs_background": "light"
     },
     "output_type": "display_data"
    }
   ],
   "source": [
    "f1 = []\n",
    "\n",
    "X = X_train[['speed', 'hour']]\n",
    "for k in range(2,12,1):\n",
    "    model = KNeighborsClassifier(\n",
    "        n_neighbors=k,\n",
    "        weights='uniform',\n",
    "        algorithm='auto',\n",
    "        leaf_size=30,\n",
    "        p=1,\n",
    "        metric='manhattan',\n",
    "        metric_params=None,\n",
    "        n_jobs=-1,\n",
    "    )\n",
    "\n",
    "    model.fit(X, y_train)\n",
    "    mean_score = cross_val_score(model, X, y_train, scoring=\"f1\", cv = 7).mean()\n",
    "    f1.append(mean_score)\n",
    "    \n",
    "plt.plot(f1)"
   ]
  },
  {
   "cell_type": "code",
   "execution_count": 49,
   "id": "f7577441",
   "metadata": {},
   "outputs": [
    {
     "name": "stdout",
     "output_type": "stream",
     "text": [
      "[(0.7480169574139073, 2), (0.7804332197868137, 3), (0.776675937594738, 4), (0.7964385183841516, 5), (0.7892898970605157, 6), (0.8006899100569583, 7), (0.7920109825329805, 8), (0.802807245210225, 9), (0.8000505583031753, 10), (0.8074099437742953, 11)]\n"
     ]
    }
   ],
   "source": [
    "print([(k,v) for k,v in zip(f1, range(2,12))])"
   ]
  },
  {
   "cell_type": "markdown",
   "id": "e73e09d3",
   "metadata": {},
   "source": [
    "Gardons 9 'voisins'"
   ]
  },
  {
   "cell_type": "markdown",
   "id": "c1f23128",
   "metadata": {},
   "source": [
    "### Weight"
   ]
  },
  {
   "cell_type": "code",
   "execution_count": 50,
   "id": "94d8bc0a",
   "metadata": {},
   "outputs": [
    {
     "data": {
      "text/plain": [
       "0.802807245210225"
      ]
     },
     "execution_count": 50,
     "metadata": {},
     "output_type": "execute_result"
    }
   ],
   "source": [
    "model = KNeighborsClassifier(\n",
    "    n_neighbors=9,\n",
    "    weights='uniform',\n",
    "    algorithm='auto',\n",
    "    leaf_size=30,\n",
    "    p=1,\n",
    "    metric='manhattan',\n",
    "    metric_params=None,\n",
    "    n_jobs=-1,\n",
    "    )    \n",
    "\n",
    "model.fit(X, y_train)\n",
    "mean_score = cross_val_score(model, X, y_train, scoring=\"f1\", cv = 7).mean()\n",
    "mean_score"
   ]
  },
  {
   "cell_type": "code",
   "execution_count": 51,
   "id": "13398ca2",
   "metadata": {},
   "outputs": [
    {
     "data": {
      "text/plain": [
       "0.7884210688100967"
      ]
     },
     "execution_count": 51,
     "metadata": {},
     "output_type": "execute_result"
    }
   ],
   "source": [
    "model = KNeighborsClassifier(\n",
    "    n_neighbors=9,\n",
    "    weights='distance',\n",
    "    algorithm='auto',\n",
    "    leaf_size=30,\n",
    "    p=1,\n",
    "    metric='manhattan',\n",
    "    metric_params=None,\n",
    "    n_jobs=-1,\n",
    "    )    \n",
    "\n",
    "model.fit(X, y_train)\n",
    "mean_score = cross_val_score(model, X, y_train, scoring=\"f1\", cv = 7).mean()\n",
    "mean_score"
   ]
  },
  {
   "cell_type": "markdown",
   "id": "a404d718",
   "metadata": {},
   "source": [
    "Gardons le weight 'uniform'."
   ]
  },
  {
   "cell_type": "markdown",
   "id": "8dc298e4",
   "metadata": {},
   "source": [
    "### Leaf size"
   ]
  },
  {
   "cell_type": "code",
   "execution_count": 52,
   "id": "24b923b7",
   "metadata": {},
   "outputs": [],
   "source": [
    "def plt_f1(start, end, pas):\n",
    "    f1_results = []\n",
    "    f1_results_all = []\n",
    "    \n",
    "    for k in range(start, end, pas):\n",
    "        model = KNeighborsClassifier(\n",
    "            n_neighbors=9,\n",
    "            weights='uniform',\n",
    "            algorithm='auto',\n",
    "            leaf_size=k,\n",
    "            p=1,\n",
    "            metric='manhattan',\n",
    "            metric_params=None,\n",
    "            n_jobs=-1,\n",
    "        )    \n",
    "\n",
    "        model.fit(X, y_train)\n",
    "        mean_score = cross_val_score(model, X, y_train, scoring=\"f1\", cv = 7).mean()\n",
    "\n",
    "        f1_results.append(mean_score)\n",
    "        \n",
    "    plt.plot(f1_results)\n",
    "    print([(k,v) for k,v in zip(f1_results, range(start,end,pas))])\n",
    "    print('   ')"
   ]
  },
  {
   "cell_type": "code",
   "execution_count": 53,
   "id": "92f25ace",
   "metadata": {},
   "outputs": [
    {
     "name": "stdout",
     "output_type": "stream",
     "text": [
      "[(0.806950799548488, 5), (0.802807245210225, 25), (0.7994732303741632, 45), (0.7994732303741632, 65), (0.8031626912084384, 85), (0.8031626912084384, 105), (0.8031626912084384, 125), (0.8051852225868613, 145), (0.8051852225868613, 165), (0.8051852225868613, 185), (0.8051852225868613, 205), (0.8051852225868613, 225), (0.8051852225868613, 245), (0.8051852225868613, 265), (0.8097887936287347, 285), (0.8097887936287347, 305), (0.8097887936287347, 325), (0.8097887936287347, 345), (0.8097887936287347, 365), (0.8097887936287347, 385), (0.8097887936287347, 405), (0.8097887936287347, 425), (0.8097887936287347, 445), (0.8097887936287347, 465), (0.8097887936287347, 485)]\n",
      "   \n"
     ]
    },
    {
     "data": {
      "image/png": "[encoded data removed]",
      "text/plain": [
       "<Figure size 432x288 with 1 Axes>"
      ]
     },
     "metadata": {
      "needs_background": "light"
     },
     "output_type": "display_data"
    }
   ],
   "source": [
    "plt_f1(5,500,20)"
   ]
  },
  {
   "cell_type": "markdown",
   "id": "a533590b",
   "metadata": {},
   "source": [
    "Les variations sont très faibles, gardons la valeur par défaut."
   ]
  },
  {
   "cell_type": "markdown",
   "id": "d510ad02",
   "metadata": {},
   "source": [
    "## Conclusion"
   ]
  },
  {
   "cell_type": "markdown",
   "id": "68d56ea9",
   "metadata": {},
   "source": [
    "Le meilleur modèle est celui avec les hyperparamètres ci-dessous et seulement deux variables explcatives : \"speed\" et \"hour\""
   ]
  },
  {
   "cell_type": "code",
   "execution_count": 44,
   "id": "c4416ad8",
   "metadata": {},
   "outputs": [],
   "source": [
    "model = KNeighborsClassifier(\n",
    "    n_neighbors=9,\n",
    "    weights='distance',\n",
    "    algorithm='auto',\n",
    "    leaf_size=30,\n",
    "    p=1,\n",
    "    metric='manhattan',\n",
    "    metric_params=None,\n",
    "    n_jobs=-1,\n",
    "    )    "
   ]
  },
  {
   "cell_type": "code",
   "execution_count": 55,
   "id": "a4675d56",
   "metadata": {},
   "outputs": [
    {
     "data": {
      "text/plain": [
       "['speed', 'hour']"
      ]
     },
     "execution_count": 55,
     "metadata": {},
     "output_type": "execute_result"
    }
   ],
   "source": [
    "X.columns.tolist()"
   ]
  }
 ],
 "metadata": {
  "kernelspec": {
   "display_name": "Python 3",
   "language": "python",
   "name": "python3"
  },
  "language_info": {
   "codemirror_mode": {
    "name": "ipython",
    "version": 3
   },
   "file_extension": ".py",
   "mimetype": "text/x-python",
   "name": "python",
   "nbconvert_exporter": "python",
   "pygments_lexer": "ipython3",
   "version": "3.6.13"
  }
 },
 "nbformat": 4,
 "nbformat_minor": 5
}
